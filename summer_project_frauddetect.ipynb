{
  "cells": [
    {
      "cell_type": "markdown",
      "metadata": {
        "id": "view-in-github",
        "colab_type": "text"
      },
      "source": [
        "<a href=\"https://colab.research.google.com/github/YiHua00000/Fraud-detection-project/blob/main/summer_project_frauddetect.ipynb\" target=\"_parent\"><img src=\"https://colab.research.google.com/assets/colab-badge.svg\" alt=\"Open In Colab\"/></a>"
      ]
    },
    {
      "cell_type": "code",
      "execution_count": null,
      "metadata": {
        "colab": {
          "base_uri": "https://localhost:8080/"
        },
        "id": "rNekV1B97wjw",
        "outputId": "f86947c9-2b26-4a3f-9371-6d83d2063425"
      },
      "outputs": [
        {
          "name": "stdout",
          "output_type": "stream",
          "text": [
            "Mounted at /content/drive\n"
          ]
        }
      ],
      "source": [
        "from google.colab import drive\n",
        "drive.mount('/content/drive')"
      ]
    },
    {
      "cell_type": "code",
      "execution_count": null,
      "metadata": {
        "colab": {
          "base_uri": "https://localhost:8080/"
        },
        "id": "Wq9SJB9H8GWt",
        "outputId": "873475f2-c7bd-4eb2-b4d4-1a0553f521a0"
      },
      "outputs": [
        {
          "name": "stdout",
          "output_type": "stream",
          "text": [
            "/content/drive/MyDrive\n"
          ]
        }
      ],
      "source": [
        "%cd //content/drive/MyDrive/"
      ]
    },
    {
      "cell_type": "code",
      "execution_count": null,
      "metadata": {
        "colab": {
          "base_uri": "https://localhost:8080/"
        },
        "id": "KdL_40XU8JeT",
        "outputId": "a4c8ea08-c183-4487-b112-37f397bac938"
      },
      "outputs": [
        {
          "name": "stdout",
          "output_type": "stream",
          "text": [
            "'adjusted query.gdoc'\n",
            "'Colab Notebooks'\n",
            "'Copy of  Project_0503_02_Presentation.pptx.gslides'\n",
            "'--CREATE Statements.gdoc'\n",
            "'Oigetit - Job Application.gdoc'\n",
            "'ppp_applicants_ga_full (1).csv'\n",
            " ppp_applicants_ga_full.csv\n",
            " ppp-removed-ga.xlsx\n",
            " query.gdoc\n",
            " View_adjustment.gdoc\n",
            "'Yi_Hua_Huang_resume (1).pdf'\n",
            " Yi_Hua_Huang_resume.pdf\n",
            " Yi_Hua_Huang_Resume.pdf\n"
          ]
        }
      ],
      "source": [
        "!ls \"/content/drive/MyDrive\""
      ]
    },
    {
      "cell_type": "code",
      "execution_count": null,
      "metadata": {
        "id": "UqIOmShAwpAG"
      },
      "outputs": [],
      "source": [
        "import pandas as pd\n",
        "import numpy as np\n",
        "import matplotlib.pyplot as plt\n",
        "import datetime as datetime\n",
        "from dateutil.parser import parse\n",
        "from sklearn.model_selection import train_test_split\n",
        "from sklearn.ensemble import RandomForestRegressor\n",
        "from sklearn.linear_model import LogisticRegression\n",
        "from sklearn.neighbors import KNeighborsClassifier\n",
        "from sklearn.metrics import classification_report, confusion_matrix, accuracy_score\n",
        "from sklearn import svm\n",
        "from xgboost import XGBClassifier"
      ]
    },
    {
      "cell_type": "code",
      "execution_count": null,
      "metadata": {
        "id": "4v1nO3WmxmVx"
      },
      "outputs": [],
      "source": [
        ""
      ]
    },
    {
      "cell_type": "code",
      "execution_count": null,
      "metadata": {
        "id": "z18BuXa2x1Ge"
      },
      "outputs": [],
      "source": [
        "full_data = pd.read_csv('ppp_applicants_ga_full.csv')\n",
        "removed_data = pd.read_excel('ppp-removed-ga.xlsx')\n"
      ]
    },
    {
      "cell_type": "code",
      "execution_count": null,
      "metadata": {
        "colab": {
          "base_uri": "https://localhost:8080/",
          "height": 800
        },
        "id": "LdukJpyjx6ke",
        "outputId": "a415f50a-47cf-4f93-a702-4c0139812ed6"
      },
      "outputs": [
        {
          "data": {
            "text/html": [
              "\n",
              "  <div id=\"df-49358369-a920-4f84-9bbe-cbb7aec812b0\">\n",
              "    <div class=\"colab-df-container\">\n",
              "      <div>\n",
              "<style scoped>\n",
              "    .dataframe tbody tr th:only-of-type {\n",
              "        vertical-align: middle;\n",
              "    }\n",
              "\n",
              "    .dataframe tbody tr th {\n",
              "        vertical-align: top;\n",
              "    }\n",
              "\n",
              "    .dataframe thead th {\n",
              "        text-align: right;\n",
              "    }\n",
              "</style>\n",
              "<table border=\"1\" class=\"dataframe\">\n",
              "  <thead>\n",
              "    <tr style=\"text-align: right;\">\n",
              "      <th></th>\n",
              "      <th>name</th>\n",
              "      <th>amount</th>\n",
              "      <th>state</th>\n",
              "      <th>address</th>\n",
              "      <th>city</th>\n",
              "      <th>zip</th>\n",
              "      <th>naics_code</th>\n",
              "      <th>business_type</th>\n",
              "      <th>jobs_retained</th>\n",
              "      <th>date_approved</th>\n",
              "      <th>...</th>\n",
              "      <th>project_county_name</th>\n",
              "      <th>project_state</th>\n",
              "      <th>project_zip</th>\n",
              "      <th>originating_lender_city</th>\n",
              "      <th>originating_lender_state</th>\n",
              "      <th>loan_status_date</th>\n",
              "      <th>originating_lender_location_id</th>\n",
              "      <th>lmi_indicator</th>\n",
              "      <th>forgiveness_amount</th>\n",
              "      <th>forgiveness_date</th>\n",
              "    </tr>\n",
              "  </thead>\n",
              "  <tbody>\n",
              "    <tr>\n",
              "      <th>0</th>\n",
              "      <td>TRIPLE C CUSTOM CONCRETE LLC</td>\n",
              "      <td>43655.0</td>\n",
              "      <td>GA</td>\n",
              "      <td>106 Lisa Street  East Dublin GA</td>\n",
              "      <td>East Dublin</td>\n",
              "      <td>31027.0</td>\n",
              "      <td>238990.0</td>\n",
              "      <td>Limited  Liability Company(LLC)</td>\n",
              "      <td>7.0</td>\n",
              "      <td>2021-05-11</td>\n",
              "      <td>...</td>\n",
              "      <td>LAURENS</td>\n",
              "      <td>GA</td>\n",
              "      <td>31027.0</td>\n",
              "      <td>Saint Petersburg</td>\n",
              "      <td>FL</td>\n",
              "      <td>2021-05-11</td>\n",
              "      <td>123499.0</td>\n",
              "      <td>Y</td>\n",
              "      <td>NaN</td>\n",
              "      <td>NaN</td>\n",
              "    </tr>\n",
              "    <tr>\n",
              "      <th>1</th>\n",
              "      <td>DAVIS LAWN CARE SERVICES</td>\n",
              "      <td>35000.0</td>\n",
              "      <td>GA</td>\n",
              "      <td>752 Savannah Ave N/A</td>\n",
              "      <td>Waynesboro</td>\n",
              "      <td>30830-1156</td>\n",
              "      <td>112910.0</td>\n",
              "      <td>Partnership</td>\n",
              "      <td>2.0</td>\n",
              "      <td>2021-05-12</td>\n",
              "      <td>...</td>\n",
              "      <td>BURKE</td>\n",
              "      <td>GA</td>\n",
              "      <td>30830-1156</td>\n",
              "      <td>ARLINGTON</td>\n",
              "      <td>MA</td>\n",
              "      <td>2021-05-12</td>\n",
              "      <td>262380.0</td>\n",
              "      <td>N</td>\n",
              "      <td>NaN</td>\n",
              "      <td>NaN</td>\n",
              "    </tr>\n",
              "    <tr>\n",
              "      <th>2</th>\n",
              "      <td>LONNIE RATLIFF</td>\n",
              "      <td>28949.0</td>\n",
              "      <td>GA</td>\n",
              "      <td>55 Maple St NW Apt 802</td>\n",
              "      <td>Atlanta</td>\n",
              "      <td>30314-4760</td>\n",
              "      <td>531390.0</td>\n",
              "      <td>Single Member LLC</td>\n",
              "      <td>5.0</td>\n",
              "      <td>2021-04-16</td>\n",
              "      <td>...</td>\n",
              "      <td>FULTON</td>\n",
              "      <td>GA</td>\n",
              "      <td>30314-4760</td>\n",
              "      <td>PHOENIXVILLE</td>\n",
              "      <td>PA</td>\n",
              "      <td>2021-04-16</td>\n",
              "      <td>121536.0</td>\n",
              "      <td>Y</td>\n",
              "      <td>NaN</td>\n",
              "      <td>NaN</td>\n",
              "    </tr>\n",
              "    <tr>\n",
              "      <th>3</th>\n",
              "      <td>DENARD TRIMBLE</td>\n",
              "      <td>20833.0</td>\n",
              "      <td>GA</td>\n",
              "      <td>727 Chapman St</td>\n",
              "      <td>Jonesboro</td>\n",
              "      <td>30238-5681</td>\n",
              "      <td>812111.0</td>\n",
              "      <td>Sole Proprietorship</td>\n",
              "      <td>1.0</td>\n",
              "      <td>2021-05-22</td>\n",
              "      <td>...</td>\n",
              "      <td>FAYETTE</td>\n",
              "      <td>GA</td>\n",
              "      <td>30238-5681</td>\n",
              "      <td>Brea</td>\n",
              "      <td>CA</td>\n",
              "      <td>2021-05-22</td>\n",
              "      <td>514546.0</td>\n",
              "      <td>Y</td>\n",
              "      <td>NaN</td>\n",
              "      <td>NaN</td>\n",
              "    </tr>\n",
              "    <tr>\n",
              "      <th>4</th>\n",
              "      <td>DANA VINES</td>\n",
              "      <td>20833.0</td>\n",
              "      <td>GA</td>\n",
              "      <td>3548 Tracey Dr</td>\n",
              "      <td>Duluth</td>\n",
              "      <td>30096-3861</td>\n",
              "      <td>311999.0</td>\n",
              "      <td>Sole Proprietorship</td>\n",
              "      <td>1.0</td>\n",
              "      <td>2021-03-20</td>\n",
              "      <td>...</td>\n",
              "      <td>GWINNETT</td>\n",
              "      <td>GA</td>\n",
              "      <td>30096-3861</td>\n",
              "      <td>Miami</td>\n",
              "      <td>FL</td>\n",
              "      <td>2021-03-20</td>\n",
              "      <td>529192.0</td>\n",
              "      <td>N</td>\n",
              "      <td>NaN</td>\n",
              "      <td>NaN</td>\n",
              "    </tr>\n",
              "    <tr>\n",
              "      <th>...</th>\n",
              "      <td>...</td>\n",
              "      <td>...</td>\n",
              "      <td>...</td>\n",
              "      <td>...</td>\n",
              "      <td>...</td>\n",
              "      <td>...</td>\n",
              "      <td>...</td>\n",
              "      <td>...</td>\n",
              "      <td>...</td>\n",
              "      <td>...</td>\n",
              "      <td>...</td>\n",
              "      <td>...</td>\n",
              "      <td>...</td>\n",
              "      <td>...</td>\n",
              "      <td>...</td>\n",
              "      <td>...</td>\n",
              "      <td>...</td>\n",
              "      <td>...</td>\n",
              "      <td>...</td>\n",
              "      <td>...</td>\n",
              "      <td>...</td>\n",
              "    </tr>\n",
              "    <tr>\n",
              "      <th>25831</th>\n",
              "      <td>DONNELL WILSON</td>\n",
              "      <td>1950.0</td>\n",
              "      <td>GA</td>\n",
              "      <td>1000 Paces Ln</td>\n",
              "      <td>Woodstock</td>\n",
              "      <td>30189-4829</td>\n",
              "      <td>621511.0</td>\n",
              "      <td>Sole Proprietorship</td>\n",
              "      <td>1.0</td>\n",
              "      <td>2021-04-01</td>\n",
              "      <td>...</td>\n",
              "      <td>CHEROKEE</td>\n",
              "      <td>GA</td>\n",
              "      <td>30189-4829</td>\n",
              "      <td>Laguna Hills</td>\n",
              "      <td>CA</td>\n",
              "      <td>2021-04-01</td>\n",
              "      <td>509316.0</td>\n",
              "      <td>N</td>\n",
              "      <td>NaN</td>\n",
              "      <td>NaN</td>\n",
              "    </tr>\n",
              "    <tr>\n",
              "      <th>25832</th>\n",
              "      <td>MAMADOU DIOULDE DIALLO</td>\n",
              "      <td>1849.0</td>\n",
              "      <td>GA</td>\n",
              "      <td>7000 Roswell Rd Apt 252</td>\n",
              "      <td>Atlanta</td>\n",
              "      <td>30328-2389</td>\n",
              "      <td>485310.0</td>\n",
              "      <td>Independent Contractors</td>\n",
              "      <td>1.0</td>\n",
              "      <td>2021-05-21</td>\n",
              "      <td>...</td>\n",
              "      <td>FULTON</td>\n",
              "      <td>GA</td>\n",
              "      <td>30328-2389</td>\n",
              "      <td>Bedford</td>\n",
              "      <td>TX</td>\n",
              "      <td>2021-05-21</td>\n",
              "      <td>529472.0</td>\n",
              "      <td>N</td>\n",
              "      <td>NaN</td>\n",
              "      <td>NaN</td>\n",
              "    </tr>\n",
              "    <tr>\n",
              "      <th>25833</th>\n",
              "      <td>ANTHONY HARRIS</td>\n",
              "      <td>1245.0</td>\n",
              "      <td>GA</td>\n",
              "      <td>2849 Blount St</td>\n",
              "      <td>Atlanta</td>\n",
              "      <td>30344-3732</td>\n",
              "      <td>485310.0</td>\n",
              "      <td>Independent Contractors</td>\n",
              "      <td>1.0</td>\n",
              "      <td>2021-04-08</td>\n",
              "      <td>...</td>\n",
              "      <td>FULTON</td>\n",
              "      <td>GA</td>\n",
              "      <td>30344-3732</td>\n",
              "      <td>Bedford</td>\n",
              "      <td>TX</td>\n",
              "      <td>2021-04-08</td>\n",
              "      <td>529472.0</td>\n",
              "      <td>Y</td>\n",
              "      <td>NaN</td>\n",
              "      <td>NaN</td>\n",
              "    </tr>\n",
              "    <tr>\n",
              "      <th>25834</th>\n",
              "      <td>TAAHIRA ROBINSON</td>\n",
              "      <td>1075.0</td>\n",
              "      <td>GA</td>\n",
              "      <td>8541 Glendevon Ct</td>\n",
              "      <td>Riverdale</td>\n",
              "      <td>30274-4573</td>\n",
              "      <td>561110.0</td>\n",
              "      <td>Limited  Liability Company(LLC)</td>\n",
              "      <td>1.0</td>\n",
              "      <td>2021-05-11</td>\n",
              "      <td>...</td>\n",
              "      <td>CLAYTON</td>\n",
              "      <td>GA</td>\n",
              "      <td>30274-4573</td>\n",
              "      <td>Miami</td>\n",
              "      <td>FL</td>\n",
              "      <td>2021-05-11</td>\n",
              "      <td>529192.0</td>\n",
              "      <td>Y</td>\n",
              "      <td>NaN</td>\n",
              "      <td>NaN</td>\n",
              "    </tr>\n",
              "    <tr>\n",
              "      <th>25835</th>\n",
              "      <td>ERICA FERNANDEZ</td>\n",
              "      <td>787.0</td>\n",
              "      <td>GA</td>\n",
              "      <td>406 Nova Cir</td>\n",
              "      <td>Stockbridge</td>\n",
              "      <td>30281-3750</td>\n",
              "      <td>561720.0</td>\n",
              "      <td>Independent Contractors</td>\n",
              "      <td>1.0</td>\n",
              "      <td>2021-05-23</td>\n",
              "      <td>...</td>\n",
              "      <td>HENRY</td>\n",
              "      <td>GA</td>\n",
              "      <td>30281-3750</td>\n",
              "      <td>Bedford</td>\n",
              "      <td>TX</td>\n",
              "      <td>2021-05-23</td>\n",
              "      <td>529472.0</td>\n",
              "      <td>Y</td>\n",
              "      <td>NaN</td>\n",
              "      <td>NaN</td>\n",
              "    </tr>\n",
              "  </tbody>\n",
              "</table>\n",
              "<p>25836 rows × 41 columns</p>\n",
              "</div>\n",
              "      <button class=\"colab-df-convert\" onclick=\"convertToInteractive('df-49358369-a920-4f84-9bbe-cbb7aec812b0')\"\n",
              "              title=\"Convert this dataframe to an interactive table.\"\n",
              "              style=\"display:none;\">\n",
              "        \n",
              "  <svg xmlns=\"http://www.w3.org/2000/svg\" height=\"24px\"viewBox=\"0 0 24 24\"\n",
              "       width=\"24px\">\n",
              "    <path d=\"M0 0h24v24H0V0z\" fill=\"none\"/>\n",
              "    <path d=\"M18.56 5.44l.94 2.06.94-2.06 2.06-.94-2.06-.94-.94-2.06-.94 2.06-2.06.94zm-11 1L8.5 8.5l.94-2.06 2.06-.94-2.06-.94L8.5 2.5l-.94 2.06-2.06.94zm10 10l.94 2.06.94-2.06 2.06-.94-2.06-.94-.94-2.06-.94 2.06-2.06.94z\"/><path d=\"M17.41 7.96l-1.37-1.37c-.4-.4-.92-.59-1.43-.59-.52 0-1.04.2-1.43.59L10.3 9.45l-7.72 7.72c-.78.78-.78 2.05 0 2.83L4 21.41c.39.39.9.59 1.41.59.51 0 1.02-.2 1.41-.59l7.78-7.78 2.81-2.81c.8-.78.8-2.07 0-2.86zM5.41 20L4 18.59l7.72-7.72 1.47 1.35L5.41 20z\"/>\n",
              "  </svg>\n",
              "      </button>\n",
              "      \n",
              "  <style>\n",
              "    .colab-df-container {\n",
              "      display:flex;\n",
              "      flex-wrap:wrap;\n",
              "      gap: 12px;\n",
              "    }\n",
              "\n",
              "    .colab-df-convert {\n",
              "      background-color: #E8F0FE;\n",
              "      border: none;\n",
              "      border-radius: 50%;\n",
              "      cursor: pointer;\n",
              "      display: none;\n",
              "      fill: #1967D2;\n",
              "      height: 32px;\n",
              "      padding: 0 0 0 0;\n",
              "      width: 32px;\n",
              "    }\n",
              "\n",
              "    .colab-df-convert:hover {\n",
              "      background-color: #E2EBFA;\n",
              "      box-shadow: 0px 1px 2px rgba(60, 64, 67, 0.3), 0px 1px 3px 1px rgba(60, 64, 67, 0.15);\n",
              "      fill: #174EA6;\n",
              "    }\n",
              "\n",
              "    [theme=dark] .colab-df-convert {\n",
              "      background-color: #3B4455;\n",
              "      fill: #D2E3FC;\n",
              "    }\n",
              "\n",
              "    [theme=dark] .colab-df-convert:hover {\n",
              "      background-color: #434B5C;\n",
              "      box-shadow: 0px 1px 3px 1px rgba(0, 0, 0, 0.15);\n",
              "      filter: drop-shadow(0px 1px 2px rgba(0, 0, 0, 0.3));\n",
              "      fill: #FFFFFF;\n",
              "    }\n",
              "  </style>\n",
              "\n",
              "      <script>\n",
              "        const buttonEl =\n",
              "          document.querySelector('#df-49358369-a920-4f84-9bbe-cbb7aec812b0 button.colab-df-convert');\n",
              "        buttonEl.style.display =\n",
              "          google.colab.kernel.accessAllowed ? 'block' : 'none';\n",
              "\n",
              "        async function convertToInteractive(key) {\n",
              "          const element = document.querySelector('#df-49358369-a920-4f84-9bbe-cbb7aec812b0');\n",
              "          const dataTable =\n",
              "            await google.colab.kernel.invokeFunction('convertToInteractive',\n",
              "                                                     [key], {});\n",
              "          if (!dataTable) return;\n",
              "\n",
              "          const docLinkHtml = 'Like what you see? Visit the ' +\n",
              "            '<a target=\"_blank\" href=https://colab.research.google.com/notebooks/data_table.ipynb>data table notebook</a>'\n",
              "            + ' to learn more about interactive tables.';\n",
              "          element.innerHTML = '';\n",
              "          dataTable['output_type'] = 'display_data';\n",
              "          await google.colab.output.renderOutput(dataTable, element);\n",
              "          const docLink = document.createElement('div');\n",
              "          docLink.innerHTML = docLinkHtml;\n",
              "          element.appendChild(docLink);\n",
              "        }\n",
              "      </script>\n",
              "    </div>\n",
              "  </div>\n",
              "  "
            ],
            "text/plain": [
              "                               name   amount state  \\\n",
              "0      TRIPLE C CUSTOM CONCRETE LLC  43655.0    GA   \n",
              "1          DAVIS LAWN CARE SERVICES  35000.0    GA   \n",
              "2                    LONNIE RATLIFF  28949.0    GA   \n",
              "3                    DENARD TRIMBLE  20833.0    GA   \n",
              "4                        DANA VINES  20833.0    GA   \n",
              "...                             ...      ...   ...   \n",
              "25831                DONNELL WILSON   1950.0    GA   \n",
              "25832        MAMADOU DIOULDE DIALLO   1849.0    GA   \n",
              "25833                ANTHONY HARRIS   1245.0    GA   \n",
              "25834              TAAHIRA ROBINSON   1075.0    GA   \n",
              "25835               ERICA FERNANDEZ    787.0    GA   \n",
              "\n",
              "                               address         city         zip  naics_code  \\\n",
              "0      106 Lisa Street  East Dublin GA  East Dublin     31027.0    238990.0   \n",
              "1                 752 Savannah Ave N/A   Waynesboro  30830-1156    112910.0   \n",
              "2               55 Maple St NW Apt 802      Atlanta  30314-4760    531390.0   \n",
              "3                       727 Chapman St    Jonesboro  30238-5681    812111.0   \n",
              "4                       3548 Tracey Dr       Duluth  30096-3861    311999.0   \n",
              "...                                ...          ...         ...         ...   \n",
              "25831                    1000 Paces Ln    Woodstock  30189-4829    621511.0   \n",
              "25832          7000 Roswell Rd Apt 252      Atlanta  30328-2389    485310.0   \n",
              "25833                   2849 Blount St      Atlanta  30344-3732    485310.0   \n",
              "25834                8541 Glendevon Ct    Riverdale  30274-4573    561110.0   \n",
              "25835                     406 Nova Cir  Stockbridge  30281-3750    561720.0   \n",
              "\n",
              "                         business_type  jobs_retained date_approved  ...  \\\n",
              "0      Limited  Liability Company(LLC)            7.0    2021-05-11  ...   \n",
              "1                          Partnership            2.0    2021-05-12  ...   \n",
              "2                    Single Member LLC            5.0    2021-04-16  ...   \n",
              "3                  Sole Proprietorship            1.0    2021-05-22  ...   \n",
              "4                  Sole Proprietorship            1.0    2021-03-20  ...   \n",
              "...                                ...            ...           ...  ...   \n",
              "25831              Sole Proprietorship            1.0    2021-04-01  ...   \n",
              "25832          Independent Contractors            1.0    2021-05-21  ...   \n",
              "25833          Independent Contractors            1.0    2021-04-08  ...   \n",
              "25834  Limited  Liability Company(LLC)            1.0    2021-05-11  ...   \n",
              "25835          Independent Contractors            1.0    2021-05-23  ...   \n",
              "\n",
              "      project_county_name project_state  project_zip  originating_lender_city  \\\n",
              "0                 LAURENS            GA      31027.0         Saint Petersburg   \n",
              "1                   BURKE            GA   30830-1156                ARLINGTON   \n",
              "2                  FULTON            GA   30314-4760             PHOENIXVILLE   \n",
              "3                 FAYETTE            GA   30238-5681                     Brea   \n",
              "4                GWINNETT            GA   30096-3861                    Miami   \n",
              "...                   ...           ...          ...                      ...   \n",
              "25831            CHEROKEE            GA   30189-4829             Laguna Hills   \n",
              "25832              FULTON            GA   30328-2389                  Bedford   \n",
              "25833              FULTON            GA   30344-3732                  Bedford   \n",
              "25834             CLAYTON            GA   30274-4573                    Miami   \n",
              "25835               HENRY            GA   30281-3750                  Bedford   \n",
              "\n",
              "      originating_lender_state loan_status_date  \\\n",
              "0                           FL       2021-05-11   \n",
              "1                           MA       2021-05-12   \n",
              "2                           PA       2021-04-16   \n",
              "3                           CA       2021-05-22   \n",
              "4                           FL       2021-03-20   \n",
              "...                        ...              ...   \n",
              "25831                       CA       2021-04-01   \n",
              "25832                       TX       2021-05-21   \n",
              "25833                       TX       2021-04-08   \n",
              "25834                       FL       2021-05-11   \n",
              "25835                       TX       2021-05-23   \n",
              "\n",
              "       originating_lender_location_id  lmi_indicator  forgiveness_amount  \\\n",
              "0                            123499.0              Y                 NaN   \n",
              "1                            262380.0              N                 NaN   \n",
              "2                            121536.0              Y                 NaN   \n",
              "3                            514546.0              Y                 NaN   \n",
              "4                            529192.0              N                 NaN   \n",
              "...                               ...            ...                 ...   \n",
              "25831                        509316.0              N                 NaN   \n",
              "25832                        529472.0              N                 NaN   \n",
              "25833                        529472.0              Y                 NaN   \n",
              "25834                        529192.0              Y                 NaN   \n",
              "25835                        529472.0              Y                 NaN   \n",
              "\n",
              "       forgiveness_date  \n",
              "0                   NaN  \n",
              "1                   NaN  \n",
              "2                   NaN  \n",
              "3                   NaN  \n",
              "4                   NaN  \n",
              "...                 ...  \n",
              "25831               NaN  \n",
              "25832               NaN  \n",
              "25833               NaN  \n",
              "25834               NaN  \n",
              "25835               NaN  \n",
              "\n",
              "[25836 rows x 41 columns]"
            ]
          },
          "execution_count": 8,
          "metadata": {},
          "output_type": "execute_result"
        }
      ],
      "source": [
        "removed_data"
      ]
    },
    {
      "cell_type": "code",
      "execution_count": null,
      "metadata": {
        "colab": {
          "base_uri": "https://localhost:8080/",
          "height": 800
        },
        "id": "oqc2LLDFMGRf",
        "outputId": "1a32d8a0-67dd-4691-c62f-f3e82c534f51"
      },
      "outputs": [
        {
          "data": {
            "text/html": [
              "\n",
              "  <div id=\"df-35f431c2-4295-4680-9d66-33e6a1ac6ee9\">\n",
              "    <div class=\"colab-df-container\">\n",
              "      <div>\n",
              "<style scoped>\n",
              "    .dataframe tbody tr th:only-of-type {\n",
              "        vertical-align: middle;\n",
              "    }\n",
              "\n",
              "    .dataframe tbody tr th {\n",
              "        vertical-align: top;\n",
              "    }\n",
              "\n",
              "    .dataframe thead th {\n",
              "        text-align: right;\n",
              "    }\n",
              "</style>\n",
              "<table border=\"1\" class=\"dataframe\">\n",
              "  <thead>\n",
              "    <tr style=\"text-align: right;\">\n",
              "      <th></th>\n",
              "      <th>name</th>\n",
              "      <th>amount</th>\n",
              "      <th>state</th>\n",
              "      <th>address</th>\n",
              "      <th>city</th>\n",
              "      <th>zip</th>\n",
              "      <th>naics_code</th>\n",
              "      <th>business_type</th>\n",
              "      <th>jobs_retained</th>\n",
              "      <th>date_approved</th>\n",
              "      <th>...</th>\n",
              "      <th>project_county_name</th>\n",
              "      <th>project_state</th>\n",
              "      <th>project_zip</th>\n",
              "      <th>originating_lender_city</th>\n",
              "      <th>originating_lender_state</th>\n",
              "      <th>loan_status_date</th>\n",
              "      <th>originating_lender_location_id</th>\n",
              "      <th>lmi_indicator</th>\n",
              "      <th>forgiveness_amount</th>\n",
              "      <th>forgiveness_date</th>\n",
              "    </tr>\n",
              "  </thead>\n",
              "  <tbody>\n",
              "    <tr>\n",
              "      <th>0</th>\n",
              "      <td>LUMMUS CORPORATION</td>\n",
              "      <td>2000000.00</td>\n",
              "      <td>GA</td>\n",
              "      <td>225 Bourne Blvd</td>\n",
              "      <td>Savannah</td>\n",
              "      <td>31408-9586</td>\n",
              "      <td>333249.0</td>\n",
              "      <td>Corporation</td>\n",
              "      <td>294</td>\n",
              "      <td>2021-02-20</td>\n",
              "      <td>...</td>\n",
              "      <td>CHATHAM</td>\n",
              "      <td>GA</td>\n",
              "      <td>31408-9586</td>\n",
              "      <td>CHICAGO</td>\n",
              "      <td>IL</td>\n",
              "      <td>NaN</td>\n",
              "      <td>116998</td>\n",
              "      <td>N</td>\n",
              "      <td>NaN</td>\n",
              "      <td>NaN</td>\n",
              "    </tr>\n",
              "    <tr>\n",
              "      <th>1</th>\n",
              "      <td>COLIANT SOLUTIONS INC.</td>\n",
              "      <td>1294555.00</td>\n",
              "      <td>GA</td>\n",
              "      <td>2703 Brickton North Dr</td>\n",
              "      <td>Buford</td>\n",
              "      <td>30518-9101</td>\n",
              "      <td>541519.0</td>\n",
              "      <td>Corporation</td>\n",
              "      <td>63</td>\n",
              "      <td>2021-01-31</td>\n",
              "      <td>...</td>\n",
              "      <td>GWINNETT</td>\n",
              "      <td>GA</td>\n",
              "      <td>30518-9101</td>\n",
              "      <td>COLUMBUS</td>\n",
              "      <td>GA</td>\n",
              "      <td>NaN</td>\n",
              "      <td>19248</td>\n",
              "      <td>Y</td>\n",
              "      <td>NaN</td>\n",
              "      <td>NaN</td>\n",
              "    </tr>\n",
              "    <tr>\n",
              "      <th>2</th>\n",
              "      <td>YOHE PLUMBING INC</td>\n",
              "      <td>729509.00</td>\n",
              "      <td>GA</td>\n",
              "      <td>1120 Franke Court N/A</td>\n",
              "      <td>Augusta</td>\n",
              "      <td>30909</td>\n",
              "      <td>238220.0</td>\n",
              "      <td>Corporation</td>\n",
              "      <td>105</td>\n",
              "      <td>2021-03-12</td>\n",
              "      <td>...</td>\n",
              "      <td>RICHMOND</td>\n",
              "      <td>GA</td>\n",
              "      <td>30909</td>\n",
              "      <td>PHOENIXVILLE</td>\n",
              "      <td>PA</td>\n",
              "      <td>NaN</td>\n",
              "      <td>121536</td>\n",
              "      <td>N</td>\n",
              "      <td>NaN</td>\n",
              "      <td>NaN</td>\n",
              "    </tr>\n",
              "    <tr>\n",
              "      <th>3</th>\n",
              "      <td>LEWIS COLOR LITHOGRAPHERS INC</td>\n",
              "      <td>571193.40</td>\n",
              "      <td>GA</td>\n",
              "      <td>30 Joe Kennedy Blvd</td>\n",
              "      <td>Statesboro</td>\n",
              "      <td>30458-3417</td>\n",
              "      <td>323111.0</td>\n",
              "      <td>Corporation</td>\n",
              "      <td>49</td>\n",
              "      <td>2021-02-02</td>\n",
              "      <td>...</td>\n",
              "      <td>BULLOCH</td>\n",
              "      <td>GA</td>\n",
              "      <td>30458-3417</td>\n",
              "      <td>COLUMBUS</td>\n",
              "      <td>GA</td>\n",
              "      <td>NaN</td>\n",
              "      <td>19248</td>\n",
              "      <td>N</td>\n",
              "      <td>NaN</td>\n",
              "      <td>NaN</td>\n",
              "    </tr>\n",
              "    <tr>\n",
              "      <th>4</th>\n",
              "      <td>ALMA PAK INTERNATIONAL, LLC</td>\n",
              "      <td>472700.00</td>\n",
              "      <td>GA</td>\n",
              "      <td>230 PINEVIEW RD</td>\n",
              "      <td>ALMA</td>\n",
              "      <td>31510-4326</td>\n",
              "      <td>445230.0</td>\n",
              "      <td>Partnership</td>\n",
              "      <td>37</td>\n",
              "      <td>2020-04-10</td>\n",
              "      <td>...</td>\n",
              "      <td>BACON</td>\n",
              "      <td>GA</td>\n",
              "      <td>31510-4326</td>\n",
              "      <td>ALMA</td>\n",
              "      <td>GA</td>\n",
              "      <td>2021-01-08</td>\n",
              "      <td>17811</td>\n",
              "      <td>N</td>\n",
              "      <td>475877.59</td>\n",
              "      <td>2020-12-15</td>\n",
              "    </tr>\n",
              "    <tr>\n",
              "      <th>...</th>\n",
              "      <td>...</td>\n",
              "      <td>...</td>\n",
              "      <td>...</td>\n",
              "      <td>...</td>\n",
              "      <td>...</td>\n",
              "      <td>...</td>\n",
              "      <td>...</td>\n",
              "      <td>...</td>\n",
              "      <td>...</td>\n",
              "      <td>...</td>\n",
              "      <td>...</td>\n",
              "      <td>...</td>\n",
              "      <td>...</td>\n",
              "      <td>...</td>\n",
              "      <td>...</td>\n",
              "      <td>...</td>\n",
              "      <td>...</td>\n",
              "      <td>...</td>\n",
              "      <td>...</td>\n",
              "      <td>...</td>\n",
              "      <td>...</td>\n",
              "    </tr>\n",
              "    <tr>\n",
              "      <th>553823</th>\n",
              "      <td>PAUL CLARK</td>\n",
              "      <td>757.00</td>\n",
              "      <td>GA</td>\n",
              "      <td>609 Fern St</td>\n",
              "      <td>Waycross</td>\n",
              "      <td>31501-3210</td>\n",
              "      <td>561492.0</td>\n",
              "      <td>Independent Contractors</td>\n",
              "      <td>1</td>\n",
              "      <td>2021-04-30</td>\n",
              "      <td>...</td>\n",
              "      <td>WARE</td>\n",
              "      <td>GA</td>\n",
              "      <td>31501-3210</td>\n",
              "      <td>Miami</td>\n",
              "      <td>FL</td>\n",
              "      <td>NaN</td>\n",
              "      <td>529192</td>\n",
              "      <td>N</td>\n",
              "      <td>NaN</td>\n",
              "      <td>NaN</td>\n",
              "    </tr>\n",
              "    <tr>\n",
              "      <th>553824</th>\n",
              "      <td>DEWEY GRIFFIN</td>\n",
              "      <td>700.00</td>\n",
              "      <td>GA</td>\n",
              "      <td>245 Moray Rd</td>\n",
              "      <td>Alma</td>\n",
              "      <td>31510-4371</td>\n",
              "      <td>111940.0</td>\n",
              "      <td>Sole Proprietorship</td>\n",
              "      <td>1</td>\n",
              "      <td>2021-04-02</td>\n",
              "      <td>...</td>\n",
              "      <td>BACON</td>\n",
              "      <td>GA</td>\n",
              "      <td>31510-4371</td>\n",
              "      <td>ALMA</td>\n",
              "      <td>GA</td>\n",
              "      <td>2021-09-24</td>\n",
              "      <td>17808</td>\n",
              "      <td>N</td>\n",
              "      <td>702.61</td>\n",
              "      <td>2021-08-23</td>\n",
              "    </tr>\n",
              "    <tr>\n",
              "      <th>553825</th>\n",
              "      <td>HAYDEN WHITLOW</td>\n",
              "      <td>582.71</td>\n",
              "      <td>GA</td>\n",
              "      <td>2696 Douglas Ct NW</td>\n",
              "      <td>Acworth</td>\n",
              "      <td>30101-3677</td>\n",
              "      <td>561730.0</td>\n",
              "      <td>Independent Contractors</td>\n",
              "      <td>1</td>\n",
              "      <td>2021-02-19</td>\n",
              "      <td>...</td>\n",
              "      <td>COBB</td>\n",
              "      <td>GA</td>\n",
              "      <td>30101-3677</td>\n",
              "      <td>HINTON</td>\n",
              "      <td>OK</td>\n",
              "      <td>NaN</td>\n",
              "      <td>58771</td>\n",
              "      <td>N</td>\n",
              "      <td>NaN</td>\n",
              "      <td>NaN</td>\n",
              "    </tr>\n",
              "    <tr>\n",
              "      <th>553826</th>\n",
              "      <td>KEVIN LEWIS</td>\n",
              "      <td>270.00</td>\n",
              "      <td>GA</td>\n",
              "      <td>4830 Northway Drive Northeast</td>\n",
              "      <td>Sandy Springs</td>\n",
              "      <td>30342-2424</td>\n",
              "      <td>541990.0</td>\n",
              "      <td>Sole Proprietorship</td>\n",
              "      <td>1</td>\n",
              "      <td>2020-08-03</td>\n",
              "      <td>...</td>\n",
              "      <td>FULTON</td>\n",
              "      <td>GA</td>\n",
              "      <td>30342-2424</td>\n",
              "      <td>TEANECK</td>\n",
              "      <td>NJ</td>\n",
              "      <td>NaN</td>\n",
              "      <td>456756</td>\n",
              "      <td>N</td>\n",
              "      <td>NaN</td>\n",
              "      <td>NaN</td>\n",
              "    </tr>\n",
              "    <tr>\n",
              "      <th>553827</th>\n",
              "      <td>ARTEAYA TAYLOR</td>\n",
              "      <td>12052.00</td>\n",
              "      <td>GA</td>\n",
              "      <td>Sedona Loop</td>\n",
              "      <td>Hampton</td>\n",
              "      <td>30253</td>\n",
              "      <td>531210.0</td>\n",
              "      <td>Sole Proprietorship</td>\n",
              "      <td>1</td>\n",
              "      <td>2021-02-04</td>\n",
              "      <td>...</td>\n",
              "      <td>HENRY</td>\n",
              "      <td>GA</td>\n",
              "      <td>30253</td>\n",
              "      <td>TEANECK</td>\n",
              "      <td>NJ</td>\n",
              "      <td>NaN</td>\n",
              "      <td>456756</td>\n",
              "      <td>Y</td>\n",
              "      <td>NaN</td>\n",
              "      <td>NaN</td>\n",
              "    </tr>\n",
              "  </tbody>\n",
              "</table>\n",
              "<p>553828 rows × 41 columns</p>\n",
              "</div>\n",
              "      <button class=\"colab-df-convert\" onclick=\"convertToInteractive('df-35f431c2-4295-4680-9d66-33e6a1ac6ee9')\"\n",
              "              title=\"Convert this dataframe to an interactive table.\"\n",
              "              style=\"display:none;\">\n",
              "        \n",
              "  <svg xmlns=\"http://www.w3.org/2000/svg\" height=\"24px\"viewBox=\"0 0 24 24\"\n",
              "       width=\"24px\">\n",
              "    <path d=\"M0 0h24v24H0V0z\" fill=\"none\"/>\n",
              "    <path d=\"M18.56 5.44l.94 2.06.94-2.06 2.06-.94-2.06-.94-.94-2.06-.94 2.06-2.06.94zm-11 1L8.5 8.5l.94-2.06 2.06-.94-2.06-.94L8.5 2.5l-.94 2.06-2.06.94zm10 10l.94 2.06.94-2.06 2.06-.94-2.06-.94-.94-2.06-.94 2.06-2.06.94z\"/><path d=\"M17.41 7.96l-1.37-1.37c-.4-.4-.92-.59-1.43-.59-.52 0-1.04.2-1.43.59L10.3 9.45l-7.72 7.72c-.78.78-.78 2.05 0 2.83L4 21.41c.39.39.9.59 1.41.59.51 0 1.02-.2 1.41-.59l7.78-7.78 2.81-2.81c.8-.78.8-2.07 0-2.86zM5.41 20L4 18.59l7.72-7.72 1.47 1.35L5.41 20z\"/>\n",
              "  </svg>\n",
              "      </button>\n",
              "      \n",
              "  <style>\n",
              "    .colab-df-container {\n",
              "      display:flex;\n",
              "      flex-wrap:wrap;\n",
              "      gap: 12px;\n",
              "    }\n",
              "\n",
              "    .colab-df-convert {\n",
              "      background-color: #E8F0FE;\n",
              "      border: none;\n",
              "      border-radius: 50%;\n",
              "      cursor: pointer;\n",
              "      display: none;\n",
              "      fill: #1967D2;\n",
              "      height: 32px;\n",
              "      padding: 0 0 0 0;\n",
              "      width: 32px;\n",
              "    }\n",
              "\n",
              "    .colab-df-convert:hover {\n",
              "      background-color: #E2EBFA;\n",
              "      box-shadow: 0px 1px 2px rgba(60, 64, 67, 0.3), 0px 1px 3px 1px rgba(60, 64, 67, 0.15);\n",
              "      fill: #174EA6;\n",
              "    }\n",
              "\n",
              "    [theme=dark] .colab-df-convert {\n",
              "      background-color: #3B4455;\n",
              "      fill: #D2E3FC;\n",
              "    }\n",
              "\n",
              "    [theme=dark] .colab-df-convert:hover {\n",
              "      background-color: #434B5C;\n",
              "      box-shadow: 0px 1px 3px 1px rgba(0, 0, 0, 0.15);\n",
              "      filter: drop-shadow(0px 1px 2px rgba(0, 0, 0, 0.3));\n",
              "      fill: #FFFFFF;\n",
              "    }\n",
              "  </style>\n",
              "\n",
              "      <script>\n",
              "        const buttonEl =\n",
              "          document.querySelector('#df-35f431c2-4295-4680-9d66-33e6a1ac6ee9 button.colab-df-convert');\n",
              "        buttonEl.style.display =\n",
              "          google.colab.kernel.accessAllowed ? 'block' : 'none';\n",
              "\n",
              "        async function convertToInteractive(key) {\n",
              "          const element = document.querySelector('#df-35f431c2-4295-4680-9d66-33e6a1ac6ee9');\n",
              "          const dataTable =\n",
              "            await google.colab.kernel.invokeFunction('convertToInteractive',\n",
              "                                                     [key], {});\n",
              "          if (!dataTable) return;\n",
              "\n",
              "          const docLinkHtml = 'Like what you see? Visit the ' +\n",
              "            '<a target=\"_blank\" href=https://colab.research.google.com/notebooks/data_table.ipynb>data table notebook</a>'\n",
              "            + ' to learn more about interactive tables.';\n",
              "          element.innerHTML = '';\n",
              "          dataTable['output_type'] = 'display_data';\n",
              "          await google.colab.output.renderOutput(dataTable, element);\n",
              "          const docLink = document.createElement('div');\n",
              "          docLink.innerHTML = docLinkHtml;\n",
              "          element.appendChild(docLink);\n",
              "        }\n",
              "      </script>\n",
              "    </div>\n",
              "  </div>\n",
              "  "
            ],
            "text/plain": [
              "                                 name      amount state  \\\n",
              "0                  LUMMUS CORPORATION  2000000.00    GA   \n",
              "1              COLIANT SOLUTIONS INC.  1294555.00    GA   \n",
              "2                   YOHE PLUMBING INC   729509.00    GA   \n",
              "3       LEWIS COLOR LITHOGRAPHERS INC   571193.40    GA   \n",
              "4         ALMA PAK INTERNATIONAL, LLC   472700.00    GA   \n",
              "...                               ...         ...   ...   \n",
              "553823                     PAUL CLARK      757.00    GA   \n",
              "553824                  DEWEY GRIFFIN      700.00    GA   \n",
              "553825                 HAYDEN WHITLOW      582.71    GA   \n",
              "553826                    KEVIN LEWIS      270.00    GA   \n",
              "553827                 ARTEAYA TAYLOR    12052.00    GA   \n",
              "\n",
              "                              address           city         zip  naics_code  \\\n",
              "0                     225 Bourne Blvd       Savannah  31408-9586    333249.0   \n",
              "1              2703 Brickton North Dr         Buford  30518-9101    541519.0   \n",
              "2               1120 Franke Court N/A        Augusta       30909    238220.0   \n",
              "3                 30 Joe Kennedy Blvd     Statesboro  30458-3417    323111.0   \n",
              "4                     230 PINEVIEW RD           ALMA  31510-4326    445230.0   \n",
              "...                               ...            ...         ...         ...   \n",
              "553823                    609 Fern St       Waycross  31501-3210    561492.0   \n",
              "553824                   245 Moray Rd           Alma  31510-4371    111940.0   \n",
              "553825             2696 Douglas Ct NW        Acworth  30101-3677    561730.0   \n",
              "553826  4830 Northway Drive Northeast  Sandy Springs  30342-2424    541990.0   \n",
              "553827                    Sedona Loop        Hampton       30253    531210.0   \n",
              "\n",
              "                  business_type  jobs_retained date_approved  ...  \\\n",
              "0                   Corporation            294    2021-02-20  ...   \n",
              "1                   Corporation             63    2021-01-31  ...   \n",
              "2                   Corporation            105    2021-03-12  ...   \n",
              "3                   Corporation             49    2021-02-02  ...   \n",
              "4                   Partnership             37    2020-04-10  ...   \n",
              "...                         ...            ...           ...  ...   \n",
              "553823  Independent Contractors              1    2021-04-30  ...   \n",
              "553824      Sole Proprietorship              1    2021-04-02  ...   \n",
              "553825  Independent Contractors              1    2021-02-19  ...   \n",
              "553826      Sole Proprietorship              1    2020-08-03  ...   \n",
              "553827      Sole Proprietorship              1    2021-02-04  ...   \n",
              "\n",
              "       project_county_name project_state  project_zip  \\\n",
              "0                  CHATHAM            GA   31408-9586   \n",
              "1                 GWINNETT            GA   30518-9101   \n",
              "2                 RICHMOND            GA        30909   \n",
              "3                  BULLOCH            GA   30458-3417   \n",
              "4                    BACON            GA   31510-4326   \n",
              "...                    ...           ...          ...   \n",
              "553823                WARE            GA   31501-3210   \n",
              "553824               BACON            GA   31510-4371   \n",
              "553825                COBB            GA   30101-3677   \n",
              "553826              FULTON            GA   30342-2424   \n",
              "553827               HENRY            GA        30253   \n",
              "\n",
              "        originating_lender_city originating_lender_state loan_status_date  \\\n",
              "0                       CHICAGO                       IL              NaN   \n",
              "1                      COLUMBUS                       GA              NaN   \n",
              "2                  PHOENIXVILLE                       PA              NaN   \n",
              "3                      COLUMBUS                       GA              NaN   \n",
              "4                          ALMA                       GA       2021-01-08   \n",
              "...                         ...                      ...              ...   \n",
              "553823                    Miami                       FL              NaN   \n",
              "553824                     ALMA                       GA       2021-09-24   \n",
              "553825                   HINTON                       OK              NaN   \n",
              "553826                  TEANECK                       NJ              NaN   \n",
              "553827                  TEANECK                       NJ              NaN   \n",
              "\n",
              "        originating_lender_location_id  lmi_indicator  forgiveness_amount  \\\n",
              "0                               116998              N                 NaN   \n",
              "1                                19248              Y                 NaN   \n",
              "2                               121536              N                 NaN   \n",
              "3                                19248              N                 NaN   \n",
              "4                                17811              N           475877.59   \n",
              "...                                ...            ...                 ...   \n",
              "553823                          529192              N                 NaN   \n",
              "553824                           17808              N              702.61   \n",
              "553825                           58771              N                 NaN   \n",
              "553826                          456756              N                 NaN   \n",
              "553827                          456756              Y                 NaN   \n",
              "\n",
              "        forgiveness_date  \n",
              "0                    NaN  \n",
              "1                    NaN  \n",
              "2                    NaN  \n",
              "3                    NaN  \n",
              "4             2020-12-15  \n",
              "...                  ...  \n",
              "553823               NaN  \n",
              "553824        2021-08-23  \n",
              "553825               NaN  \n",
              "553826               NaN  \n",
              "553827               NaN  \n",
              "\n",
              "[553828 rows x 41 columns]"
            ]
          },
          "execution_count": 9,
          "metadata": {},
          "output_type": "execute_result"
        }
      ],
      "source": [
        "full_data"
      ]
    },
    {
      "cell_type": "code",
      "execution_count": null,
      "metadata": {
        "colab": {
          "base_uri": "https://localhost:8080/"
        },
        "id": "0byxtOr09Lax",
        "outputId": "d6cff521-e394-48c0-e246-fcc21df42f0f"
      },
      "outputs": [
        {
          "data": {
            "text/plain": [
              "Index(['name', 'amount', 'state', 'address', 'city', 'zip', 'naics_code',\n",
              "       'business_type', 'jobs_retained', 'date_approved', 'lender',\n",
              "       'congressional_district', 'loan_number', 'sba_office_code',\n",
              "       'processing_method', 'loan_status', 'term', 'sba_guaranty_percentage',\n",
              "       'initial_approval_amount', 'current_approval_amount',\n",
              "       'undisbursed_amount', 'servicing_lender_location_id',\n",
              "       'servicing_lender_name', 'servicing_lender_address',\n",
              "       'servicing_lender_city', 'servicing_lender_state',\n",
              "       'servicing_lender_zip', 'rural_urban_indicator', 'hubzone_indicator',\n",
              "       'business_age_description', 'project_city', 'project_county_name',\n",
              "       'project_state', 'project_zip', 'originating_lender_city',\n",
              "       'originating_lender_state', 'loan_status_date',\n",
              "       'originating_lender_location_id', 'lmi_indicator', 'forgiveness_amount',\n",
              "       'forgiveness_date'],\n",
              "      dtype='object')"
            ]
          },
          "execution_count": 10,
          "metadata": {},
          "output_type": "execute_result"
        }
      ],
      "source": [
        "removed_data.columns"
      ]
    },
    {
      "cell_type": "code",
      "execution_count": null,
      "metadata": {
        "id": "CEtczLdzMEfN"
      },
      "outputs": [],
      "source": [
        ""
      ]
    },
    {
      "cell_type": "code",
      "execution_count": null,
      "metadata": {
        "colab": {
          "base_uri": "https://localhost:8080/"
        },
        "id": "GjH4TiK8FpaH",
        "outputId": "d5205b78-694f-4663-d4b0-1cf7c260204b"
      },
      "outputs": [
        {
          "data": {
            "text/plain": [
              "Index(['name', 'amount', 'state', 'address', 'city', 'zip', 'naics_code',\n",
              "       'business_type', 'jobs_retained', 'date_approved', 'lender',\n",
              "       'congressional_district', 'loan_number', 'sba_office_code',\n",
              "       'processing_method', 'loan_status', 'term', 'sba_guaranty_percentage',\n",
              "       'initial_approval_amount', 'current_approval_amount',\n",
              "       'undisbursed_amount', 'servicing_lender_location_id',\n",
              "       'servicing_lender_name', 'servicing_lender_address',\n",
              "       'servicing_lender_city', 'servicing_lender_state',\n",
              "       'servicing_lender_zip', 'rural_urban_indicator', 'hubzone_indicator',\n",
              "       'business_age_description', 'project_city', 'project_county_name',\n",
              "       'project_state', 'project_zip', 'originating_lender_city',\n",
              "       'originating_lender_state', 'loan_status_date',\n",
              "       'originating_lender_location_id', 'lmi_indicator', 'forgiveness_amount',\n",
              "       'forgiveness_date'],\n",
              "      dtype='object')"
            ]
          },
          "execution_count": 11,
          "metadata": {},
          "output_type": "execute_result"
        }
      ],
      "source": [
        "full_data.columns"
      ]
    },
    {
      "cell_type": "code",
      "execution_count": null,
      "metadata": {
        "id": "OqeAgWYF_H65"
      },
      "outputs": [],
      "source": [
        "removed_data['Removed']=np.where(removed_data['name']!=0, True, False)"
      ]
    },
    {
      "cell_type": "code",
      "execution_count": null,
      "metadata": {
        "colab": {
          "base_uri": "https://localhost:8080/"
        },
        "id": "YKGr7jTuYZWC",
        "outputId": "4180487c-91c7-4648-cd5b-7bfeff28e435"
      },
      "outputs": [
        {
          "data": {
            "text/plain": [
              "8.165379e+09    1\n",
              "9.777059e+09    1\n",
              "9.134169e+09    1\n",
              "7.007449e+09    1\n",
              "5.285748e+09    1\n",
              "               ..\n",
              "8.395809e+09    1\n",
              "1.495939e+09    1\n",
              "8.572469e+09    1\n",
              "7.022719e+09    1\n",
              "6.722089e+09    1\n",
              "Name: loan_number, Length: 25836, dtype: int64"
            ]
          },
          "execution_count": 13,
          "metadata": {},
          "output_type": "execute_result"
        }
      ],
      "source": [
        "removed_data['loan_number'].value_counts()"
      ]
    },
    {
      "cell_type": "code",
      "execution_count": null,
      "metadata": {
        "colab": {
          "base_uri": "https://localhost:8080/"
        },
        "id": "uHhIldgRcGV7",
        "outputId": "a032bb41-a917-420d-f493-3008a781150b"
      },
      "outputs": [
        {
          "data": {
            "text/plain": [
              "Index(['name', 'amount', 'state', 'address', 'city', 'zip', 'naics_code',\n",
              "       'business_type', 'jobs_retained', 'date_approved', 'lender',\n",
              "       'congressional_district', 'loan_number', 'sba_office_code',\n",
              "       'processing_method', 'loan_status', 'term', 'sba_guaranty_percentage',\n",
              "       'initial_approval_amount', 'current_approval_amount',\n",
              "       'undisbursed_amount', 'servicing_lender_location_id',\n",
              "       'servicing_lender_name', 'servicing_lender_address',\n",
              "       'servicing_lender_city', 'servicing_lender_state',\n",
              "       'servicing_lender_zip', 'rural_urban_indicator', 'hubzone_indicator',\n",
              "       'business_age_description', 'project_city', 'project_county_name',\n",
              "       'project_state', 'project_zip', 'originating_lender_city',\n",
              "       'originating_lender_state', 'loan_status_date',\n",
              "       'originating_lender_location_id', 'lmi_indicator', 'forgiveness_amount',\n",
              "       'forgiveness_date', 'Removed'],\n",
              "      dtype='object')"
            ]
          },
          "execution_count": 14,
          "metadata": {},
          "output_type": "execute_result"
        }
      ],
      "source": [
        "removed_data.columns"
      ]
    },
    {
      "cell_type": "code",
      "execution_count": null,
      "metadata": {
        "id": "mOuZUqvaDKEp"
      },
      "outputs": [],
      "source": [
        "combined_data=full_data.append(removed_data)"
      ]
    },
    {
      "cell_type": "code",
      "execution_count": null,
      "metadata": {
        "colab": {
          "base_uri": "https://localhost:8080/",
          "height": 800
        },
        "id": "pBdS8jxQTq96",
        "outputId": "72346722-a0eb-456e-df30-326a492cc89a"
      },
      "outputs": [
        {
          "data": {
            "text/html": [
              "\n",
              "  <div id=\"df-77f8cefe-8722-44b5-bbfc-ac25d7b1cebf\">\n",
              "    <div class=\"colab-df-container\">\n",
              "      <div>\n",
              "<style scoped>\n",
              "    .dataframe tbody tr th:only-of-type {\n",
              "        vertical-align: middle;\n",
              "    }\n",
              "\n",
              "    .dataframe tbody tr th {\n",
              "        vertical-align: top;\n",
              "    }\n",
              "\n",
              "    .dataframe thead th {\n",
              "        text-align: right;\n",
              "    }\n",
              "</style>\n",
              "<table border=\"1\" class=\"dataframe\">\n",
              "  <thead>\n",
              "    <tr style=\"text-align: right;\">\n",
              "      <th></th>\n",
              "      <th>name</th>\n",
              "      <th>amount</th>\n",
              "      <th>state</th>\n",
              "      <th>address</th>\n",
              "      <th>city</th>\n",
              "      <th>zip</th>\n",
              "      <th>naics_code</th>\n",
              "      <th>business_type</th>\n",
              "      <th>jobs_retained</th>\n",
              "      <th>date_approved</th>\n",
              "      <th>...</th>\n",
              "      <th>project_state</th>\n",
              "      <th>project_zip</th>\n",
              "      <th>originating_lender_city</th>\n",
              "      <th>originating_lender_state</th>\n",
              "      <th>loan_status_date</th>\n",
              "      <th>originating_lender_location_id</th>\n",
              "      <th>lmi_indicator</th>\n",
              "      <th>forgiveness_amount</th>\n",
              "      <th>forgiveness_date</th>\n",
              "      <th>Removed</th>\n",
              "    </tr>\n",
              "  </thead>\n",
              "  <tbody>\n",
              "    <tr>\n",
              "      <th>0</th>\n",
              "      <td>LUMMUS CORPORATION</td>\n",
              "      <td>2000000.0</td>\n",
              "      <td>GA</td>\n",
              "      <td>225 Bourne Blvd</td>\n",
              "      <td>Savannah</td>\n",
              "      <td>31408-9586</td>\n",
              "      <td>333249.0</td>\n",
              "      <td>Corporation</td>\n",
              "      <td>294.0</td>\n",
              "      <td>2021-02-20</td>\n",
              "      <td>...</td>\n",
              "      <td>GA</td>\n",
              "      <td>31408-9586</td>\n",
              "      <td>CHICAGO</td>\n",
              "      <td>IL</td>\n",
              "      <td>NaN</td>\n",
              "      <td>116998.0</td>\n",
              "      <td>N</td>\n",
              "      <td>NaN</td>\n",
              "      <td>NaN</td>\n",
              "      <td>NaN</td>\n",
              "    </tr>\n",
              "    <tr>\n",
              "      <th>1</th>\n",
              "      <td>COLIANT SOLUTIONS INC.</td>\n",
              "      <td>1294555.0</td>\n",
              "      <td>GA</td>\n",
              "      <td>2703 Brickton North Dr</td>\n",
              "      <td>Buford</td>\n",
              "      <td>30518-9101</td>\n",
              "      <td>541519.0</td>\n",
              "      <td>Corporation</td>\n",
              "      <td>63.0</td>\n",
              "      <td>2021-01-31</td>\n",
              "      <td>...</td>\n",
              "      <td>GA</td>\n",
              "      <td>30518-9101</td>\n",
              "      <td>COLUMBUS</td>\n",
              "      <td>GA</td>\n",
              "      <td>NaN</td>\n",
              "      <td>19248.0</td>\n",
              "      <td>Y</td>\n",
              "      <td>NaN</td>\n",
              "      <td>NaN</td>\n",
              "      <td>NaN</td>\n",
              "    </tr>\n",
              "    <tr>\n",
              "      <th>2</th>\n",
              "      <td>YOHE PLUMBING INC</td>\n",
              "      <td>729509.0</td>\n",
              "      <td>GA</td>\n",
              "      <td>1120 Franke Court N/A</td>\n",
              "      <td>Augusta</td>\n",
              "      <td>30909</td>\n",
              "      <td>238220.0</td>\n",
              "      <td>Corporation</td>\n",
              "      <td>105.0</td>\n",
              "      <td>2021-03-12</td>\n",
              "      <td>...</td>\n",
              "      <td>GA</td>\n",
              "      <td>30909</td>\n",
              "      <td>PHOENIXVILLE</td>\n",
              "      <td>PA</td>\n",
              "      <td>NaN</td>\n",
              "      <td>121536.0</td>\n",
              "      <td>N</td>\n",
              "      <td>NaN</td>\n",
              "      <td>NaN</td>\n",
              "      <td>NaN</td>\n",
              "    </tr>\n",
              "    <tr>\n",
              "      <th>3</th>\n",
              "      <td>LEWIS COLOR LITHOGRAPHERS INC</td>\n",
              "      <td>571193.4</td>\n",
              "      <td>GA</td>\n",
              "      <td>30 Joe Kennedy Blvd</td>\n",
              "      <td>Statesboro</td>\n",
              "      <td>30458-3417</td>\n",
              "      <td>323111.0</td>\n",
              "      <td>Corporation</td>\n",
              "      <td>49.0</td>\n",
              "      <td>2021-02-02</td>\n",
              "      <td>...</td>\n",
              "      <td>GA</td>\n",
              "      <td>30458-3417</td>\n",
              "      <td>COLUMBUS</td>\n",
              "      <td>GA</td>\n",
              "      <td>NaN</td>\n",
              "      <td>19248.0</td>\n",
              "      <td>N</td>\n",
              "      <td>NaN</td>\n",
              "      <td>NaN</td>\n",
              "      <td>NaN</td>\n",
              "    </tr>\n",
              "    <tr>\n",
              "      <th>4</th>\n",
              "      <td>ALMA PAK INTERNATIONAL, LLC</td>\n",
              "      <td>472700.0</td>\n",
              "      <td>GA</td>\n",
              "      <td>230 PINEVIEW RD</td>\n",
              "      <td>ALMA</td>\n",
              "      <td>31510-4326</td>\n",
              "      <td>445230.0</td>\n",
              "      <td>Partnership</td>\n",
              "      <td>37.0</td>\n",
              "      <td>2020-04-10</td>\n",
              "      <td>...</td>\n",
              "      <td>GA</td>\n",
              "      <td>31510-4326</td>\n",
              "      <td>ALMA</td>\n",
              "      <td>GA</td>\n",
              "      <td>2021-01-08</td>\n",
              "      <td>17811.0</td>\n",
              "      <td>N</td>\n",
              "      <td>475877.59</td>\n",
              "      <td>2020-12-15</td>\n",
              "      <td>NaN</td>\n",
              "    </tr>\n",
              "    <tr>\n",
              "      <th>...</th>\n",
              "      <td>...</td>\n",
              "      <td>...</td>\n",
              "      <td>...</td>\n",
              "      <td>...</td>\n",
              "      <td>...</td>\n",
              "      <td>...</td>\n",
              "      <td>...</td>\n",
              "      <td>...</td>\n",
              "      <td>...</td>\n",
              "      <td>...</td>\n",
              "      <td>...</td>\n",
              "      <td>...</td>\n",
              "      <td>...</td>\n",
              "      <td>...</td>\n",
              "      <td>...</td>\n",
              "      <td>...</td>\n",
              "      <td>...</td>\n",
              "      <td>...</td>\n",
              "      <td>...</td>\n",
              "      <td>...</td>\n",
              "      <td>...</td>\n",
              "    </tr>\n",
              "    <tr>\n",
              "      <th>25831</th>\n",
              "      <td>DONNELL WILSON</td>\n",
              "      <td>1950.0</td>\n",
              "      <td>GA</td>\n",
              "      <td>1000 Paces Ln</td>\n",
              "      <td>Woodstock</td>\n",
              "      <td>30189-4829</td>\n",
              "      <td>621511.0</td>\n",
              "      <td>Sole Proprietorship</td>\n",
              "      <td>1.0</td>\n",
              "      <td>2021-04-01 00:00:00</td>\n",
              "      <td>...</td>\n",
              "      <td>GA</td>\n",
              "      <td>30189-4829</td>\n",
              "      <td>Laguna Hills</td>\n",
              "      <td>CA</td>\n",
              "      <td>2021-04-01 00:00:00</td>\n",
              "      <td>509316.0</td>\n",
              "      <td>N</td>\n",
              "      <td>NaN</td>\n",
              "      <td>NaN</td>\n",
              "      <td>True</td>\n",
              "    </tr>\n",
              "    <tr>\n",
              "      <th>25832</th>\n",
              "      <td>MAMADOU DIOULDE DIALLO</td>\n",
              "      <td>1849.0</td>\n",
              "      <td>GA</td>\n",
              "      <td>7000 Roswell Rd Apt 252</td>\n",
              "      <td>Atlanta</td>\n",
              "      <td>30328-2389</td>\n",
              "      <td>485310.0</td>\n",
              "      <td>Independent Contractors</td>\n",
              "      <td>1.0</td>\n",
              "      <td>2021-05-21 00:00:00</td>\n",
              "      <td>...</td>\n",
              "      <td>GA</td>\n",
              "      <td>30328-2389</td>\n",
              "      <td>Bedford</td>\n",
              "      <td>TX</td>\n",
              "      <td>2021-05-21 00:00:00</td>\n",
              "      <td>529472.0</td>\n",
              "      <td>N</td>\n",
              "      <td>NaN</td>\n",
              "      <td>NaN</td>\n",
              "      <td>True</td>\n",
              "    </tr>\n",
              "    <tr>\n",
              "      <th>25833</th>\n",
              "      <td>ANTHONY HARRIS</td>\n",
              "      <td>1245.0</td>\n",
              "      <td>GA</td>\n",
              "      <td>2849 Blount St</td>\n",
              "      <td>Atlanta</td>\n",
              "      <td>30344-3732</td>\n",
              "      <td>485310.0</td>\n",
              "      <td>Independent Contractors</td>\n",
              "      <td>1.0</td>\n",
              "      <td>2021-04-08 00:00:00</td>\n",
              "      <td>...</td>\n",
              "      <td>GA</td>\n",
              "      <td>30344-3732</td>\n",
              "      <td>Bedford</td>\n",
              "      <td>TX</td>\n",
              "      <td>2021-04-08 00:00:00</td>\n",
              "      <td>529472.0</td>\n",
              "      <td>Y</td>\n",
              "      <td>NaN</td>\n",
              "      <td>NaN</td>\n",
              "      <td>True</td>\n",
              "    </tr>\n",
              "    <tr>\n",
              "      <th>25834</th>\n",
              "      <td>TAAHIRA ROBINSON</td>\n",
              "      <td>1075.0</td>\n",
              "      <td>GA</td>\n",
              "      <td>8541 Glendevon Ct</td>\n",
              "      <td>Riverdale</td>\n",
              "      <td>30274-4573</td>\n",
              "      <td>561110.0</td>\n",
              "      <td>Limited  Liability Company(LLC)</td>\n",
              "      <td>1.0</td>\n",
              "      <td>2021-05-11 00:00:00</td>\n",
              "      <td>...</td>\n",
              "      <td>GA</td>\n",
              "      <td>30274-4573</td>\n",
              "      <td>Miami</td>\n",
              "      <td>FL</td>\n",
              "      <td>2021-05-11 00:00:00</td>\n",
              "      <td>529192.0</td>\n",
              "      <td>Y</td>\n",
              "      <td>NaN</td>\n",
              "      <td>NaN</td>\n",
              "      <td>True</td>\n",
              "    </tr>\n",
              "    <tr>\n",
              "      <th>25835</th>\n",
              "      <td>ERICA FERNANDEZ</td>\n",
              "      <td>787.0</td>\n",
              "      <td>GA</td>\n",
              "      <td>406 Nova Cir</td>\n",
              "      <td>Stockbridge</td>\n",
              "      <td>30281-3750</td>\n",
              "      <td>561720.0</td>\n",
              "      <td>Independent Contractors</td>\n",
              "      <td>1.0</td>\n",
              "      <td>2021-05-23 00:00:00</td>\n",
              "      <td>...</td>\n",
              "      <td>GA</td>\n",
              "      <td>30281-3750</td>\n",
              "      <td>Bedford</td>\n",
              "      <td>TX</td>\n",
              "      <td>2021-05-23 00:00:00</td>\n",
              "      <td>529472.0</td>\n",
              "      <td>Y</td>\n",
              "      <td>NaN</td>\n",
              "      <td>NaN</td>\n",
              "      <td>True</td>\n",
              "    </tr>\n",
              "  </tbody>\n",
              "</table>\n",
              "<p>579664 rows × 42 columns</p>\n",
              "</div>\n",
              "      <button class=\"colab-df-convert\" onclick=\"convertToInteractive('df-77f8cefe-8722-44b5-bbfc-ac25d7b1cebf')\"\n",
              "              title=\"Convert this dataframe to an interactive table.\"\n",
              "              style=\"display:none;\">\n",
              "        \n",
              "  <svg xmlns=\"http://www.w3.org/2000/svg\" height=\"24px\"viewBox=\"0 0 24 24\"\n",
              "       width=\"24px\">\n",
              "    <path d=\"M0 0h24v24H0V0z\" fill=\"none\"/>\n",
              "    <path d=\"M18.56 5.44l.94 2.06.94-2.06 2.06-.94-2.06-.94-.94-2.06-.94 2.06-2.06.94zm-11 1L8.5 8.5l.94-2.06 2.06-.94-2.06-.94L8.5 2.5l-.94 2.06-2.06.94zm10 10l.94 2.06.94-2.06 2.06-.94-2.06-.94-.94-2.06-.94 2.06-2.06.94z\"/><path d=\"M17.41 7.96l-1.37-1.37c-.4-.4-.92-.59-1.43-.59-.52 0-1.04.2-1.43.59L10.3 9.45l-7.72 7.72c-.78.78-.78 2.05 0 2.83L4 21.41c.39.39.9.59 1.41.59.51 0 1.02-.2 1.41-.59l7.78-7.78 2.81-2.81c.8-.78.8-2.07 0-2.86zM5.41 20L4 18.59l7.72-7.72 1.47 1.35L5.41 20z\"/>\n",
              "  </svg>\n",
              "      </button>\n",
              "      \n",
              "  <style>\n",
              "    .colab-df-container {\n",
              "      display:flex;\n",
              "      flex-wrap:wrap;\n",
              "      gap: 12px;\n",
              "    }\n",
              "\n",
              "    .colab-df-convert {\n",
              "      background-color: #E8F0FE;\n",
              "      border: none;\n",
              "      border-radius: 50%;\n",
              "      cursor: pointer;\n",
              "      display: none;\n",
              "      fill: #1967D2;\n",
              "      height: 32px;\n",
              "      padding: 0 0 0 0;\n",
              "      width: 32px;\n",
              "    }\n",
              "\n",
              "    .colab-df-convert:hover {\n",
              "      background-color: #E2EBFA;\n",
              "      box-shadow: 0px 1px 2px rgba(60, 64, 67, 0.3), 0px 1px 3px 1px rgba(60, 64, 67, 0.15);\n",
              "      fill: #174EA6;\n",
              "    }\n",
              "\n",
              "    [theme=dark] .colab-df-convert {\n",
              "      background-color: #3B4455;\n",
              "      fill: #D2E3FC;\n",
              "    }\n",
              "\n",
              "    [theme=dark] .colab-df-convert:hover {\n",
              "      background-color: #434B5C;\n",
              "      box-shadow: 0px 1px 3px 1px rgba(0, 0, 0, 0.15);\n",
              "      filter: drop-shadow(0px 1px 2px rgba(0, 0, 0, 0.3));\n",
              "      fill: #FFFFFF;\n",
              "    }\n",
              "  </style>\n",
              "\n",
              "      <script>\n",
              "        const buttonEl =\n",
              "          document.querySelector('#df-77f8cefe-8722-44b5-bbfc-ac25d7b1cebf button.colab-df-convert');\n",
              "        buttonEl.style.display =\n",
              "          google.colab.kernel.accessAllowed ? 'block' : 'none';\n",
              "\n",
              "        async function convertToInteractive(key) {\n",
              "          const element = document.querySelector('#df-77f8cefe-8722-44b5-bbfc-ac25d7b1cebf');\n",
              "          const dataTable =\n",
              "            await google.colab.kernel.invokeFunction('convertToInteractive',\n",
              "                                                     [key], {});\n",
              "          if (!dataTable) return;\n",
              "\n",
              "          const docLinkHtml = 'Like what you see? Visit the ' +\n",
              "            '<a target=\"_blank\" href=https://colab.research.google.com/notebooks/data_table.ipynb>data table notebook</a>'\n",
              "            + ' to learn more about interactive tables.';\n",
              "          element.innerHTML = '';\n",
              "          dataTable['output_type'] = 'display_data';\n",
              "          await google.colab.output.renderOutput(dataTable, element);\n",
              "          const docLink = document.createElement('div');\n",
              "          docLink.innerHTML = docLinkHtml;\n",
              "          element.appendChild(docLink);\n",
              "        }\n",
              "      </script>\n",
              "    </div>\n",
              "  </div>\n",
              "  "
            ],
            "text/plain": [
              "                                name     amount state  \\\n",
              "0                 LUMMUS CORPORATION  2000000.0    GA   \n",
              "1             COLIANT SOLUTIONS INC.  1294555.0    GA   \n",
              "2                  YOHE PLUMBING INC   729509.0    GA   \n",
              "3      LEWIS COLOR LITHOGRAPHERS INC   571193.4    GA   \n",
              "4        ALMA PAK INTERNATIONAL, LLC   472700.0    GA   \n",
              "...                              ...        ...   ...   \n",
              "25831                 DONNELL WILSON     1950.0    GA   \n",
              "25832         MAMADOU DIOULDE DIALLO     1849.0    GA   \n",
              "25833                 ANTHONY HARRIS     1245.0    GA   \n",
              "25834               TAAHIRA ROBINSON     1075.0    GA   \n",
              "25835                ERICA FERNANDEZ      787.0    GA   \n",
              "\n",
              "                       address         city         zip  naics_code  \\\n",
              "0              225 Bourne Blvd     Savannah  31408-9586    333249.0   \n",
              "1       2703 Brickton North Dr       Buford  30518-9101    541519.0   \n",
              "2        1120 Franke Court N/A      Augusta       30909    238220.0   \n",
              "3          30 Joe Kennedy Blvd   Statesboro  30458-3417    323111.0   \n",
              "4              230 PINEVIEW RD         ALMA  31510-4326    445230.0   \n",
              "...                        ...          ...         ...         ...   \n",
              "25831            1000 Paces Ln    Woodstock  30189-4829    621511.0   \n",
              "25832  7000 Roswell Rd Apt 252      Atlanta  30328-2389    485310.0   \n",
              "25833           2849 Blount St      Atlanta  30344-3732    485310.0   \n",
              "25834        8541 Glendevon Ct    Riverdale  30274-4573    561110.0   \n",
              "25835             406 Nova Cir  Stockbridge  30281-3750    561720.0   \n",
              "\n",
              "                         business_type  jobs_retained        date_approved  \\\n",
              "0                          Corporation          294.0           2021-02-20   \n",
              "1                          Corporation           63.0           2021-01-31   \n",
              "2                          Corporation          105.0           2021-03-12   \n",
              "3                          Corporation           49.0           2021-02-02   \n",
              "4                          Partnership           37.0           2020-04-10   \n",
              "...                                ...            ...                  ...   \n",
              "25831              Sole Proprietorship            1.0  2021-04-01 00:00:00   \n",
              "25832          Independent Contractors            1.0  2021-05-21 00:00:00   \n",
              "25833          Independent Contractors            1.0  2021-04-08 00:00:00   \n",
              "25834  Limited  Liability Company(LLC)            1.0  2021-05-11 00:00:00   \n",
              "25835          Independent Contractors            1.0  2021-05-23 00:00:00   \n",
              "\n",
              "       ... project_state project_zip  originating_lender_city  \\\n",
              "0      ...            GA  31408-9586                  CHICAGO   \n",
              "1      ...            GA  30518-9101                 COLUMBUS   \n",
              "2      ...            GA       30909             PHOENIXVILLE   \n",
              "3      ...            GA  30458-3417                 COLUMBUS   \n",
              "4      ...            GA  31510-4326                     ALMA   \n",
              "...    ...           ...         ...                      ...   \n",
              "25831  ...            GA  30189-4829             Laguna Hills   \n",
              "25832  ...            GA  30328-2389                  Bedford   \n",
              "25833  ...            GA  30344-3732                  Bedford   \n",
              "25834  ...            GA  30274-4573                    Miami   \n",
              "25835  ...            GA  30281-3750                  Bedford   \n",
              "\n",
              "       originating_lender_state     loan_status_date  \\\n",
              "0                            IL                  NaN   \n",
              "1                            GA                  NaN   \n",
              "2                            PA                  NaN   \n",
              "3                            GA                  NaN   \n",
              "4                            GA           2021-01-08   \n",
              "...                         ...                  ...   \n",
              "25831                        CA  2021-04-01 00:00:00   \n",
              "25832                        TX  2021-05-21 00:00:00   \n",
              "25833                        TX  2021-04-08 00:00:00   \n",
              "25834                        FL  2021-05-11 00:00:00   \n",
              "25835                        TX  2021-05-23 00:00:00   \n",
              "\n",
              "      originating_lender_location_id  lmi_indicator  forgiveness_amount  \\\n",
              "0                           116998.0              N                 NaN   \n",
              "1                            19248.0              Y                 NaN   \n",
              "2                           121536.0              N                 NaN   \n",
              "3                            19248.0              N                 NaN   \n",
              "4                            17811.0              N           475877.59   \n",
              "...                              ...            ...                 ...   \n",
              "25831                       509316.0              N                 NaN   \n",
              "25832                       529472.0              N                 NaN   \n",
              "25833                       529472.0              Y                 NaN   \n",
              "25834                       529192.0              Y                 NaN   \n",
              "25835                       529472.0              Y                 NaN   \n",
              "\n",
              "       forgiveness_date  Removed  \n",
              "0                   NaN      NaN  \n",
              "1                   NaN      NaN  \n",
              "2                   NaN      NaN  \n",
              "3                   NaN      NaN  \n",
              "4            2020-12-15      NaN  \n",
              "...                 ...      ...  \n",
              "25831               NaN     True  \n",
              "25832               NaN     True  \n",
              "25833               NaN     True  \n",
              "25834               NaN     True  \n",
              "25835               NaN     True  \n",
              "\n",
              "[579664 rows x 42 columns]"
            ]
          },
          "execution_count": 16,
          "metadata": {},
          "output_type": "execute_result"
        }
      ],
      "source": [
        "combined_data"
      ]
    },
    {
      "cell_type": "code",
      "execution_count": null,
      "metadata": {
        "colab": {
          "base_uri": "https://localhost:8080/"
        },
        "id": "KUDiDwcCUCxb",
        "outputId": "4273d215-eaff-4fa2-9c6d-658af119fd86"
      },
      "outputs": [
        {
          "data": {
            "text/plain": [
              "True    25836\n",
              "Name: Removed, dtype: int64"
            ]
          },
          "execution_count": 17,
          "metadata": {},
          "output_type": "execute_result"
        }
      ],
      "source": [
        "combined_data['Removed'].value_counts()"
      ]
    },
    {
      "cell_type": "code",
      "execution_count": null,
      "metadata": {
        "id": "7UVkckmfALrn"
      },
      "outputs": [],
      "source": [
        "combined_data['Removed'].fillna(False,inplace=True)"
      ]
    },
    {
      "cell_type": "code",
      "execution_count": null,
      "metadata": {
        "colab": {
          "base_uri": "https://localhost:8080/"
        },
        "id": "TDN-EQc6JFtH",
        "outputId": "b30c63eb-eff6-4f18-e5db-b41bab2315cb"
      },
      "outputs": [
        {
          "data": {
            "text/plain": [
              "False    553828\n",
              "True      25836\n",
              "Name: Removed, dtype: int64"
            ]
          },
          "execution_count": 19,
          "metadata": {},
          "output_type": "execute_result"
        }
      ],
      "source": [
        "combined_data['Removed'].value_counts()"
      ]
    },
    {
      "cell_type": "code",
      "execution_count": null,
      "metadata": {
        "id": "9f4jfm1RANbz"
      },
      "outputs": [],
      "source": [
        "combined_data=combined_data.reset_index()"
      ]
    },
    {
      "cell_type": "code",
      "execution_count": null,
      "metadata": {
        "colab": {
          "base_uri": "https://localhost:8080/",
          "height": 35
        },
        "id": "Rs_f5XchduRB",
        "outputId": "097d8586-d752-4be4-8a8d-a181e09a6321"
      },
      "outputs": [
        {
          "data": {
            "application/vnd.google.colaboratory.intrinsic+json": {
              "type": "string"
            },
            "text/plain": [
              "'index'"
            ]
          },
          "execution_count": 21,
          "metadata": {},
          "output_type": "execute_result"
        }
      ],
      "source": [
        "combined_data.columns[0]"
      ]
    },
    {
      "cell_type": "code",
      "execution_count": null,
      "metadata": {
        "colab": {
          "base_uri": "https://localhost:8080/",
          "height": 800
        },
        "id": "8V7rWtZyAPoH",
        "outputId": "a4513253-3724-48e3-b285-fd8bf736cd88"
      },
      "outputs": [
        {
          "data": {
            "text/html": [
              "\n",
              "  <div id=\"df-8c344809-55e7-4a45-944f-02004481062f\">\n",
              "    <div class=\"colab-df-container\">\n",
              "      <div>\n",
              "<style scoped>\n",
              "    .dataframe tbody tr th:only-of-type {\n",
              "        vertical-align: middle;\n",
              "    }\n",
              "\n",
              "    .dataframe tbody tr th {\n",
              "        vertical-align: top;\n",
              "    }\n",
              "\n",
              "    .dataframe thead th {\n",
              "        text-align: right;\n",
              "    }\n",
              "</style>\n",
              "<table border=\"1\" class=\"dataframe\">\n",
              "  <thead>\n",
              "    <tr style=\"text-align: right;\">\n",
              "      <th></th>\n",
              "      <th>name</th>\n",
              "      <th>amount</th>\n",
              "      <th>state</th>\n",
              "      <th>address</th>\n",
              "      <th>city</th>\n",
              "      <th>zip</th>\n",
              "      <th>naics_code</th>\n",
              "      <th>business_type</th>\n",
              "      <th>jobs_retained</th>\n",
              "      <th>date_approved</th>\n",
              "      <th>...</th>\n",
              "      <th>project_state</th>\n",
              "      <th>project_zip</th>\n",
              "      <th>originating_lender_city</th>\n",
              "      <th>originating_lender_state</th>\n",
              "      <th>loan_status_date</th>\n",
              "      <th>originating_lender_location_id</th>\n",
              "      <th>lmi_indicator</th>\n",
              "      <th>forgiveness_amount</th>\n",
              "      <th>forgiveness_date</th>\n",
              "      <th>Removed</th>\n",
              "    </tr>\n",
              "  </thead>\n",
              "  <tbody>\n",
              "    <tr>\n",
              "      <th>0</th>\n",
              "      <td>LUMMUS CORPORATION</td>\n",
              "      <td>2000000.0</td>\n",
              "      <td>GA</td>\n",
              "      <td>225 Bourne Blvd</td>\n",
              "      <td>Savannah</td>\n",
              "      <td>31408-9586</td>\n",
              "      <td>333249.0</td>\n",
              "      <td>Corporation</td>\n",
              "      <td>294.0</td>\n",
              "      <td>2021-02-20</td>\n",
              "      <td>...</td>\n",
              "      <td>GA</td>\n",
              "      <td>31408-9586</td>\n",
              "      <td>CHICAGO</td>\n",
              "      <td>IL</td>\n",
              "      <td>NaN</td>\n",
              "      <td>116998.0</td>\n",
              "      <td>N</td>\n",
              "      <td>NaN</td>\n",
              "      <td>NaN</td>\n",
              "      <td>False</td>\n",
              "    </tr>\n",
              "    <tr>\n",
              "      <th>1</th>\n",
              "      <td>COLIANT SOLUTIONS INC.</td>\n",
              "      <td>1294555.0</td>\n",
              "      <td>GA</td>\n",
              "      <td>2703 Brickton North Dr</td>\n",
              "      <td>Buford</td>\n",
              "      <td>30518-9101</td>\n",
              "      <td>541519.0</td>\n",
              "      <td>Corporation</td>\n",
              "      <td>63.0</td>\n",
              "      <td>2021-01-31</td>\n",
              "      <td>...</td>\n",
              "      <td>GA</td>\n",
              "      <td>30518-9101</td>\n",
              "      <td>COLUMBUS</td>\n",
              "      <td>GA</td>\n",
              "      <td>NaN</td>\n",
              "      <td>19248.0</td>\n",
              "      <td>Y</td>\n",
              "      <td>NaN</td>\n",
              "      <td>NaN</td>\n",
              "      <td>False</td>\n",
              "    </tr>\n",
              "    <tr>\n",
              "      <th>2</th>\n",
              "      <td>YOHE PLUMBING INC</td>\n",
              "      <td>729509.0</td>\n",
              "      <td>GA</td>\n",
              "      <td>1120 Franke Court N/A</td>\n",
              "      <td>Augusta</td>\n",
              "      <td>30909</td>\n",
              "      <td>238220.0</td>\n",
              "      <td>Corporation</td>\n",
              "      <td>105.0</td>\n",
              "      <td>2021-03-12</td>\n",
              "      <td>...</td>\n",
              "      <td>GA</td>\n",
              "      <td>30909</td>\n",
              "      <td>PHOENIXVILLE</td>\n",
              "      <td>PA</td>\n",
              "      <td>NaN</td>\n",
              "      <td>121536.0</td>\n",
              "      <td>N</td>\n",
              "      <td>NaN</td>\n",
              "      <td>NaN</td>\n",
              "      <td>False</td>\n",
              "    </tr>\n",
              "    <tr>\n",
              "      <th>3</th>\n",
              "      <td>LEWIS COLOR LITHOGRAPHERS INC</td>\n",
              "      <td>571193.4</td>\n",
              "      <td>GA</td>\n",
              "      <td>30 Joe Kennedy Blvd</td>\n",
              "      <td>Statesboro</td>\n",
              "      <td>30458-3417</td>\n",
              "      <td>323111.0</td>\n",
              "      <td>Corporation</td>\n",
              "      <td>49.0</td>\n",
              "      <td>2021-02-02</td>\n",
              "      <td>...</td>\n",
              "      <td>GA</td>\n",
              "      <td>30458-3417</td>\n",
              "      <td>COLUMBUS</td>\n",
              "      <td>GA</td>\n",
              "      <td>NaN</td>\n",
              "      <td>19248.0</td>\n",
              "      <td>N</td>\n",
              "      <td>NaN</td>\n",
              "      <td>NaN</td>\n",
              "      <td>False</td>\n",
              "    </tr>\n",
              "    <tr>\n",
              "      <th>4</th>\n",
              "      <td>ALMA PAK INTERNATIONAL, LLC</td>\n",
              "      <td>472700.0</td>\n",
              "      <td>GA</td>\n",
              "      <td>230 PINEVIEW RD</td>\n",
              "      <td>ALMA</td>\n",
              "      <td>31510-4326</td>\n",
              "      <td>445230.0</td>\n",
              "      <td>Partnership</td>\n",
              "      <td>37.0</td>\n",
              "      <td>2020-04-10</td>\n",
              "      <td>...</td>\n",
              "      <td>GA</td>\n",
              "      <td>31510-4326</td>\n",
              "      <td>ALMA</td>\n",
              "      <td>GA</td>\n",
              "      <td>2021-01-08</td>\n",
              "      <td>17811.0</td>\n",
              "      <td>N</td>\n",
              "      <td>475877.59</td>\n",
              "      <td>2020-12-15</td>\n",
              "      <td>False</td>\n",
              "    </tr>\n",
              "    <tr>\n",
              "      <th>...</th>\n",
              "      <td>...</td>\n",
              "      <td>...</td>\n",
              "      <td>...</td>\n",
              "      <td>...</td>\n",
              "      <td>...</td>\n",
              "      <td>...</td>\n",
              "      <td>...</td>\n",
              "      <td>...</td>\n",
              "      <td>...</td>\n",
              "      <td>...</td>\n",
              "      <td>...</td>\n",
              "      <td>...</td>\n",
              "      <td>...</td>\n",
              "      <td>...</td>\n",
              "      <td>...</td>\n",
              "      <td>...</td>\n",
              "      <td>...</td>\n",
              "      <td>...</td>\n",
              "      <td>...</td>\n",
              "      <td>...</td>\n",
              "      <td>...</td>\n",
              "    </tr>\n",
              "    <tr>\n",
              "      <th>579659</th>\n",
              "      <td>DONNELL WILSON</td>\n",
              "      <td>1950.0</td>\n",
              "      <td>GA</td>\n",
              "      <td>1000 Paces Ln</td>\n",
              "      <td>Woodstock</td>\n",
              "      <td>30189-4829</td>\n",
              "      <td>621511.0</td>\n",
              "      <td>Sole Proprietorship</td>\n",
              "      <td>1.0</td>\n",
              "      <td>2021-04-01 00:00:00</td>\n",
              "      <td>...</td>\n",
              "      <td>GA</td>\n",
              "      <td>30189-4829</td>\n",
              "      <td>Laguna Hills</td>\n",
              "      <td>CA</td>\n",
              "      <td>2021-04-01 00:00:00</td>\n",
              "      <td>509316.0</td>\n",
              "      <td>N</td>\n",
              "      <td>NaN</td>\n",
              "      <td>NaN</td>\n",
              "      <td>True</td>\n",
              "    </tr>\n",
              "    <tr>\n",
              "      <th>579660</th>\n",
              "      <td>MAMADOU DIOULDE DIALLO</td>\n",
              "      <td>1849.0</td>\n",
              "      <td>GA</td>\n",
              "      <td>7000 Roswell Rd Apt 252</td>\n",
              "      <td>Atlanta</td>\n",
              "      <td>30328-2389</td>\n",
              "      <td>485310.0</td>\n",
              "      <td>Independent Contractors</td>\n",
              "      <td>1.0</td>\n",
              "      <td>2021-05-21 00:00:00</td>\n",
              "      <td>...</td>\n",
              "      <td>GA</td>\n",
              "      <td>30328-2389</td>\n",
              "      <td>Bedford</td>\n",
              "      <td>TX</td>\n",
              "      <td>2021-05-21 00:00:00</td>\n",
              "      <td>529472.0</td>\n",
              "      <td>N</td>\n",
              "      <td>NaN</td>\n",
              "      <td>NaN</td>\n",
              "      <td>True</td>\n",
              "    </tr>\n",
              "    <tr>\n",
              "      <th>579661</th>\n",
              "      <td>ANTHONY HARRIS</td>\n",
              "      <td>1245.0</td>\n",
              "      <td>GA</td>\n",
              "      <td>2849 Blount St</td>\n",
              "      <td>Atlanta</td>\n",
              "      <td>30344-3732</td>\n",
              "      <td>485310.0</td>\n",
              "      <td>Independent Contractors</td>\n",
              "      <td>1.0</td>\n",
              "      <td>2021-04-08 00:00:00</td>\n",
              "      <td>...</td>\n",
              "      <td>GA</td>\n",
              "      <td>30344-3732</td>\n",
              "      <td>Bedford</td>\n",
              "      <td>TX</td>\n",
              "      <td>2021-04-08 00:00:00</td>\n",
              "      <td>529472.0</td>\n",
              "      <td>Y</td>\n",
              "      <td>NaN</td>\n",
              "      <td>NaN</td>\n",
              "      <td>True</td>\n",
              "    </tr>\n",
              "    <tr>\n",
              "      <th>579662</th>\n",
              "      <td>TAAHIRA ROBINSON</td>\n",
              "      <td>1075.0</td>\n",
              "      <td>GA</td>\n",
              "      <td>8541 Glendevon Ct</td>\n",
              "      <td>Riverdale</td>\n",
              "      <td>30274-4573</td>\n",
              "      <td>561110.0</td>\n",
              "      <td>Limited  Liability Company(LLC)</td>\n",
              "      <td>1.0</td>\n",
              "      <td>2021-05-11 00:00:00</td>\n",
              "      <td>...</td>\n",
              "      <td>GA</td>\n",
              "      <td>30274-4573</td>\n",
              "      <td>Miami</td>\n",
              "      <td>FL</td>\n",
              "      <td>2021-05-11 00:00:00</td>\n",
              "      <td>529192.0</td>\n",
              "      <td>Y</td>\n",
              "      <td>NaN</td>\n",
              "      <td>NaN</td>\n",
              "      <td>True</td>\n",
              "    </tr>\n",
              "    <tr>\n",
              "      <th>579663</th>\n",
              "      <td>ERICA FERNANDEZ</td>\n",
              "      <td>787.0</td>\n",
              "      <td>GA</td>\n",
              "      <td>406 Nova Cir</td>\n",
              "      <td>Stockbridge</td>\n",
              "      <td>30281-3750</td>\n",
              "      <td>561720.0</td>\n",
              "      <td>Independent Contractors</td>\n",
              "      <td>1.0</td>\n",
              "      <td>2021-05-23 00:00:00</td>\n",
              "      <td>...</td>\n",
              "      <td>GA</td>\n",
              "      <td>30281-3750</td>\n",
              "      <td>Bedford</td>\n",
              "      <td>TX</td>\n",
              "      <td>2021-05-23 00:00:00</td>\n",
              "      <td>529472.0</td>\n",
              "      <td>Y</td>\n",
              "      <td>NaN</td>\n",
              "      <td>NaN</td>\n",
              "      <td>True</td>\n",
              "    </tr>\n",
              "  </tbody>\n",
              "</table>\n",
              "<p>579664 rows × 42 columns</p>\n",
              "</div>\n",
              "      <button class=\"colab-df-convert\" onclick=\"convertToInteractive('df-8c344809-55e7-4a45-944f-02004481062f')\"\n",
              "              title=\"Convert this dataframe to an interactive table.\"\n",
              "              style=\"display:none;\">\n",
              "        \n",
              "  <svg xmlns=\"http://www.w3.org/2000/svg\" height=\"24px\"viewBox=\"0 0 24 24\"\n",
              "       width=\"24px\">\n",
              "    <path d=\"M0 0h24v24H0V0z\" fill=\"none\"/>\n",
              "    <path d=\"M18.56 5.44l.94 2.06.94-2.06 2.06-.94-2.06-.94-.94-2.06-.94 2.06-2.06.94zm-11 1L8.5 8.5l.94-2.06 2.06-.94-2.06-.94L8.5 2.5l-.94 2.06-2.06.94zm10 10l.94 2.06.94-2.06 2.06-.94-2.06-.94-.94-2.06-.94 2.06-2.06.94z\"/><path d=\"M17.41 7.96l-1.37-1.37c-.4-.4-.92-.59-1.43-.59-.52 0-1.04.2-1.43.59L10.3 9.45l-7.72 7.72c-.78.78-.78 2.05 0 2.83L4 21.41c.39.39.9.59 1.41.59.51 0 1.02-.2 1.41-.59l7.78-7.78 2.81-2.81c.8-.78.8-2.07 0-2.86zM5.41 20L4 18.59l7.72-7.72 1.47 1.35L5.41 20z\"/>\n",
              "  </svg>\n",
              "      </button>\n",
              "      \n",
              "  <style>\n",
              "    .colab-df-container {\n",
              "      display:flex;\n",
              "      flex-wrap:wrap;\n",
              "      gap: 12px;\n",
              "    }\n",
              "\n",
              "    .colab-df-convert {\n",
              "      background-color: #E8F0FE;\n",
              "      border: none;\n",
              "      border-radius: 50%;\n",
              "      cursor: pointer;\n",
              "      display: none;\n",
              "      fill: #1967D2;\n",
              "      height: 32px;\n",
              "      padding: 0 0 0 0;\n",
              "      width: 32px;\n",
              "    }\n",
              "\n",
              "    .colab-df-convert:hover {\n",
              "      background-color: #E2EBFA;\n",
              "      box-shadow: 0px 1px 2px rgba(60, 64, 67, 0.3), 0px 1px 3px 1px rgba(60, 64, 67, 0.15);\n",
              "      fill: #174EA6;\n",
              "    }\n",
              "\n",
              "    [theme=dark] .colab-df-convert {\n",
              "      background-color: #3B4455;\n",
              "      fill: #D2E3FC;\n",
              "    }\n",
              "\n",
              "    [theme=dark] .colab-df-convert:hover {\n",
              "      background-color: #434B5C;\n",
              "      box-shadow: 0px 1px 3px 1px rgba(0, 0, 0, 0.15);\n",
              "      filter: drop-shadow(0px 1px 2px rgba(0, 0, 0, 0.3));\n",
              "      fill: #FFFFFF;\n",
              "    }\n",
              "  </style>\n",
              "\n",
              "      <script>\n",
              "        const buttonEl =\n",
              "          document.querySelector('#df-8c344809-55e7-4a45-944f-02004481062f button.colab-df-convert');\n",
              "        buttonEl.style.display =\n",
              "          google.colab.kernel.accessAllowed ? 'block' : 'none';\n",
              "\n",
              "        async function convertToInteractive(key) {\n",
              "          const element = document.querySelector('#df-8c344809-55e7-4a45-944f-02004481062f');\n",
              "          const dataTable =\n",
              "            await google.colab.kernel.invokeFunction('convertToInteractive',\n",
              "                                                     [key], {});\n",
              "          if (!dataTable) return;\n",
              "\n",
              "          const docLinkHtml = 'Like what you see? Visit the ' +\n",
              "            '<a target=\"_blank\" href=https://colab.research.google.com/notebooks/data_table.ipynb>data table notebook</a>'\n",
              "            + ' to learn more about interactive tables.';\n",
              "          element.innerHTML = '';\n",
              "          dataTable['output_type'] = 'display_data';\n",
              "          await google.colab.output.renderOutput(dataTable, element);\n",
              "          const docLink = document.createElement('div');\n",
              "          docLink.innerHTML = docLinkHtml;\n",
              "          element.appendChild(docLink);\n",
              "        }\n",
              "      </script>\n",
              "    </div>\n",
              "  </div>\n",
              "  "
            ],
            "text/plain": [
              "                                 name     amount state  \\\n",
              "0                  LUMMUS CORPORATION  2000000.0    GA   \n",
              "1              COLIANT SOLUTIONS INC.  1294555.0    GA   \n",
              "2                   YOHE PLUMBING INC   729509.0    GA   \n",
              "3       LEWIS COLOR LITHOGRAPHERS INC   571193.4    GA   \n",
              "4         ALMA PAK INTERNATIONAL, LLC   472700.0    GA   \n",
              "...                               ...        ...   ...   \n",
              "579659                 DONNELL WILSON     1950.0    GA   \n",
              "579660         MAMADOU DIOULDE DIALLO     1849.0    GA   \n",
              "579661                 ANTHONY HARRIS     1245.0    GA   \n",
              "579662               TAAHIRA ROBINSON     1075.0    GA   \n",
              "579663                ERICA FERNANDEZ      787.0    GA   \n",
              "\n",
              "                        address         city         zip  naics_code  \\\n",
              "0               225 Bourne Blvd     Savannah  31408-9586    333249.0   \n",
              "1        2703 Brickton North Dr       Buford  30518-9101    541519.0   \n",
              "2         1120 Franke Court N/A      Augusta       30909    238220.0   \n",
              "3           30 Joe Kennedy Blvd   Statesboro  30458-3417    323111.0   \n",
              "4               230 PINEVIEW RD         ALMA  31510-4326    445230.0   \n",
              "...                         ...          ...         ...         ...   \n",
              "579659            1000 Paces Ln    Woodstock  30189-4829    621511.0   \n",
              "579660  7000 Roswell Rd Apt 252      Atlanta  30328-2389    485310.0   \n",
              "579661           2849 Blount St      Atlanta  30344-3732    485310.0   \n",
              "579662        8541 Glendevon Ct    Riverdale  30274-4573    561110.0   \n",
              "579663             406 Nova Cir  Stockbridge  30281-3750    561720.0   \n",
              "\n",
              "                          business_type  jobs_retained        date_approved  \\\n",
              "0                           Corporation          294.0           2021-02-20   \n",
              "1                           Corporation           63.0           2021-01-31   \n",
              "2                           Corporation          105.0           2021-03-12   \n",
              "3                           Corporation           49.0           2021-02-02   \n",
              "4                           Partnership           37.0           2020-04-10   \n",
              "...                                 ...            ...                  ...   \n",
              "579659              Sole Proprietorship            1.0  2021-04-01 00:00:00   \n",
              "579660          Independent Contractors            1.0  2021-05-21 00:00:00   \n",
              "579661          Independent Contractors            1.0  2021-04-08 00:00:00   \n",
              "579662  Limited  Liability Company(LLC)            1.0  2021-05-11 00:00:00   \n",
              "579663          Independent Contractors            1.0  2021-05-23 00:00:00   \n",
              "\n",
              "        ... project_state project_zip  originating_lender_city  \\\n",
              "0       ...            GA  31408-9586                  CHICAGO   \n",
              "1       ...            GA  30518-9101                 COLUMBUS   \n",
              "2       ...            GA       30909             PHOENIXVILLE   \n",
              "3       ...            GA  30458-3417                 COLUMBUS   \n",
              "4       ...            GA  31510-4326                     ALMA   \n",
              "...     ...           ...         ...                      ...   \n",
              "579659  ...            GA  30189-4829             Laguna Hills   \n",
              "579660  ...            GA  30328-2389                  Bedford   \n",
              "579661  ...            GA  30344-3732                  Bedford   \n",
              "579662  ...            GA  30274-4573                    Miami   \n",
              "579663  ...            GA  30281-3750                  Bedford   \n",
              "\n",
              "        originating_lender_state     loan_status_date  \\\n",
              "0                             IL                  NaN   \n",
              "1                             GA                  NaN   \n",
              "2                             PA                  NaN   \n",
              "3                             GA                  NaN   \n",
              "4                             GA           2021-01-08   \n",
              "...                          ...                  ...   \n",
              "579659                        CA  2021-04-01 00:00:00   \n",
              "579660                        TX  2021-05-21 00:00:00   \n",
              "579661                        TX  2021-04-08 00:00:00   \n",
              "579662                        FL  2021-05-11 00:00:00   \n",
              "579663                        TX  2021-05-23 00:00:00   \n",
              "\n",
              "       originating_lender_location_id  lmi_indicator  forgiveness_amount  \\\n",
              "0                            116998.0              N                 NaN   \n",
              "1                             19248.0              Y                 NaN   \n",
              "2                            121536.0              N                 NaN   \n",
              "3                             19248.0              N                 NaN   \n",
              "4                             17811.0              N           475877.59   \n",
              "...                               ...            ...                 ...   \n",
              "579659                       509316.0              N                 NaN   \n",
              "579660                       529472.0              N                 NaN   \n",
              "579661                       529472.0              Y                 NaN   \n",
              "579662                       529192.0              Y                 NaN   \n",
              "579663                       529472.0              Y                 NaN   \n",
              "\n",
              "        forgiveness_date  Removed  \n",
              "0                    NaN    False  \n",
              "1                    NaN    False  \n",
              "2                    NaN    False  \n",
              "3                    NaN    False  \n",
              "4             2020-12-15    False  \n",
              "...                  ...      ...  \n",
              "579659               NaN     True  \n",
              "579660               NaN     True  \n",
              "579661               NaN     True  \n",
              "579662               NaN     True  \n",
              "579663               NaN     True  \n",
              "\n",
              "[579664 rows x 42 columns]"
            ]
          },
          "execution_count": 22,
          "metadata": {},
          "output_type": "execute_result"
        }
      ],
      "source": [
        "combined_data=combined_data.drop(combined_data.columns[0], axis=1)\n",
        "combined_data"
      ]
    },
    {
      "cell_type": "code",
      "execution_count": null,
      "metadata": {
        "colab": {
          "base_uri": "https://localhost:8080/"
        },
        "id": "SSPBo7eZARRR",
        "outputId": "47b4db4c-2e39-4d2b-8edf-c4976b02d44d"
      },
      "outputs": [
        {
          "data": {
            "text/plain": [
              "Index(['name', 'amount', 'state', 'address', 'city', 'zip', 'naics_code',\n",
              "       'business_type', 'jobs_retained', 'date_approved', 'lender',\n",
              "       'congressional_district', 'loan_number', 'sba_office_code',\n",
              "       'processing_method', 'loan_status', 'term', 'sba_guaranty_percentage',\n",
              "       'initial_approval_amount', 'current_approval_amount',\n",
              "       'undisbursed_amount', 'servicing_lender_location_id',\n",
              "       'servicing_lender_name', 'servicing_lender_address',\n",
              "       'servicing_lender_city', 'servicing_lender_state',\n",
              "       'servicing_lender_zip', 'rural_urban_indicator', 'hubzone_indicator',\n",
              "       'business_age_description', 'project_city', 'project_county_name',\n",
              "       'project_state', 'project_zip', 'originating_lender_city',\n",
              "       'originating_lender_state', 'loan_status_date',\n",
              "       'originating_lender_location_id', 'lmi_indicator', 'forgiveness_amount',\n",
              "       'forgiveness_date', 'Removed'],\n",
              "      dtype='object')"
            ]
          },
          "execution_count": 23,
          "metadata": {},
          "output_type": "execute_result"
        }
      ],
      "source": [
        "combined_data.columns"
      ]
    },
    {
      "cell_type": "markdown",
      "metadata": {
        "id": "a1-ZAGrt-jMe"
      },
      "source": [
        "#### **Numeric variables**"
      ]
    },
    {
      "cell_type": "code",
      "execution_count": null,
      "metadata": {
        "colab": {
          "base_uri": "https://localhost:8080/"
        },
        "id": "cmtBTBYZazre",
        "outputId": "c08bae94-5c56-49dc-d78b-2da80e2ebbdb"
      },
      "outputs": [
        {
          "data": {
            "text/plain": [
              "0"
            ]
          },
          "execution_count": 24,
          "metadata": {},
          "output_type": "execute_result"
        }
      ],
      "source": [
        "combined_data['amount'].isna().sum()"
      ]
    },
    {
      "cell_type": "code",
      "execution_count": null,
      "metadata": {
        "colab": {
          "base_uri": "https://localhost:8080/"
        },
        "id": "rtA78agpbg5n",
        "outputId": "d94c0635-d075-48ff-b368-e8e4b3aaaa98"
      },
      "outputs": [
        {
          "data": {
            "text/plain": [
              "0"
            ]
          },
          "execution_count": 25,
          "metadata": {},
          "output_type": "execute_result"
        }
      ],
      "source": [
        "combined_data['jobs_retained'].isna().sum()"
      ]
    },
    {
      "cell_type": "code",
      "execution_count": null,
      "metadata": {
        "id": "xbD33O2Kdv41"
      },
      "outputs": [],
      "source": [
        "combined_data['amount_per_join']=np.where(combined_data['jobs_retained']>0, (combined_data['amount']/ combined_data['jobs_retained']).round(2), combined_data['amount'])"
      ]
    },
    {
      "cell_type": "code",
      "execution_count": null,
      "metadata": {
        "colab": {
          "base_uri": "https://localhost:8080/"
        },
        "id": "KTFvLSsF-7nV",
        "outputId": "98f64b35-5f5a-461b-d412-a8eab6a474f1"
      },
      "outputs": [
        {
          "data": {
            "text/plain": [
              "0          6802.72\n",
              "1         20548.49\n",
              "2          6947.70\n",
              "3         11657.01\n",
              "4         12775.68\n",
              "            ...   \n",
              "579659     1950.00\n",
              "579660     1849.00\n",
              "579661     1245.00\n",
              "579662     1075.00\n",
              "579663      787.00\n",
              "Name: amount_per_join, Length: 579664, dtype: float64"
            ]
          },
          "execution_count": 27,
          "metadata": {},
          "output_type": "execute_result"
        }
      ],
      "source": [
        "combined_data['amount_per_join']\n"
      ]
    },
    {
      "cell_type": "code",
      "execution_count": null,
      "metadata": {
        "colab": {
          "base_uri": "https://localhost:8080/"
        },
        "id": "tf6F7YhU_Bsc",
        "outputId": "f7cf2b54-8b2f-47ca-cc45-98f6dfcf8d50"
      },
      "outputs": [
        {
          "data": {
            "text/plain": [
              "count    5.796640e+05\n",
              "mean     1.303513e+04\n",
              "std      8.071921e+03\n",
              "min      1.000000e+00\n",
              "25%      5.994840e+03\n",
              "50%      1.321300e+04\n",
              "75%      2.074300e+04\n",
              "max      1.253112e+06\n",
              "Name: amount_per_join, dtype: float64"
            ]
          },
          "execution_count": 28,
          "metadata": {},
          "output_type": "execute_result"
        }
      ],
      "source": [
        "combined_data['amount_per_join'].describe()\n",
        "\n"
      ]
    },
    {
      "cell_type": "code",
      "execution_count": null,
      "metadata": {
        "colab": {
          "base_uri": "https://localhost:8080/"
        },
        "id": "9H8zcK-Xe72K",
        "outputId": "f62bf086-26f6-445a-b50b-da0b6c8dde0a"
      },
      "outputs": [
        {
          "data": {
            "text/plain": [
              "0                  2021-02-20\n",
              "1                  2021-01-31\n",
              "2                  2021-03-12\n",
              "3                  2021-02-02\n",
              "4                  2020-04-10\n",
              "                 ...         \n",
              "579659    2021-04-01 00:00:00\n",
              "579660    2021-05-21 00:00:00\n",
              "579661    2021-04-08 00:00:00\n",
              "579662    2021-05-11 00:00:00\n",
              "579663    2021-05-23 00:00:00\n",
              "Name: date_approved, Length: 579664, dtype: object"
            ]
          },
          "execution_count": 29,
          "metadata": {},
          "output_type": "execute_result"
        }
      ],
      "source": [
        "combined_data['date_approved']"
      ]
    },
    {
      "cell_type": "markdown",
      "metadata": {
        "id": "F7zgcBGdOdH-"
      },
      "source": [
        "#### **Date**"
      ]
    },
    {
      "cell_type": "code",
      "execution_count": null,
      "metadata": {
        "id": "xbpP-e0Dg1JF"
      },
      "outputs": [],
      "source": [
        "combined_data['Date_launched'] = pd.to_datetime(combined_data['date_approved']).dt.date"
      ]
    },
    {
      "cell_type": "code",
      "execution_count": null,
      "metadata": {
        "colab": {
          "base_uri": "https://localhost:8080/"
        },
        "id": "J4QmHcyFouGk",
        "outputId": "e0debc03-1781-4dc4-f520-369cc4612276"
      },
      "outputs": [
        {
          "data": {
            "text/plain": [
              "count         579664\n",
              "unique           237\n",
              "top       2020-05-01\n",
              "freq           22403\n",
              "Name: Date_launched, dtype: object"
            ]
          },
          "execution_count": 31,
          "metadata": {},
          "output_type": "execute_result"
        }
      ],
      "source": [
        "combined_data['Date_launched'].describe()"
      ]
    },
    {
      "cell_type": "code",
      "execution_count": null,
      "metadata": {
        "id": "3zmlPV4CsB2r"
      },
      "outputs": [],
      "source": [
        "combined_data['launched_year'] = pd.DatetimeIndex(combined_data['Date_launched']).year\n",
        "combined_data['launched_month'] = pd.DatetimeIndex(combined_data['Date_launched']).month"
      ]
    },
    {
      "cell_type": "code",
      "execution_count": null,
      "metadata": {
        "colab": {
          "base_uri": "https://localhost:8080/"
        },
        "id": "C5zI6844-vZa",
        "outputId": "a11c98b0-9147-4d4b-8f15-b25b6669515c"
      },
      "outputs": [
        {
          "data": {
            "text/plain": [
              "0"
            ]
          },
          "execution_count": 33,
          "metadata": {},
          "output_type": "execute_result"
        }
      ],
      "source": [
        "combined_data['term'].isna().sum()"
      ]
    },
    {
      "cell_type": "code",
      "execution_count": null,
      "metadata": {
        "colab": {
          "base_uri": "https://localhost:8080/"
        },
        "id": "ge0XUxGf_2Pm",
        "outputId": "a95b6a22-485b-4058-c63d-08dbaaf46ed6"
      },
      "outputs": [
        {
          "data": {
            "text/plain": [
              "count    5.795480e+05\n",
              "mean     8.255126e+02\n",
              "std      1.494828e+04\n",
              "min     -1.035920e+05\n",
              "25%      0.000000e+00\n",
              "50%      0.000000e+00\n",
              "75%      0.000000e+00\n",
              "max      1.000000e+07\n",
              "Name: undisbursed_amount, dtype: float64"
            ]
          },
          "execution_count": 34,
          "metadata": {},
          "output_type": "execute_result"
        }
      ],
      "source": [
        "combined_data['undisbursed_amount'].describe()"
      ]
    },
    {
      "cell_type": "code",
      "execution_count": null,
      "metadata": {
        "id": "QWRlSG878jYd"
      },
      "outputs": [],
      "source": [
        "meanVal = combined_data['undisbursed_amount'].mean()"
      ]
    },
    {
      "cell_type": "code",
      "execution_count": null,
      "metadata": {
        "id": "p_HjtG5C62Ft"
      },
      "outputs": [],
      "source": [
        "combined_data['undisbursed_amount'].fillna(value=meanVal, inplace=True)"
      ]
    },
    {
      "cell_type": "code",
      "execution_count": null,
      "metadata": {
        "id": "TuogOGys_2nW"
      },
      "outputs": [],
      "source": [
        "combined_data['Difference_current_initial_amount']=combined_data['current_approval_amount']-combined_data['initial_approval_amount']\n"
      ]
    },
    {
      "cell_type": "code",
      "execution_count": null,
      "metadata": {
        "colab": {
          "base_uri": "https://localhost:8080/"
        },
        "id": "Z_oJYzJH_2qg",
        "outputId": "4d77373b-5463-4aa8-e2a3-7a913dd5379e"
      },
      "outputs": [
        {
          "name": "stdout",
          "output_type": "stream",
          "text": [
            "                                     amount  jobs_retained  amount_per_join  \\\n",
            "amount                             1.000000       0.819283         0.023514   \n",
            "jobs_retained                      0.819283       1.000000         0.125550   \n",
            "amount_per_join                    0.023514       0.125550         1.000000   \n",
            "term                               0.170683       0.224632         0.294818   \n",
            "undisbursed_amount                 0.068899       0.028251         0.046451   \n",
            "Difference_current_initial_amount  0.008997       0.023807         0.007638   \n",
            "\n",
            "                                       term  undisbursed_amount  \\\n",
            "amount                             0.170683            0.068899   \n",
            "jobs_retained                      0.224632            0.028251   \n",
            "amount_per_join                    0.294818            0.046451   \n",
            "term                               1.000000            0.029909   \n",
            "undisbursed_amount                 0.029909            1.000000   \n",
            "Difference_current_initial_amount  0.014777            0.000494   \n",
            "\n",
            "                                   Difference_current_initial_amount  \n",
            "amount                                                      0.008997  \n",
            "jobs_retained                                               0.023807  \n",
            "amount_per_join                                             0.007638  \n",
            "term                                                        0.014777  \n",
            "undisbursed_amount                                          0.000494  \n",
            "Difference_current_initial_amount                           1.000000  \n"
          ]
        }
      ],
      "source": [
        "numeric_data = pd.DataFrame(combined_data,columns=['amount','jobs_retained','amount_per_join', 'term', 'undisbursed_amount', 'Difference_current_initial_amount'])\n",
        "corrMatrix = numeric_data.corr().abs()\n",
        "\n",
        "print(corrMatrix)"
      ]
    },
    {
      "cell_type": "code",
      "execution_count": null,
      "metadata": {
        "id": "fsdlvKNb_2tZ"
      },
      "outputs": [],
      "source": [
        "\n",
        "upper = corrMatrix.where(np.triu(np.ones(corrMatrix.shape), k=1).astype(np.bool_))\n",
        "\n",
        "to_drop = [column for column in upper.columns if any(upper[column] > 0.5)]\n",
        "\n",
        "\n",
        "numeric_data.drop(to_drop, axis=1, inplace=True)\n"
      ]
    },
    {
      "cell_type": "code",
      "execution_count": null,
      "metadata": {
        "colab": {
          "base_uri": "https://localhost:8080/",
          "height": 424
        },
        "id": "OlrEb5ThOd0E",
        "outputId": "2ff52a4b-007d-4b7d-c928-d9fadd782d98"
      },
      "outputs": [
        {
          "data": {
            "text/html": [
              "\n",
              "  <div id=\"df-87fa31c1-da62-4a7b-8473-2ef71a8852e7\">\n",
              "    <div class=\"colab-df-container\">\n",
              "      <div>\n",
              "<style scoped>\n",
              "    .dataframe tbody tr th:only-of-type {\n",
              "        vertical-align: middle;\n",
              "    }\n",
              "\n",
              "    .dataframe tbody tr th {\n",
              "        vertical-align: top;\n",
              "    }\n",
              "\n",
              "    .dataframe thead th {\n",
              "        text-align: right;\n",
              "    }\n",
              "</style>\n",
              "<table border=\"1\" class=\"dataframe\">\n",
              "  <thead>\n",
              "    <tr style=\"text-align: right;\">\n",
              "      <th></th>\n",
              "      <th>amount</th>\n",
              "      <th>amount_per_join</th>\n",
              "      <th>term</th>\n",
              "      <th>undisbursed_amount</th>\n",
              "      <th>Difference_current_initial_amount</th>\n",
              "    </tr>\n",
              "  </thead>\n",
              "  <tbody>\n",
              "    <tr>\n",
              "      <th>0</th>\n",
              "      <td>2000000.0</td>\n",
              "      <td>6802.72</td>\n",
              "      <td>60.0</td>\n",
              "      <td>0.0</td>\n",
              "      <td>0.0</td>\n",
              "    </tr>\n",
              "    <tr>\n",
              "      <th>1</th>\n",
              "      <td>1294555.0</td>\n",
              "      <td>20548.49</td>\n",
              "      <td>60.0</td>\n",
              "      <td>0.0</td>\n",
              "      <td>0.0</td>\n",
              "    </tr>\n",
              "    <tr>\n",
              "      <th>2</th>\n",
              "      <td>729509.0</td>\n",
              "      <td>6947.70</td>\n",
              "      <td>60.0</td>\n",
              "      <td>0.0</td>\n",
              "      <td>0.0</td>\n",
              "    </tr>\n",
              "    <tr>\n",
              "      <th>3</th>\n",
              "      <td>571193.4</td>\n",
              "      <td>11657.01</td>\n",
              "      <td>60.0</td>\n",
              "      <td>0.0</td>\n",
              "      <td>-0.6</td>\n",
              "    </tr>\n",
              "    <tr>\n",
              "      <th>4</th>\n",
              "      <td>472700.0</td>\n",
              "      <td>12775.68</td>\n",
              "      <td>24.0</td>\n",
              "      <td>0.0</td>\n",
              "      <td>0.0</td>\n",
              "    </tr>\n",
              "    <tr>\n",
              "      <th>...</th>\n",
              "      <td>...</td>\n",
              "      <td>...</td>\n",
              "      <td>...</td>\n",
              "      <td>...</td>\n",
              "      <td>...</td>\n",
              "    </tr>\n",
              "    <tr>\n",
              "      <th>579659</th>\n",
              "      <td>1950.0</td>\n",
              "      <td>1950.00</td>\n",
              "      <td>60.0</td>\n",
              "      <td>1950.0</td>\n",
              "      <td>0.0</td>\n",
              "    </tr>\n",
              "    <tr>\n",
              "      <th>579660</th>\n",
              "      <td>1849.0</td>\n",
              "      <td>1849.00</td>\n",
              "      <td>60.0</td>\n",
              "      <td>1849.0</td>\n",
              "      <td>0.0</td>\n",
              "    </tr>\n",
              "    <tr>\n",
              "      <th>579661</th>\n",
              "      <td>1245.0</td>\n",
              "      <td>1245.00</td>\n",
              "      <td>60.0</td>\n",
              "      <td>1245.0</td>\n",
              "      <td>0.0</td>\n",
              "    </tr>\n",
              "    <tr>\n",
              "      <th>579662</th>\n",
              "      <td>1075.0</td>\n",
              "      <td>1075.00</td>\n",
              "      <td>60.0</td>\n",
              "      <td>1075.0</td>\n",
              "      <td>0.0</td>\n",
              "    </tr>\n",
              "    <tr>\n",
              "      <th>579663</th>\n",
              "      <td>787.0</td>\n",
              "      <td>787.00</td>\n",
              "      <td>60.0</td>\n",
              "      <td>787.0</td>\n",
              "      <td>0.0</td>\n",
              "    </tr>\n",
              "  </tbody>\n",
              "</table>\n",
              "<p>579664 rows × 5 columns</p>\n",
              "</div>\n",
              "      <button class=\"colab-df-convert\" onclick=\"convertToInteractive('df-87fa31c1-da62-4a7b-8473-2ef71a8852e7')\"\n",
              "              title=\"Convert this dataframe to an interactive table.\"\n",
              "              style=\"display:none;\">\n",
              "        \n",
              "  <svg xmlns=\"http://www.w3.org/2000/svg\" height=\"24px\"viewBox=\"0 0 24 24\"\n",
              "       width=\"24px\">\n",
              "    <path d=\"M0 0h24v24H0V0z\" fill=\"none\"/>\n",
              "    <path d=\"M18.56 5.44l.94 2.06.94-2.06 2.06-.94-2.06-.94-.94-2.06-.94 2.06-2.06.94zm-11 1L8.5 8.5l.94-2.06 2.06-.94-2.06-.94L8.5 2.5l-.94 2.06-2.06.94zm10 10l.94 2.06.94-2.06 2.06-.94-2.06-.94-.94-2.06-.94 2.06-2.06.94z\"/><path d=\"M17.41 7.96l-1.37-1.37c-.4-.4-.92-.59-1.43-.59-.52 0-1.04.2-1.43.59L10.3 9.45l-7.72 7.72c-.78.78-.78 2.05 0 2.83L4 21.41c.39.39.9.59 1.41.59.51 0 1.02-.2 1.41-.59l7.78-7.78 2.81-2.81c.8-.78.8-2.07 0-2.86zM5.41 20L4 18.59l7.72-7.72 1.47 1.35L5.41 20z\"/>\n",
              "  </svg>\n",
              "      </button>\n",
              "      \n",
              "  <style>\n",
              "    .colab-df-container {\n",
              "      display:flex;\n",
              "      flex-wrap:wrap;\n",
              "      gap: 12px;\n",
              "    }\n",
              "\n",
              "    .colab-df-convert {\n",
              "      background-color: #E8F0FE;\n",
              "      border: none;\n",
              "      border-radius: 50%;\n",
              "      cursor: pointer;\n",
              "      display: none;\n",
              "      fill: #1967D2;\n",
              "      height: 32px;\n",
              "      padding: 0 0 0 0;\n",
              "      width: 32px;\n",
              "    }\n",
              "\n",
              "    .colab-df-convert:hover {\n",
              "      background-color: #E2EBFA;\n",
              "      box-shadow: 0px 1px 2px rgba(60, 64, 67, 0.3), 0px 1px 3px 1px rgba(60, 64, 67, 0.15);\n",
              "      fill: #174EA6;\n",
              "    }\n",
              "\n",
              "    [theme=dark] .colab-df-convert {\n",
              "      background-color: #3B4455;\n",
              "      fill: #D2E3FC;\n",
              "    }\n",
              "\n",
              "    [theme=dark] .colab-df-convert:hover {\n",
              "      background-color: #434B5C;\n",
              "      box-shadow: 0px 1px 3px 1px rgba(0, 0, 0, 0.15);\n",
              "      filter: drop-shadow(0px 1px 2px rgba(0, 0, 0, 0.3));\n",
              "      fill: #FFFFFF;\n",
              "    }\n",
              "  </style>\n",
              "\n",
              "      <script>\n",
              "        const buttonEl =\n",
              "          document.querySelector('#df-87fa31c1-da62-4a7b-8473-2ef71a8852e7 button.colab-df-convert');\n",
              "        buttonEl.style.display =\n",
              "          google.colab.kernel.accessAllowed ? 'block' : 'none';\n",
              "\n",
              "        async function convertToInteractive(key) {\n",
              "          const element = document.querySelector('#df-87fa31c1-da62-4a7b-8473-2ef71a8852e7');\n",
              "          const dataTable =\n",
              "            await google.colab.kernel.invokeFunction('convertToInteractive',\n",
              "                                                     [key], {});\n",
              "          if (!dataTable) return;\n",
              "\n",
              "          const docLinkHtml = 'Like what you see? Visit the ' +\n",
              "            '<a target=\"_blank\" href=https://colab.research.google.com/notebooks/data_table.ipynb>data table notebook</a>'\n",
              "            + ' to learn more about interactive tables.';\n",
              "          element.innerHTML = '';\n",
              "          dataTable['output_type'] = 'display_data';\n",
              "          await google.colab.output.renderOutput(dataTable, element);\n",
              "          const docLink = document.createElement('div');\n",
              "          docLink.innerHTML = docLinkHtml;\n",
              "          element.appendChild(docLink);\n",
              "        }\n",
              "      </script>\n",
              "    </div>\n",
              "  </div>\n",
              "  "
            ],
            "text/plain": [
              "           amount  amount_per_join  term  undisbursed_amount  \\\n",
              "0       2000000.0          6802.72  60.0                 0.0   \n",
              "1       1294555.0         20548.49  60.0                 0.0   \n",
              "2        729509.0          6947.70  60.0                 0.0   \n",
              "3        571193.4         11657.01  60.0                 0.0   \n",
              "4        472700.0         12775.68  24.0                 0.0   \n",
              "...           ...              ...   ...                 ...   \n",
              "579659     1950.0          1950.00  60.0              1950.0   \n",
              "579660     1849.0          1849.00  60.0              1849.0   \n",
              "579661     1245.0          1245.00  60.0              1245.0   \n",
              "579662     1075.0          1075.00  60.0              1075.0   \n",
              "579663      787.0           787.00  60.0               787.0   \n",
              "\n",
              "        Difference_current_initial_amount  \n",
              "0                                     0.0  \n",
              "1                                     0.0  \n",
              "2                                     0.0  \n",
              "3                                    -0.6  \n",
              "4                                     0.0  \n",
              "...                                   ...  \n",
              "579659                                0.0  \n",
              "579660                                0.0  \n",
              "579661                                0.0  \n",
              "579662                                0.0  \n",
              "579663                                0.0  \n",
              "\n",
              "[579664 rows x 5 columns]"
            ]
          },
          "execution_count": 40,
          "metadata": {},
          "output_type": "execute_result"
        }
      ],
      "source": [
        "numeric_data"
      ]
    },
    {
      "cell_type": "markdown",
      "metadata": {
        "id": "xjT486Q--RPX"
      },
      "source": [
        "#### **Categorical variables**"
      ]
    },
    {
      "cell_type": "code",
      "execution_count": null,
      "metadata": {
        "colab": {
          "base_uri": "https://localhost:8080/"
        },
        "id": "77Dtt6IQshqV",
        "outputId": "3c9ade16-e64b-4e12-acf8-77ba67e189d1"
      },
      "outputs": [
        {
          "data": {
            "text/plain": [
              "0    4\n",
              "dtype: int64"
            ]
          },
          "execution_count": 41,
          "metadata": {},
          "output_type": "execute_result"
        }
      ],
      "source": [
        "combined_data['launched_month'].mode()"
      ]
    },
    {
      "cell_type": "code",
      "execution_count": null,
      "metadata": {
        "id": "zZqzukNsWQlI"
      },
      "outputs": [],
      "source": [
        "##categorical_data = pd.DataFrame(combined_data,columns=['loan_number','launched_month','launched_year','naics_code_name', 'business_type', 'city_name_top', 'servicing_lender_top', 'servicing_lender_state_top', 'servicing_lender_city_top', 'project_city_top', 'project_county_top'\n",
        "##, 'lender_state_top', 'lender_city_top', 'lender_servicing_lender_state_city'])00000"
      ]
    },
    {
      "cell_type": "code",
      "execution_count": null,
      "metadata": {
        "colab": {
          "base_uri": "https://localhost:8080/"
        },
        "id": "JdPeaaPLh3kx",
        "outputId": "8b4a0e2c-a870-4fbd-d9ba-559b5988bed7"
      },
      "outputs": [
        {
          "data": {
            "text/plain": [
              "2340"
            ]
          },
          "execution_count": 43,
          "metadata": {},
          "output_type": "execute_result"
        }
      ],
      "source": [
        "combined_data['naics_code'].isna().sum()"
      ]
    },
    {
      "cell_type": "code",
      "execution_count": null,
      "metadata": {
        "id": "JJBq4xvojcks"
      },
      "outputs": [],
      "source": [
        "combined_data['naics_code']=combined_data['naics_code'].fillna(10)"
      ]
    },
    {
      "cell_type": "code",
      "execution_count": null,
      "metadata": {
        "id": "comX2UsIsjSy"
      },
      "outputs": [],
      "source": [
        "naics_code_name=[]\n",
        "for i in combined_data['naics_code']:\n",
        "\n",
        "  if(int(str(i)[:2]) == 11):\n",
        "        naics_code_name.append('Agriculture, Forestry, Fishing and Hunting')\n",
        "\n",
        "  elif(int(str(i)[:2]) == 21):\n",
        "        naics_code_name.append('Mining')\n",
        "  elif(int(str(i)[:2]) == 22):\n",
        "        naics_code_name.append('Utilities')\n",
        "  elif(int(str(i)[:2]) == 23):\n",
        "        naics_code_name.append('Construction')\n",
        "  elif(int(str(i)[:2]) == 31):\n",
        "        naics_code_name.append('Manufacturing')\n",
        "  elif(int(str(i)[:2]) == 32):\n",
        "        naics_code_name.append('Manufacturing')\n",
        "  elif(int(str(i)[:2]) == 33):\n",
        "        naics_code_name.append('Manufacturing')\n",
        "  elif(int(str(i)[:2]) == 42):\n",
        "        naics_code_name.append('Wholesale Trade')\n",
        "  elif(int(str(i)[:2]) == 44):\n",
        "        naics_code_name.append('Retail Trade')\n",
        "  elif(int(str(i)[:2]) == 45):\n",
        "        naics_code_name.append('Retail Trade')\n",
        "  elif(int(str(i)[:2]) == 48):\n",
        "        naics_code_name.append('Transportation and Warehousing')\n",
        "  elif(int(str(i)[:2]) == 49):\n",
        "        naics_code_name.append('Transportation and Warehousing')\n",
        "  elif(int(str(i)[:2]) == 51):\n",
        "        naics_code_name.append('Information')\n",
        "  elif(int(str(i)[:2]) == 52):\n",
        "        naics_code_name.append('Finance and Insurance')\n",
        "  elif(int(str(i)[:2]) == 53):\n",
        "        naics_code_name.append('Real Estate Rental and Leasing')\n",
        "  elif(int(str(i)[:2]) == 54):\n",
        "        naics_code_name.append('Professional, Scientific, and Technical Services')\n",
        "  elif(int(str(i)[:2]) == 55):\n",
        "        naics_code_name.append('Management of Companies and Enterprises')\n",
        "  elif(int(str(i)[:2]) == 56):\n",
        "        naics_code_name.append('Administrative and Support and Waste Management and Remediation Services')\n",
        "  elif(int(str(i)[:2]) == 61):\n",
        "        naics_code_name.append('Educational Services')\n",
        "  elif(int(str(i)[:2]) == 62):\n",
        "        naics_code_name.append('Health Care and Social Assistance')\n",
        "  elif(int(str(i)[:2]) == 71):\n",
        "        naics_code_name.append('Arts, Entertainment, and Recreation')\n",
        "  elif(int(str(i)[:2]) == 72):\n",
        "        naics_code_name.append('Accommodation and Food Services')\n",
        "  elif(int(str(i)[:2]) == 81):\n",
        "        naics_code_name.append('Other Services')\n",
        "  elif(int(str(i)[:2]) == 92):\n",
        "        naics_code_name.append('Public Administration')\n",
        "  else:\n",
        "    naics_code_name.append('Others')"
      ]
    },
    {
      "cell_type": "code",
      "execution_count": null,
      "metadata": {
        "id": "G_E9Z67RnFWE"
      },
      "outputs": [],
      "source": [
        "combined_data['naics_code_name']=naics_code_name"
      ]
    },
    {
      "cell_type": "code",
      "execution_count": null,
      "metadata": {
        "id": "e9Ayo7X-qaAW"
      },
      "outputs": [],
      "source": [
        ""
      ]
    },
    {
      "cell_type": "code",
      "execution_count": null,
      "metadata": {
        "id": "EJ8aDw9_G1Pr"
      },
      "outputs": [],
      "source": [
        "\n"
      ]
    },
    {
      "cell_type": "code",
      "execution_count": null,
      "metadata": {
        "colab": {
          "base_uri": "https://localhost:8080/"
        },
        "id": "64rqqtGZQJjx",
        "outputId": "c7c988c8-af5a-419e-e833-031da32d5d00"
      },
      "outputs": [
        {
          "data": {
            "text/plain": [
              "Index(['name', 'amount', 'state', 'address', 'city', 'zip', 'naics_code',\n",
              "       'business_type', 'jobs_retained', 'date_approved', 'lender',\n",
              "       'congressional_district', 'loan_number', 'sba_office_code',\n",
              "       'processing_method', 'loan_status', 'term', 'sba_guaranty_percentage',\n",
              "       'initial_approval_amount', 'current_approval_amount',\n",
              "       'undisbursed_amount', 'servicing_lender_location_id',\n",
              "       'servicing_lender_name', 'servicing_lender_address',\n",
              "       'servicing_lender_city', 'servicing_lender_state',\n",
              "       'servicing_lender_zip', 'rural_urban_indicator', 'hubzone_indicator',\n",
              "       'business_age_description', 'project_city', 'project_county_name',\n",
              "       'project_state', 'project_zip', 'originating_lender_city',\n",
              "       'originating_lender_state', 'loan_status_date',\n",
              "       'originating_lender_location_id', 'lmi_indicator', 'forgiveness_amount',\n",
              "       'forgiveness_date', 'Removed', 'amount_per_join', 'Date_launched',\n",
              "       'launched_year', 'launched_month', 'Difference_current_initial_amount',\n",
              "       'naics_code_name'],\n",
              "      dtype='object')"
            ]
          },
          "execution_count": 47,
          "metadata": {},
          "output_type": "execute_result"
        }
      ],
      "source": [
        "combined_data.columns"
      ]
    },
    {
      "cell_type": "code",
      "execution_count": null,
      "metadata": {
        "colab": {
          "base_uri": "https://localhost:8080/"
        },
        "id": "unQve3Wgn45p",
        "outputId": "6f695f80-b67a-40cc-8a5a-c65a4151cf53"
      },
      "outputs": [
        {
          "data": {
            "text/plain": [
              "Sole Proprietorship                    238089\n",
              "Limited  Liability Company(LLC)        101472\n",
              "Corporation                             70852\n",
              "Independent Contractors                 62638\n",
              "Self-Employed Individuals               60935\n",
              "Subchapter S Corporation                27251\n",
              "Non-Profit Organization                  6323\n",
              "Single Member LLC                        5925\n",
              "Partnership                              2339\n",
              "Limited Liability Partnership            1613\n",
              "Professional Association                 1234\n",
              "501(c)3 – Non Profit                      346\n",
              "Cooperative                               148\n",
              "501(c)6 – Non Profit Membership           142\n",
              "Non-Profit Childcare Center               101\n",
              "Joint Venture                              92\n",
              "Qualified Joint-Venture (spouses)          50\n",
              "Trust                                      31\n",
              "Employee Stock Ownership Plan(ESOP)        24\n",
              "Tenant in Common                           14\n",
              "Rollover as Business Start-Ups (ROB         2\n",
              "Housing Co-op                               1\n",
              "501(c)19 – Non Profit Veterans              1\n",
              "Name: business_type, dtype: int64"
            ]
          },
          "execution_count": 48,
          "metadata": {},
          "output_type": "execute_result"
        }
      ],
      "source": [
        "combined_data['business_type'].value_counts()"
      ]
    },
    {
      "cell_type": "code",
      "execution_count": null,
      "metadata": {
        "colab": {
          "base_uri": "https://localhost:8080/"
        },
        "id": "YL5OTbgv868G",
        "outputId": "e7f50e3e-6b43-4f6e-daee-dc5b8a44a544"
      },
      "outputs": [
        {
          "data": {
            "text/plain": [
              "41"
            ]
          },
          "execution_count": 49,
          "metadata": {},
          "output_type": "execute_result"
        }
      ],
      "source": [
        "combined_data['business_type'].isna().sum()"
      ]
    },
    {
      "cell_type": "code",
      "execution_count": null,
      "metadata": {
        "id": "VO5ryMHj3TEJ"
      },
      "outputs": [],
      "source": [
        "combined_data['business_type']=combined_data['business_type'].fillna(\"None\")"
      ]
    },
    {
      "cell_type": "code",
      "execution_count": null,
      "metadata": {
        "id": "4fvoxt-t6G7c"
      },
      "outputs": [],
      "source": [
        "combined_data['business_type'].replace('Qualified Joint-Venture (spouses)','Others',inplace=True)\n",
        "combined_data['business_type'].replace('Trust','Others',inplace=True)\n",
        "combined_data['business_type'].replace(\"Employee Stock Ownership Plan(ESOP)\",'Others',inplace=True)\n",
        "combined_data['business_type'].replace(\"Tenant in Commo\",'Others',inplace=True)\n",
        "combined_data['business_type'].replace(\"Rollover as Business Start-Ups (ROB\",'Others',inplace=True)\n",
        "combined_data['business_type'].replace(\"Housing Co-op\",'Others',inplace=True)\n",
        "combined_data['business_type'].replace(\"501(c)19 – Non Profit Veterans\",'Others',inplace=True)\n",
        "combined_data['business_type'].replace(\"Tenant in Common\",'Others',inplace=True)\n",
        "  "
      ]
    },
    {
      "cell_type": "code",
      "execution_count": null,
      "metadata": {
        "colab": {
          "base_uri": "https://localhost:8080/"
        },
        "id": "UJXoUPuG9Jse",
        "outputId": "4168af38-8e5d-4f1f-db00-b43bd3f6ca9d"
      },
      "outputs": [
        {
          "data": {
            "text/plain": [
              "Sole Proprietorship                238089\n",
              "Limited  Liability Company(LLC)    101472\n",
              "Corporation                         70852\n",
              "Independent Contractors             62638\n",
              "Self-Employed Individuals           60935\n",
              "Subchapter S Corporation            27251\n",
              "Non-Profit Organization              6323\n",
              "Single Member LLC                    5925\n",
              "Partnership                          2339\n",
              "Limited Liability Partnership        1613\n",
              "Professional Association             1234\n",
              "501(c)3 – Non Profit                  346\n",
              "Cooperative                           148\n",
              "501(c)6 – Non Profit Membership       142\n",
              "Others                                123\n",
              "Non-Profit Childcare Center           101\n",
              "Joint Venture                          92\n",
              "None                                   41\n",
              "Name: business_type, dtype: int64"
            ]
          },
          "execution_count": 52,
          "metadata": {},
          "output_type": "execute_result"
        }
      ],
      "source": [
        "combined_data['business_type'].value_counts()"
      ]
    },
    {
      "cell_type": "code",
      "execution_count": null,
      "metadata": {
        "colab": {
          "base_uri": "https://localhost:8080/"
        },
        "id": "B8T1zki5B08v",
        "outputId": "702cd69e-1bc1-4191-c2bc-fc4c75401772"
      },
      "outputs": [
        {
          "data": {
            "text/plain": [
              "2785"
            ]
          },
          "execution_count": 53,
          "metadata": {},
          "output_type": "execute_result"
        }
      ],
      "source": [
        "combined_data['city'].nunique()"
      ]
    },
    {
      "cell_type": "code",
      "execution_count": null,
      "metadata": {
        "id": "l9B_9cZ2FM6U"
      },
      "outputs": [],
      "source": [
        "city_unique=combined_data['city'].unique()"
      ]
    },
    {
      "cell_type": "code",
      "execution_count": null,
      "metadata": {
        "id": "mQ20kshMGo_m"
      },
      "outputs": [],
      "source": [
        "Top_5_city=['Atlanta', 'Columbus', 'Augusta', 'Macon', 'Savannah']\n",
        "#, 'Athens', 'Sandy Springs', 'South Fulton', 'Roswell', 'Johns Creek']\n",
        "a = (map(lambda x: x.lower(), Top_5_city))\n",
        "Top_5_city_lower = list(a)\n",
        "b = (map(lambda x: x.upper(), Top_5_city))\n",
        "Top_5_city_upper = list(b)"
      ]
    },
    {
      "cell_type": "code",
      "execution_count": null,
      "metadata": {
        "id": "5qG4R6OgLYSy"
      },
      "outputs": [],
      "source": [
        ""
      ]
    },
    {
      "cell_type": "code",
      "execution_count": null,
      "metadata": {
        "id": "j45wgeNgI_2V"
      },
      "outputs": [],
      "source": [
        "city_name=[]\n",
        "for i in combined_data['city']:\n",
        "  if (i in Top_5_city):\n",
        "    city_name.append(i.upper())\n",
        "  elif (i in Top_5_city_upper):\n",
        "    city_name.append(i)\n",
        "  elif (i in Top_5_city_lower):\n",
        "    city_name.append(i.upper())\n",
        "  else:\n",
        "    city_name.append('Other')"
      ]
    },
    {
      "cell_type": "code",
      "execution_count": null,
      "metadata": {
        "id": "6Co7Z7-qFm_b"
      },
      "outputs": [],
      "source": [
        "combined_data['city_name_top']=city_name\n"
      ]
    },
    {
      "cell_type": "code",
      "execution_count": null,
      "metadata": {
        "id": "I7-rKOvbZ1DR"
      },
      "outputs": [],
      "source": [
        "combined_data['city_name']=city_name"
      ]
    },
    {
      "cell_type": "code",
      "execution_count": null,
      "metadata": {
        "id": "cNMI8I2GMu-9"
      },
      "outputs": [],
      "source": [
        "combined_data['city_name_top'].replace(Top_5_city_upper,'Top_city',inplace=True)\n"
      ]
    },
    {
      "cell_type": "code",
      "execution_count": null,
      "metadata": {
        "colab": {
          "base_uri": "https://localhost:8080/"
        },
        "id": "cGxRMutNMIN2",
        "outputId": "0421b852-20ee-4a2b-b7e4-277c18a3a22c"
      },
      "outputs": [
        {
          "data": {
            "text/plain": [
              "Other       450404\n",
              "Top_city    129260\n",
              "Name: city_name_top, dtype: int64"
            ]
          },
          "execution_count": 60,
          "metadata": {},
          "output_type": "execute_result"
        }
      ],
      "source": [
        "combined_data['city_name_top'].value_counts()"
      ]
    },
    {
      "cell_type": "code",
      "execution_count": null,
      "metadata": {
        "colab": {
          "base_uri": "https://localhost:8080/"
        },
        "id": "n_D76GQP19Na",
        "outputId": "1a1edfc8-64c1-421d-ec0e-de5ffb8f32cf"
      },
      "outputs": [
        {
          "data": {
            "text/plain": [
              "1186"
            ]
          },
          "execution_count": 61,
          "metadata": {},
          "output_type": "execute_result"
        }
      ],
      "source": [
        "combined_data['servicing_lender_name'].nunique()"
      ]
    },
    {
      "cell_type": "code",
      "execution_count": null,
      "metadata": {
        "id": "RiWacFUH533Q"
      },
      "outputs": [],
      "source": [
        ""
      ]
    },
    {
      "cell_type": "code",
      "execution_count": null,
      "metadata": {
        "id": "gGAG5lcy6hic"
      },
      "outputs": [],
      "source": [
        "Top_20_servicing_lender=['Harvest Small Business Finance, LLC', 'Prestamos CDFI, LLC', 'Capital Plus Financial, LLC', 'Cross River Bank', 'Benworth Capital', 'Fountainhead SBF LLC', 'Customers Bank', 'Bank of America, National Association', 'Itria Ventures LLC', 'Truist Bank d/b/a Branch Banking & Trust Co',\n",
        "             'Wells Fargo Bank, National Association', 'Synovus Bank']\n"
      ]
    },
    {
      "cell_type": "code",
      "execution_count": null,
      "metadata": {
        "id": "n_aBlhhT_FDs"
      },
      "outputs": [],
      "source": [
        "servicing_lender_name=[]\n",
        "for i in combined_data['servicing_lender_name']:\n",
        "  if (i in Top_20_servicing_lender):\n",
        "    servicing_lender_name.append('Top')\n",
        "  else:\n",
        "    servicing_lender_name.append('Other')"
      ]
    },
    {
      "cell_type": "code",
      "execution_count": null,
      "metadata": {
        "id": "bSEHs8MF8Sx5"
      },
      "outputs": [],
      "source": [
        "combined_data['servicing_lender_top']=servicing_lender_name"
      ]
    },
    {
      "cell_type": "code",
      "execution_count": null,
      "metadata": {
        "colab": {
          "base_uri": "https://localhost:8080/"
        },
        "id": "C9h7jqiF81JL",
        "outputId": "850ae2fa-cf24-4978-8958-b2e186295982"
      },
      "outputs": [
        {
          "data": {
            "text/plain": [
              "GA    111569\n",
              "CA     78670\n",
              "FL     71091\n",
              "AZ     57364\n",
              "TX     54650\n",
              "NJ     45244\n",
              "NC     37918\n",
              "NY     24752\n",
              "PA     23531\n",
              "SD     14708\n",
              "UT     11584\n",
              "AL      8163\n",
              "OH      7293\n",
              "MS      6851\n",
              "NE      4520\n",
              "TN      4207\n",
              "AR      2543\n",
              "DE      2512\n",
              "MA      2440\n",
              "VA      1855\n",
              "SC      1699\n",
              "ID      1388\n",
              "OK      1076\n",
              "MO       721\n",
              "NM       543\n",
              "WV       506\n",
              "IL       505\n",
              "KS       332\n",
              "MN       311\n",
              "LA       150\n",
              "NV       140\n",
              "WI       101\n",
              "KY        96\n",
              "IN        86\n",
              "IA        80\n",
              "CT        76\n",
              "MI        72\n",
              "MD        60\n",
              "CO        55\n",
              "RI        39\n",
              "WA        31\n",
              "DC        24\n",
              "OR        20\n",
              "NH        19\n",
              "ND        18\n",
              "HI        17\n",
              "MT        14\n",
              "ME         8\n",
              "VT         4\n",
              "WY         3\n",
              "GU         2\n",
              "AS         2\n",
              "AK         1\n",
              "Name: servicing_lender_state, dtype: int64"
            ]
          },
          "execution_count": 65,
          "metadata": {},
          "output_type": "execute_result"
        }
      ],
      "source": [
        "\n",
        "combined_data['servicing_lender_state'].value_counts()"
      ]
    },
    {
      "cell_type": "code",
      "execution_count": null,
      "metadata": {
        "id": "hFMVwP18_PaE"
      },
      "outputs": [],
      "source": [
        "Top_10_servicing_lender_state=['GA', 'CA', 'FL', 'AZ', 'TX', 'NJ', 'NC', 'NY', 'PA', 'SD']\n",
        "             #'UT', 'Synovus Bank', 'Kabbage, Inc.', 'United Community Bank', 'Ameris Bank', 'Square Capital, LLC', 'Regions Bank', 'JPMorgan Chase Bank, National Association', 'Readycap Lending, LLC', 'Celtic Bank Corporation']"
      ]
    },
    {
      "cell_type": "code",
      "execution_count": null,
      "metadata": {
        "id": "vOkQdKQy-WZe"
      },
      "outputs": [],
      "source": [
        "servicing_lender_state=[]\n",
        "for i in combined_data['servicing_lender_state']:\n",
        "  if (i in Top_10_servicing_lender_state):\n",
        "    servicing_lender_state.append('Top')\n",
        "  else:\n",
        "    servicing_lender_state.append('Other')"
      ]
    },
    {
      "cell_type": "code",
      "execution_count": null,
      "metadata": {
        "id": "M7sFLMLA-WkM"
      },
      "outputs": [],
      "source": [
        "combined_data['servicing_lender_state_top']=servicing_lender_state"
      ]
    },
    {
      "cell_type": "code",
      "execution_count": null,
      "metadata": {
        "colab": {
          "base_uri": "https://localhost:8080/"
        },
        "id": "QJlhWv5QMGEU",
        "outputId": "77d4a748-b0db-4718-d6da-65cc5cef8a12"
      },
      "outputs": [
        {
          "data": {
            "text/plain": [
              "Top      519497\n",
              "Other     60167\n",
              "Name: servicing_lender_state_top, dtype: int64"
            ]
          },
          "execution_count": 69,
          "metadata": {},
          "output_type": "execute_result"
        }
      ],
      "source": [
        "combined_data['servicing_lender_state_top'].value_counts()"
      ]
    },
    {
      "cell_type": "code",
      "execution_count": null,
      "metadata": {
        "colab": {
          "base_uri": "https://localhost:8080/"
        },
        "id": "bdcJxuAhpqyJ",
        "outputId": "75102723-e21f-412d-d7b5-8809badb930f"
      },
      "outputs": [
        {
          "data": {
            "text/plain": [
              "Laguna Hills         62060\n",
              "Phoenix              57324\n",
              "Bedford              52255\n",
              "TEANECK              36020\n",
              "CHARLOTTE            35381\n",
              "                     ...  \n",
              "MERTZON                  1\n",
              "HARRISBURG               1\n",
              "BELLE CHASSE             1\n",
              "BLACK RIVER FALLS        1\n",
              "Columbus                 1\n",
              "Name: servicing_lender_city, Length: 859, dtype: int64"
            ]
          },
          "execution_count": 70,
          "metadata": {},
          "output_type": "execute_result"
        }
      ],
      "source": [
        "combined_data['servicing_lender_city'].value_counts()"
      ]
    },
    {
      "cell_type": "code",
      "execution_count": null,
      "metadata": {
        "id": "5tN9j_UKqeXd"
      },
      "outputs": [],
      "source": [
        "combined_data['servicing_lender_city']=combined_data['servicing_lender_city'].apply(lambda x: x.upper())"
      ]
    },
    {
      "cell_type": "code",
      "execution_count": null,
      "metadata": {
        "colab": {
          "base_uri": "https://localhost:8080/"
        },
        "id": "IgwDfQCrqeeF",
        "outputId": "2971d8b2-ec82-4b0e-8f88-19d0e91b1e8d"
      },
      "outputs": [
        {
          "data": {
            "text/plain": [
              "LAGUNA HILLS    62060\n",
              "PHOENIX         57359\n",
              "BEDFORD         52272\n",
              "TEANECK         36020\n",
              "CHARLOTTE       35381\n",
              "                ...  \n",
              "NEW MADISON         1\n",
              "LAMONT              1\n",
              "ELDORADO            1\n",
              "SHANNON             1\n",
              "CARIBOU             1\n",
              "Name: servicing_lender_city, Length: 819, dtype: int64"
            ]
          },
          "execution_count": 72,
          "metadata": {},
          "output_type": "execute_result"
        }
      ],
      "source": [
        "combined_data['servicing_lender_city'].value_counts()"
      ]
    },
    {
      "cell_type": "code",
      "execution_count": null,
      "metadata": {
        "id": "DIq_xRebs19q"
      },
      "outputs": [],
      "source": [
        "Top_2_servicing_lender_city=['Atlanta', 'Columbus', 'Los Angeles', 'San Diego', 'Jacksonville', 'Miami',\n",
        "                             'Phoenix', 'Tucson', 'Houston', 'San Antonio', 'Newark', 'Jersey City', 'Charlotte', 'Raleigh'\n",
        "                             , 'New York City', 'Buffalo', 'Philadelphia', 'Pittsburgh', 'Sioux Falls', 'Rapid City']\n",
        "Top_2_servicing_lender_city = map(lambda x: x.upper(), Top_2_servicing_lender_city)\n",
        "Top_2_servicing_lender_city=list(Top_2_servicing_lender_city)"
      ]
    },
    {
      "cell_type": "code",
      "execution_count": null,
      "metadata": {
        "id": "R2IoIzm_w62L"
      },
      "outputs": [],
      "source": [
        "servicing_lender_city=[]\n",
        "for i in combined_data['servicing_lender_city']:\n",
        "  if (i in Top_2_servicing_lender_city):\n",
        "    servicing_lender_city.append('Top')\n",
        "  else:\n",
        "    servicing_lender_city.append('Other')"
      ]
    },
    {
      "cell_type": "code",
      "execution_count": null,
      "metadata": {
        "id": "Eicu85YtxY4H"
      },
      "outputs": [],
      "source": [
        "combined_data['servicing_lender_city_top']=servicing_lender_state"
      ]
    },
    {
      "cell_type": "code",
      "execution_count": null,
      "metadata": {
        "colab": {
          "base_uri": "https://localhost:8080/"
        },
        "id": "w024qYKdxrVn",
        "outputId": "e322c107-1230-4eee-fd3b-b23a44db6ec9"
      },
      "outputs": [
        {
          "data": {
            "text/plain": [
              "Top      519497\n",
              "Other     60167\n",
              "Name: servicing_lender_city_top, dtype: int64"
            ]
          },
          "execution_count": 76,
          "metadata": {},
          "output_type": "execute_result"
        }
      ],
      "source": [
        "combined_data['servicing_lender_city_top'].value_counts()"
      ]
    },
    {
      "cell_type": "code",
      "execution_count": null,
      "metadata": {
        "colab": {
          "base_uri": "https://localhost:8080/"
        },
        "id": "5nfjLt-M_qUx",
        "outputId": "783f3e24-4cdc-4154-f7a9-14ff1892378e"
      },
      "outputs": [
        {
          "data": {
            "text/plain": [
              "Existing or more than 2 years old         537065\n",
              "New Business or 2 years or less            26609\n",
              "Unanswered                                 15869\n",
              "Startup, Loan Funds will Open Business        75\n",
              "Change of Ownership                           46\n",
              "Name: business_age_description, dtype: int64"
            ]
          },
          "execution_count": 77,
          "metadata": {},
          "output_type": "execute_result"
        }
      ],
      "source": [
        "\n",
        "combined_data['business_age_description'].value_counts()"
      ]
    },
    {
      "cell_type": "code",
      "execution_count": null,
      "metadata": {
        "colab": {
          "base_uri": "https://localhost:8080/"
        },
        "id": "tAkNTL5Nndpw",
        "outputId": "35fd07fb-5db5-458d-c852-5aa0054e97dc"
      },
      "outputs": [
        {
          "data": {
            "text/plain": [
              "Atlanta                 71664\n",
              "ATLANTA                 17635\n",
              "Decatur                 13861\n",
              "Lawrenceville           13249\n",
              "Marietta                12769\n",
              "                        ...  \n",
              "1850 The Exchange SE        1\n",
              "80 Townsend Circle          1\n",
              "Covinton                    1\n",
              "kENNESAW                    1\n",
              "HOGANVILLE                  1\n",
              "Name: project_city, Length: 2800, dtype: int64"
            ]
          },
          "execution_count": 78,
          "metadata": {},
          "output_type": "execute_result"
        }
      ],
      "source": [
        "combined_data['project_city'].value_counts()\n"
      ]
    },
    {
      "cell_type": "code",
      "execution_count": null,
      "metadata": {
        "id": "H2AVvWcIndtP"
      },
      "outputs": [],
      "source": [
        "Top_5_project_city=['Atlanta', 'Sandy Springs', 'Roswell','Grayson', 'Berkeley Lake', 'Rest Haven','Marietta', 'Smyrna', 'Kennesaw']\n",
        "#, 'Athens', 'Sandy Springs', 'South Fulton', 'Roswell', 'Johns Creek']\n",
        "a = (map(lambda x: x.lower(), Top_5_project_city))\n",
        "Top_5_project_city_lower = list(a)\n",
        "b = (map(lambda x: x.upper(), Top_5_project_city))\n",
        "Top_5_project_city_upper = list(b)"
      ]
    },
    {
      "cell_type": "code",
      "execution_count": null,
      "metadata": {
        "id": "YT4IRqMLndzW"
      },
      "outputs": [],
      "source": [
        "project_city_name=[]\n",
        "for i in combined_data['project_city']:\n",
        "  if (i in Top_5_project_city):\n",
        "    project_city_name.append(i.upper())\n",
        "  elif (i in Top_5_project_city_upper):\n",
        "    project_city_name.append(i)\n",
        "  elif (i in Top_5_project_city_lower):\n",
        "    project_city_name.append(i.upper())\n",
        "  else:\n",
        "    project_city_name.append('Other')"
      ]
    },
    {
      "cell_type": "code",
      "execution_count": null,
      "metadata": {
        "id": "TeuHN4DmnhQS"
      },
      "outputs": [],
      "source": [
        "combined_data['project_city_top']=project_city_name"
      ]
    },
    {
      "cell_type": "code",
      "execution_count": null,
      "metadata": {
        "id": "3S6wqtXenhYw"
      },
      "outputs": [],
      "source": [
        "combined_data['project_city_top'].replace(Top_5_project_city_upper,'Top_city',inplace=True)"
      ]
    },
    {
      "cell_type": "code",
      "execution_count": null,
      "metadata": {
        "colab": {
          "base_uri": "https://localhost:8080/"
        },
        "id": "DAXa5w-onpI_",
        "outputId": "793f6e88-2163-47a1-d99e-d3cdc16af523"
      },
      "outputs": [
        {
          "data": {
            "text/plain": [
              "Other       453576\n",
              "Top_city    126088\n",
              "Name: project_city_top, dtype: int64"
            ]
          },
          "execution_count": 83,
          "metadata": {},
          "output_type": "execute_result"
        }
      ],
      "source": [
        "combined_data['project_city_top'].value_counts()"
      ]
    },
    {
      "cell_type": "code",
      "execution_count": null,
      "metadata": {
        "colab": {
          "base_uri": "https://localhost:8080/"
        },
        "id": "SSUZrgmOnpz0",
        "outputId": "f0edccb0-b7b2-4f7f-8d0e-a887c2754b6e"
      },
      "outputs": [
        {
          "data": {
            "text/plain": [
              "FULTON             101254\n",
              "DEKALB              63266\n",
              "GWINNETT            59226\n",
              "COBB                45008\n",
              "CLAYTON             30318\n",
              "                    ...  \n",
              "ALEXANDRIA CITY         1\n",
              "BEAUFORT                1\n",
              "ESCAMBIA                1\n",
              "HAMILTON                1\n",
              "CHARLOTTE               1\n",
              "Name: project_county_name, Length: 171, dtype: int64"
            ]
          },
          "execution_count": 84,
          "metadata": {},
          "output_type": "execute_result"
        }
      ],
      "source": [
        "combined_data['project_county_name'].value_counts()"
      ]
    },
    {
      "cell_type": "code",
      "execution_count": null,
      "metadata": {
        "id": "w6jgJ_vmCm0P"
      },
      "outputs": [],
      "source": [
        "combined_data['project_county_name'] = combined_data['project_county_name'].str.upper()"
      ]
    },
    {
      "cell_type": "code",
      "execution_count": null,
      "metadata": {
        "colab": {
          "base_uri": "https://localhost:8080/"
        },
        "id": "6oTBXH_PCm3y",
        "outputId": "df4a397b-21f3-45b7-b5ee-ba38aefc302c"
      },
      "outputs": [
        {
          "data": {
            "text/plain": [
              "FULTON             101254\n",
              "DEKALB              63266\n",
              "GWINNETT            59226\n",
              "COBB                45008\n",
              "CLAYTON             30318\n",
              "                    ...  \n",
              "ALEXANDRIA CITY         1\n",
              "BEAUFORT                1\n",
              "ESCAMBIA                1\n",
              "HAMILTON                1\n",
              "CHARLOTTE               1\n",
              "Name: project_county_name, Length: 171, dtype: int64"
            ]
          },
          "execution_count": 86,
          "metadata": {},
          "output_type": "execute_result"
        }
      ],
      "source": [
        "combined_data['project_county_name'].value_counts()"
      ]
    },
    {
      "cell_type": "code",
      "execution_count": null,
      "metadata": {
        "id": "eXFmQysqCm7g"
      },
      "outputs": [],
      "source": [
        "Top_5_project_county=['Fulton', 'Gwinnett', 'Cobb']\n",
        "Top_5_project_county = map(lambda x: x.upper(), Top_5_project_county)\n",
        "Top_5_project_county=list(Top_5_project_county)"
      ]
    },
    {
      "cell_type": "code",
      "execution_count": null,
      "metadata": {
        "id": "mVmqJ6j2FvsV"
      },
      "outputs": [],
      "source": [
        ""
      ]
    },
    {
      "cell_type": "code",
      "execution_count": null,
      "metadata": {
        "id": "IBKBSXrdCm-w"
      },
      "outputs": [],
      "source": [
        "project_county=[]\n",
        "for i in combined_data['project_county_name']:\n",
        "  if (i in Top_5_project_county):\n",
        "    project_county.append('Top')\n",
        "  else:\n",
        "    project_county.append('Other')"
      ]
    },
    {
      "cell_type": "code",
      "execution_count": null,
      "metadata": {
        "id": "gMPJSHzWCnB-"
      },
      "outputs": [],
      "source": [
        "combined_data['project_county_top']=project_county"
      ]
    },
    {
      "cell_type": "code",
      "execution_count": null,
      "metadata": {
        "colab": {
          "base_uri": "https://localhost:8080/"
        },
        "id": "tRpzq1goCx61",
        "outputId": "ee414b77-ccdf-4364-ed2f-727bafb5a6d7"
      },
      "outputs": [
        {
          "data": {
            "text/plain": [
              "Other    374176\n",
              "Top      205488\n",
              "Name: project_county_top, dtype: int64"
            ]
          },
          "execution_count": 90,
          "metadata": {},
          "output_type": "execute_result"
        }
      ],
      "source": [
        "combined_data['project_county_top'].value_counts()"
      ]
    },
    {
      "cell_type": "code",
      "execution_count": null,
      "metadata": {
        "colab": {
          "base_uri": "https://localhost:8080/"
        },
        "id": "FSx41JF7CyA_",
        "outputId": "8bb2feb6-9e88-408d-ec3a-98ff0d8f0c39"
      },
      "outputs": [
        {
          "data": {
            "text/plain": [
              "GA    118833\n",
              "CA     75410\n",
              "FL     70950\n",
              "AZ     57364\n",
              "TX     54937\n",
              "NJ     40100\n",
              "NC     37918\n",
              "NY     21012\n",
              "PA     19943\n",
              "UT     16032\n",
              "SD     14709\n",
              "AL      8169\n",
              "OH      7293\n",
              "MS      6966\n",
              "MA      4530\n",
              "TN      4209\n",
              "VA      3507\n",
              "NE      3422\n",
              "AR      2543\n",
              "DE      2512\n",
              "SC      1804\n",
              "ID      1388\n",
              "OK      1076\n",
              "MO       721\n",
              "ME       635\n",
              "NM       543\n",
              "WV       506\n",
              "IL       505\n",
              "NV       425\n",
              "MN       394\n",
              "KS       332\n",
              "LA       152\n",
              "WI       101\n",
              "KY        96\n",
              "IN        86\n",
              "IA        80\n",
              "MI        76\n",
              "CT        76\n",
              "MD        60\n",
              "CO        55\n",
              "RI        39\n",
              "WA        31\n",
              "DC        24\n",
              "OR        20\n",
              "NH        19\n",
              "ND        18\n",
              "HI        17\n",
              "MT        14\n",
              "VT         4\n",
              "WY         3\n",
              "GU         2\n",
              "AS         2\n",
              "AK         1\n",
              "Name: originating_lender_state, dtype: int64"
            ]
          },
          "execution_count": 91,
          "metadata": {},
          "output_type": "execute_result"
        }
      ],
      "source": [
        "combined_data['originating_lender_state'].value_counts()"
      ]
    },
    {
      "cell_type": "code",
      "execution_count": null,
      "metadata": {
        "id": "AYKZ_iZlnp28"
      },
      "outputs": [],
      "source": [
        "Top_10_lender_state=['GA', 'CA', 'FL', 'AZ', 'TX', 'NJ', 'NC', 'NY', 'PA', 'UT']"
      ]
    },
    {
      "cell_type": "code",
      "execution_count": null,
      "metadata": {
        "id": "2qzkcnuPK_Td"
      },
      "outputs": [],
      "source": [
        "lender_state=[]\n",
        "for i in combined_data['originating_lender_state']:\n",
        "  if (i in Top_10_lender_state):\n",
        "    lender_state.append('Top')\n",
        "  else:\n",
        "    lender_state.append('Other')"
      ]
    },
    {
      "cell_type": "code",
      "execution_count": null,
      "metadata": {
        "id": "SMCVOZRRK_Y5"
      },
      "outputs": [],
      "source": [
        "combined_data['lender_state_top']=lender_state"
      ]
    },
    {
      "cell_type": "code",
      "execution_count": null,
      "metadata": {
        "colab": {
          "base_uri": "https://localhost:8080/"
        },
        "id": "YZch4DlHK_cz",
        "outputId": "3bbfcc33-dc85-4d95-82d2-4b4a07f932d6"
      },
      "outputs": [
        {
          "data": {
            "text/plain": [
              "Top      512499\n",
              "Other     67165\n",
              "Name: lender_state_top, dtype: int64"
            ]
          },
          "execution_count": 95,
          "metadata": {},
          "output_type": "execute_result"
        }
      ],
      "source": [
        "combined_data['lender_state_top'].value_counts()"
      ]
    },
    {
      "cell_type": "code",
      "execution_count": null,
      "metadata": {
        "colab": {
          "base_uri": "https://localhost:8080/"
        },
        "id": "moIT-9cEMZv_",
        "outputId": "0cda9afb-e94f-4538-81d2-e368b724b203"
      },
      "outputs": [
        {
          "data": {
            "text/plain": [
              "Phoenix         57324\n",
              "Bedford         52249\n",
              "Laguna Hills    40865\n",
              "CHARLOTTE       35381\n",
              "Miami           35095\n",
              "                ...  \n",
              "CORNING             1\n",
              "WILLIAMSBURG        1\n",
              "NEENAH              1\n",
              "ROCKY MOUNT         1\n",
              "Columbus            1\n",
              "Name: originating_lender_city, Length: 863, dtype: int64"
            ]
          },
          "execution_count": 96,
          "metadata": {},
          "output_type": "execute_result"
        }
      ],
      "source": [
        "combined_data['originating_lender_city'].value_counts()"
      ]
    },
    {
      "cell_type": "code",
      "execution_count": null,
      "metadata": {
        "id": "igclj-njMZ1x"
      },
      "outputs": [],
      "source": [
        "combined_data['originating_lender_city']=combined_data['originating_lender_city'].apply(lambda x: x.upper())"
      ]
    },
    {
      "cell_type": "code",
      "execution_count": null,
      "metadata": {
        "colab": {
          "base_uri": "https://localhost:8080/"
        },
        "id": "AfFHHKebK_jl",
        "outputId": "8bef46bb-d603-40ea-f248-07d271175c5c"
      },
      "outputs": [
        {
          "data": {
            "text/plain": [
              "PHOENIX         57359\n",
              "BEDFORD         52266\n",
              "LAGUNA HILLS    40865\n",
              "CHARLOTTE       35381\n",
              "MIAMI           35163\n",
              "                ...  \n",
              "CORNING             1\n",
              "WILLIAMSBURG        1\n",
              "NEENAH              1\n",
              "ROCKY MOUNT         1\n",
              "CARIBOU             1\n",
              "Name: originating_lender_city, Length: 823, dtype: int64"
            ]
          },
          "execution_count": 98,
          "metadata": {},
          "output_type": "execute_result"
        }
      ],
      "source": [
        "combined_data['originating_lender_city'].value_counts()"
      ]
    },
    {
      "cell_type": "code",
      "execution_count": null,
      "metadata": {
        "id": "5qTRSx4pMmWO"
      },
      "outputs": [],
      "source": [
        "Top_2_lender_city=['Atlanta', 'Columbus', 'Los Angeles', 'San Diego', 'Jacksonville', 'Miami',\n",
        "                             'Phoenix', 'Tucson', 'Houston', 'San Antonio', 'Newark', 'Jersey City', 'Charlotte', 'Raleigh'\n",
        "                             , 'New York City', 'Buffalo', 'Philadelphia', 'Pittsburgh', 'Salt Lake', 'West Valley']\n",
        "Top_2_lender_city = map(lambda x: x.upper(), Top_2_servicing_lender_city)\n",
        "Top_2_lender_city=list(Top_2_servicing_lender_city)\n",
        "\n"
      ]
    },
    {
      "cell_type": "code",
      "execution_count": null,
      "metadata": {
        "id": "yD9Gte5UMmaM"
      },
      "outputs": [],
      "source": [
        "lender_city=[]\n",
        "for i in combined_data['originating_lender_city']:\n",
        "  if (i in Top_2_lender_city):\n",
        "    lender_city.append('Top')\n",
        "  else:\n",
        "    lender_city.append('Other')"
      ]
    },
    {
      "cell_type": "code",
      "execution_count": null,
      "metadata": {
        "id": "KG-aKRS8Mmd2"
      },
      "outputs": [],
      "source": [
        "combined_data['lender_city_top']=servicing_lender_state"
      ]
    },
    {
      "cell_type": "code",
      "execution_count": null,
      "metadata": {
        "id": "pNfSYZfjMmhW"
      },
      "outputs": [],
      "source": [
        "\n",
        "combined_data['lender_servicing_lender_city'] = np.where(combined_data['originating_lender_city'] == combined_data['servicing_lender_city'], True, False)\n",
        "  "
      ]
    },
    {
      "cell_type": "code",
      "execution_count": null,
      "metadata": {
        "colab": {
          "base_uri": "https://localhost:8080/"
        },
        "id": "vZxCuchLPzj1",
        "outputId": "486a5b2a-f723-4a01-de6d-7960fddcfb88"
      },
      "outputs": [
        {
          "data": {
            "text/plain": [
              "True     537703\n",
              "False     41961\n",
              "Name: lender_servicing_lender_city, dtype: int64"
            ]
          },
          "execution_count": 103,
          "metadata": {},
          "output_type": "execute_result"
        }
      ],
      "source": [
        "combined_data['lender_servicing_lender_city'].value_counts()"
      ]
    },
    {
      "cell_type": "code",
      "execution_count": null,
      "metadata": {
        "id": "cIil1PNiVlKN"
      },
      "outputs": [],
      "source": [
        "combined_data['lender_servicing_lender_state'] = np.where(combined_data['originating_lender_state'] == combined_data['servicing_lender_state'], True, False)"
      ]
    },
    {
      "cell_type": "code",
      "execution_count": null,
      "metadata": {
        "colab": {
          "base_uri": "https://localhost:8080/"
        },
        "id": "neg1y3AoVlUB",
        "outputId": "c48d784a-7c09-43e9-a66a-9c37976a21d8"
      },
      "outputs": [
        {
          "data": {
            "text/plain": [
              "True     558909\n",
              "False     20755\n",
              "Name: lender_servicing_lender_state, dtype: int64"
            ]
          },
          "execution_count": 105,
          "metadata": {},
          "output_type": "execute_result"
        }
      ],
      "source": [
        "combined_data['lender_servicing_lender_state'].value_counts()"
      ]
    },
    {
      "cell_type": "code",
      "execution_count": null,
      "metadata": {
        "id": "IQtfQ00jMmkY"
      },
      "outputs": [],
      "source": [
        "combined_data['lender_servicing_lender_state_city']= np.where((combined_data['lender_servicing_lender_state'] == True)&(combined_data['lender_servicing_lender_city']==True), True, False)"
      ]
    },
    {
      "cell_type": "code",
      "execution_count": null,
      "metadata": {
        "colab": {
          "base_uri": "https://localhost:8080/"
        },
        "id": "x5lYt2nIMmpO",
        "outputId": "a38d6802-8fe3-4d39-f2d3-904a551c2ca1"
      },
      "outputs": [
        {
          "data": {
            "text/plain": [
              "True     537703\n",
              "False     41961\n",
              "Name: lender_servicing_lender_state_city, dtype: int64"
            ]
          },
          "execution_count": 107,
          "metadata": {},
          "output_type": "execute_result"
        }
      ],
      "source": [
        "combined_data['lender_servicing_lender_state_city'].value_counts()"
      ]
    },
    {
      "cell_type": "code",
      "execution_count": null,
      "metadata": {
        "id": "CI-0pQMHK_pZ"
      },
      "outputs": [],
      "source": [
        ""
      ]
    },
    {
      "cell_type": "code",
      "execution_count": null,
      "metadata": {
        "colab": {
          "base_uri": "https://localhost:8080/",
          "height": 175
        },
        "id": "V3tXLWlo8ydr",
        "outputId": "6fecc25d-2c6a-4dde-989f-44bbd1f581d8"
      },
      "outputs": [
        {
          "data": {
            "text/html": [
              "\n",
              "  <div id=\"df-7422c413-5b6c-4bcb-b083-ff580ac4b67e\">\n",
              "    <div class=\"colab-df-container\">\n",
              "      <div>\n",
              "<style scoped>\n",
              "    .dataframe tbody tr th:only-of-type {\n",
              "        vertical-align: middle;\n",
              "    }\n",
              "\n",
              "    .dataframe tbody tr th {\n",
              "        vertical-align: top;\n",
              "    }\n",
              "\n",
              "    .dataframe thead th {\n",
              "        text-align: right;\n",
              "    }\n",
              "</style>\n",
              "<table border=\"1\" class=\"dataframe\">\n",
              "  <thead>\n",
              "    <tr style=\"text-align: right;\">\n",
              "      <th>lender_servicing_lender_state_city</th>\n",
              "      <th>False</th>\n",
              "      <th>True</th>\n",
              "      <th>All</th>\n",
              "    </tr>\n",
              "    <tr>\n",
              "      <th>Removed</th>\n",
              "      <th></th>\n",
              "      <th></th>\n",
              "      <th></th>\n",
              "    </tr>\n",
              "  </thead>\n",
              "  <tbody>\n",
              "    <tr>\n",
              "      <th>False</th>\n",
              "      <td>41520</td>\n",
              "      <td>512308</td>\n",
              "      <td>553828</td>\n",
              "    </tr>\n",
              "    <tr>\n",
              "      <th>True</th>\n",
              "      <td>441</td>\n",
              "      <td>25395</td>\n",
              "      <td>25836</td>\n",
              "    </tr>\n",
              "    <tr>\n",
              "      <th>All</th>\n",
              "      <td>41961</td>\n",
              "      <td>537703</td>\n",
              "      <td>579664</td>\n",
              "    </tr>\n",
              "  </tbody>\n",
              "</table>\n",
              "</div>\n",
              "      <button class=\"colab-df-convert\" onclick=\"convertToInteractive('df-7422c413-5b6c-4bcb-b083-ff580ac4b67e')\"\n",
              "              title=\"Convert this dataframe to an interactive table.\"\n",
              "              style=\"display:none;\">\n",
              "        \n",
              "  <svg xmlns=\"http://www.w3.org/2000/svg\" height=\"24px\"viewBox=\"0 0 24 24\"\n",
              "       width=\"24px\">\n",
              "    <path d=\"M0 0h24v24H0V0z\" fill=\"none\"/>\n",
              "    <path d=\"M18.56 5.44l.94 2.06.94-2.06 2.06-.94-2.06-.94-.94-2.06-.94 2.06-2.06.94zm-11 1L8.5 8.5l.94-2.06 2.06-.94-2.06-.94L8.5 2.5l-.94 2.06-2.06.94zm10 10l.94 2.06.94-2.06 2.06-.94-2.06-.94-.94-2.06-.94 2.06-2.06.94z\"/><path d=\"M17.41 7.96l-1.37-1.37c-.4-.4-.92-.59-1.43-.59-.52 0-1.04.2-1.43.59L10.3 9.45l-7.72 7.72c-.78.78-.78 2.05 0 2.83L4 21.41c.39.39.9.59 1.41.59.51 0 1.02-.2 1.41-.59l7.78-7.78 2.81-2.81c.8-.78.8-2.07 0-2.86zM5.41 20L4 18.59l7.72-7.72 1.47 1.35L5.41 20z\"/>\n",
              "  </svg>\n",
              "      </button>\n",
              "      \n",
              "  <style>\n",
              "    .colab-df-container {\n",
              "      display:flex;\n",
              "      flex-wrap:wrap;\n",
              "      gap: 12px;\n",
              "    }\n",
              "\n",
              "    .colab-df-convert {\n",
              "      background-color: #E8F0FE;\n",
              "      border: none;\n",
              "      border-radius: 50%;\n",
              "      cursor: pointer;\n",
              "      display: none;\n",
              "      fill: #1967D2;\n",
              "      height: 32px;\n",
              "      padding: 0 0 0 0;\n",
              "      width: 32px;\n",
              "    }\n",
              "\n",
              "    .colab-df-convert:hover {\n",
              "      background-color: #E2EBFA;\n",
              "      box-shadow: 0px 1px 2px rgba(60, 64, 67, 0.3), 0px 1px 3px 1px rgba(60, 64, 67, 0.15);\n",
              "      fill: #174EA6;\n",
              "    }\n",
              "\n",
              "    [theme=dark] .colab-df-convert {\n",
              "      background-color: #3B4455;\n",
              "      fill: #D2E3FC;\n",
              "    }\n",
              "\n",
              "    [theme=dark] .colab-df-convert:hover {\n",
              "      background-color: #434B5C;\n",
              "      box-shadow: 0px 1px 3px 1px rgba(0, 0, 0, 0.15);\n",
              "      filter: drop-shadow(0px 1px 2px rgba(0, 0, 0, 0.3));\n",
              "      fill: #FFFFFF;\n",
              "    }\n",
              "  </style>\n",
              "\n",
              "      <script>\n",
              "        const buttonEl =\n",
              "          document.querySelector('#df-7422c413-5b6c-4bcb-b083-ff580ac4b67e button.colab-df-convert');\n",
              "        buttonEl.style.display =\n",
              "          google.colab.kernel.accessAllowed ? 'block' : 'none';\n",
              "\n",
              "        async function convertToInteractive(key) {\n",
              "          const element = document.querySelector('#df-7422c413-5b6c-4bcb-b083-ff580ac4b67e');\n",
              "          const dataTable =\n",
              "            await google.colab.kernel.invokeFunction('convertToInteractive',\n",
              "                                                     [key], {});\n",
              "          if (!dataTable) return;\n",
              "\n",
              "          const docLinkHtml = 'Like what you see? Visit the ' +\n",
              "            '<a target=\"_blank\" href=https://colab.research.google.com/notebooks/data_table.ipynb>data table notebook</a>'\n",
              "            + ' to learn more about interactive tables.';\n",
              "          element.innerHTML = '';\n",
              "          dataTable['output_type'] = 'display_data';\n",
              "          await google.colab.output.renderOutput(dataTable, element);\n",
              "          const docLink = document.createElement('div');\n",
              "          docLink.innerHTML = docLinkHtml;\n",
              "          element.appendChild(docLink);\n",
              "        }\n",
              "      </script>\n",
              "    </div>\n",
              "  </div>\n",
              "  "
            ],
            "text/plain": [
              "lender_servicing_lender_state_city  False    True     All\n",
              "Removed                                                  \n",
              "False                               41520  512308  553828\n",
              "True                                  441   25395   25836\n",
              "All                                 41961  537703  579664"
            ]
          },
          "execution_count": 108,
          "metadata": {},
          "output_type": "execute_result"
        }
      ],
      "source": [
        "tab=pd.crosstab(index=combined_data['Removed'], columns=combined_data['lender_servicing_lender_state_city'], margins=True)\n",
        "tab"
      ]
    },
    {
      "cell_type": "code",
      "execution_count": null,
      "metadata": {
        "colab": {
          "base_uri": "https://localhost:8080/",
          "height": 144
        },
        "id": "R9kpdGgaMQi0",
        "outputId": "14f4ced4-b8c6-483c-f835-2e213983ee3c"
      },
      "outputs": [
        {
          "data": {
            "text/html": [
              "\n",
              "  <div id=\"df-6ce82023-3d2c-4069-bae9-6d54e53d9604\">\n",
              "    <div class=\"colab-df-container\">\n",
              "      <div>\n",
              "<style scoped>\n",
              "    .dataframe tbody tr th:only-of-type {\n",
              "        vertical-align: middle;\n",
              "    }\n",
              "\n",
              "    .dataframe tbody tr th {\n",
              "        vertical-align: top;\n",
              "    }\n",
              "\n",
              "    .dataframe thead th {\n",
              "        text-align: right;\n",
              "    }\n",
              "</style>\n",
              "<table border=\"1\" class=\"dataframe\">\n",
              "  <thead>\n",
              "    <tr style=\"text-align: right;\">\n",
              "      <th></th>\n",
              "      <th>Top_launched_year_False</th>\n",
              "      <th>Top_launched_year_True</th>\n",
              "      <th>rowtotal</th>\n",
              "    </tr>\n",
              "  </thead>\n",
              "  <tbody>\n",
              "    <tr>\n",
              "      <th>Removed_False</th>\n",
              "      <td>0.98949</td>\n",
              "      <td>0.952771</td>\n",
              "      <td>0.955429</td>\n",
              "    </tr>\n",
              "    <tr>\n",
              "      <th>Removed_True</th>\n",
              "      <td>0.01051</td>\n",
              "      <td>0.047229</td>\n",
              "      <td>0.044571</td>\n",
              "    </tr>\n",
              "    <tr>\n",
              "      <th>coltotal</th>\n",
              "      <td>1.00000</td>\n",
              "      <td>1.000000</td>\n",
              "      <td>1.000000</td>\n",
              "    </tr>\n",
              "  </tbody>\n",
              "</table>\n",
              "</div>\n",
              "      <button class=\"colab-df-convert\" onclick=\"convertToInteractive('df-6ce82023-3d2c-4069-bae9-6d54e53d9604')\"\n",
              "              title=\"Convert this dataframe to an interactive table.\"\n",
              "              style=\"display:none;\">\n",
              "        \n",
              "  <svg xmlns=\"http://www.w3.org/2000/svg\" height=\"24px\"viewBox=\"0 0 24 24\"\n",
              "       width=\"24px\">\n",
              "    <path d=\"M0 0h24v24H0V0z\" fill=\"none\"/>\n",
              "    <path d=\"M18.56 5.44l.94 2.06.94-2.06 2.06-.94-2.06-.94-.94-2.06-.94 2.06-2.06.94zm-11 1L8.5 8.5l.94-2.06 2.06-.94-2.06-.94L8.5 2.5l-.94 2.06-2.06.94zm10 10l.94 2.06.94-2.06 2.06-.94-2.06-.94-.94-2.06-.94 2.06-2.06.94z\"/><path d=\"M17.41 7.96l-1.37-1.37c-.4-.4-.92-.59-1.43-.59-.52 0-1.04.2-1.43.59L10.3 9.45l-7.72 7.72c-.78.78-.78 2.05 0 2.83L4 21.41c.39.39.9.59 1.41.59.51 0 1.02-.2 1.41-.59l7.78-7.78 2.81-2.81c.8-.78.8-2.07 0-2.86zM5.41 20L4 18.59l7.72-7.72 1.47 1.35L5.41 20z\"/>\n",
              "  </svg>\n",
              "      </button>\n",
              "      \n",
              "  <style>\n",
              "    .colab-df-container {\n",
              "      display:flex;\n",
              "      flex-wrap:wrap;\n",
              "      gap: 12px;\n",
              "    }\n",
              "\n",
              "    .colab-df-convert {\n",
              "      background-color: #E8F0FE;\n",
              "      border: none;\n",
              "      border-radius: 50%;\n",
              "      cursor: pointer;\n",
              "      display: none;\n",
              "      fill: #1967D2;\n",
              "      height: 32px;\n",
              "      padding: 0 0 0 0;\n",
              "      width: 32px;\n",
              "    }\n",
              "\n",
              "    .colab-df-convert:hover {\n",
              "      background-color: #E2EBFA;\n",
              "      box-shadow: 0px 1px 2px rgba(60, 64, 67, 0.3), 0px 1px 3px 1px rgba(60, 64, 67, 0.15);\n",
              "      fill: #174EA6;\n",
              "    }\n",
              "\n",
              "    [theme=dark] .colab-df-convert {\n",
              "      background-color: #3B4455;\n",
              "      fill: #D2E3FC;\n",
              "    }\n",
              "\n",
              "    [theme=dark] .colab-df-convert:hover {\n",
              "      background-color: #434B5C;\n",
              "      box-shadow: 0px 1px 3px 1px rgba(0, 0, 0, 0.15);\n",
              "      filter: drop-shadow(0px 1px 2px rgba(0, 0, 0, 0.3));\n",
              "      fill: #FFFFFF;\n",
              "    }\n",
              "  </style>\n",
              "\n",
              "      <script>\n",
              "        const buttonEl =\n",
              "          document.querySelector('#df-6ce82023-3d2c-4069-bae9-6d54e53d9604 button.colab-df-convert');\n",
              "        buttonEl.style.display =\n",
              "          google.colab.kernel.accessAllowed ? 'block' : 'none';\n",
              "\n",
              "        async function convertToInteractive(key) {\n",
              "          const element = document.querySelector('#df-6ce82023-3d2c-4069-bae9-6d54e53d9604');\n",
              "          const dataTable =\n",
              "            await google.colab.kernel.invokeFunction('convertToInteractive',\n",
              "                                                     [key], {});\n",
              "          if (!dataTable) return;\n",
              "\n",
              "          const docLinkHtml = 'Like what you see? Visit the ' +\n",
              "            '<a target=\"_blank\" href=https://colab.research.google.com/notebooks/data_table.ipynb>data table notebook</a>'\n",
              "            + ' to learn more about interactive tables.';\n",
              "          element.innerHTML = '';\n",
              "          dataTable['output_type'] = 'display_data';\n",
              "          await google.colab.output.renderOutput(dataTable, element);\n",
              "          const docLink = document.createElement('div');\n",
              "          docLink.innerHTML = docLinkHtml;\n",
              "          element.appendChild(docLink);\n",
              "        }\n",
              "      </script>\n",
              "    </div>\n",
              "  </div>\n",
              "  "
            ],
            "text/plain": [
              "               Top_launched_year_False  Top_launched_year_True  rowtotal\n",
              "Removed_False                  0.98949                0.952771  0.955429\n",
              "Removed_True                   0.01051                0.047229  0.044571\n",
              "coltotal                       1.00000                1.000000  1.000000"
            ]
          },
          "execution_count": 109,
          "metadata": {},
          "output_type": "execute_result"
        }
      ],
      "source": [
        "tab.columns = ['Top_launched_year_False','Top_launched_year_True',\"rowtotal\"]\n",
        "tab.index= ['Removed_False','Removed_True',\"coltotal\"]\n",
        "\n",
        "tab/tab.loc[\"coltotal\"]"
      ]
    },
    {
      "cell_type": "code",
      "execution_count": null,
      "metadata": {
        "colab": {
          "base_uri": "https://localhost:8080/"
        },
        "id": "50doVh4N_Qj3",
        "outputId": "f8343108-1104-4f99-838d-f850c0e540c3"
      },
      "outputs": [
        {
          "data": {
            "text/plain": [
              "Index(['name', 'amount', 'state', 'address', 'city', 'zip', 'naics_code',\n",
              "       'business_type', 'jobs_retained', 'date_approved', 'lender',\n",
              "       'congressional_district', 'loan_number', 'sba_office_code',\n",
              "       'processing_method', 'loan_status', 'term', 'sba_guaranty_percentage',\n",
              "       'initial_approval_amount', 'current_approval_amount',\n",
              "       'undisbursed_amount', 'servicing_lender_location_id',\n",
              "       'servicing_lender_name', 'servicing_lender_address',\n",
              "       'servicing_lender_city', 'servicing_lender_state',\n",
              "       'servicing_lender_zip', 'rural_urban_indicator', 'hubzone_indicator',\n",
              "       'business_age_description', 'project_city', 'project_county_name',\n",
              "       'project_state', 'project_zip', 'originating_lender_city',\n",
              "       'originating_lender_state', 'loan_status_date',\n",
              "       'originating_lender_location_id', 'lmi_indicator', 'forgiveness_amount',\n",
              "       'forgiveness_date', 'Removed', 'amount_per_join', 'Date_launched',\n",
              "       'launched_year', 'launched_month', 'Difference_current_initial_amount',\n",
              "       'naics_code_name', 'city_name_top', 'city_name', 'servicing_lender_top',\n",
              "       'servicing_lender_state_top', 'servicing_lender_city_top',\n",
              "       'project_city_top', 'project_county_top', 'lender_state_top',\n",
              "       'lender_city_top', 'lender_servicing_lender_city',\n",
              "       'lender_servicing_lender_state', 'lender_servicing_lender_state_city'],\n",
              "      dtype='object')"
            ]
          },
          "execution_count": 110,
          "metadata": {},
          "output_type": "execute_result"
        }
      ],
      "source": [
        "combined_data.columns"
      ]
    },
    {
      "cell_type": "code",
      "execution_count": null,
      "metadata": {
        "id": "fn4DPJVpQ0-0"
      },
      "outputs": [],
      "source": [
        "categorical_data = pd.DataFrame(combined_data,columns=['launched_month','launched_year','naics_code_name', 'business_type', 'city_name_top', 'servicing_lender_top', 'servicing_lender_state_top', 'servicing_lender_city_top', 'project_city_top', 'project_county_top'\n",
        ", 'lender_state_top', 'lender_city_top', 'lender_servicing_lender_state_city'])"
      ]
    },
    {
      "cell_type": "code",
      "execution_count": null,
      "metadata": {
        "colab": {
          "base_uri": "https://localhost:8080/",
          "height": 572
        },
        "id": "q7x-n8Esc6Fu",
        "outputId": "4dee06c8-320a-4ccf-a233-e56f2285bf3f"
      },
      "outputs": [
        {
          "data": {
            "text/html": [
              "\n",
              "  <div id=\"df-d553c476-8904-4d9d-9b32-00f93d4b21f1\">\n",
              "    <div class=\"colab-df-container\">\n",
              "      <div>\n",
              "<style scoped>\n",
              "    .dataframe tbody tr th:only-of-type {\n",
              "        vertical-align: middle;\n",
              "    }\n",
              "\n",
              "    .dataframe tbody tr th {\n",
              "        vertical-align: top;\n",
              "    }\n",
              "\n",
              "    .dataframe thead th {\n",
              "        text-align: right;\n",
              "    }\n",
              "</style>\n",
              "<table border=\"1\" class=\"dataframe\">\n",
              "  <thead>\n",
              "    <tr style=\"text-align: right;\">\n",
              "      <th></th>\n",
              "      <th>launched_month</th>\n",
              "      <th>launched_year</th>\n",
              "      <th>naics_code_name</th>\n",
              "      <th>business_type</th>\n",
              "      <th>city_name_top</th>\n",
              "      <th>servicing_lender_top</th>\n",
              "      <th>servicing_lender_state_top</th>\n",
              "      <th>servicing_lender_city_top</th>\n",
              "      <th>project_city_top</th>\n",
              "      <th>project_county_top</th>\n",
              "      <th>lender_state_top</th>\n",
              "      <th>lender_city_top</th>\n",
              "      <th>lender_servicing_lender_state_city</th>\n",
              "    </tr>\n",
              "  </thead>\n",
              "  <tbody>\n",
              "    <tr>\n",
              "      <th>0</th>\n",
              "      <td>2</td>\n",
              "      <td>2021</td>\n",
              "      <td>Manufacturing</td>\n",
              "      <td>Corporation</td>\n",
              "      <td>Top_city</td>\n",
              "      <td>Other</td>\n",
              "      <td>Other</td>\n",
              "      <td>Other</td>\n",
              "      <td>Other</td>\n",
              "      <td>Other</td>\n",
              "      <td>Other</td>\n",
              "      <td>Other</td>\n",
              "      <td>True</td>\n",
              "    </tr>\n",
              "    <tr>\n",
              "      <th>1</th>\n",
              "      <td>1</td>\n",
              "      <td>2021</td>\n",
              "      <td>Professional, Scientific, and Technical Services</td>\n",
              "      <td>Corporation</td>\n",
              "      <td>Other</td>\n",
              "      <td>Top</td>\n",
              "      <td>Top</td>\n",
              "      <td>Top</td>\n",
              "      <td>Other</td>\n",
              "      <td>Top</td>\n",
              "      <td>Top</td>\n",
              "      <td>Top</td>\n",
              "      <td>True</td>\n",
              "    </tr>\n",
              "    <tr>\n",
              "      <th>2</th>\n",
              "      <td>3</td>\n",
              "      <td>2021</td>\n",
              "      <td>Construction</td>\n",
              "      <td>Corporation</td>\n",
              "      <td>Top_city</td>\n",
              "      <td>Top</td>\n",
              "      <td>Top</td>\n",
              "      <td>Top</td>\n",
              "      <td>Other</td>\n",
              "      <td>Other</td>\n",
              "      <td>Top</td>\n",
              "      <td>Top</td>\n",
              "      <td>True</td>\n",
              "    </tr>\n",
              "    <tr>\n",
              "      <th>3</th>\n",
              "      <td>2</td>\n",
              "      <td>2021</td>\n",
              "      <td>Manufacturing</td>\n",
              "      <td>Corporation</td>\n",
              "      <td>Other</td>\n",
              "      <td>Top</td>\n",
              "      <td>Top</td>\n",
              "      <td>Top</td>\n",
              "      <td>Other</td>\n",
              "      <td>Other</td>\n",
              "      <td>Top</td>\n",
              "      <td>Top</td>\n",
              "      <td>True</td>\n",
              "    </tr>\n",
              "    <tr>\n",
              "      <th>4</th>\n",
              "      <td>4</td>\n",
              "      <td>2020</td>\n",
              "      <td>Retail Trade</td>\n",
              "      <td>Partnership</td>\n",
              "      <td>Other</td>\n",
              "      <td>Other</td>\n",
              "      <td>Top</td>\n",
              "      <td>Top</td>\n",
              "      <td>Other</td>\n",
              "      <td>Other</td>\n",
              "      <td>Top</td>\n",
              "      <td>Top</td>\n",
              "      <td>True</td>\n",
              "    </tr>\n",
              "    <tr>\n",
              "      <th>...</th>\n",
              "      <td>...</td>\n",
              "      <td>...</td>\n",
              "      <td>...</td>\n",
              "      <td>...</td>\n",
              "      <td>...</td>\n",
              "      <td>...</td>\n",
              "      <td>...</td>\n",
              "      <td>...</td>\n",
              "      <td>...</td>\n",
              "      <td>...</td>\n",
              "      <td>...</td>\n",
              "      <td>...</td>\n",
              "      <td>...</td>\n",
              "    </tr>\n",
              "    <tr>\n",
              "      <th>579659</th>\n",
              "      <td>4</td>\n",
              "      <td>2021</td>\n",
              "      <td>Health Care and Social Assistance</td>\n",
              "      <td>Sole Proprietorship</td>\n",
              "      <td>Other</td>\n",
              "      <td>Top</td>\n",
              "      <td>Top</td>\n",
              "      <td>Top</td>\n",
              "      <td>Other</td>\n",
              "      <td>Other</td>\n",
              "      <td>Top</td>\n",
              "      <td>Top</td>\n",
              "      <td>True</td>\n",
              "    </tr>\n",
              "    <tr>\n",
              "      <th>579660</th>\n",
              "      <td>5</td>\n",
              "      <td>2021</td>\n",
              "      <td>Transportation and Warehousing</td>\n",
              "      <td>Independent Contractors</td>\n",
              "      <td>Top_city</td>\n",
              "      <td>Top</td>\n",
              "      <td>Top</td>\n",
              "      <td>Top</td>\n",
              "      <td>Top_city</td>\n",
              "      <td>Top</td>\n",
              "      <td>Top</td>\n",
              "      <td>Top</td>\n",
              "      <td>True</td>\n",
              "    </tr>\n",
              "    <tr>\n",
              "      <th>579661</th>\n",
              "      <td>4</td>\n",
              "      <td>2021</td>\n",
              "      <td>Transportation and Warehousing</td>\n",
              "      <td>Independent Contractors</td>\n",
              "      <td>Top_city</td>\n",
              "      <td>Top</td>\n",
              "      <td>Top</td>\n",
              "      <td>Top</td>\n",
              "      <td>Top_city</td>\n",
              "      <td>Top</td>\n",
              "      <td>Top</td>\n",
              "      <td>Top</td>\n",
              "      <td>True</td>\n",
              "    </tr>\n",
              "    <tr>\n",
              "      <th>579662</th>\n",
              "      <td>5</td>\n",
              "      <td>2021</td>\n",
              "      <td>Administrative and Support and Waste Managemen...</td>\n",
              "      <td>Limited  Liability Company(LLC)</td>\n",
              "      <td>Other</td>\n",
              "      <td>Top</td>\n",
              "      <td>Top</td>\n",
              "      <td>Top</td>\n",
              "      <td>Other</td>\n",
              "      <td>Other</td>\n",
              "      <td>Top</td>\n",
              "      <td>Top</td>\n",
              "      <td>True</td>\n",
              "    </tr>\n",
              "    <tr>\n",
              "      <th>579663</th>\n",
              "      <td>5</td>\n",
              "      <td>2021</td>\n",
              "      <td>Administrative and Support and Waste Managemen...</td>\n",
              "      <td>Independent Contractors</td>\n",
              "      <td>Other</td>\n",
              "      <td>Top</td>\n",
              "      <td>Top</td>\n",
              "      <td>Top</td>\n",
              "      <td>Other</td>\n",
              "      <td>Other</td>\n",
              "      <td>Top</td>\n",
              "      <td>Top</td>\n",
              "      <td>True</td>\n",
              "    </tr>\n",
              "  </tbody>\n",
              "</table>\n",
              "<p>579664 rows × 13 columns</p>\n",
              "</div>\n",
              "      <button class=\"colab-df-convert\" onclick=\"convertToInteractive('df-d553c476-8904-4d9d-9b32-00f93d4b21f1')\"\n",
              "              title=\"Convert this dataframe to an interactive table.\"\n",
              "              style=\"display:none;\">\n",
              "        \n",
              "  <svg xmlns=\"http://www.w3.org/2000/svg\" height=\"24px\"viewBox=\"0 0 24 24\"\n",
              "       width=\"24px\">\n",
              "    <path d=\"M0 0h24v24H0V0z\" fill=\"none\"/>\n",
              "    <path d=\"M18.56 5.44l.94 2.06.94-2.06 2.06-.94-2.06-.94-.94-2.06-.94 2.06-2.06.94zm-11 1L8.5 8.5l.94-2.06 2.06-.94-2.06-.94L8.5 2.5l-.94 2.06-2.06.94zm10 10l.94 2.06.94-2.06 2.06-.94-2.06-.94-.94-2.06-.94 2.06-2.06.94z\"/><path d=\"M17.41 7.96l-1.37-1.37c-.4-.4-.92-.59-1.43-.59-.52 0-1.04.2-1.43.59L10.3 9.45l-7.72 7.72c-.78.78-.78 2.05 0 2.83L4 21.41c.39.39.9.59 1.41.59.51 0 1.02-.2 1.41-.59l7.78-7.78 2.81-2.81c.8-.78.8-2.07 0-2.86zM5.41 20L4 18.59l7.72-7.72 1.47 1.35L5.41 20z\"/>\n",
              "  </svg>\n",
              "      </button>\n",
              "      \n",
              "  <style>\n",
              "    .colab-df-container {\n",
              "      display:flex;\n",
              "      flex-wrap:wrap;\n",
              "      gap: 12px;\n",
              "    }\n",
              "\n",
              "    .colab-df-convert {\n",
              "      background-color: #E8F0FE;\n",
              "      border: none;\n",
              "      border-radius: 50%;\n",
              "      cursor: pointer;\n",
              "      display: none;\n",
              "      fill: #1967D2;\n",
              "      height: 32px;\n",
              "      padding: 0 0 0 0;\n",
              "      width: 32px;\n",
              "    }\n",
              "\n",
              "    .colab-df-convert:hover {\n",
              "      background-color: #E2EBFA;\n",
              "      box-shadow: 0px 1px 2px rgba(60, 64, 67, 0.3), 0px 1px 3px 1px rgba(60, 64, 67, 0.15);\n",
              "      fill: #174EA6;\n",
              "    }\n",
              "\n",
              "    [theme=dark] .colab-df-convert {\n",
              "      background-color: #3B4455;\n",
              "      fill: #D2E3FC;\n",
              "    }\n",
              "\n",
              "    [theme=dark] .colab-df-convert:hover {\n",
              "      background-color: #434B5C;\n",
              "      box-shadow: 0px 1px 3px 1px rgba(0, 0, 0, 0.15);\n",
              "      filter: drop-shadow(0px 1px 2px rgba(0, 0, 0, 0.3));\n",
              "      fill: #FFFFFF;\n",
              "    }\n",
              "  </style>\n",
              "\n",
              "      <script>\n",
              "        const buttonEl =\n",
              "          document.querySelector('#df-d553c476-8904-4d9d-9b32-00f93d4b21f1 button.colab-df-convert');\n",
              "        buttonEl.style.display =\n",
              "          google.colab.kernel.accessAllowed ? 'block' : 'none';\n",
              "\n",
              "        async function convertToInteractive(key) {\n",
              "          const element = document.querySelector('#df-d553c476-8904-4d9d-9b32-00f93d4b21f1');\n",
              "          const dataTable =\n",
              "            await google.colab.kernel.invokeFunction('convertToInteractive',\n",
              "                                                     [key], {});\n",
              "          if (!dataTable) return;\n",
              "\n",
              "          const docLinkHtml = 'Like what you see? Visit the ' +\n",
              "            '<a target=\"_blank\" href=https://colab.research.google.com/notebooks/data_table.ipynb>data table notebook</a>'\n",
              "            + ' to learn more about interactive tables.';\n",
              "          element.innerHTML = '';\n",
              "          dataTable['output_type'] = 'display_data';\n",
              "          await google.colab.output.renderOutput(dataTable, element);\n",
              "          const docLink = document.createElement('div');\n",
              "          docLink.innerHTML = docLinkHtml;\n",
              "          element.appendChild(docLink);\n",
              "        }\n",
              "      </script>\n",
              "    </div>\n",
              "  </div>\n",
              "  "
            ],
            "text/plain": [
              "        launched_month  launched_year  \\\n",
              "0                    2           2021   \n",
              "1                    1           2021   \n",
              "2                    3           2021   \n",
              "3                    2           2021   \n",
              "4                    4           2020   \n",
              "...                ...            ...   \n",
              "579659               4           2021   \n",
              "579660               5           2021   \n",
              "579661               4           2021   \n",
              "579662               5           2021   \n",
              "579663               5           2021   \n",
              "\n",
              "                                          naics_code_name  \\\n",
              "0                                           Manufacturing   \n",
              "1        Professional, Scientific, and Technical Services   \n",
              "2                                            Construction   \n",
              "3                                           Manufacturing   \n",
              "4                                            Retail Trade   \n",
              "...                                                   ...   \n",
              "579659                  Health Care and Social Assistance   \n",
              "579660                     Transportation and Warehousing   \n",
              "579661                     Transportation and Warehousing   \n",
              "579662  Administrative and Support and Waste Managemen...   \n",
              "579663  Administrative and Support and Waste Managemen...   \n",
              "\n",
              "                          business_type city_name_top servicing_lender_top  \\\n",
              "0                           Corporation      Top_city                Other   \n",
              "1                           Corporation         Other                  Top   \n",
              "2                           Corporation      Top_city                  Top   \n",
              "3                           Corporation         Other                  Top   \n",
              "4                           Partnership         Other                Other   \n",
              "...                                 ...           ...                  ...   \n",
              "579659              Sole Proprietorship         Other                  Top   \n",
              "579660          Independent Contractors      Top_city                  Top   \n",
              "579661          Independent Contractors      Top_city                  Top   \n",
              "579662  Limited  Liability Company(LLC)         Other                  Top   \n",
              "579663          Independent Contractors         Other                  Top   \n",
              "\n",
              "       servicing_lender_state_top servicing_lender_city_top project_city_top  \\\n",
              "0                           Other                     Other            Other   \n",
              "1                             Top                       Top            Other   \n",
              "2                             Top                       Top            Other   \n",
              "3                             Top                       Top            Other   \n",
              "4                             Top                       Top            Other   \n",
              "...                           ...                       ...              ...   \n",
              "579659                        Top                       Top            Other   \n",
              "579660                        Top                       Top         Top_city   \n",
              "579661                        Top                       Top         Top_city   \n",
              "579662                        Top                       Top            Other   \n",
              "579663                        Top                       Top            Other   \n",
              "\n",
              "       project_county_top lender_state_top lender_city_top  \\\n",
              "0                   Other            Other           Other   \n",
              "1                     Top              Top             Top   \n",
              "2                   Other              Top             Top   \n",
              "3                   Other              Top             Top   \n",
              "4                   Other              Top             Top   \n",
              "...                   ...              ...             ...   \n",
              "579659              Other              Top             Top   \n",
              "579660                Top              Top             Top   \n",
              "579661                Top              Top             Top   \n",
              "579662              Other              Top             Top   \n",
              "579663              Other              Top             Top   \n",
              "\n",
              "        lender_servicing_lender_state_city  \n",
              "0                                     True  \n",
              "1                                     True  \n",
              "2                                     True  \n",
              "3                                     True  \n",
              "4                                     True  \n",
              "...                                    ...  \n",
              "579659                                True  \n",
              "579660                                True  \n",
              "579661                                True  \n",
              "579662                                True  \n",
              "579663                                True  \n",
              "\n",
              "[579664 rows x 13 columns]"
            ]
          },
          "execution_count": 112,
          "metadata": {},
          "output_type": "execute_result"
        }
      ],
      "source": [
        "categorical_data"
      ]
    },
    {
      "cell_type": "code",
      "execution_count": null,
      "metadata": {
        "id": "w6X_L0ySbyCF"
      },
      "outputs": [],
      "source": [
        "categorical_data_dummy = pd.get_dummies(categorical_data,\n",
        "                     columns = ['launched_month','launched_year','naics_code_name', 'business_type', 'city_name_top', 'servicing_lender_top', 'servicing_lender_state_top', 'servicing_lender_city_top', 'project_city_top', 'project_county_top'\n",
        ", 'lender_state_top', 'lender_city_top', 'lender_servicing_lender_state_city'])"
      ]
    },
    {
      "cell_type": "code",
      "execution_count": null,
      "metadata": {
        "colab": {
          "base_uri": "https://localhost:8080/",
          "height": 488
        },
        "id": "LVqgCOdjc5Rl",
        "outputId": "9b84253f-dd37-4940-c1b9-e6c0baeca4a6"
      },
      "outputs": [
        {
          "data": {
            "text/html": [
              "\n",
              "  <div id=\"df-accbcc3b-94d5-4ade-b571-4c7497d4b5f6\">\n",
              "    <div class=\"colab-df-container\">\n",
              "      <div>\n",
              "<style scoped>\n",
              "    .dataframe tbody tr th:only-of-type {\n",
              "        vertical-align: middle;\n",
              "    }\n",
              "\n",
              "    .dataframe tbody tr th {\n",
              "        vertical-align: top;\n",
              "    }\n",
              "\n",
              "    .dataframe thead th {\n",
              "        text-align: right;\n",
              "    }\n",
              "</style>\n",
              "<table border=\"1\" class=\"dataframe\">\n",
              "  <thead>\n",
              "    <tr style=\"text-align: right;\">\n",
              "      <th></th>\n",
              "      <th>launched_month_1</th>\n",
              "      <th>launched_month_2</th>\n",
              "      <th>launched_month_3</th>\n",
              "      <th>launched_month_4</th>\n",
              "      <th>launched_month_5</th>\n",
              "      <th>launched_month_6</th>\n",
              "      <th>launched_month_7</th>\n",
              "      <th>launched_month_8</th>\n",
              "      <th>launched_year_2020</th>\n",
              "      <th>launched_year_2021</th>\n",
              "      <th>...</th>\n",
              "      <th>project_city_top_Other</th>\n",
              "      <th>project_city_top_Top_city</th>\n",
              "      <th>project_county_top_Other</th>\n",
              "      <th>project_county_top_Top</th>\n",
              "      <th>lender_state_top_Other</th>\n",
              "      <th>lender_state_top_Top</th>\n",
              "      <th>lender_city_top_Other</th>\n",
              "      <th>lender_city_top_Top</th>\n",
              "      <th>lender_servicing_lender_state_city_False</th>\n",
              "      <th>lender_servicing_lender_state_city_True</th>\n",
              "    </tr>\n",
              "  </thead>\n",
              "  <tbody>\n",
              "    <tr>\n",
              "      <th>0</th>\n",
              "      <td>0</td>\n",
              "      <td>1</td>\n",
              "      <td>0</td>\n",
              "      <td>0</td>\n",
              "      <td>0</td>\n",
              "      <td>0</td>\n",
              "      <td>0</td>\n",
              "      <td>0</td>\n",
              "      <td>0</td>\n",
              "      <td>1</td>\n",
              "      <td>...</td>\n",
              "      <td>1</td>\n",
              "      <td>0</td>\n",
              "      <td>1</td>\n",
              "      <td>0</td>\n",
              "      <td>1</td>\n",
              "      <td>0</td>\n",
              "      <td>1</td>\n",
              "      <td>0</td>\n",
              "      <td>0</td>\n",
              "      <td>1</td>\n",
              "    </tr>\n",
              "    <tr>\n",
              "      <th>1</th>\n",
              "      <td>1</td>\n",
              "      <td>0</td>\n",
              "      <td>0</td>\n",
              "      <td>0</td>\n",
              "      <td>0</td>\n",
              "      <td>0</td>\n",
              "      <td>0</td>\n",
              "      <td>0</td>\n",
              "      <td>0</td>\n",
              "      <td>1</td>\n",
              "      <td>...</td>\n",
              "      <td>1</td>\n",
              "      <td>0</td>\n",
              "      <td>0</td>\n",
              "      <td>1</td>\n",
              "      <td>0</td>\n",
              "      <td>1</td>\n",
              "      <td>0</td>\n",
              "      <td>1</td>\n",
              "      <td>0</td>\n",
              "      <td>1</td>\n",
              "    </tr>\n",
              "    <tr>\n",
              "      <th>2</th>\n",
              "      <td>0</td>\n",
              "      <td>0</td>\n",
              "      <td>1</td>\n",
              "      <td>0</td>\n",
              "      <td>0</td>\n",
              "      <td>0</td>\n",
              "      <td>0</td>\n",
              "      <td>0</td>\n",
              "      <td>0</td>\n",
              "      <td>1</td>\n",
              "      <td>...</td>\n",
              "      <td>1</td>\n",
              "      <td>0</td>\n",
              "      <td>1</td>\n",
              "      <td>0</td>\n",
              "      <td>0</td>\n",
              "      <td>1</td>\n",
              "      <td>0</td>\n",
              "      <td>1</td>\n",
              "      <td>0</td>\n",
              "      <td>1</td>\n",
              "    </tr>\n",
              "    <tr>\n",
              "      <th>3</th>\n",
              "      <td>0</td>\n",
              "      <td>1</td>\n",
              "      <td>0</td>\n",
              "      <td>0</td>\n",
              "      <td>0</td>\n",
              "      <td>0</td>\n",
              "      <td>0</td>\n",
              "      <td>0</td>\n",
              "      <td>0</td>\n",
              "      <td>1</td>\n",
              "      <td>...</td>\n",
              "      <td>1</td>\n",
              "      <td>0</td>\n",
              "      <td>1</td>\n",
              "      <td>0</td>\n",
              "      <td>0</td>\n",
              "      <td>1</td>\n",
              "      <td>0</td>\n",
              "      <td>1</td>\n",
              "      <td>0</td>\n",
              "      <td>1</td>\n",
              "    </tr>\n",
              "    <tr>\n",
              "      <th>4</th>\n",
              "      <td>0</td>\n",
              "      <td>0</td>\n",
              "      <td>0</td>\n",
              "      <td>1</td>\n",
              "      <td>0</td>\n",
              "      <td>0</td>\n",
              "      <td>0</td>\n",
              "      <td>0</td>\n",
              "      <td>1</td>\n",
              "      <td>0</td>\n",
              "      <td>...</td>\n",
              "      <td>1</td>\n",
              "      <td>0</td>\n",
              "      <td>1</td>\n",
              "      <td>0</td>\n",
              "      <td>0</td>\n",
              "      <td>1</td>\n",
              "      <td>0</td>\n",
              "      <td>1</td>\n",
              "      <td>0</td>\n",
              "      <td>1</td>\n",
              "    </tr>\n",
              "    <tr>\n",
              "      <th>...</th>\n",
              "      <td>...</td>\n",
              "      <td>...</td>\n",
              "      <td>...</td>\n",
              "      <td>...</td>\n",
              "      <td>...</td>\n",
              "      <td>...</td>\n",
              "      <td>...</td>\n",
              "      <td>...</td>\n",
              "      <td>...</td>\n",
              "      <td>...</td>\n",
              "      <td>...</td>\n",
              "      <td>...</td>\n",
              "      <td>...</td>\n",
              "      <td>...</td>\n",
              "      <td>...</td>\n",
              "      <td>...</td>\n",
              "      <td>...</td>\n",
              "      <td>...</td>\n",
              "      <td>...</td>\n",
              "      <td>...</td>\n",
              "      <td>...</td>\n",
              "    </tr>\n",
              "    <tr>\n",
              "      <th>579659</th>\n",
              "      <td>0</td>\n",
              "      <td>0</td>\n",
              "      <td>0</td>\n",
              "      <td>1</td>\n",
              "      <td>0</td>\n",
              "      <td>0</td>\n",
              "      <td>0</td>\n",
              "      <td>0</td>\n",
              "      <td>0</td>\n",
              "      <td>1</td>\n",
              "      <td>...</td>\n",
              "      <td>1</td>\n",
              "      <td>0</td>\n",
              "      <td>1</td>\n",
              "      <td>0</td>\n",
              "      <td>0</td>\n",
              "      <td>1</td>\n",
              "      <td>0</td>\n",
              "      <td>1</td>\n",
              "      <td>0</td>\n",
              "      <td>1</td>\n",
              "    </tr>\n",
              "    <tr>\n",
              "      <th>579660</th>\n",
              "      <td>0</td>\n",
              "      <td>0</td>\n",
              "      <td>0</td>\n",
              "      <td>0</td>\n",
              "      <td>1</td>\n",
              "      <td>0</td>\n",
              "      <td>0</td>\n",
              "      <td>0</td>\n",
              "      <td>0</td>\n",
              "      <td>1</td>\n",
              "      <td>...</td>\n",
              "      <td>0</td>\n",
              "      <td>1</td>\n",
              "      <td>0</td>\n",
              "      <td>1</td>\n",
              "      <td>0</td>\n",
              "      <td>1</td>\n",
              "      <td>0</td>\n",
              "      <td>1</td>\n",
              "      <td>0</td>\n",
              "      <td>1</td>\n",
              "    </tr>\n",
              "    <tr>\n",
              "      <th>579661</th>\n",
              "      <td>0</td>\n",
              "      <td>0</td>\n",
              "      <td>0</td>\n",
              "      <td>1</td>\n",
              "      <td>0</td>\n",
              "      <td>0</td>\n",
              "      <td>0</td>\n",
              "      <td>0</td>\n",
              "      <td>0</td>\n",
              "      <td>1</td>\n",
              "      <td>...</td>\n",
              "      <td>0</td>\n",
              "      <td>1</td>\n",
              "      <td>0</td>\n",
              "      <td>1</td>\n",
              "      <td>0</td>\n",
              "      <td>1</td>\n",
              "      <td>0</td>\n",
              "      <td>1</td>\n",
              "      <td>0</td>\n",
              "      <td>1</td>\n",
              "    </tr>\n",
              "    <tr>\n",
              "      <th>579662</th>\n",
              "      <td>0</td>\n",
              "      <td>0</td>\n",
              "      <td>0</td>\n",
              "      <td>0</td>\n",
              "      <td>1</td>\n",
              "      <td>0</td>\n",
              "      <td>0</td>\n",
              "      <td>0</td>\n",
              "      <td>0</td>\n",
              "      <td>1</td>\n",
              "      <td>...</td>\n",
              "      <td>1</td>\n",
              "      <td>0</td>\n",
              "      <td>1</td>\n",
              "      <td>0</td>\n",
              "      <td>0</td>\n",
              "      <td>1</td>\n",
              "      <td>0</td>\n",
              "      <td>1</td>\n",
              "      <td>0</td>\n",
              "      <td>1</td>\n",
              "    </tr>\n",
              "    <tr>\n",
              "      <th>579663</th>\n",
              "      <td>0</td>\n",
              "      <td>0</td>\n",
              "      <td>0</td>\n",
              "      <td>0</td>\n",
              "      <td>1</td>\n",
              "      <td>0</td>\n",
              "      <td>0</td>\n",
              "      <td>0</td>\n",
              "      <td>0</td>\n",
              "      <td>1</td>\n",
              "      <td>...</td>\n",
              "      <td>1</td>\n",
              "      <td>0</td>\n",
              "      <td>1</td>\n",
              "      <td>0</td>\n",
              "      <td>0</td>\n",
              "      <td>1</td>\n",
              "      <td>0</td>\n",
              "      <td>1</td>\n",
              "      <td>0</td>\n",
              "      <td>1</td>\n",
              "    </tr>\n",
              "  </tbody>\n",
              "</table>\n",
              "<p>579664 rows × 67 columns</p>\n",
              "</div>\n",
              "      <button class=\"colab-df-convert\" onclick=\"convertToInteractive('df-accbcc3b-94d5-4ade-b571-4c7497d4b5f6')\"\n",
              "              title=\"Convert this dataframe to an interactive table.\"\n",
              "              style=\"display:none;\">\n",
              "        \n",
              "  <svg xmlns=\"http://www.w3.org/2000/svg\" height=\"24px\"viewBox=\"0 0 24 24\"\n",
              "       width=\"24px\">\n",
              "    <path d=\"M0 0h24v24H0V0z\" fill=\"none\"/>\n",
              "    <path d=\"M18.56 5.44l.94 2.06.94-2.06 2.06-.94-2.06-.94-.94-2.06-.94 2.06-2.06.94zm-11 1L8.5 8.5l.94-2.06 2.06-.94-2.06-.94L8.5 2.5l-.94 2.06-2.06.94zm10 10l.94 2.06.94-2.06 2.06-.94-2.06-.94-.94-2.06-.94 2.06-2.06.94z\"/><path d=\"M17.41 7.96l-1.37-1.37c-.4-.4-.92-.59-1.43-.59-.52 0-1.04.2-1.43.59L10.3 9.45l-7.72 7.72c-.78.78-.78 2.05 0 2.83L4 21.41c.39.39.9.59 1.41.59.51 0 1.02-.2 1.41-.59l7.78-7.78 2.81-2.81c.8-.78.8-2.07 0-2.86zM5.41 20L4 18.59l7.72-7.72 1.47 1.35L5.41 20z\"/>\n",
              "  </svg>\n",
              "      </button>\n",
              "      \n",
              "  <style>\n",
              "    .colab-df-container {\n",
              "      display:flex;\n",
              "      flex-wrap:wrap;\n",
              "      gap: 12px;\n",
              "    }\n",
              "\n",
              "    .colab-df-convert {\n",
              "      background-color: #E8F0FE;\n",
              "      border: none;\n",
              "      border-radius: 50%;\n",
              "      cursor: pointer;\n",
              "      display: none;\n",
              "      fill: #1967D2;\n",
              "      height: 32px;\n",
              "      padding: 0 0 0 0;\n",
              "      width: 32px;\n",
              "    }\n",
              "\n",
              "    .colab-df-convert:hover {\n",
              "      background-color: #E2EBFA;\n",
              "      box-shadow: 0px 1px 2px rgba(60, 64, 67, 0.3), 0px 1px 3px 1px rgba(60, 64, 67, 0.15);\n",
              "      fill: #174EA6;\n",
              "    }\n",
              "\n",
              "    [theme=dark] .colab-df-convert {\n",
              "      background-color: #3B4455;\n",
              "      fill: #D2E3FC;\n",
              "    }\n",
              "\n",
              "    [theme=dark] .colab-df-convert:hover {\n",
              "      background-color: #434B5C;\n",
              "      box-shadow: 0px 1px 3px 1px rgba(0, 0, 0, 0.15);\n",
              "      filter: drop-shadow(0px 1px 2px rgba(0, 0, 0, 0.3));\n",
              "      fill: #FFFFFF;\n",
              "    }\n",
              "  </style>\n",
              "\n",
              "      <script>\n",
              "        const buttonEl =\n",
              "          document.querySelector('#df-accbcc3b-94d5-4ade-b571-4c7497d4b5f6 button.colab-df-convert');\n",
              "        buttonEl.style.display =\n",
              "          google.colab.kernel.accessAllowed ? 'block' : 'none';\n",
              "\n",
              "        async function convertToInteractive(key) {\n",
              "          const element = document.querySelector('#df-accbcc3b-94d5-4ade-b571-4c7497d4b5f6');\n",
              "          const dataTable =\n",
              "            await google.colab.kernel.invokeFunction('convertToInteractive',\n",
              "                                                     [key], {});\n",
              "          if (!dataTable) return;\n",
              "\n",
              "          const docLinkHtml = 'Like what you see? Visit the ' +\n",
              "            '<a target=\"_blank\" href=https://colab.research.google.com/notebooks/data_table.ipynb>data table notebook</a>'\n",
              "            + ' to learn more about interactive tables.';\n",
              "          element.innerHTML = '';\n",
              "          dataTable['output_type'] = 'display_data';\n",
              "          await google.colab.output.renderOutput(dataTable, element);\n",
              "          const docLink = document.createElement('div');\n",
              "          docLink.innerHTML = docLinkHtml;\n",
              "          element.appendChild(docLink);\n",
              "        }\n",
              "      </script>\n",
              "    </div>\n",
              "  </div>\n",
              "  "
            ],
            "text/plain": [
              "        launched_month_1  launched_month_2  launched_month_3  \\\n",
              "0                      0                 1                 0   \n",
              "1                      1                 0                 0   \n",
              "2                      0                 0                 1   \n",
              "3                      0                 1                 0   \n",
              "4                      0                 0                 0   \n",
              "...                  ...               ...               ...   \n",
              "579659                 0                 0                 0   \n",
              "579660                 0                 0                 0   \n",
              "579661                 0                 0                 0   \n",
              "579662                 0                 0                 0   \n",
              "579663                 0                 0                 0   \n",
              "\n",
              "        launched_month_4  launched_month_5  launched_month_6  \\\n",
              "0                      0                 0                 0   \n",
              "1                      0                 0                 0   \n",
              "2                      0                 0                 0   \n",
              "3                      0                 0                 0   \n",
              "4                      1                 0                 0   \n",
              "...                  ...               ...               ...   \n",
              "579659                 1                 0                 0   \n",
              "579660                 0                 1                 0   \n",
              "579661                 1                 0                 0   \n",
              "579662                 0                 1                 0   \n",
              "579663                 0                 1                 0   \n",
              "\n",
              "        launched_month_7  launched_month_8  launched_year_2020  \\\n",
              "0                      0                 0                   0   \n",
              "1                      0                 0                   0   \n",
              "2                      0                 0                   0   \n",
              "3                      0                 0                   0   \n",
              "4                      0                 0                   1   \n",
              "...                  ...               ...                 ...   \n",
              "579659                 0                 0                   0   \n",
              "579660                 0                 0                   0   \n",
              "579661                 0                 0                   0   \n",
              "579662                 0                 0                   0   \n",
              "579663                 0                 0                   0   \n",
              "\n",
              "        launched_year_2021  ...  project_city_top_Other  \\\n",
              "0                        1  ...                       1   \n",
              "1                        1  ...                       1   \n",
              "2                        1  ...                       1   \n",
              "3                        1  ...                       1   \n",
              "4                        0  ...                       1   \n",
              "...                    ...  ...                     ...   \n",
              "579659                   1  ...                       1   \n",
              "579660                   1  ...                       0   \n",
              "579661                   1  ...                       0   \n",
              "579662                   1  ...                       1   \n",
              "579663                   1  ...                       1   \n",
              "\n",
              "        project_city_top_Top_city  project_county_top_Other  \\\n",
              "0                               0                         1   \n",
              "1                               0                         0   \n",
              "2                               0                         1   \n",
              "3                               0                         1   \n",
              "4                               0                         1   \n",
              "...                           ...                       ...   \n",
              "579659                          0                         1   \n",
              "579660                          1                         0   \n",
              "579661                          1                         0   \n",
              "579662                          0                         1   \n",
              "579663                          0                         1   \n",
              "\n",
              "        project_county_top_Top  lender_state_top_Other  lender_state_top_Top  \\\n",
              "0                            0                       1                     0   \n",
              "1                            1                       0                     1   \n",
              "2                            0                       0                     1   \n",
              "3                            0                       0                     1   \n",
              "4                            0                       0                     1   \n",
              "...                        ...                     ...                   ...   \n",
              "579659                       0                       0                     1   \n",
              "579660                       1                       0                     1   \n",
              "579661                       1                       0                     1   \n",
              "579662                       0                       0                     1   \n",
              "579663                       0                       0                     1   \n",
              "\n",
              "        lender_city_top_Other  lender_city_top_Top  \\\n",
              "0                           1                    0   \n",
              "1                           0                    1   \n",
              "2                           0                    1   \n",
              "3                           0                    1   \n",
              "4                           0                    1   \n",
              "...                       ...                  ...   \n",
              "579659                      0                    1   \n",
              "579660                      0                    1   \n",
              "579661                      0                    1   \n",
              "579662                      0                    1   \n",
              "579663                      0                    1   \n",
              "\n",
              "        lender_servicing_lender_state_city_False  \\\n",
              "0                                              0   \n",
              "1                                              0   \n",
              "2                                              0   \n",
              "3                                              0   \n",
              "4                                              0   \n",
              "...                                          ...   \n",
              "579659                                         0   \n",
              "579660                                         0   \n",
              "579661                                         0   \n",
              "579662                                         0   \n",
              "579663                                         0   \n",
              "\n",
              "        lender_servicing_lender_state_city_True  \n",
              "0                                             1  \n",
              "1                                             1  \n",
              "2                                             1  \n",
              "3                                             1  \n",
              "4                                             1  \n",
              "...                                         ...  \n",
              "579659                                        1  \n",
              "579660                                        1  \n",
              "579661                                        1  \n",
              "579662                                        1  \n",
              "579663                                        1  \n",
              "\n",
              "[579664 rows x 67 columns]"
            ]
          },
          "execution_count": 114,
          "metadata": {},
          "output_type": "execute_result"
        }
      ],
      "source": [
        "categorical_data_dummy"
      ]
    },
    {
      "cell_type": "code",
      "execution_count": null,
      "metadata": {
        "id": "aJyHK5SXiEAw"
      },
      "outputs": [],
      "source": [
        "df_all_cols = pd.concat([numeric_data, categorical_data_dummy], axis = 1)"
      ]
    },
    {
      "cell_type": "code",
      "execution_count": null,
      "metadata": {
        "colab": {
          "base_uri": "https://localhost:8080/",
          "height": 488
        },
        "id": "MGF5_KHZ3o4E",
        "outputId": "c4aab04b-ac74-4508-b862-4ebdc13aa1bc"
      },
      "outputs": [
        {
          "data": {
            "text/html": [
              "\n",
              "  <div id=\"df-3cb1d97d-64bf-4678-b31c-23b524503044\">\n",
              "    <div class=\"colab-df-container\">\n",
              "      <div>\n",
              "<style scoped>\n",
              "    .dataframe tbody tr th:only-of-type {\n",
              "        vertical-align: middle;\n",
              "    }\n",
              "\n",
              "    .dataframe tbody tr th {\n",
              "        vertical-align: top;\n",
              "    }\n",
              "\n",
              "    .dataframe thead th {\n",
              "        text-align: right;\n",
              "    }\n",
              "</style>\n",
              "<table border=\"1\" class=\"dataframe\">\n",
              "  <thead>\n",
              "    <tr style=\"text-align: right;\">\n",
              "      <th></th>\n",
              "      <th>amount</th>\n",
              "      <th>amount_per_join</th>\n",
              "      <th>term</th>\n",
              "      <th>undisbursed_amount</th>\n",
              "      <th>Difference_current_initial_amount</th>\n",
              "      <th>launched_month_1</th>\n",
              "      <th>launched_month_2</th>\n",
              "      <th>launched_month_3</th>\n",
              "      <th>launched_month_4</th>\n",
              "      <th>launched_month_5</th>\n",
              "      <th>...</th>\n",
              "      <th>project_city_top_Other</th>\n",
              "      <th>project_city_top_Top_city</th>\n",
              "      <th>project_county_top_Other</th>\n",
              "      <th>project_county_top_Top</th>\n",
              "      <th>lender_state_top_Other</th>\n",
              "      <th>lender_state_top_Top</th>\n",
              "      <th>lender_city_top_Other</th>\n",
              "      <th>lender_city_top_Top</th>\n",
              "      <th>lender_servicing_lender_state_city_False</th>\n",
              "      <th>lender_servicing_lender_state_city_True</th>\n",
              "    </tr>\n",
              "  </thead>\n",
              "  <tbody>\n",
              "    <tr>\n",
              "      <th>0</th>\n",
              "      <td>2000000.0</td>\n",
              "      <td>6802.72</td>\n",
              "      <td>60.0</td>\n",
              "      <td>0.0</td>\n",
              "      <td>0.0</td>\n",
              "      <td>0</td>\n",
              "      <td>1</td>\n",
              "      <td>0</td>\n",
              "      <td>0</td>\n",
              "      <td>0</td>\n",
              "      <td>...</td>\n",
              "      <td>1</td>\n",
              "      <td>0</td>\n",
              "      <td>1</td>\n",
              "      <td>0</td>\n",
              "      <td>1</td>\n",
              "      <td>0</td>\n",
              "      <td>1</td>\n",
              "      <td>0</td>\n",
              "      <td>0</td>\n",
              "      <td>1</td>\n",
              "    </tr>\n",
              "    <tr>\n",
              "      <th>1</th>\n",
              "      <td>1294555.0</td>\n",
              "      <td>20548.49</td>\n",
              "      <td>60.0</td>\n",
              "      <td>0.0</td>\n",
              "      <td>0.0</td>\n",
              "      <td>1</td>\n",
              "      <td>0</td>\n",
              "      <td>0</td>\n",
              "      <td>0</td>\n",
              "      <td>0</td>\n",
              "      <td>...</td>\n",
              "      <td>1</td>\n",
              "      <td>0</td>\n",
              "      <td>0</td>\n",
              "      <td>1</td>\n",
              "      <td>0</td>\n",
              "      <td>1</td>\n",
              "      <td>0</td>\n",
              "      <td>1</td>\n",
              "      <td>0</td>\n",
              "      <td>1</td>\n",
              "    </tr>\n",
              "    <tr>\n",
              "      <th>2</th>\n",
              "      <td>729509.0</td>\n",
              "      <td>6947.70</td>\n",
              "      <td>60.0</td>\n",
              "      <td>0.0</td>\n",
              "      <td>0.0</td>\n",
              "      <td>0</td>\n",
              "      <td>0</td>\n",
              "      <td>1</td>\n",
              "      <td>0</td>\n",
              "      <td>0</td>\n",
              "      <td>...</td>\n",
              "      <td>1</td>\n",
              "      <td>0</td>\n",
              "      <td>1</td>\n",
              "      <td>0</td>\n",
              "      <td>0</td>\n",
              "      <td>1</td>\n",
              "      <td>0</td>\n",
              "      <td>1</td>\n",
              "      <td>0</td>\n",
              "      <td>1</td>\n",
              "    </tr>\n",
              "    <tr>\n",
              "      <th>3</th>\n",
              "      <td>571193.4</td>\n",
              "      <td>11657.01</td>\n",
              "      <td>60.0</td>\n",
              "      <td>0.0</td>\n",
              "      <td>-0.6</td>\n",
              "      <td>0</td>\n",
              "      <td>1</td>\n",
              "      <td>0</td>\n",
              "      <td>0</td>\n",
              "      <td>0</td>\n",
              "      <td>...</td>\n",
              "      <td>1</td>\n",
              "      <td>0</td>\n",
              "      <td>1</td>\n",
              "      <td>0</td>\n",
              "      <td>0</td>\n",
              "      <td>1</td>\n",
              "      <td>0</td>\n",
              "      <td>1</td>\n",
              "      <td>0</td>\n",
              "      <td>1</td>\n",
              "    </tr>\n",
              "    <tr>\n",
              "      <th>4</th>\n",
              "      <td>472700.0</td>\n",
              "      <td>12775.68</td>\n",
              "      <td>24.0</td>\n",
              "      <td>0.0</td>\n",
              "      <td>0.0</td>\n",
              "      <td>0</td>\n",
              "      <td>0</td>\n",
              "      <td>0</td>\n",
              "      <td>1</td>\n",
              "      <td>0</td>\n",
              "      <td>...</td>\n",
              "      <td>1</td>\n",
              "      <td>0</td>\n",
              "      <td>1</td>\n",
              "      <td>0</td>\n",
              "      <td>0</td>\n",
              "      <td>1</td>\n",
              "      <td>0</td>\n",
              "      <td>1</td>\n",
              "      <td>0</td>\n",
              "      <td>1</td>\n",
              "    </tr>\n",
              "    <tr>\n",
              "      <th>...</th>\n",
              "      <td>...</td>\n",
              "      <td>...</td>\n",
              "      <td>...</td>\n",
              "      <td>...</td>\n",
              "      <td>...</td>\n",
              "      <td>...</td>\n",
              "      <td>...</td>\n",
              "      <td>...</td>\n",
              "      <td>...</td>\n",
              "      <td>...</td>\n",
              "      <td>...</td>\n",
              "      <td>...</td>\n",
              "      <td>...</td>\n",
              "      <td>...</td>\n",
              "      <td>...</td>\n",
              "      <td>...</td>\n",
              "      <td>...</td>\n",
              "      <td>...</td>\n",
              "      <td>...</td>\n",
              "      <td>...</td>\n",
              "      <td>...</td>\n",
              "    </tr>\n",
              "    <tr>\n",
              "      <th>579659</th>\n",
              "      <td>1950.0</td>\n",
              "      <td>1950.00</td>\n",
              "      <td>60.0</td>\n",
              "      <td>1950.0</td>\n",
              "      <td>0.0</td>\n",
              "      <td>0</td>\n",
              "      <td>0</td>\n",
              "      <td>0</td>\n",
              "      <td>1</td>\n",
              "      <td>0</td>\n",
              "      <td>...</td>\n",
              "      <td>1</td>\n",
              "      <td>0</td>\n",
              "      <td>1</td>\n",
              "      <td>0</td>\n",
              "      <td>0</td>\n",
              "      <td>1</td>\n",
              "      <td>0</td>\n",
              "      <td>1</td>\n",
              "      <td>0</td>\n",
              "      <td>1</td>\n",
              "    </tr>\n",
              "    <tr>\n",
              "      <th>579660</th>\n",
              "      <td>1849.0</td>\n",
              "      <td>1849.00</td>\n",
              "      <td>60.0</td>\n",
              "      <td>1849.0</td>\n",
              "      <td>0.0</td>\n",
              "      <td>0</td>\n",
              "      <td>0</td>\n",
              "      <td>0</td>\n",
              "      <td>0</td>\n",
              "      <td>1</td>\n",
              "      <td>...</td>\n",
              "      <td>0</td>\n",
              "      <td>1</td>\n",
              "      <td>0</td>\n",
              "      <td>1</td>\n",
              "      <td>0</td>\n",
              "      <td>1</td>\n",
              "      <td>0</td>\n",
              "      <td>1</td>\n",
              "      <td>0</td>\n",
              "      <td>1</td>\n",
              "    </tr>\n",
              "    <tr>\n",
              "      <th>579661</th>\n",
              "      <td>1245.0</td>\n",
              "      <td>1245.00</td>\n",
              "      <td>60.0</td>\n",
              "      <td>1245.0</td>\n",
              "      <td>0.0</td>\n",
              "      <td>0</td>\n",
              "      <td>0</td>\n",
              "      <td>0</td>\n",
              "      <td>1</td>\n",
              "      <td>0</td>\n",
              "      <td>...</td>\n",
              "      <td>0</td>\n",
              "      <td>1</td>\n",
              "      <td>0</td>\n",
              "      <td>1</td>\n",
              "      <td>0</td>\n",
              "      <td>1</td>\n",
              "      <td>0</td>\n",
              "      <td>1</td>\n",
              "      <td>0</td>\n",
              "      <td>1</td>\n",
              "    </tr>\n",
              "    <tr>\n",
              "      <th>579662</th>\n",
              "      <td>1075.0</td>\n",
              "      <td>1075.00</td>\n",
              "      <td>60.0</td>\n",
              "      <td>1075.0</td>\n",
              "      <td>0.0</td>\n",
              "      <td>0</td>\n",
              "      <td>0</td>\n",
              "      <td>0</td>\n",
              "      <td>0</td>\n",
              "      <td>1</td>\n",
              "      <td>...</td>\n",
              "      <td>1</td>\n",
              "      <td>0</td>\n",
              "      <td>1</td>\n",
              "      <td>0</td>\n",
              "      <td>0</td>\n",
              "      <td>1</td>\n",
              "      <td>0</td>\n",
              "      <td>1</td>\n",
              "      <td>0</td>\n",
              "      <td>1</td>\n",
              "    </tr>\n",
              "    <tr>\n",
              "      <th>579663</th>\n",
              "      <td>787.0</td>\n",
              "      <td>787.00</td>\n",
              "      <td>60.0</td>\n",
              "      <td>787.0</td>\n",
              "      <td>0.0</td>\n",
              "      <td>0</td>\n",
              "      <td>0</td>\n",
              "      <td>0</td>\n",
              "      <td>0</td>\n",
              "      <td>1</td>\n",
              "      <td>...</td>\n",
              "      <td>1</td>\n",
              "      <td>0</td>\n",
              "      <td>1</td>\n",
              "      <td>0</td>\n",
              "      <td>0</td>\n",
              "      <td>1</td>\n",
              "      <td>0</td>\n",
              "      <td>1</td>\n",
              "      <td>0</td>\n",
              "      <td>1</td>\n",
              "    </tr>\n",
              "  </tbody>\n",
              "</table>\n",
              "<p>579664 rows × 72 columns</p>\n",
              "</div>\n",
              "      <button class=\"colab-df-convert\" onclick=\"convertToInteractive('df-3cb1d97d-64bf-4678-b31c-23b524503044')\"\n",
              "              title=\"Convert this dataframe to an interactive table.\"\n",
              "              style=\"display:none;\">\n",
              "        \n",
              "  <svg xmlns=\"http://www.w3.org/2000/svg\" height=\"24px\"viewBox=\"0 0 24 24\"\n",
              "       width=\"24px\">\n",
              "    <path d=\"M0 0h24v24H0V0z\" fill=\"none\"/>\n",
              "    <path d=\"M18.56 5.44l.94 2.06.94-2.06 2.06-.94-2.06-.94-.94-2.06-.94 2.06-2.06.94zm-11 1L8.5 8.5l.94-2.06 2.06-.94-2.06-.94L8.5 2.5l-.94 2.06-2.06.94zm10 10l.94 2.06.94-2.06 2.06-.94-2.06-.94-.94-2.06-.94 2.06-2.06.94z\"/><path d=\"M17.41 7.96l-1.37-1.37c-.4-.4-.92-.59-1.43-.59-.52 0-1.04.2-1.43.59L10.3 9.45l-7.72 7.72c-.78.78-.78 2.05 0 2.83L4 21.41c.39.39.9.59 1.41.59.51 0 1.02-.2 1.41-.59l7.78-7.78 2.81-2.81c.8-.78.8-2.07 0-2.86zM5.41 20L4 18.59l7.72-7.72 1.47 1.35L5.41 20z\"/>\n",
              "  </svg>\n",
              "      </button>\n",
              "      \n",
              "  <style>\n",
              "    .colab-df-container {\n",
              "      display:flex;\n",
              "      flex-wrap:wrap;\n",
              "      gap: 12px;\n",
              "    }\n",
              "\n",
              "    .colab-df-convert {\n",
              "      background-color: #E8F0FE;\n",
              "      border: none;\n",
              "      border-radius: 50%;\n",
              "      cursor: pointer;\n",
              "      display: none;\n",
              "      fill: #1967D2;\n",
              "      height: 32px;\n",
              "      padding: 0 0 0 0;\n",
              "      width: 32px;\n",
              "    }\n",
              "\n",
              "    .colab-df-convert:hover {\n",
              "      background-color: #E2EBFA;\n",
              "      box-shadow: 0px 1px 2px rgba(60, 64, 67, 0.3), 0px 1px 3px 1px rgba(60, 64, 67, 0.15);\n",
              "      fill: #174EA6;\n",
              "    }\n",
              "\n",
              "    [theme=dark] .colab-df-convert {\n",
              "      background-color: #3B4455;\n",
              "      fill: #D2E3FC;\n",
              "    }\n",
              "\n",
              "    [theme=dark] .colab-df-convert:hover {\n",
              "      background-color: #434B5C;\n",
              "      box-shadow: 0px 1px 3px 1px rgba(0, 0, 0, 0.15);\n",
              "      filter: drop-shadow(0px 1px 2px rgba(0, 0, 0, 0.3));\n",
              "      fill: #FFFFFF;\n",
              "    }\n",
              "  </style>\n",
              "\n",
              "      <script>\n",
              "        const buttonEl =\n",
              "          document.querySelector('#df-3cb1d97d-64bf-4678-b31c-23b524503044 button.colab-df-convert');\n",
              "        buttonEl.style.display =\n",
              "          google.colab.kernel.accessAllowed ? 'block' : 'none';\n",
              "\n",
              "        async function convertToInteractive(key) {\n",
              "          const element = document.querySelector('#df-3cb1d97d-64bf-4678-b31c-23b524503044');\n",
              "          const dataTable =\n",
              "            await google.colab.kernel.invokeFunction('convertToInteractive',\n",
              "                                                     [key], {});\n",
              "          if (!dataTable) return;\n",
              "\n",
              "          const docLinkHtml = 'Like what you see? Visit the ' +\n",
              "            '<a target=\"_blank\" href=https://colab.research.google.com/notebooks/data_table.ipynb>data table notebook</a>'\n",
              "            + ' to learn more about interactive tables.';\n",
              "          element.innerHTML = '';\n",
              "          dataTable['output_type'] = 'display_data';\n",
              "          await google.colab.output.renderOutput(dataTable, element);\n",
              "          const docLink = document.createElement('div');\n",
              "          docLink.innerHTML = docLinkHtml;\n",
              "          element.appendChild(docLink);\n",
              "        }\n",
              "      </script>\n",
              "    </div>\n",
              "  </div>\n",
              "  "
            ],
            "text/plain": [
              "           amount  amount_per_join  term  undisbursed_amount  \\\n",
              "0       2000000.0          6802.72  60.0                 0.0   \n",
              "1       1294555.0         20548.49  60.0                 0.0   \n",
              "2        729509.0          6947.70  60.0                 0.0   \n",
              "3        571193.4         11657.01  60.0                 0.0   \n",
              "4        472700.0         12775.68  24.0                 0.0   \n",
              "...           ...              ...   ...                 ...   \n",
              "579659     1950.0          1950.00  60.0              1950.0   \n",
              "579660     1849.0          1849.00  60.0              1849.0   \n",
              "579661     1245.0          1245.00  60.0              1245.0   \n",
              "579662     1075.0          1075.00  60.0              1075.0   \n",
              "579663      787.0           787.00  60.0               787.0   \n",
              "\n",
              "        Difference_current_initial_amount  launched_month_1  launched_month_2  \\\n",
              "0                                     0.0                 0                 1   \n",
              "1                                     0.0                 1                 0   \n",
              "2                                     0.0                 0                 0   \n",
              "3                                    -0.6                 0                 1   \n",
              "4                                     0.0                 0                 0   \n",
              "...                                   ...               ...               ...   \n",
              "579659                                0.0                 0                 0   \n",
              "579660                                0.0                 0                 0   \n",
              "579661                                0.0                 0                 0   \n",
              "579662                                0.0                 0                 0   \n",
              "579663                                0.0                 0                 0   \n",
              "\n",
              "        launched_month_3  launched_month_4  launched_month_5  ...  \\\n",
              "0                      0                 0                 0  ...   \n",
              "1                      0                 0                 0  ...   \n",
              "2                      1                 0                 0  ...   \n",
              "3                      0                 0                 0  ...   \n",
              "4                      0                 1                 0  ...   \n",
              "...                  ...               ...               ...  ...   \n",
              "579659                 0                 1                 0  ...   \n",
              "579660                 0                 0                 1  ...   \n",
              "579661                 0                 1                 0  ...   \n",
              "579662                 0                 0                 1  ...   \n",
              "579663                 0                 0                 1  ...   \n",
              "\n",
              "        project_city_top_Other  project_city_top_Top_city  \\\n",
              "0                            1                          0   \n",
              "1                            1                          0   \n",
              "2                            1                          0   \n",
              "3                            1                          0   \n",
              "4                            1                          0   \n",
              "...                        ...                        ...   \n",
              "579659                       1                          0   \n",
              "579660                       0                          1   \n",
              "579661                       0                          1   \n",
              "579662                       1                          0   \n",
              "579663                       1                          0   \n",
              "\n",
              "        project_county_top_Other  project_county_top_Top  \\\n",
              "0                              1                       0   \n",
              "1                              0                       1   \n",
              "2                              1                       0   \n",
              "3                              1                       0   \n",
              "4                              1                       0   \n",
              "...                          ...                     ...   \n",
              "579659                         1                       0   \n",
              "579660                         0                       1   \n",
              "579661                         0                       1   \n",
              "579662                         1                       0   \n",
              "579663                         1                       0   \n",
              "\n",
              "        lender_state_top_Other  lender_state_top_Top  lender_city_top_Other  \\\n",
              "0                            1                     0                      1   \n",
              "1                            0                     1                      0   \n",
              "2                            0                     1                      0   \n",
              "3                            0                     1                      0   \n",
              "4                            0                     1                      0   \n",
              "...                        ...                   ...                    ...   \n",
              "579659                       0                     1                      0   \n",
              "579660                       0                     1                      0   \n",
              "579661                       0                     1                      0   \n",
              "579662                       0                     1                      0   \n",
              "579663                       0                     1                      0   \n",
              "\n",
              "        lender_city_top_Top  lender_servicing_lender_state_city_False  \\\n",
              "0                         0                                         0   \n",
              "1                         1                                         0   \n",
              "2                         1                                         0   \n",
              "3                         1                                         0   \n",
              "4                         1                                         0   \n",
              "...                     ...                                       ...   \n",
              "579659                    1                                         0   \n",
              "579660                    1                                         0   \n",
              "579661                    1                                         0   \n",
              "579662                    1                                         0   \n",
              "579663                    1                                         0   \n",
              "\n",
              "        lender_servicing_lender_state_city_True  \n",
              "0                                             1  \n",
              "1                                             1  \n",
              "2                                             1  \n",
              "3                                             1  \n",
              "4                                             1  \n",
              "...                                         ...  \n",
              "579659                                        1  \n",
              "579660                                        1  \n",
              "579661                                        1  \n",
              "579662                                        1  \n",
              "579663                                        1  \n",
              "\n",
              "[579664 rows x 72 columns]"
            ]
          },
          "execution_count": 116,
          "metadata": {},
          "output_type": "execute_result"
        }
      ],
      "source": [
        "df_all_cols"
      ]
    },
    {
      "cell_type": "code",
      "execution_count": null,
      "metadata": {
        "id": "YuYXYsqm4cWc"
      },
      "outputs": [],
      "source": [
        "target = pd.DataFrame(combined_data,\n",
        "                     columns = ['Removed'])"
      ]
    },
    {
      "cell_type": "code",
      "execution_count": null,
      "metadata": {
        "id": "r2sHgBwn3NQd"
      },
      "outputs": [],
      "source": [
        "target_number = pd.get_dummies(target,\n",
        "                     columns = ['Removed'])"
      ]
    },
    {
      "cell_type": "code",
      "execution_count": null,
      "metadata": {
        "colab": {
          "base_uri": "https://localhost:8080/",
          "height": 424
        },
        "id": "Qvf-cOvX4nSY",
        "outputId": "61aa2cda-482d-46e2-def2-582487b158a4"
      },
      "outputs": [
        {
          "data": {
            "text/html": [
              "\n",
              "  <div id=\"df-7f407856-c568-4a0c-b431-08fa6d277647\">\n",
              "    <div class=\"colab-df-container\">\n",
              "      <div>\n",
              "<style scoped>\n",
              "    .dataframe tbody tr th:only-of-type {\n",
              "        vertical-align: middle;\n",
              "    }\n",
              "\n",
              "    .dataframe tbody tr th {\n",
              "        vertical-align: top;\n",
              "    }\n",
              "\n",
              "    .dataframe thead th {\n",
              "        text-align: right;\n",
              "    }\n",
              "</style>\n",
              "<table border=\"1\" class=\"dataframe\">\n",
              "  <thead>\n",
              "    <tr style=\"text-align: right;\">\n",
              "      <th></th>\n",
              "      <th>Removed_False</th>\n",
              "      <th>Removed_True</th>\n",
              "    </tr>\n",
              "  </thead>\n",
              "  <tbody>\n",
              "    <tr>\n",
              "      <th>0</th>\n",
              "      <td>1</td>\n",
              "      <td>0</td>\n",
              "    </tr>\n",
              "    <tr>\n",
              "      <th>1</th>\n",
              "      <td>1</td>\n",
              "      <td>0</td>\n",
              "    </tr>\n",
              "    <tr>\n",
              "      <th>2</th>\n",
              "      <td>1</td>\n",
              "      <td>0</td>\n",
              "    </tr>\n",
              "    <tr>\n",
              "      <th>3</th>\n",
              "      <td>1</td>\n",
              "      <td>0</td>\n",
              "    </tr>\n",
              "    <tr>\n",
              "      <th>4</th>\n",
              "      <td>1</td>\n",
              "      <td>0</td>\n",
              "    </tr>\n",
              "    <tr>\n",
              "      <th>...</th>\n",
              "      <td>...</td>\n",
              "      <td>...</td>\n",
              "    </tr>\n",
              "    <tr>\n",
              "      <th>579659</th>\n",
              "      <td>0</td>\n",
              "      <td>1</td>\n",
              "    </tr>\n",
              "    <tr>\n",
              "      <th>579660</th>\n",
              "      <td>0</td>\n",
              "      <td>1</td>\n",
              "    </tr>\n",
              "    <tr>\n",
              "      <th>579661</th>\n",
              "      <td>0</td>\n",
              "      <td>1</td>\n",
              "    </tr>\n",
              "    <tr>\n",
              "      <th>579662</th>\n",
              "      <td>0</td>\n",
              "      <td>1</td>\n",
              "    </tr>\n",
              "    <tr>\n",
              "      <th>579663</th>\n",
              "      <td>0</td>\n",
              "      <td>1</td>\n",
              "    </tr>\n",
              "  </tbody>\n",
              "</table>\n",
              "<p>579664 rows × 2 columns</p>\n",
              "</div>\n",
              "      <button class=\"colab-df-convert\" onclick=\"convertToInteractive('df-7f407856-c568-4a0c-b431-08fa6d277647')\"\n",
              "              title=\"Convert this dataframe to an interactive table.\"\n",
              "              style=\"display:none;\">\n",
              "        \n",
              "  <svg xmlns=\"http://www.w3.org/2000/svg\" height=\"24px\"viewBox=\"0 0 24 24\"\n",
              "       width=\"24px\">\n",
              "    <path d=\"M0 0h24v24H0V0z\" fill=\"none\"/>\n",
              "    <path d=\"M18.56 5.44l.94 2.06.94-2.06 2.06-.94-2.06-.94-.94-2.06-.94 2.06-2.06.94zm-11 1L8.5 8.5l.94-2.06 2.06-.94-2.06-.94L8.5 2.5l-.94 2.06-2.06.94zm10 10l.94 2.06.94-2.06 2.06-.94-2.06-.94-.94-2.06-.94 2.06-2.06.94z\"/><path d=\"M17.41 7.96l-1.37-1.37c-.4-.4-.92-.59-1.43-.59-.52 0-1.04.2-1.43.59L10.3 9.45l-7.72 7.72c-.78.78-.78 2.05 0 2.83L4 21.41c.39.39.9.59 1.41.59.51 0 1.02-.2 1.41-.59l7.78-7.78 2.81-2.81c.8-.78.8-2.07 0-2.86zM5.41 20L4 18.59l7.72-7.72 1.47 1.35L5.41 20z\"/>\n",
              "  </svg>\n",
              "      </button>\n",
              "      \n",
              "  <style>\n",
              "    .colab-df-container {\n",
              "      display:flex;\n",
              "      flex-wrap:wrap;\n",
              "      gap: 12px;\n",
              "    }\n",
              "\n",
              "    .colab-df-convert {\n",
              "      background-color: #E8F0FE;\n",
              "      border: none;\n",
              "      border-radius: 50%;\n",
              "      cursor: pointer;\n",
              "      display: none;\n",
              "      fill: #1967D2;\n",
              "      height: 32px;\n",
              "      padding: 0 0 0 0;\n",
              "      width: 32px;\n",
              "    }\n",
              "\n",
              "    .colab-df-convert:hover {\n",
              "      background-color: #E2EBFA;\n",
              "      box-shadow: 0px 1px 2px rgba(60, 64, 67, 0.3), 0px 1px 3px 1px rgba(60, 64, 67, 0.15);\n",
              "      fill: #174EA6;\n",
              "    }\n",
              "\n",
              "    [theme=dark] .colab-df-convert {\n",
              "      background-color: #3B4455;\n",
              "      fill: #D2E3FC;\n",
              "    }\n",
              "\n",
              "    [theme=dark] .colab-df-convert:hover {\n",
              "      background-color: #434B5C;\n",
              "      box-shadow: 0px 1px 3px 1px rgba(0, 0, 0, 0.15);\n",
              "      filter: drop-shadow(0px 1px 2px rgba(0, 0, 0, 0.3));\n",
              "      fill: #FFFFFF;\n",
              "    }\n",
              "  </style>\n",
              "\n",
              "      <script>\n",
              "        const buttonEl =\n",
              "          document.querySelector('#df-7f407856-c568-4a0c-b431-08fa6d277647 button.colab-df-convert');\n",
              "        buttonEl.style.display =\n",
              "          google.colab.kernel.accessAllowed ? 'block' : 'none';\n",
              "\n",
              "        async function convertToInteractive(key) {\n",
              "          const element = document.querySelector('#df-7f407856-c568-4a0c-b431-08fa6d277647');\n",
              "          const dataTable =\n",
              "            await google.colab.kernel.invokeFunction('convertToInteractive',\n",
              "                                                     [key], {});\n",
              "          if (!dataTable) return;\n",
              "\n",
              "          const docLinkHtml = 'Like what you see? Visit the ' +\n",
              "            '<a target=\"_blank\" href=https://colab.research.google.com/notebooks/data_table.ipynb>data table notebook</a>'\n",
              "            + ' to learn more about interactive tables.';\n",
              "          element.innerHTML = '';\n",
              "          dataTable['output_type'] = 'display_data';\n",
              "          await google.colab.output.renderOutput(dataTable, element);\n",
              "          const docLink = document.createElement('div');\n",
              "          docLink.innerHTML = docLinkHtml;\n",
              "          element.appendChild(docLink);\n",
              "        }\n",
              "      </script>\n",
              "    </div>\n",
              "  </div>\n",
              "  "
            ],
            "text/plain": [
              "        Removed_False  Removed_True\n",
              "0                   1             0\n",
              "1                   1             0\n",
              "2                   1             0\n",
              "3                   1             0\n",
              "4                   1             0\n",
              "...               ...           ...\n",
              "579659              0             1\n",
              "579660              0             1\n",
              "579661              0             1\n",
              "579662              0             1\n",
              "579663              0             1\n",
              "\n",
              "[579664 rows x 2 columns]"
            ]
          },
          "execution_count": 119,
          "metadata": {},
          "output_type": "execute_result"
        }
      ],
      "source": [
        "target_number"
      ]
    },
    {
      "cell_type": "code",
      "execution_count": null,
      "metadata": {
        "id": "i1cu5RgY5spi"
      },
      "outputs": [],
      "source": [
        "target_number.drop(['Removed_False'], axis=1, inplace=True)"
      ]
    },
    {
      "cell_type": "code",
      "execution_count": null,
      "metadata": {
        "colab": {
          "base_uri": "https://localhost:8080/",
          "height": 424
        },
        "id": "nTfUlvrv5syW",
        "outputId": "983f9c9c-1ee5-4600-f190-9dd8f500354a"
      },
      "outputs": [
        {
          "data": {
            "text/html": [
              "\n",
              "  <div id=\"df-7eb0c722-322b-4619-990e-514de605e1be\">\n",
              "    <div class=\"colab-df-container\">\n",
              "      <div>\n",
              "<style scoped>\n",
              "    .dataframe tbody tr th:only-of-type {\n",
              "        vertical-align: middle;\n",
              "    }\n",
              "\n",
              "    .dataframe tbody tr th {\n",
              "        vertical-align: top;\n",
              "    }\n",
              "\n",
              "    .dataframe thead th {\n",
              "        text-align: right;\n",
              "    }\n",
              "</style>\n",
              "<table border=\"1\" class=\"dataframe\">\n",
              "  <thead>\n",
              "    <tr style=\"text-align: right;\">\n",
              "      <th></th>\n",
              "      <th>Removed_True</th>\n",
              "    </tr>\n",
              "  </thead>\n",
              "  <tbody>\n",
              "    <tr>\n",
              "      <th>0</th>\n",
              "      <td>0</td>\n",
              "    </tr>\n",
              "    <tr>\n",
              "      <th>1</th>\n",
              "      <td>0</td>\n",
              "    </tr>\n",
              "    <tr>\n",
              "      <th>2</th>\n",
              "      <td>0</td>\n",
              "    </tr>\n",
              "    <tr>\n",
              "      <th>3</th>\n",
              "      <td>0</td>\n",
              "    </tr>\n",
              "    <tr>\n",
              "      <th>4</th>\n",
              "      <td>0</td>\n",
              "    </tr>\n",
              "    <tr>\n",
              "      <th>...</th>\n",
              "      <td>...</td>\n",
              "    </tr>\n",
              "    <tr>\n",
              "      <th>579659</th>\n",
              "      <td>1</td>\n",
              "    </tr>\n",
              "    <tr>\n",
              "      <th>579660</th>\n",
              "      <td>1</td>\n",
              "    </tr>\n",
              "    <tr>\n",
              "      <th>579661</th>\n",
              "      <td>1</td>\n",
              "    </tr>\n",
              "    <tr>\n",
              "      <th>579662</th>\n",
              "      <td>1</td>\n",
              "    </tr>\n",
              "    <tr>\n",
              "      <th>579663</th>\n",
              "      <td>1</td>\n",
              "    </tr>\n",
              "  </tbody>\n",
              "</table>\n",
              "<p>579664 rows × 1 columns</p>\n",
              "</div>\n",
              "      <button class=\"colab-df-convert\" onclick=\"convertToInteractive('df-7eb0c722-322b-4619-990e-514de605e1be')\"\n",
              "              title=\"Convert this dataframe to an interactive table.\"\n",
              "              style=\"display:none;\">\n",
              "        \n",
              "  <svg xmlns=\"http://www.w3.org/2000/svg\" height=\"24px\"viewBox=\"0 0 24 24\"\n",
              "       width=\"24px\">\n",
              "    <path d=\"M0 0h24v24H0V0z\" fill=\"none\"/>\n",
              "    <path d=\"M18.56 5.44l.94 2.06.94-2.06 2.06-.94-2.06-.94-.94-2.06-.94 2.06-2.06.94zm-11 1L8.5 8.5l.94-2.06 2.06-.94-2.06-.94L8.5 2.5l-.94 2.06-2.06.94zm10 10l.94 2.06.94-2.06 2.06-.94-2.06-.94-.94-2.06-.94 2.06-2.06.94z\"/><path d=\"M17.41 7.96l-1.37-1.37c-.4-.4-.92-.59-1.43-.59-.52 0-1.04.2-1.43.59L10.3 9.45l-7.72 7.72c-.78.78-.78 2.05 0 2.83L4 21.41c.39.39.9.59 1.41.59.51 0 1.02-.2 1.41-.59l7.78-7.78 2.81-2.81c.8-.78.8-2.07 0-2.86zM5.41 20L4 18.59l7.72-7.72 1.47 1.35L5.41 20z\"/>\n",
              "  </svg>\n",
              "      </button>\n",
              "      \n",
              "  <style>\n",
              "    .colab-df-container {\n",
              "      display:flex;\n",
              "      flex-wrap:wrap;\n",
              "      gap: 12px;\n",
              "    }\n",
              "\n",
              "    .colab-df-convert {\n",
              "      background-color: #E8F0FE;\n",
              "      border: none;\n",
              "      border-radius: 50%;\n",
              "      cursor: pointer;\n",
              "      display: none;\n",
              "      fill: #1967D2;\n",
              "      height: 32px;\n",
              "      padding: 0 0 0 0;\n",
              "      width: 32px;\n",
              "    }\n",
              "\n",
              "    .colab-df-convert:hover {\n",
              "      background-color: #E2EBFA;\n",
              "      box-shadow: 0px 1px 2px rgba(60, 64, 67, 0.3), 0px 1px 3px 1px rgba(60, 64, 67, 0.15);\n",
              "      fill: #174EA6;\n",
              "    }\n",
              "\n",
              "    [theme=dark] .colab-df-convert {\n",
              "      background-color: #3B4455;\n",
              "      fill: #D2E3FC;\n",
              "    }\n",
              "\n",
              "    [theme=dark] .colab-df-convert:hover {\n",
              "      background-color: #434B5C;\n",
              "      box-shadow: 0px 1px 3px 1px rgba(0, 0, 0, 0.15);\n",
              "      filter: drop-shadow(0px 1px 2px rgba(0, 0, 0, 0.3));\n",
              "      fill: #FFFFFF;\n",
              "    }\n",
              "  </style>\n",
              "\n",
              "      <script>\n",
              "        const buttonEl =\n",
              "          document.querySelector('#df-7eb0c722-322b-4619-990e-514de605e1be button.colab-df-convert');\n",
              "        buttonEl.style.display =\n",
              "          google.colab.kernel.accessAllowed ? 'block' : 'none';\n",
              "\n",
              "        async function convertToInteractive(key) {\n",
              "          const element = document.querySelector('#df-7eb0c722-322b-4619-990e-514de605e1be');\n",
              "          const dataTable =\n",
              "            await google.colab.kernel.invokeFunction('convertToInteractive',\n",
              "                                                     [key], {});\n",
              "          if (!dataTable) return;\n",
              "\n",
              "          const docLinkHtml = 'Like what you see? Visit the ' +\n",
              "            '<a target=\"_blank\" href=https://colab.research.google.com/notebooks/data_table.ipynb>data table notebook</a>'\n",
              "            + ' to learn more about interactive tables.';\n",
              "          element.innerHTML = '';\n",
              "          dataTable['output_type'] = 'display_data';\n",
              "          await google.colab.output.renderOutput(dataTable, element);\n",
              "          const docLink = document.createElement('div');\n",
              "          docLink.innerHTML = docLinkHtml;\n",
              "          element.appendChild(docLink);\n",
              "        }\n",
              "      </script>\n",
              "    </div>\n",
              "  </div>\n",
              "  "
            ],
            "text/plain": [
              "        Removed_True\n",
              "0                  0\n",
              "1                  0\n",
              "2                  0\n",
              "3                  0\n",
              "4                  0\n",
              "...              ...\n",
              "579659             1\n",
              "579660             1\n",
              "579661             1\n",
              "579662             1\n",
              "579663             1\n",
              "\n",
              "[579664 rows x 1 columns]"
            ]
          },
          "execution_count": 121,
          "metadata": {},
          "output_type": "execute_result"
        }
      ],
      "source": [
        "target_number"
      ]
    },
    {
      "cell_type": "code",
      "execution_count": null,
      "metadata": {
        "colab": {
          "base_uri": "https://localhost:8080/"
        },
        "id": "gS-cgfYK5rfZ",
        "outputId": "ab5d68c6-523f-4ca3-9a23-3633bc54bb7b"
      },
      "outputs": [
        {
          "data": {
            "text/plain": [
              "Removed_True    0\n",
              "dtype: int64"
            ]
          },
          "execution_count": 122,
          "metadata": {},
          "output_type": "execute_result"
        }
      ],
      "source": [
        "target_number.isna().sum()"
      ]
    },
    {
      "cell_type": "code",
      "execution_count": null,
      "metadata": {
        "id": "DTIADHQq2-R5"
      },
      "outputs": [],
      "source": [
        "# all parameters not specified are set to their defaults\n",
        "logisticRegr = LogisticRegression()"
      ]
    },
    {
      "cell_type": "code",
      "execution_count": null,
      "metadata": {
        "id": "a8koXKJ1-Yjq"
      },
      "outputs": [],
      "source": [
        "X_train, X_test, y_train, y_test = train_test_split(df_all_cols, target_number, test_size=0.3, random_state=42)"
      ]
    },
    {
      "cell_type": "code",
      "execution_count": null,
      "metadata": {
        "id": "hCpmHptT5PQx"
      },
      "outputs": [],
      "source": [
        ""
      ]
    },
    {
      "cell_type": "code",
      "execution_count": null,
      "metadata": {
        "colab": {
          "base_uri": "https://localhost:8080/"
        },
        "id": "ipZGoMlJ3Gfa",
        "outputId": "fa744189-15f4-4e4f-a6f4-dd6eeb590a6d"
      },
      "outputs": [
        {
          "name": "stderr",
          "output_type": "stream",
          "text": [
            "/usr/local/lib/python3.7/dist-packages/sklearn/utils/validation.py:993: DataConversionWarning: A column-vector y was passed when a 1d array was expected. Please change the shape of y to (n_samples, ), for example using ravel().\n",
            "  y = column_or_1d(y, warn=True)\n"
          ]
        },
        {
          "data": {
            "text/plain": [
              "LogisticRegression()"
            ]
          },
          "execution_count": 125,
          "metadata": {},
          "output_type": "execute_result"
        }
      ],
      "source": [
        "logisticRegr.fit(X_train, y_train)"
      ]
    },
    {
      "cell_type": "code",
      "execution_count": null,
      "metadata": {
        "id": "O95_xCDR3Gik"
      },
      "outputs": [],
      "source": [
        "predictions = logisticRegr.predict(X_test)"
      ]
    },
    {
      "cell_type": "code",
      "execution_count": null,
      "metadata": {
        "colab": {
          "base_uri": "https://localhost:8080/"
        },
        "id": "LYGsl4OFBfmT",
        "outputId": "7bfa9e17-0209-4704-b778-0761a305cae5"
      },
      "outputs": [
        {
          "data": {
            "text/plain": [
              "array([0, 0, 0, ..., 0, 1, 0], dtype=uint8)"
            ]
          },
          "execution_count": 127,
          "metadata": {},
          "output_type": "execute_result"
        }
      ],
      "source": [
        "predictions"
      ]
    },
    {
      "cell_type": "code",
      "execution_count": null,
      "metadata": {
        "colab": {
          "base_uri": "https://localhost:8080/"
        },
        "id": "AApsqPJK3Gpd",
        "outputId": "0136c6c8-9c46-417b-b22c-2d4d0344e0d7"
      },
      "outputs": [
        {
          "name": "stdout",
          "output_type": "stream",
          "text": [
            "0.9916676250718804\n"
          ]
        }
      ],
      "source": [
        "# Use score method to get accuracy of model\n",
        "score = logisticRegr.score(X_test, y_test)\n",
        "print(score)"
      ]
    },
    {
      "cell_type": "code",
      "execution_count": null,
      "metadata": {
        "colab": {
          "base_uri": "https://localhost:8080/"
        },
        "id": "tj7vNLJxb013",
        "outputId": "d54a9d62-90e3-45a4-f2d0-3c54475a6e05"
      },
      "outputs": [
        {
          "name": "stderr",
          "output_type": "stream",
          "text": [
            "/usr/local/lib/python3.7/dist-packages/ipykernel_launcher.py:2: DataConversionWarning: A column-vector y was passed when a 1d array was expected. Please change the shape of y to (n_samples,), for example using ravel().\n",
            "  \n"
          ]
        },
        {
          "data": {
            "text/plain": [
              "RandomForestRegressor(n_estimators=1000, random_state=42)"
            ]
          },
          "execution_count": 129,
          "metadata": {},
          "output_type": "execute_result"
        }
      ],
      "source": [
        "rf = RandomForestRegressor(n_estimators = 1000, random_state = 42)\n",
        "rf.fit(X_train, y_train)"
      ]
    },
    {
      "cell_type": "code",
      "execution_count": null,
      "metadata": {
        "id": "QfI6G8L329dh"
      },
      "outputs": [],
      "source": [
        "predictions = rf.predict(X_test)\n"
      ]
    },
    {
      "cell_type": "code",
      "execution_count": null,
      "metadata": {
        "colab": {
          "base_uri": "https://localhost:8080/"
        },
        "id": "VL7D_II_QwTw",
        "outputId": "6312c524-0de1-48d9-9ab3-b3f89f13d86f"
      },
      "outputs": [
        {
          "name": "stdout",
          "output_type": "stream",
          "text": [
            "[[165913    191]\n",
            " [   735   7061]]\n",
            "              precision    recall  f1-score   support\n",
            "\n",
            "           0       1.00      1.00      1.00    166104\n",
            "           1       0.97      0.91      0.94      7796\n",
            "\n",
            "    accuracy                           0.99    173900\n",
            "   macro avg       0.98      0.95      0.97    173900\n",
            "weighted avg       0.99      0.99      0.99    173900\n",
            "\n",
            "0.9946751006325475\n"
          ]
        }
      ],
      "source": [
        "y_pred=np.where(predictions > 0.5, 1, 0)\n",
        "print(confusion_matrix(y_test,y_pred))\n",
        "print(classification_report(y_test,y_pred))\n",
        "print(accuracy_score(y_test, y_pred))"
      ]
    },
    {
      "cell_type": "code",
      "execution_count": null,
      "metadata": {
        "colab": {
          "base_uri": "https://localhost:8080/"
        },
        "id": "NicukmXuO7gq",
        "outputId": "0bf35424-696e-45b0-b662-92e2b20bb326"
      },
      "outputs": [
        {
          "name": "stderr",
          "output_type": "stream",
          "text": [
            "/usr/local/lib/python3.7/dist-packages/sklearn/neighbors/_classification.py:198: DataConversionWarning: A column-vector y was passed when a 1d array was expected. Please change the shape of y to (n_samples,), for example using ravel().\n",
            "  return self._fit(X, y)\n"
          ]
        },
        {
          "data": {
            "text/plain": [
              "array([0, 0, 0, ..., 0, 1, 0], dtype=uint8)"
            ]
          },
          "execution_count": 132,
          "metadata": {},
          "output_type": "execute_result"
        }
      ],
      "source": [
        "classifier = KNeighborsClassifier(n_neighbors=5)\n",
        "classifier.fit(X_train, y_train)\n",
        "KNN_pred = classifier.predict(X_test)\n",
        "KNN_pred"
      ]
    },
    {
      "cell_type": "code",
      "execution_count": null,
      "metadata": {
        "colab": {
          "base_uri": "https://localhost:8080/"
        },
        "id": "vQfwg9tFfvES",
        "outputId": "568d4181-aa38-4608-c2a5-e0ccdd9e5c9f"
      },
      "outputs": [
        {
          "name": "stdout",
          "output_type": "stream",
          "text": [
            "[[165994    110]\n",
            " [   728   7068]]\n",
            "              precision    recall  f1-score   support\n",
            "\n",
            "           0       1.00      1.00      1.00    166104\n",
            "           1       0.98      0.91      0.94      7796\n",
            "\n",
            "    accuracy                           1.00    173900\n",
            "   macro avg       0.99      0.95      0.97    173900\n",
            "weighted avg       1.00      1.00      1.00    173900\n",
            "\n",
            "0.9951811385853939\n"
          ]
        }
      ],
      "source": [
        "\n",
        "print(confusion_matrix(y_test,KNN_pred))\n",
        "print(classification_report(y_test,KNN_pred))\n",
        "print(accuracy_score(y_test, KNN_pred))"
      ]
    },
    {
      "cell_type": "code",
      "execution_count": null,
      "metadata": {
        "colab": {
          "base_uri": "https://localhost:8080/"
        },
        "id": "fypsyCzzO6DB",
        "outputId": "5ed6dc0a-a46c-498f-e6f5-a9f5562ef3ae"
      },
      "outputs": [
        {
          "name": "stderr",
          "output_type": "stream",
          "text": [
            "/usr/local/lib/python3.7/dist-packages/sklearn/preprocessing/_label.py:98: DataConversionWarning: A column-vector y was passed when a 1d array was expected. Please change the shape of y to (n_samples, ), for example using ravel().\n",
            "  y = column_or_1d(y, warn=True)\n",
            "/usr/local/lib/python3.7/dist-packages/sklearn/preprocessing/_label.py:133: DataConversionWarning: A column-vector y was passed when a 1d array was expected. Please change the shape of y to (n_samples, ), for example using ravel().\n",
            "  y = column_or_1d(y, warn=True)\n"
          ]
        }
      ],
      "source": [
        "model = XGBClassifier()\n",
        "model.fit(X_train, y_train)\n",
        "XGB_pred = model.predict(X_test)"
      ]
    },
    {
      "cell_type": "code",
      "execution_count": null,
      "metadata": {
        "colab": {
          "base_uri": "https://localhost:8080/"
        },
        "id": "fJHGsAm2gAqk",
        "outputId": "b43669bb-f9b7-4b88-a3ab-a2483b9b18ae"
      },
      "outputs": [
        {
          "name": "stdout",
          "output_type": "stream",
          "text": [
            "[[166001    103]\n",
            " [   737   7059]]\n",
            "              precision    recall  f1-score   support\n",
            "\n",
            "           0       1.00      1.00      1.00    166104\n",
            "           1       0.99      0.91      0.94      7796\n",
            "\n",
            "    accuracy                           1.00    173900\n",
            "   macro avg       0.99      0.95      0.97    173900\n",
            "weighted avg       1.00      1.00      1.00    173900\n",
            "\n",
            "0.9951696377228292\n"
          ]
        }
      ],
      "source": [
        "\n",
        "print(confusion_matrix(y_test,XGB_pred))\n",
        "print(classification_report(y_test,XGB_pred))\n",
        "print(accuracy_score(y_test, XGB_pred))"
      ]
    },
    {
      "cell_type": "code",
      "execution_count": null,
      "metadata": {
        "id": "SD5KjJ4tVQ3p"
      },
      "outputs": [],
      "source": [
        ""
      ]
    },
    {
      "cell_type": "code",
      "execution_count": 1,
      "metadata": {
        "id": "LkdqEVzEVRCe"
      },
      "outputs": [],
      "source": [
        ""
      ]
    },
    {
      "cell_type": "code",
      "execution_count": 1,
      "metadata": {
        "id": "ysiMJnwXVsI9"
      },
      "outputs": [],
      "source": [
        ""
      ]
    },
    {
      "cell_type": "code",
      "execution_count": null,
      "metadata": {
        "id": "PUJf6zunVsRk"
      },
      "outputs": [],
      "source": [
        ""
      ]
    },
    {
      "cell_type": "code",
      "execution_count": null,
      "metadata": {
        "id": "OOJIniohVsk6"
      },
      "outputs": [],
      "source": [
        ""
      ]
    }
  ],
  "metadata": {
    "colab": {
      "collapsed_sections": [],
      "name": "summer_project_frauddetect.ipynb",
      "provenance": [],
      "include_colab_link": true
    },
    "kernelspec": {
      "display_name": "Python 3",
      "name": "python3"
    },
    "language_info": {
      "name": "python"
    }
  },
  "nbformat": 4,
  "nbformat_minor": 0
}