{
  "cells": [
    {
      "cell_type": "markdown",
      "metadata": {
        "id": "view-in-github",
        "colab_type": "text"
      },
      "source": [
        "<a href=\"https://colab.research.google.com/github/YiHua00000/Fraud-detection-project/blob/main/Copy_of_summer_project_frauddetect.ipynb\" target=\"_parent\"><img src=\"https://colab.research.google.com/assets/colab-badge.svg\" alt=\"Open In Colab\"/></a>"
      ]
    },
    {
      "cell_type": "code",
      "execution_count": null,
      "metadata": {
        "id": "rNekV1B97wjw",
        "colab": {
          "base_uri": "https://localhost:8080/"
        },
        "outputId": "eecddd68-46c4-4819-de02-b1b42ad69cc3"
      },
      "outputs": [
        {
          "output_type": "stream",
          "name": "stdout",
          "text": [
            "Mounted at /content/drive\n"
          ]
        }
      ],
      "source": [
        "from google.colab import drive\n",
        "drive.mount('/content/drive')"
      ]
    },
    {
      "cell_type": "code",
      "execution_count": null,
      "metadata": {
        "id": "Wq9SJB9H8GWt",
        "colab": {
          "base_uri": "https://localhost:8080/"
        },
        "outputId": "15b59f5d-b7f0-4f18-d7fc-a180a819a4f7"
      },
      "outputs": [
        {
          "output_type": "stream",
          "name": "stdout",
          "text": [
            "/content/drive/MyDrive\n"
          ]
        }
      ],
      "source": [
        "%cd //content/drive/MyDrive/"
      ]
    },
    {
      "cell_type": "code",
      "execution_count": null,
      "metadata": {
        "id": "KdL_40XU8JeT",
        "colab": {
          "base_uri": "https://localhost:8080/"
        },
        "outputId": "99e76e21-9948-4172-f215-2e23d222a208"
      },
      "outputs": [
        {
          "output_type": "stream",
          "name": "stdout",
          "text": [
            "'adjusted query.gdoc'\n",
            "'Colab Notebooks'\n",
            "'Copy of  Project_0503_02_Presentation.pptx.gslides'\n",
            "'--CREATE Statements.gdoc'\n",
            "'image project'\n",
            "'Oigetit - Job Application.gdoc'\n",
            "'ppp_applicants_ga_full (1).csv'\n",
            " ppp_applicants_ga_full.csv\n",
            " ppp-removed-ga.xlsx\n",
            " query.gdoc\n",
            " View_adjustment.gdoc\n",
            "'Yi_Hua_Huang_resume (1).pdf'\n",
            " Yi_Hua_Huang_resume.pdf\n",
            " Yi_Hua_Huang_Resume.pdf\n"
          ]
        }
      ],
      "source": [
        "!ls \"/content/drive/MyDrive\""
      ]
    },
    {
      "cell_type": "code",
      "execution_count": null,
      "metadata": {
        "id": "UqIOmShAwpAG"
      },
      "outputs": [],
      "source": [
        "import pandas as pd\n",
        "import numpy as np\n",
        "import matplotlib.pyplot as plt\n",
        "import datetime as datetime\n",
        "from dateutil.parser import parse\n",
        "from sklearn.model_selection import train_test_split\n",
        "from sklearn.ensemble import RandomForestRegressor\n",
        "from sklearn.linear_model import LogisticRegression\n",
        "from sklearn.neighbors import KNeighborsClassifier\n",
        "from sklearn.metrics import classification_report, confusion_matrix, accuracy_score\n",
        "from sklearn import svm\n",
        "from xgboost import XGBClassifier"
      ]
    },
    {
      "cell_type": "code",
      "execution_count": null,
      "metadata": {
        "id": "4v1nO3WmxmVx"
      },
      "outputs": [],
      "source": [
        ""
      ]
    },
    {
      "cell_type": "markdown",
      "source": [
        "# About the dataset\n",
        "Abstract: PPloans from GA in 2020.\n",
        "\n",
        "Data Set Information: PPP loans are issued by private lenders and credit unions, and then they are backed by the Small Business Administration (SBA). The basic purpose of the PPP is to incentivize small businesses to keep workers on payroll and/or to rehire laid-off workers that lost wages due to COVID-19 disruptions."
      ],
      "metadata": {
        "id": "AQ3hlOZHdMK7"
      }
    },
    {
      "cell_type": "code",
      "execution_count": null,
      "metadata": {
        "id": "z18BuXa2x1Ge"
      },
      "outputs": [],
      "source": [
        "full_data = pd.read_csv('ppp_applicants_ga_full.csv')\n",
        "removed_data = pd.read_excel('ppp-removed-ga.xlsx')\n"
      ]
    },
    {
      "cell_type": "markdown",
      "source": [
        "# Processing data"
      ],
      "metadata": {
        "id": "nBa0KBpbcdTc"
      }
    },
    {
      "cell_type": "code",
      "execution_count": null,
      "metadata": {
        "id": "LdukJpyjx6ke",
        "colab": {
          "base_uri": "https://localhost:8080/",
          "height": 800
        },
        "outputId": "35ad1e67-99d9-4320-b32b-d83aba43b5b6"
      },
      "outputs": [
        {
          "output_type": "execute_result",
          "data": {
            "text/plain": [
              "                               name   amount state  \\\n",
              "0      TRIPLE C CUSTOM CONCRETE LLC  43655.0    GA   \n",
              "1          DAVIS LAWN CARE SERVICES  35000.0    GA   \n",
              "2                    LONNIE RATLIFF  28949.0    GA   \n",
              "3                    DENARD TRIMBLE  20833.0    GA   \n",
              "4                        DANA VINES  20833.0    GA   \n",
              "...                             ...      ...   ...   \n",
              "25831                DONNELL WILSON   1950.0    GA   \n",
              "25832        MAMADOU DIOULDE DIALLO   1849.0    GA   \n",
              "25833                ANTHONY HARRIS   1245.0    GA   \n",
              "25834              TAAHIRA ROBINSON   1075.0    GA   \n",
              "25835               ERICA FERNANDEZ    787.0    GA   \n",
              "\n",
              "                               address         city         zip  naics_code  \\\n",
              "0      106 Lisa Street  East Dublin GA  East Dublin     31027.0    238990.0   \n",
              "1                 752 Savannah Ave N/A   Waynesboro  30830-1156    112910.0   \n",
              "2               55 Maple St NW Apt 802      Atlanta  30314-4760    531390.0   \n",
              "3                       727 Chapman St    Jonesboro  30238-5681    812111.0   \n",
              "4                       3548 Tracey Dr       Duluth  30096-3861    311999.0   \n",
              "...                                ...          ...         ...         ...   \n",
              "25831                    1000 Paces Ln    Woodstock  30189-4829    621511.0   \n",
              "25832          7000 Roswell Rd Apt 252      Atlanta  30328-2389    485310.0   \n",
              "25833                   2849 Blount St      Atlanta  30344-3732    485310.0   \n",
              "25834                8541 Glendevon Ct    Riverdale  30274-4573    561110.0   \n",
              "25835                     406 Nova Cir  Stockbridge  30281-3750    561720.0   \n",
              "\n",
              "                         business_type  jobs_retained date_approved  ...  \\\n",
              "0      Limited  Liability Company(LLC)            7.0    2021-05-11  ...   \n",
              "1                          Partnership            2.0    2021-05-12  ...   \n",
              "2                    Single Member LLC            5.0    2021-04-16  ...   \n",
              "3                  Sole Proprietorship            1.0    2021-05-22  ...   \n",
              "4                  Sole Proprietorship            1.0    2021-03-20  ...   \n",
              "...                                ...            ...           ...  ...   \n",
              "25831              Sole Proprietorship            1.0    2021-04-01  ...   \n",
              "25832          Independent Contractors            1.0    2021-05-21  ...   \n",
              "25833          Independent Contractors            1.0    2021-04-08  ...   \n",
              "25834  Limited  Liability Company(LLC)            1.0    2021-05-11  ...   \n",
              "25835          Independent Contractors            1.0    2021-05-23  ...   \n",
              "\n",
              "      project_county_name project_state  project_zip  originating_lender_city  \\\n",
              "0                 LAURENS            GA      31027.0         Saint Petersburg   \n",
              "1                   BURKE            GA   30830-1156                ARLINGTON   \n",
              "2                  FULTON            GA   30314-4760             PHOENIXVILLE   \n",
              "3                 FAYETTE            GA   30238-5681                     Brea   \n",
              "4                GWINNETT            GA   30096-3861                    Miami   \n",
              "...                   ...           ...          ...                      ...   \n",
              "25831            CHEROKEE            GA   30189-4829             Laguna Hills   \n",
              "25832              FULTON            GA   30328-2389                  Bedford   \n",
              "25833              FULTON            GA   30344-3732                  Bedford   \n",
              "25834             CLAYTON            GA   30274-4573                    Miami   \n",
              "25835               HENRY            GA   30281-3750                  Bedford   \n",
              "\n",
              "      originating_lender_state loan_status_date  \\\n",
              "0                           FL       2021-05-11   \n",
              "1                           MA       2021-05-12   \n",
              "2                           PA       2021-04-16   \n",
              "3                           CA       2021-05-22   \n",
              "4                           FL       2021-03-20   \n",
              "...                        ...              ...   \n",
              "25831                       CA       2021-04-01   \n",
              "25832                       TX       2021-05-21   \n",
              "25833                       TX       2021-04-08   \n",
              "25834                       FL       2021-05-11   \n",
              "25835                       TX       2021-05-23   \n",
              "\n",
              "       originating_lender_location_id  lmi_indicator  forgiveness_amount  \\\n",
              "0                            123499.0              Y                 NaN   \n",
              "1                            262380.0              N                 NaN   \n",
              "2                            121536.0              Y                 NaN   \n",
              "3                            514546.0              Y                 NaN   \n",
              "4                            529192.0              N                 NaN   \n",
              "...                               ...            ...                 ...   \n",
              "25831                        509316.0              N                 NaN   \n",
              "25832                        529472.0              N                 NaN   \n",
              "25833                        529472.0              Y                 NaN   \n",
              "25834                        529192.0              Y                 NaN   \n",
              "25835                        529472.0              Y                 NaN   \n",
              "\n",
              "       forgiveness_date  \n",
              "0                   NaN  \n",
              "1                   NaN  \n",
              "2                   NaN  \n",
              "3                   NaN  \n",
              "4                   NaN  \n",
              "...                 ...  \n",
              "25831               NaN  \n",
              "25832               NaN  \n",
              "25833               NaN  \n",
              "25834               NaN  \n",
              "25835               NaN  \n",
              "\n",
              "[25836 rows x 41 columns]"
            ],
            "text/html": [
              "\n",
              "  <div id=\"df-ec8b25e6-5ebf-4ee2-83e9-c8d78035524c\">\n",
              "    <div class=\"colab-df-container\">\n",
              "      <div>\n",
              "<style scoped>\n",
              "    .dataframe tbody tr th:only-of-type {\n",
              "        vertical-align: middle;\n",
              "    }\n",
              "\n",
              "    .dataframe tbody tr th {\n",
              "        vertical-align: top;\n",
              "    }\n",
              "\n",
              "    .dataframe thead th {\n",
              "        text-align: right;\n",
              "    }\n",
              "</style>\n",
              "<table border=\"1\" class=\"dataframe\">\n",
              "  <thead>\n",
              "    <tr style=\"text-align: right;\">\n",
              "      <th></th>\n",
              "      <th>name</th>\n",
              "      <th>amount</th>\n",
              "      <th>state</th>\n",
              "      <th>address</th>\n",
              "      <th>city</th>\n",
              "      <th>zip</th>\n",
              "      <th>naics_code</th>\n",
              "      <th>business_type</th>\n",
              "      <th>jobs_retained</th>\n",
              "      <th>date_approved</th>\n",
              "      <th>...</th>\n",
              "      <th>project_county_name</th>\n",
              "      <th>project_state</th>\n",
              "      <th>project_zip</th>\n",
              "      <th>originating_lender_city</th>\n",
              "      <th>originating_lender_state</th>\n",
              "      <th>loan_status_date</th>\n",
              "      <th>originating_lender_location_id</th>\n",
              "      <th>lmi_indicator</th>\n",
              "      <th>forgiveness_amount</th>\n",
              "      <th>forgiveness_date</th>\n",
              "    </tr>\n",
              "  </thead>\n",
              "  <tbody>\n",
              "    <tr>\n",
              "      <th>0</th>\n",
              "      <td>TRIPLE C CUSTOM CONCRETE LLC</td>\n",
              "      <td>43655.0</td>\n",
              "      <td>GA</td>\n",
              "      <td>106 Lisa Street  East Dublin GA</td>\n",
              "      <td>East Dublin</td>\n",
              "      <td>31027.0</td>\n",
              "      <td>238990.0</td>\n",
              "      <td>Limited  Liability Company(LLC)</td>\n",
              "      <td>7.0</td>\n",
              "      <td>2021-05-11</td>\n",
              "      <td>...</td>\n",
              "      <td>LAURENS</td>\n",
              "      <td>GA</td>\n",
              "      <td>31027.0</td>\n",
              "      <td>Saint Petersburg</td>\n",
              "      <td>FL</td>\n",
              "      <td>2021-05-11</td>\n",
              "      <td>123499.0</td>\n",
              "      <td>Y</td>\n",
              "      <td>NaN</td>\n",
              "      <td>NaN</td>\n",
              "    </tr>\n",
              "    <tr>\n",
              "      <th>1</th>\n",
              "      <td>DAVIS LAWN CARE SERVICES</td>\n",
              "      <td>35000.0</td>\n",
              "      <td>GA</td>\n",
              "      <td>752 Savannah Ave N/A</td>\n",
              "      <td>Waynesboro</td>\n",
              "      <td>30830-1156</td>\n",
              "      <td>112910.0</td>\n",
              "      <td>Partnership</td>\n",
              "      <td>2.0</td>\n",
              "      <td>2021-05-12</td>\n",
              "      <td>...</td>\n",
              "      <td>BURKE</td>\n",
              "      <td>GA</td>\n",
              "      <td>30830-1156</td>\n",
              "      <td>ARLINGTON</td>\n",
              "      <td>MA</td>\n",
              "      <td>2021-05-12</td>\n",
              "      <td>262380.0</td>\n",
              "      <td>N</td>\n",
              "      <td>NaN</td>\n",
              "      <td>NaN</td>\n",
              "    </tr>\n",
              "    <tr>\n",
              "      <th>2</th>\n",
              "      <td>LONNIE RATLIFF</td>\n",
              "      <td>28949.0</td>\n",
              "      <td>GA</td>\n",
              "      <td>55 Maple St NW Apt 802</td>\n",
              "      <td>Atlanta</td>\n",
              "      <td>30314-4760</td>\n",
              "      <td>531390.0</td>\n",
              "      <td>Single Member LLC</td>\n",
              "      <td>5.0</td>\n",
              "      <td>2021-04-16</td>\n",
              "      <td>...</td>\n",
              "      <td>FULTON</td>\n",
              "      <td>GA</td>\n",
              "      <td>30314-4760</td>\n",
              "      <td>PHOENIXVILLE</td>\n",
              "      <td>PA</td>\n",
              "      <td>2021-04-16</td>\n",
              "      <td>121536.0</td>\n",
              "      <td>Y</td>\n",
              "      <td>NaN</td>\n",
              "      <td>NaN</td>\n",
              "    </tr>\n",
              "    <tr>\n",
              "      <th>3</th>\n",
              "      <td>DENARD TRIMBLE</td>\n",
              "      <td>20833.0</td>\n",
              "      <td>GA</td>\n",
              "      <td>727 Chapman St</td>\n",
              "      <td>Jonesboro</td>\n",
              "      <td>30238-5681</td>\n",
              "      <td>812111.0</td>\n",
              "      <td>Sole Proprietorship</td>\n",
              "      <td>1.0</td>\n",
              "      <td>2021-05-22</td>\n",
              "      <td>...</td>\n",
              "      <td>FAYETTE</td>\n",
              "      <td>GA</td>\n",
              "      <td>30238-5681</td>\n",
              "      <td>Brea</td>\n",
              "      <td>CA</td>\n",
              "      <td>2021-05-22</td>\n",
              "      <td>514546.0</td>\n",
              "      <td>Y</td>\n",
              "      <td>NaN</td>\n",
              "      <td>NaN</td>\n",
              "    </tr>\n",
              "    <tr>\n",
              "      <th>4</th>\n",
              "      <td>DANA VINES</td>\n",
              "      <td>20833.0</td>\n",
              "      <td>GA</td>\n",
              "      <td>3548 Tracey Dr</td>\n",
              "      <td>Duluth</td>\n",
              "      <td>30096-3861</td>\n",
              "      <td>311999.0</td>\n",
              "      <td>Sole Proprietorship</td>\n",
              "      <td>1.0</td>\n",
              "      <td>2021-03-20</td>\n",
              "      <td>...</td>\n",
              "      <td>GWINNETT</td>\n",
              "      <td>GA</td>\n",
              "      <td>30096-3861</td>\n",
              "      <td>Miami</td>\n",
              "      <td>FL</td>\n",
              "      <td>2021-03-20</td>\n",
              "      <td>529192.0</td>\n",
              "      <td>N</td>\n",
              "      <td>NaN</td>\n",
              "      <td>NaN</td>\n",
              "    </tr>\n",
              "    <tr>\n",
              "      <th>...</th>\n",
              "      <td>...</td>\n",
              "      <td>...</td>\n",
              "      <td>...</td>\n",
              "      <td>...</td>\n",
              "      <td>...</td>\n",
              "      <td>...</td>\n",
              "      <td>...</td>\n",
              "      <td>...</td>\n",
              "      <td>...</td>\n",
              "      <td>...</td>\n",
              "      <td>...</td>\n",
              "      <td>...</td>\n",
              "      <td>...</td>\n",
              "      <td>...</td>\n",
              "      <td>...</td>\n",
              "      <td>...</td>\n",
              "      <td>...</td>\n",
              "      <td>...</td>\n",
              "      <td>...</td>\n",
              "      <td>...</td>\n",
              "      <td>...</td>\n",
              "    </tr>\n",
              "    <tr>\n",
              "      <th>25831</th>\n",
              "      <td>DONNELL WILSON</td>\n",
              "      <td>1950.0</td>\n",
              "      <td>GA</td>\n",
              "      <td>1000 Paces Ln</td>\n",
              "      <td>Woodstock</td>\n",
              "      <td>30189-4829</td>\n",
              "      <td>621511.0</td>\n",
              "      <td>Sole Proprietorship</td>\n",
              "      <td>1.0</td>\n",
              "      <td>2021-04-01</td>\n",
              "      <td>...</td>\n",
              "      <td>CHEROKEE</td>\n",
              "      <td>GA</td>\n",
              "      <td>30189-4829</td>\n",
              "      <td>Laguna Hills</td>\n",
              "      <td>CA</td>\n",
              "      <td>2021-04-01</td>\n",
              "      <td>509316.0</td>\n",
              "      <td>N</td>\n",
              "      <td>NaN</td>\n",
              "      <td>NaN</td>\n",
              "    </tr>\n",
              "    <tr>\n",
              "      <th>25832</th>\n",
              "      <td>MAMADOU DIOULDE DIALLO</td>\n",
              "      <td>1849.0</td>\n",
              "      <td>GA</td>\n",
              "      <td>7000 Roswell Rd Apt 252</td>\n",
              "      <td>Atlanta</td>\n",
              "      <td>30328-2389</td>\n",
              "      <td>485310.0</td>\n",
              "      <td>Independent Contractors</td>\n",
              "      <td>1.0</td>\n",
              "      <td>2021-05-21</td>\n",
              "      <td>...</td>\n",
              "      <td>FULTON</td>\n",
              "      <td>GA</td>\n",
              "      <td>30328-2389</td>\n",
              "      <td>Bedford</td>\n",
              "      <td>TX</td>\n",
              "      <td>2021-05-21</td>\n",
              "      <td>529472.0</td>\n",
              "      <td>N</td>\n",
              "      <td>NaN</td>\n",
              "      <td>NaN</td>\n",
              "    </tr>\n",
              "    <tr>\n",
              "      <th>25833</th>\n",
              "      <td>ANTHONY HARRIS</td>\n",
              "      <td>1245.0</td>\n",
              "      <td>GA</td>\n",
              "      <td>2849 Blount St</td>\n",
              "      <td>Atlanta</td>\n",
              "      <td>30344-3732</td>\n",
              "      <td>485310.0</td>\n",
              "      <td>Independent Contractors</td>\n",
              "      <td>1.0</td>\n",
              "      <td>2021-04-08</td>\n",
              "      <td>...</td>\n",
              "      <td>FULTON</td>\n",
              "      <td>GA</td>\n",
              "      <td>30344-3732</td>\n",
              "      <td>Bedford</td>\n",
              "      <td>TX</td>\n",
              "      <td>2021-04-08</td>\n",
              "      <td>529472.0</td>\n",
              "      <td>Y</td>\n",
              "      <td>NaN</td>\n",
              "      <td>NaN</td>\n",
              "    </tr>\n",
              "    <tr>\n",
              "      <th>25834</th>\n",
              "      <td>TAAHIRA ROBINSON</td>\n",
              "      <td>1075.0</td>\n",
              "      <td>GA</td>\n",
              "      <td>8541 Glendevon Ct</td>\n",
              "      <td>Riverdale</td>\n",
              "      <td>30274-4573</td>\n",
              "      <td>561110.0</td>\n",
              "      <td>Limited  Liability Company(LLC)</td>\n",
              "      <td>1.0</td>\n",
              "      <td>2021-05-11</td>\n",
              "      <td>...</td>\n",
              "      <td>CLAYTON</td>\n",
              "      <td>GA</td>\n",
              "      <td>30274-4573</td>\n",
              "      <td>Miami</td>\n",
              "      <td>FL</td>\n",
              "      <td>2021-05-11</td>\n",
              "      <td>529192.0</td>\n",
              "      <td>Y</td>\n",
              "      <td>NaN</td>\n",
              "      <td>NaN</td>\n",
              "    </tr>\n",
              "    <tr>\n",
              "      <th>25835</th>\n",
              "      <td>ERICA FERNANDEZ</td>\n",
              "      <td>787.0</td>\n",
              "      <td>GA</td>\n",
              "      <td>406 Nova Cir</td>\n",
              "      <td>Stockbridge</td>\n",
              "      <td>30281-3750</td>\n",
              "      <td>561720.0</td>\n",
              "      <td>Independent Contractors</td>\n",
              "      <td>1.0</td>\n",
              "      <td>2021-05-23</td>\n",
              "      <td>...</td>\n",
              "      <td>HENRY</td>\n",
              "      <td>GA</td>\n",
              "      <td>30281-3750</td>\n",
              "      <td>Bedford</td>\n",
              "      <td>TX</td>\n",
              "      <td>2021-05-23</td>\n",
              "      <td>529472.0</td>\n",
              "      <td>Y</td>\n",
              "      <td>NaN</td>\n",
              "      <td>NaN</td>\n",
              "    </tr>\n",
              "  </tbody>\n",
              "</table>\n",
              "<p>25836 rows × 41 columns</p>\n",
              "</div>\n",
              "      <button class=\"colab-df-convert\" onclick=\"convertToInteractive('df-ec8b25e6-5ebf-4ee2-83e9-c8d78035524c')\"\n",
              "              title=\"Convert this dataframe to an interactive table.\"\n",
              "              style=\"display:none;\">\n",
              "        \n",
              "  <svg xmlns=\"http://www.w3.org/2000/svg\" height=\"24px\"viewBox=\"0 0 24 24\"\n",
              "       width=\"24px\">\n",
              "    <path d=\"M0 0h24v24H0V0z\" fill=\"none\"/>\n",
              "    <path d=\"M18.56 5.44l.94 2.06.94-2.06 2.06-.94-2.06-.94-.94-2.06-.94 2.06-2.06.94zm-11 1L8.5 8.5l.94-2.06 2.06-.94-2.06-.94L8.5 2.5l-.94 2.06-2.06.94zm10 10l.94 2.06.94-2.06 2.06-.94-2.06-.94-.94-2.06-.94 2.06-2.06.94z\"/><path d=\"M17.41 7.96l-1.37-1.37c-.4-.4-.92-.59-1.43-.59-.52 0-1.04.2-1.43.59L10.3 9.45l-7.72 7.72c-.78.78-.78 2.05 0 2.83L4 21.41c.39.39.9.59 1.41.59.51 0 1.02-.2 1.41-.59l7.78-7.78 2.81-2.81c.8-.78.8-2.07 0-2.86zM5.41 20L4 18.59l7.72-7.72 1.47 1.35L5.41 20z\"/>\n",
              "  </svg>\n",
              "      </button>\n",
              "      \n",
              "  <style>\n",
              "    .colab-df-container {\n",
              "      display:flex;\n",
              "      flex-wrap:wrap;\n",
              "      gap: 12px;\n",
              "    }\n",
              "\n",
              "    .colab-df-convert {\n",
              "      background-color: #E8F0FE;\n",
              "      border: none;\n",
              "      border-radius: 50%;\n",
              "      cursor: pointer;\n",
              "      display: none;\n",
              "      fill: #1967D2;\n",
              "      height: 32px;\n",
              "      padding: 0 0 0 0;\n",
              "      width: 32px;\n",
              "    }\n",
              "\n",
              "    .colab-df-convert:hover {\n",
              "      background-color: #E2EBFA;\n",
              "      box-shadow: 0px 1px 2px rgba(60, 64, 67, 0.3), 0px 1px 3px 1px rgba(60, 64, 67, 0.15);\n",
              "      fill: #174EA6;\n",
              "    }\n",
              "\n",
              "    [theme=dark] .colab-df-convert {\n",
              "      background-color: #3B4455;\n",
              "      fill: #D2E3FC;\n",
              "    }\n",
              "\n",
              "    [theme=dark] .colab-df-convert:hover {\n",
              "      background-color: #434B5C;\n",
              "      box-shadow: 0px 1px 3px 1px rgba(0, 0, 0, 0.15);\n",
              "      filter: drop-shadow(0px 1px 2px rgba(0, 0, 0, 0.3));\n",
              "      fill: #FFFFFF;\n",
              "    }\n",
              "  </style>\n",
              "\n",
              "      <script>\n",
              "        const buttonEl =\n",
              "          document.querySelector('#df-ec8b25e6-5ebf-4ee2-83e9-c8d78035524c button.colab-df-convert');\n",
              "        buttonEl.style.display =\n",
              "          google.colab.kernel.accessAllowed ? 'block' : 'none';\n",
              "\n",
              "        async function convertToInteractive(key) {\n",
              "          const element = document.querySelector('#df-ec8b25e6-5ebf-4ee2-83e9-c8d78035524c');\n",
              "          const dataTable =\n",
              "            await google.colab.kernel.invokeFunction('convertToInteractive',\n",
              "                                                     [key], {});\n",
              "          if (!dataTable) return;\n",
              "\n",
              "          const docLinkHtml = 'Like what you see? Visit the ' +\n",
              "            '<a target=\"_blank\" href=https://colab.research.google.com/notebooks/data_table.ipynb>data table notebook</a>'\n",
              "            + ' to learn more about interactive tables.';\n",
              "          element.innerHTML = '';\n",
              "          dataTable['output_type'] = 'display_data';\n",
              "          await google.colab.output.renderOutput(dataTable, element);\n",
              "          const docLink = document.createElement('div');\n",
              "          docLink.innerHTML = docLinkHtml;\n",
              "          element.appendChild(docLink);\n",
              "        }\n",
              "      </script>\n",
              "    </div>\n",
              "  </div>\n",
              "  "
            ]
          },
          "metadata": {},
          "execution_count": 6
        }
      ],
      "source": [
        "removed_data"
      ]
    },
    {
      "cell_type": "code",
      "execution_count": null,
      "metadata": {
        "id": "oqc2LLDFMGRf",
        "colab": {
          "base_uri": "https://localhost:8080/",
          "height": 800
        },
        "outputId": "40e240a6-966f-49be-e4f5-a3532e3579fb"
      },
      "outputs": [
        {
          "output_type": "execute_result",
          "data": {
            "text/plain": [
              "                                 name      amount state  \\\n",
              "0                  LUMMUS CORPORATION  2000000.00    GA   \n",
              "1              COLIANT SOLUTIONS INC.  1294555.00    GA   \n",
              "2                   YOHE PLUMBING INC   729509.00    GA   \n",
              "3       LEWIS COLOR LITHOGRAPHERS INC   571193.40    GA   \n",
              "4         ALMA PAK INTERNATIONAL, LLC   472700.00    GA   \n",
              "...                               ...         ...   ...   \n",
              "553823                     PAUL CLARK      757.00    GA   \n",
              "553824                  DEWEY GRIFFIN      700.00    GA   \n",
              "553825                 HAYDEN WHITLOW      582.71    GA   \n",
              "553826                    KEVIN LEWIS      270.00    GA   \n",
              "553827                 ARTEAYA TAYLOR    12052.00    GA   \n",
              "\n",
              "                              address           city         zip  naics_code  \\\n",
              "0                     225 Bourne Blvd       Savannah  31408-9586    333249.0   \n",
              "1              2703 Brickton North Dr         Buford  30518-9101    541519.0   \n",
              "2               1120 Franke Court N/A        Augusta       30909    238220.0   \n",
              "3                 30 Joe Kennedy Blvd     Statesboro  30458-3417    323111.0   \n",
              "4                     230 PINEVIEW RD           ALMA  31510-4326    445230.0   \n",
              "...                               ...            ...         ...         ...   \n",
              "553823                    609 Fern St       Waycross  31501-3210    561492.0   \n",
              "553824                   245 Moray Rd           Alma  31510-4371    111940.0   \n",
              "553825             2696 Douglas Ct NW        Acworth  30101-3677    561730.0   \n",
              "553826  4830 Northway Drive Northeast  Sandy Springs  30342-2424    541990.0   \n",
              "553827                    Sedona Loop        Hampton       30253    531210.0   \n",
              "\n",
              "                  business_type  jobs_retained date_approved  ...  \\\n",
              "0                   Corporation            294    2021-02-20  ...   \n",
              "1                   Corporation             63    2021-01-31  ...   \n",
              "2                   Corporation            105    2021-03-12  ...   \n",
              "3                   Corporation             49    2021-02-02  ...   \n",
              "4                   Partnership             37    2020-04-10  ...   \n",
              "...                         ...            ...           ...  ...   \n",
              "553823  Independent Contractors              1    2021-04-30  ...   \n",
              "553824      Sole Proprietorship              1    2021-04-02  ...   \n",
              "553825  Independent Contractors              1    2021-02-19  ...   \n",
              "553826      Sole Proprietorship              1    2020-08-03  ...   \n",
              "553827      Sole Proprietorship              1    2021-02-04  ...   \n",
              "\n",
              "       project_county_name project_state  project_zip  \\\n",
              "0                  CHATHAM            GA   31408-9586   \n",
              "1                 GWINNETT            GA   30518-9101   \n",
              "2                 RICHMOND            GA        30909   \n",
              "3                  BULLOCH            GA   30458-3417   \n",
              "4                    BACON            GA   31510-4326   \n",
              "...                    ...           ...          ...   \n",
              "553823                WARE            GA   31501-3210   \n",
              "553824               BACON            GA   31510-4371   \n",
              "553825                COBB            GA   30101-3677   \n",
              "553826              FULTON            GA   30342-2424   \n",
              "553827               HENRY            GA        30253   \n",
              "\n",
              "        originating_lender_city originating_lender_state loan_status_date  \\\n",
              "0                       CHICAGO                       IL              NaN   \n",
              "1                      COLUMBUS                       GA              NaN   \n",
              "2                  PHOENIXVILLE                       PA              NaN   \n",
              "3                      COLUMBUS                       GA              NaN   \n",
              "4                          ALMA                       GA       2021-01-08   \n",
              "...                         ...                      ...              ...   \n",
              "553823                    Miami                       FL              NaN   \n",
              "553824                     ALMA                       GA       2021-09-24   \n",
              "553825                   HINTON                       OK              NaN   \n",
              "553826                  TEANECK                       NJ              NaN   \n",
              "553827                  TEANECK                       NJ              NaN   \n",
              "\n",
              "        originating_lender_location_id  lmi_indicator  forgiveness_amount  \\\n",
              "0                               116998              N                 NaN   \n",
              "1                                19248              Y                 NaN   \n",
              "2                               121536              N                 NaN   \n",
              "3                                19248              N                 NaN   \n",
              "4                                17811              N           475877.59   \n",
              "...                                ...            ...                 ...   \n",
              "553823                          529192              N                 NaN   \n",
              "553824                           17808              N              702.61   \n",
              "553825                           58771              N                 NaN   \n",
              "553826                          456756              N                 NaN   \n",
              "553827                          456756              Y                 NaN   \n",
              "\n",
              "        forgiveness_date  \n",
              "0                    NaN  \n",
              "1                    NaN  \n",
              "2                    NaN  \n",
              "3                    NaN  \n",
              "4             2020-12-15  \n",
              "...                  ...  \n",
              "553823               NaN  \n",
              "553824        2021-08-23  \n",
              "553825               NaN  \n",
              "553826               NaN  \n",
              "553827               NaN  \n",
              "\n",
              "[553828 rows x 41 columns]"
            ],
            "text/html": [
              "\n",
              "  <div id=\"df-356d1a86-722f-4d79-848a-0039451ed137\">\n",
              "    <div class=\"colab-df-container\">\n",
              "      <div>\n",
              "<style scoped>\n",
              "    .dataframe tbody tr th:only-of-type {\n",
              "        vertical-align: middle;\n",
              "    }\n",
              "\n",
              "    .dataframe tbody tr th {\n",
              "        vertical-align: top;\n",
              "    }\n",
              "\n",
              "    .dataframe thead th {\n",
              "        text-align: right;\n",
              "    }\n",
              "</style>\n",
              "<table border=\"1\" class=\"dataframe\">\n",
              "  <thead>\n",
              "    <tr style=\"text-align: right;\">\n",
              "      <th></th>\n",
              "      <th>name</th>\n",
              "      <th>amount</th>\n",
              "      <th>state</th>\n",
              "      <th>address</th>\n",
              "      <th>city</th>\n",
              "      <th>zip</th>\n",
              "      <th>naics_code</th>\n",
              "      <th>business_type</th>\n",
              "      <th>jobs_retained</th>\n",
              "      <th>date_approved</th>\n",
              "      <th>...</th>\n",
              "      <th>project_county_name</th>\n",
              "      <th>project_state</th>\n",
              "      <th>project_zip</th>\n",
              "      <th>originating_lender_city</th>\n",
              "      <th>originating_lender_state</th>\n",
              "      <th>loan_status_date</th>\n",
              "      <th>originating_lender_location_id</th>\n",
              "      <th>lmi_indicator</th>\n",
              "      <th>forgiveness_amount</th>\n",
              "      <th>forgiveness_date</th>\n",
              "    </tr>\n",
              "  </thead>\n",
              "  <tbody>\n",
              "    <tr>\n",
              "      <th>0</th>\n",
              "      <td>LUMMUS CORPORATION</td>\n",
              "      <td>2000000.00</td>\n",
              "      <td>GA</td>\n",
              "      <td>225 Bourne Blvd</td>\n",
              "      <td>Savannah</td>\n",
              "      <td>31408-9586</td>\n",
              "      <td>333249.0</td>\n",
              "      <td>Corporation</td>\n",
              "      <td>294</td>\n",
              "      <td>2021-02-20</td>\n",
              "      <td>...</td>\n",
              "      <td>CHATHAM</td>\n",
              "      <td>GA</td>\n",
              "      <td>31408-9586</td>\n",
              "      <td>CHICAGO</td>\n",
              "      <td>IL</td>\n",
              "      <td>NaN</td>\n",
              "      <td>116998</td>\n",
              "      <td>N</td>\n",
              "      <td>NaN</td>\n",
              "      <td>NaN</td>\n",
              "    </tr>\n",
              "    <tr>\n",
              "      <th>1</th>\n",
              "      <td>COLIANT SOLUTIONS INC.</td>\n",
              "      <td>1294555.00</td>\n",
              "      <td>GA</td>\n",
              "      <td>2703 Brickton North Dr</td>\n",
              "      <td>Buford</td>\n",
              "      <td>30518-9101</td>\n",
              "      <td>541519.0</td>\n",
              "      <td>Corporation</td>\n",
              "      <td>63</td>\n",
              "      <td>2021-01-31</td>\n",
              "      <td>...</td>\n",
              "      <td>GWINNETT</td>\n",
              "      <td>GA</td>\n",
              "      <td>30518-9101</td>\n",
              "      <td>COLUMBUS</td>\n",
              "      <td>GA</td>\n",
              "      <td>NaN</td>\n",
              "      <td>19248</td>\n",
              "      <td>Y</td>\n",
              "      <td>NaN</td>\n",
              "      <td>NaN</td>\n",
              "    </tr>\n",
              "    <tr>\n",
              "      <th>2</th>\n",
              "      <td>YOHE PLUMBING INC</td>\n",
              "      <td>729509.00</td>\n",
              "      <td>GA</td>\n",
              "      <td>1120 Franke Court N/A</td>\n",
              "      <td>Augusta</td>\n",
              "      <td>30909</td>\n",
              "      <td>238220.0</td>\n",
              "      <td>Corporation</td>\n",
              "      <td>105</td>\n",
              "      <td>2021-03-12</td>\n",
              "      <td>...</td>\n",
              "      <td>RICHMOND</td>\n",
              "      <td>GA</td>\n",
              "      <td>30909</td>\n",
              "      <td>PHOENIXVILLE</td>\n",
              "      <td>PA</td>\n",
              "      <td>NaN</td>\n",
              "      <td>121536</td>\n",
              "      <td>N</td>\n",
              "      <td>NaN</td>\n",
              "      <td>NaN</td>\n",
              "    </tr>\n",
              "    <tr>\n",
              "      <th>3</th>\n",
              "      <td>LEWIS COLOR LITHOGRAPHERS INC</td>\n",
              "      <td>571193.40</td>\n",
              "      <td>GA</td>\n",
              "      <td>30 Joe Kennedy Blvd</td>\n",
              "      <td>Statesboro</td>\n",
              "      <td>30458-3417</td>\n",
              "      <td>323111.0</td>\n",
              "      <td>Corporation</td>\n",
              "      <td>49</td>\n",
              "      <td>2021-02-02</td>\n",
              "      <td>...</td>\n",
              "      <td>BULLOCH</td>\n",
              "      <td>GA</td>\n",
              "      <td>30458-3417</td>\n",
              "      <td>COLUMBUS</td>\n",
              "      <td>GA</td>\n",
              "      <td>NaN</td>\n",
              "      <td>19248</td>\n",
              "      <td>N</td>\n",
              "      <td>NaN</td>\n",
              "      <td>NaN</td>\n",
              "    </tr>\n",
              "    <tr>\n",
              "      <th>4</th>\n",
              "      <td>ALMA PAK INTERNATIONAL, LLC</td>\n",
              "      <td>472700.00</td>\n",
              "      <td>GA</td>\n",
              "      <td>230 PINEVIEW RD</td>\n",
              "      <td>ALMA</td>\n",
              "      <td>31510-4326</td>\n",
              "      <td>445230.0</td>\n",
              "      <td>Partnership</td>\n",
              "      <td>37</td>\n",
              "      <td>2020-04-10</td>\n",
              "      <td>...</td>\n",
              "      <td>BACON</td>\n",
              "      <td>GA</td>\n",
              "      <td>31510-4326</td>\n",
              "      <td>ALMA</td>\n",
              "      <td>GA</td>\n",
              "      <td>2021-01-08</td>\n",
              "      <td>17811</td>\n",
              "      <td>N</td>\n",
              "      <td>475877.59</td>\n",
              "      <td>2020-12-15</td>\n",
              "    </tr>\n",
              "    <tr>\n",
              "      <th>...</th>\n",
              "      <td>...</td>\n",
              "      <td>...</td>\n",
              "      <td>...</td>\n",
              "      <td>...</td>\n",
              "      <td>...</td>\n",
              "      <td>...</td>\n",
              "      <td>...</td>\n",
              "      <td>...</td>\n",
              "      <td>...</td>\n",
              "      <td>...</td>\n",
              "      <td>...</td>\n",
              "      <td>...</td>\n",
              "      <td>...</td>\n",
              "      <td>...</td>\n",
              "      <td>...</td>\n",
              "      <td>...</td>\n",
              "      <td>...</td>\n",
              "      <td>...</td>\n",
              "      <td>...</td>\n",
              "      <td>...</td>\n",
              "      <td>...</td>\n",
              "    </tr>\n",
              "    <tr>\n",
              "      <th>553823</th>\n",
              "      <td>PAUL CLARK</td>\n",
              "      <td>757.00</td>\n",
              "      <td>GA</td>\n",
              "      <td>609 Fern St</td>\n",
              "      <td>Waycross</td>\n",
              "      <td>31501-3210</td>\n",
              "      <td>561492.0</td>\n",
              "      <td>Independent Contractors</td>\n",
              "      <td>1</td>\n",
              "      <td>2021-04-30</td>\n",
              "      <td>...</td>\n",
              "      <td>WARE</td>\n",
              "      <td>GA</td>\n",
              "      <td>31501-3210</td>\n",
              "      <td>Miami</td>\n",
              "      <td>FL</td>\n",
              "      <td>NaN</td>\n",
              "      <td>529192</td>\n",
              "      <td>N</td>\n",
              "      <td>NaN</td>\n",
              "      <td>NaN</td>\n",
              "    </tr>\n",
              "    <tr>\n",
              "      <th>553824</th>\n",
              "      <td>DEWEY GRIFFIN</td>\n",
              "      <td>700.00</td>\n",
              "      <td>GA</td>\n",
              "      <td>245 Moray Rd</td>\n",
              "      <td>Alma</td>\n",
              "      <td>31510-4371</td>\n",
              "      <td>111940.0</td>\n",
              "      <td>Sole Proprietorship</td>\n",
              "      <td>1</td>\n",
              "      <td>2021-04-02</td>\n",
              "      <td>...</td>\n",
              "      <td>BACON</td>\n",
              "      <td>GA</td>\n",
              "      <td>31510-4371</td>\n",
              "      <td>ALMA</td>\n",
              "      <td>GA</td>\n",
              "      <td>2021-09-24</td>\n",
              "      <td>17808</td>\n",
              "      <td>N</td>\n",
              "      <td>702.61</td>\n",
              "      <td>2021-08-23</td>\n",
              "    </tr>\n",
              "    <tr>\n",
              "      <th>553825</th>\n",
              "      <td>HAYDEN WHITLOW</td>\n",
              "      <td>582.71</td>\n",
              "      <td>GA</td>\n",
              "      <td>2696 Douglas Ct NW</td>\n",
              "      <td>Acworth</td>\n",
              "      <td>30101-3677</td>\n",
              "      <td>561730.0</td>\n",
              "      <td>Independent Contractors</td>\n",
              "      <td>1</td>\n",
              "      <td>2021-02-19</td>\n",
              "      <td>...</td>\n",
              "      <td>COBB</td>\n",
              "      <td>GA</td>\n",
              "      <td>30101-3677</td>\n",
              "      <td>HINTON</td>\n",
              "      <td>OK</td>\n",
              "      <td>NaN</td>\n",
              "      <td>58771</td>\n",
              "      <td>N</td>\n",
              "      <td>NaN</td>\n",
              "      <td>NaN</td>\n",
              "    </tr>\n",
              "    <tr>\n",
              "      <th>553826</th>\n",
              "      <td>KEVIN LEWIS</td>\n",
              "      <td>270.00</td>\n",
              "      <td>GA</td>\n",
              "      <td>4830 Northway Drive Northeast</td>\n",
              "      <td>Sandy Springs</td>\n",
              "      <td>30342-2424</td>\n",
              "      <td>541990.0</td>\n",
              "      <td>Sole Proprietorship</td>\n",
              "      <td>1</td>\n",
              "      <td>2020-08-03</td>\n",
              "      <td>...</td>\n",
              "      <td>FULTON</td>\n",
              "      <td>GA</td>\n",
              "      <td>30342-2424</td>\n",
              "      <td>TEANECK</td>\n",
              "      <td>NJ</td>\n",
              "      <td>NaN</td>\n",
              "      <td>456756</td>\n",
              "      <td>N</td>\n",
              "      <td>NaN</td>\n",
              "      <td>NaN</td>\n",
              "    </tr>\n",
              "    <tr>\n",
              "      <th>553827</th>\n",
              "      <td>ARTEAYA TAYLOR</td>\n",
              "      <td>12052.00</td>\n",
              "      <td>GA</td>\n",
              "      <td>Sedona Loop</td>\n",
              "      <td>Hampton</td>\n",
              "      <td>30253</td>\n",
              "      <td>531210.0</td>\n",
              "      <td>Sole Proprietorship</td>\n",
              "      <td>1</td>\n",
              "      <td>2021-02-04</td>\n",
              "      <td>...</td>\n",
              "      <td>HENRY</td>\n",
              "      <td>GA</td>\n",
              "      <td>30253</td>\n",
              "      <td>TEANECK</td>\n",
              "      <td>NJ</td>\n",
              "      <td>NaN</td>\n",
              "      <td>456756</td>\n",
              "      <td>Y</td>\n",
              "      <td>NaN</td>\n",
              "      <td>NaN</td>\n",
              "    </tr>\n",
              "  </tbody>\n",
              "</table>\n",
              "<p>553828 rows × 41 columns</p>\n",
              "</div>\n",
              "      <button class=\"colab-df-convert\" onclick=\"convertToInteractive('df-356d1a86-722f-4d79-848a-0039451ed137')\"\n",
              "              title=\"Convert this dataframe to an interactive table.\"\n",
              "              style=\"display:none;\">\n",
              "        \n",
              "  <svg xmlns=\"http://www.w3.org/2000/svg\" height=\"24px\"viewBox=\"0 0 24 24\"\n",
              "       width=\"24px\">\n",
              "    <path d=\"M0 0h24v24H0V0z\" fill=\"none\"/>\n",
              "    <path d=\"M18.56 5.44l.94 2.06.94-2.06 2.06-.94-2.06-.94-.94-2.06-.94 2.06-2.06.94zm-11 1L8.5 8.5l.94-2.06 2.06-.94-2.06-.94L8.5 2.5l-.94 2.06-2.06.94zm10 10l.94 2.06.94-2.06 2.06-.94-2.06-.94-.94-2.06-.94 2.06-2.06.94z\"/><path d=\"M17.41 7.96l-1.37-1.37c-.4-.4-.92-.59-1.43-.59-.52 0-1.04.2-1.43.59L10.3 9.45l-7.72 7.72c-.78.78-.78 2.05 0 2.83L4 21.41c.39.39.9.59 1.41.59.51 0 1.02-.2 1.41-.59l7.78-7.78 2.81-2.81c.8-.78.8-2.07 0-2.86zM5.41 20L4 18.59l7.72-7.72 1.47 1.35L5.41 20z\"/>\n",
              "  </svg>\n",
              "      </button>\n",
              "      \n",
              "  <style>\n",
              "    .colab-df-container {\n",
              "      display:flex;\n",
              "      flex-wrap:wrap;\n",
              "      gap: 12px;\n",
              "    }\n",
              "\n",
              "    .colab-df-convert {\n",
              "      background-color: #E8F0FE;\n",
              "      border: none;\n",
              "      border-radius: 50%;\n",
              "      cursor: pointer;\n",
              "      display: none;\n",
              "      fill: #1967D2;\n",
              "      height: 32px;\n",
              "      padding: 0 0 0 0;\n",
              "      width: 32px;\n",
              "    }\n",
              "\n",
              "    .colab-df-convert:hover {\n",
              "      background-color: #E2EBFA;\n",
              "      box-shadow: 0px 1px 2px rgba(60, 64, 67, 0.3), 0px 1px 3px 1px rgba(60, 64, 67, 0.15);\n",
              "      fill: #174EA6;\n",
              "    }\n",
              "\n",
              "    [theme=dark] .colab-df-convert {\n",
              "      background-color: #3B4455;\n",
              "      fill: #D2E3FC;\n",
              "    }\n",
              "\n",
              "    [theme=dark] .colab-df-convert:hover {\n",
              "      background-color: #434B5C;\n",
              "      box-shadow: 0px 1px 3px 1px rgba(0, 0, 0, 0.15);\n",
              "      filter: drop-shadow(0px 1px 2px rgba(0, 0, 0, 0.3));\n",
              "      fill: #FFFFFF;\n",
              "    }\n",
              "  </style>\n",
              "\n",
              "      <script>\n",
              "        const buttonEl =\n",
              "          document.querySelector('#df-356d1a86-722f-4d79-848a-0039451ed137 button.colab-df-convert');\n",
              "        buttonEl.style.display =\n",
              "          google.colab.kernel.accessAllowed ? 'block' : 'none';\n",
              "\n",
              "        async function convertToInteractive(key) {\n",
              "          const element = document.querySelector('#df-356d1a86-722f-4d79-848a-0039451ed137');\n",
              "          const dataTable =\n",
              "            await google.colab.kernel.invokeFunction('convertToInteractive',\n",
              "                                                     [key], {});\n",
              "          if (!dataTable) return;\n",
              "\n",
              "          const docLinkHtml = 'Like what you see? Visit the ' +\n",
              "            '<a target=\"_blank\" href=https://colab.research.google.com/notebooks/data_table.ipynb>data table notebook</a>'\n",
              "            + ' to learn more about interactive tables.';\n",
              "          element.innerHTML = '';\n",
              "          dataTable['output_type'] = 'display_data';\n",
              "          await google.colab.output.renderOutput(dataTable, element);\n",
              "          const docLink = document.createElement('div');\n",
              "          docLink.innerHTML = docLinkHtml;\n",
              "          element.appendChild(docLink);\n",
              "        }\n",
              "      </script>\n",
              "    </div>\n",
              "  </div>\n",
              "  "
            ]
          },
          "metadata": {},
          "execution_count": 7
        }
      ],
      "source": [
        "full_data"
      ]
    },
    {
      "cell_type": "code",
      "execution_count": null,
      "metadata": {
        "id": "0byxtOr09Lax",
        "colab": {
          "base_uri": "https://localhost:8080/"
        },
        "outputId": "8124e67f-63f3-446e-dedd-a14cbcbef216"
      },
      "outputs": [
        {
          "output_type": "execute_result",
          "data": {
            "text/plain": [
              "Index(['name', 'amount', 'state', 'address', 'city', 'zip', 'naics_code',\n",
              "       'business_type', 'jobs_retained', 'date_approved', 'lender',\n",
              "       'congressional_district', 'loan_number', 'sba_office_code',\n",
              "       'processing_method', 'loan_status', 'term', 'sba_guaranty_percentage',\n",
              "       'initial_approval_amount', 'current_approval_amount',\n",
              "       'undisbursed_amount', 'servicing_lender_location_id',\n",
              "       'servicing_lender_name', 'servicing_lender_address',\n",
              "       'servicing_lender_city', 'servicing_lender_state',\n",
              "       'servicing_lender_zip', 'rural_urban_indicator', 'hubzone_indicator',\n",
              "       'business_age_description', 'project_city', 'project_county_name',\n",
              "       'project_state', 'project_zip', 'originating_lender_city',\n",
              "       'originating_lender_state', 'loan_status_date',\n",
              "       'originating_lender_location_id', 'lmi_indicator', 'forgiveness_amount',\n",
              "       'forgiveness_date'],\n",
              "      dtype='object')"
            ]
          },
          "metadata": {},
          "execution_count": 8
        }
      ],
      "source": [
        "removed_data.columns"
      ]
    },
    {
      "cell_type": "code",
      "execution_count": null,
      "metadata": {
        "id": "CEtczLdzMEfN"
      },
      "outputs": [],
      "source": [
        ""
      ]
    },
    {
      "cell_type": "code",
      "execution_count": null,
      "metadata": {
        "id": "GjH4TiK8FpaH",
        "colab": {
          "base_uri": "https://localhost:8080/"
        },
        "outputId": "966bfc33-e5b9-4982-ed57-bdd744ba90b0"
      },
      "outputs": [
        {
          "output_type": "execute_result",
          "data": {
            "text/plain": [
              "Index(['name', 'amount', 'state', 'address', 'city', 'zip', 'naics_code',\n",
              "       'business_type', 'jobs_retained', 'date_approved', 'lender',\n",
              "       'congressional_district', 'loan_number', 'sba_office_code',\n",
              "       'processing_method', 'loan_status', 'term', 'sba_guaranty_percentage',\n",
              "       'initial_approval_amount', 'current_approval_amount',\n",
              "       'undisbursed_amount', 'servicing_lender_location_id',\n",
              "       'servicing_lender_name', 'servicing_lender_address',\n",
              "       'servicing_lender_city', 'servicing_lender_state',\n",
              "       'servicing_lender_zip', 'rural_urban_indicator', 'hubzone_indicator',\n",
              "       'business_age_description', 'project_city', 'project_county_name',\n",
              "       'project_state', 'project_zip', 'originating_lender_city',\n",
              "       'originating_lender_state', 'loan_status_date',\n",
              "       'originating_lender_location_id', 'lmi_indicator', 'forgiveness_amount',\n",
              "       'forgiveness_date'],\n",
              "      dtype='object')"
            ]
          },
          "metadata": {},
          "execution_count": 9
        }
      ],
      "source": [
        "full_data.columns"
      ]
    },
    {
      "cell_type": "code",
      "execution_count": null,
      "metadata": {
        "id": "OqeAgWYF_H65"
      },
      "outputs": [],
      "source": [
        "removed_data['Removed']=np.where(removed_data['name']!=0, True, False)"
      ]
    },
    {
      "cell_type": "code",
      "execution_count": null,
      "metadata": {
        "id": "YKGr7jTuYZWC",
        "colab": {
          "base_uri": "https://localhost:8080/"
        },
        "outputId": "8dee035a-e01b-4568-c906-761739a9acf0"
      },
      "outputs": [
        {
          "output_type": "execute_result",
          "data": {
            "text/plain": [
              "8.165379e+09    1\n",
              "9.777059e+09    1\n",
              "9.134169e+09    1\n",
              "7.007449e+09    1\n",
              "5.285748e+09    1\n",
              "               ..\n",
              "8.395809e+09    1\n",
              "1.495939e+09    1\n",
              "8.572469e+09    1\n",
              "7.022719e+09    1\n",
              "6.722089e+09    1\n",
              "Name: loan_number, Length: 25836, dtype: int64"
            ]
          },
          "metadata": {},
          "execution_count": 11
        }
      ],
      "source": [
        "removed_data['loan_number'].value_counts()"
      ]
    },
    {
      "cell_type": "code",
      "execution_count": null,
      "metadata": {
        "id": "uHhIldgRcGV7",
        "colab": {
          "base_uri": "https://localhost:8080/"
        },
        "outputId": "05083a69-f4bb-4d8f-8756-51c94616233e"
      },
      "outputs": [
        {
          "output_type": "execute_result",
          "data": {
            "text/plain": [
              "Index(['name', 'amount', 'state', 'address', 'city', 'zip', 'naics_code',\n",
              "       'business_type', 'jobs_retained', 'date_approved', 'lender',\n",
              "       'congressional_district', 'loan_number', 'sba_office_code',\n",
              "       'processing_method', 'loan_status', 'term', 'sba_guaranty_percentage',\n",
              "       'initial_approval_amount', 'current_approval_amount',\n",
              "       'undisbursed_amount', 'servicing_lender_location_id',\n",
              "       'servicing_lender_name', 'servicing_lender_address',\n",
              "       'servicing_lender_city', 'servicing_lender_state',\n",
              "       'servicing_lender_zip', 'rural_urban_indicator', 'hubzone_indicator',\n",
              "       'business_age_description', 'project_city', 'project_county_name',\n",
              "       'project_state', 'project_zip', 'originating_lender_city',\n",
              "       'originating_lender_state', 'loan_status_date',\n",
              "       'originating_lender_location_id', 'lmi_indicator', 'forgiveness_amount',\n",
              "       'forgiveness_date', 'Removed'],\n",
              "      dtype='object')"
            ]
          },
          "metadata": {},
          "execution_count": 12
        }
      ],
      "source": [
        "removed_data.columns"
      ]
    },
    {
      "cell_type": "code",
      "execution_count": null,
      "metadata": {
        "id": "mOuZUqvaDKEp"
      },
      "outputs": [],
      "source": [
        "combined_data=full_data.append(removed_data)"
      ]
    },
    {
      "cell_type": "code",
      "execution_count": null,
      "metadata": {
        "id": "pBdS8jxQTq96",
        "colab": {
          "base_uri": "https://localhost:8080/",
          "height": 800
        },
        "outputId": "19609187-1c80-42b6-aaa3-c9fddb6cc995"
      },
      "outputs": [
        {
          "output_type": "execute_result",
          "data": {
            "text/plain": [
              "                                name     amount state  \\\n",
              "0                 LUMMUS CORPORATION  2000000.0    GA   \n",
              "1             COLIANT SOLUTIONS INC.  1294555.0    GA   \n",
              "2                  YOHE PLUMBING INC   729509.0    GA   \n",
              "3      LEWIS COLOR LITHOGRAPHERS INC   571193.4    GA   \n",
              "4        ALMA PAK INTERNATIONAL, LLC   472700.0    GA   \n",
              "...                              ...        ...   ...   \n",
              "25831                 DONNELL WILSON     1950.0    GA   \n",
              "25832         MAMADOU DIOULDE DIALLO     1849.0    GA   \n",
              "25833                 ANTHONY HARRIS     1245.0    GA   \n",
              "25834               TAAHIRA ROBINSON     1075.0    GA   \n",
              "25835                ERICA FERNANDEZ      787.0    GA   \n",
              "\n",
              "                       address         city         zip  naics_code  \\\n",
              "0              225 Bourne Blvd     Savannah  31408-9586    333249.0   \n",
              "1       2703 Brickton North Dr       Buford  30518-9101    541519.0   \n",
              "2        1120 Franke Court N/A      Augusta       30909    238220.0   \n",
              "3          30 Joe Kennedy Blvd   Statesboro  30458-3417    323111.0   \n",
              "4              230 PINEVIEW RD         ALMA  31510-4326    445230.0   \n",
              "...                        ...          ...         ...         ...   \n",
              "25831            1000 Paces Ln    Woodstock  30189-4829    621511.0   \n",
              "25832  7000 Roswell Rd Apt 252      Atlanta  30328-2389    485310.0   \n",
              "25833           2849 Blount St      Atlanta  30344-3732    485310.0   \n",
              "25834        8541 Glendevon Ct    Riverdale  30274-4573    561110.0   \n",
              "25835             406 Nova Cir  Stockbridge  30281-3750    561720.0   \n",
              "\n",
              "                         business_type  jobs_retained        date_approved  \\\n",
              "0                          Corporation          294.0           2021-02-20   \n",
              "1                          Corporation           63.0           2021-01-31   \n",
              "2                          Corporation          105.0           2021-03-12   \n",
              "3                          Corporation           49.0           2021-02-02   \n",
              "4                          Partnership           37.0           2020-04-10   \n",
              "...                                ...            ...                  ...   \n",
              "25831              Sole Proprietorship            1.0  2021-04-01 00:00:00   \n",
              "25832          Independent Contractors            1.0  2021-05-21 00:00:00   \n",
              "25833          Independent Contractors            1.0  2021-04-08 00:00:00   \n",
              "25834  Limited  Liability Company(LLC)            1.0  2021-05-11 00:00:00   \n",
              "25835          Independent Contractors            1.0  2021-05-23 00:00:00   \n",
              "\n",
              "       ... project_state project_zip  originating_lender_city  \\\n",
              "0      ...            GA  31408-9586                  CHICAGO   \n",
              "1      ...            GA  30518-9101                 COLUMBUS   \n",
              "2      ...            GA       30909             PHOENIXVILLE   \n",
              "3      ...            GA  30458-3417                 COLUMBUS   \n",
              "4      ...            GA  31510-4326                     ALMA   \n",
              "...    ...           ...         ...                      ...   \n",
              "25831  ...            GA  30189-4829             Laguna Hills   \n",
              "25832  ...            GA  30328-2389                  Bedford   \n",
              "25833  ...            GA  30344-3732                  Bedford   \n",
              "25834  ...            GA  30274-4573                    Miami   \n",
              "25835  ...            GA  30281-3750                  Bedford   \n",
              "\n",
              "       originating_lender_state     loan_status_date  \\\n",
              "0                            IL                  NaN   \n",
              "1                            GA                  NaN   \n",
              "2                            PA                  NaN   \n",
              "3                            GA                  NaN   \n",
              "4                            GA           2021-01-08   \n",
              "...                         ...                  ...   \n",
              "25831                        CA  2021-04-01 00:00:00   \n",
              "25832                        TX  2021-05-21 00:00:00   \n",
              "25833                        TX  2021-04-08 00:00:00   \n",
              "25834                        FL  2021-05-11 00:00:00   \n",
              "25835                        TX  2021-05-23 00:00:00   \n",
              "\n",
              "      originating_lender_location_id  lmi_indicator  forgiveness_amount  \\\n",
              "0                           116998.0              N                 NaN   \n",
              "1                            19248.0              Y                 NaN   \n",
              "2                           121536.0              N                 NaN   \n",
              "3                            19248.0              N                 NaN   \n",
              "4                            17811.0              N           475877.59   \n",
              "...                              ...            ...                 ...   \n",
              "25831                       509316.0              N                 NaN   \n",
              "25832                       529472.0              N                 NaN   \n",
              "25833                       529472.0              Y                 NaN   \n",
              "25834                       529192.0              Y                 NaN   \n",
              "25835                       529472.0              Y                 NaN   \n",
              "\n",
              "       forgiveness_date  Removed  \n",
              "0                   NaN      NaN  \n",
              "1                   NaN      NaN  \n",
              "2                   NaN      NaN  \n",
              "3                   NaN      NaN  \n",
              "4            2020-12-15      NaN  \n",
              "...                 ...      ...  \n",
              "25831               NaN     True  \n",
              "25832               NaN     True  \n",
              "25833               NaN     True  \n",
              "25834               NaN     True  \n",
              "25835               NaN     True  \n",
              "\n",
              "[579664 rows x 42 columns]"
            ],
            "text/html": [
              "\n",
              "  <div id=\"df-5b35403c-a84f-4e83-ad7d-cf158f32da8a\">\n",
              "    <div class=\"colab-df-container\">\n",
              "      <div>\n",
              "<style scoped>\n",
              "    .dataframe tbody tr th:only-of-type {\n",
              "        vertical-align: middle;\n",
              "    }\n",
              "\n",
              "    .dataframe tbody tr th {\n",
              "        vertical-align: top;\n",
              "    }\n",
              "\n",
              "    .dataframe thead th {\n",
              "        text-align: right;\n",
              "    }\n",
              "</style>\n",
              "<table border=\"1\" class=\"dataframe\">\n",
              "  <thead>\n",
              "    <tr style=\"text-align: right;\">\n",
              "      <th></th>\n",
              "      <th>name</th>\n",
              "      <th>amount</th>\n",
              "      <th>state</th>\n",
              "      <th>address</th>\n",
              "      <th>city</th>\n",
              "      <th>zip</th>\n",
              "      <th>naics_code</th>\n",
              "      <th>business_type</th>\n",
              "      <th>jobs_retained</th>\n",
              "      <th>date_approved</th>\n",
              "      <th>...</th>\n",
              "      <th>project_state</th>\n",
              "      <th>project_zip</th>\n",
              "      <th>originating_lender_city</th>\n",
              "      <th>originating_lender_state</th>\n",
              "      <th>loan_status_date</th>\n",
              "      <th>originating_lender_location_id</th>\n",
              "      <th>lmi_indicator</th>\n",
              "      <th>forgiveness_amount</th>\n",
              "      <th>forgiveness_date</th>\n",
              "      <th>Removed</th>\n",
              "    </tr>\n",
              "  </thead>\n",
              "  <tbody>\n",
              "    <tr>\n",
              "      <th>0</th>\n",
              "      <td>LUMMUS CORPORATION</td>\n",
              "      <td>2000000.0</td>\n",
              "      <td>GA</td>\n",
              "      <td>225 Bourne Blvd</td>\n",
              "      <td>Savannah</td>\n",
              "      <td>31408-9586</td>\n",
              "      <td>333249.0</td>\n",
              "      <td>Corporation</td>\n",
              "      <td>294.0</td>\n",
              "      <td>2021-02-20</td>\n",
              "      <td>...</td>\n",
              "      <td>GA</td>\n",
              "      <td>31408-9586</td>\n",
              "      <td>CHICAGO</td>\n",
              "      <td>IL</td>\n",
              "      <td>NaN</td>\n",
              "      <td>116998.0</td>\n",
              "      <td>N</td>\n",
              "      <td>NaN</td>\n",
              "      <td>NaN</td>\n",
              "      <td>NaN</td>\n",
              "    </tr>\n",
              "    <tr>\n",
              "      <th>1</th>\n",
              "      <td>COLIANT SOLUTIONS INC.</td>\n",
              "      <td>1294555.0</td>\n",
              "      <td>GA</td>\n",
              "      <td>2703 Brickton North Dr</td>\n",
              "      <td>Buford</td>\n",
              "      <td>30518-9101</td>\n",
              "      <td>541519.0</td>\n",
              "      <td>Corporation</td>\n",
              "      <td>63.0</td>\n",
              "      <td>2021-01-31</td>\n",
              "      <td>...</td>\n",
              "      <td>GA</td>\n",
              "      <td>30518-9101</td>\n",
              "      <td>COLUMBUS</td>\n",
              "      <td>GA</td>\n",
              "      <td>NaN</td>\n",
              "      <td>19248.0</td>\n",
              "      <td>Y</td>\n",
              "      <td>NaN</td>\n",
              "      <td>NaN</td>\n",
              "      <td>NaN</td>\n",
              "    </tr>\n",
              "    <tr>\n",
              "      <th>2</th>\n",
              "      <td>YOHE PLUMBING INC</td>\n",
              "      <td>729509.0</td>\n",
              "      <td>GA</td>\n",
              "      <td>1120 Franke Court N/A</td>\n",
              "      <td>Augusta</td>\n",
              "      <td>30909</td>\n",
              "      <td>238220.0</td>\n",
              "      <td>Corporation</td>\n",
              "      <td>105.0</td>\n",
              "      <td>2021-03-12</td>\n",
              "      <td>...</td>\n",
              "      <td>GA</td>\n",
              "      <td>30909</td>\n",
              "      <td>PHOENIXVILLE</td>\n",
              "      <td>PA</td>\n",
              "      <td>NaN</td>\n",
              "      <td>121536.0</td>\n",
              "      <td>N</td>\n",
              "      <td>NaN</td>\n",
              "      <td>NaN</td>\n",
              "      <td>NaN</td>\n",
              "    </tr>\n",
              "    <tr>\n",
              "      <th>3</th>\n",
              "      <td>LEWIS COLOR LITHOGRAPHERS INC</td>\n",
              "      <td>571193.4</td>\n",
              "      <td>GA</td>\n",
              "      <td>30 Joe Kennedy Blvd</td>\n",
              "      <td>Statesboro</td>\n",
              "      <td>30458-3417</td>\n",
              "      <td>323111.0</td>\n",
              "      <td>Corporation</td>\n",
              "      <td>49.0</td>\n",
              "      <td>2021-02-02</td>\n",
              "      <td>...</td>\n",
              "      <td>GA</td>\n",
              "      <td>30458-3417</td>\n",
              "      <td>COLUMBUS</td>\n",
              "      <td>GA</td>\n",
              "      <td>NaN</td>\n",
              "      <td>19248.0</td>\n",
              "      <td>N</td>\n",
              "      <td>NaN</td>\n",
              "      <td>NaN</td>\n",
              "      <td>NaN</td>\n",
              "    </tr>\n",
              "    <tr>\n",
              "      <th>4</th>\n",
              "      <td>ALMA PAK INTERNATIONAL, LLC</td>\n",
              "      <td>472700.0</td>\n",
              "      <td>GA</td>\n",
              "      <td>230 PINEVIEW RD</td>\n",
              "      <td>ALMA</td>\n",
              "      <td>31510-4326</td>\n",
              "      <td>445230.0</td>\n",
              "      <td>Partnership</td>\n",
              "      <td>37.0</td>\n",
              "      <td>2020-04-10</td>\n",
              "      <td>...</td>\n",
              "      <td>GA</td>\n",
              "      <td>31510-4326</td>\n",
              "      <td>ALMA</td>\n",
              "      <td>GA</td>\n",
              "      <td>2021-01-08</td>\n",
              "      <td>17811.0</td>\n",
              "      <td>N</td>\n",
              "      <td>475877.59</td>\n",
              "      <td>2020-12-15</td>\n",
              "      <td>NaN</td>\n",
              "    </tr>\n",
              "    <tr>\n",
              "      <th>...</th>\n",
              "      <td>...</td>\n",
              "      <td>...</td>\n",
              "      <td>...</td>\n",
              "      <td>...</td>\n",
              "      <td>...</td>\n",
              "      <td>...</td>\n",
              "      <td>...</td>\n",
              "      <td>...</td>\n",
              "      <td>...</td>\n",
              "      <td>...</td>\n",
              "      <td>...</td>\n",
              "      <td>...</td>\n",
              "      <td>...</td>\n",
              "      <td>...</td>\n",
              "      <td>...</td>\n",
              "      <td>...</td>\n",
              "      <td>...</td>\n",
              "      <td>...</td>\n",
              "      <td>...</td>\n",
              "      <td>...</td>\n",
              "      <td>...</td>\n",
              "    </tr>\n",
              "    <tr>\n",
              "      <th>25831</th>\n",
              "      <td>DONNELL WILSON</td>\n",
              "      <td>1950.0</td>\n",
              "      <td>GA</td>\n",
              "      <td>1000 Paces Ln</td>\n",
              "      <td>Woodstock</td>\n",
              "      <td>30189-4829</td>\n",
              "      <td>621511.0</td>\n",
              "      <td>Sole Proprietorship</td>\n",
              "      <td>1.0</td>\n",
              "      <td>2021-04-01 00:00:00</td>\n",
              "      <td>...</td>\n",
              "      <td>GA</td>\n",
              "      <td>30189-4829</td>\n",
              "      <td>Laguna Hills</td>\n",
              "      <td>CA</td>\n",
              "      <td>2021-04-01 00:00:00</td>\n",
              "      <td>509316.0</td>\n",
              "      <td>N</td>\n",
              "      <td>NaN</td>\n",
              "      <td>NaN</td>\n",
              "      <td>True</td>\n",
              "    </tr>\n",
              "    <tr>\n",
              "      <th>25832</th>\n",
              "      <td>MAMADOU DIOULDE DIALLO</td>\n",
              "      <td>1849.0</td>\n",
              "      <td>GA</td>\n",
              "      <td>7000 Roswell Rd Apt 252</td>\n",
              "      <td>Atlanta</td>\n",
              "      <td>30328-2389</td>\n",
              "      <td>485310.0</td>\n",
              "      <td>Independent Contractors</td>\n",
              "      <td>1.0</td>\n",
              "      <td>2021-05-21 00:00:00</td>\n",
              "      <td>...</td>\n",
              "      <td>GA</td>\n",
              "      <td>30328-2389</td>\n",
              "      <td>Bedford</td>\n",
              "      <td>TX</td>\n",
              "      <td>2021-05-21 00:00:00</td>\n",
              "      <td>529472.0</td>\n",
              "      <td>N</td>\n",
              "      <td>NaN</td>\n",
              "      <td>NaN</td>\n",
              "      <td>True</td>\n",
              "    </tr>\n",
              "    <tr>\n",
              "      <th>25833</th>\n",
              "      <td>ANTHONY HARRIS</td>\n",
              "      <td>1245.0</td>\n",
              "      <td>GA</td>\n",
              "      <td>2849 Blount St</td>\n",
              "      <td>Atlanta</td>\n",
              "      <td>30344-3732</td>\n",
              "      <td>485310.0</td>\n",
              "      <td>Independent Contractors</td>\n",
              "      <td>1.0</td>\n",
              "      <td>2021-04-08 00:00:00</td>\n",
              "      <td>...</td>\n",
              "      <td>GA</td>\n",
              "      <td>30344-3732</td>\n",
              "      <td>Bedford</td>\n",
              "      <td>TX</td>\n",
              "      <td>2021-04-08 00:00:00</td>\n",
              "      <td>529472.0</td>\n",
              "      <td>Y</td>\n",
              "      <td>NaN</td>\n",
              "      <td>NaN</td>\n",
              "      <td>True</td>\n",
              "    </tr>\n",
              "    <tr>\n",
              "      <th>25834</th>\n",
              "      <td>TAAHIRA ROBINSON</td>\n",
              "      <td>1075.0</td>\n",
              "      <td>GA</td>\n",
              "      <td>8541 Glendevon Ct</td>\n",
              "      <td>Riverdale</td>\n",
              "      <td>30274-4573</td>\n",
              "      <td>561110.0</td>\n",
              "      <td>Limited  Liability Company(LLC)</td>\n",
              "      <td>1.0</td>\n",
              "      <td>2021-05-11 00:00:00</td>\n",
              "      <td>...</td>\n",
              "      <td>GA</td>\n",
              "      <td>30274-4573</td>\n",
              "      <td>Miami</td>\n",
              "      <td>FL</td>\n",
              "      <td>2021-05-11 00:00:00</td>\n",
              "      <td>529192.0</td>\n",
              "      <td>Y</td>\n",
              "      <td>NaN</td>\n",
              "      <td>NaN</td>\n",
              "      <td>True</td>\n",
              "    </tr>\n",
              "    <tr>\n",
              "      <th>25835</th>\n",
              "      <td>ERICA FERNANDEZ</td>\n",
              "      <td>787.0</td>\n",
              "      <td>GA</td>\n",
              "      <td>406 Nova Cir</td>\n",
              "      <td>Stockbridge</td>\n",
              "      <td>30281-3750</td>\n",
              "      <td>561720.0</td>\n",
              "      <td>Independent Contractors</td>\n",
              "      <td>1.0</td>\n",
              "      <td>2021-05-23 00:00:00</td>\n",
              "      <td>...</td>\n",
              "      <td>GA</td>\n",
              "      <td>30281-3750</td>\n",
              "      <td>Bedford</td>\n",
              "      <td>TX</td>\n",
              "      <td>2021-05-23 00:00:00</td>\n",
              "      <td>529472.0</td>\n",
              "      <td>Y</td>\n",
              "      <td>NaN</td>\n",
              "      <td>NaN</td>\n",
              "      <td>True</td>\n",
              "    </tr>\n",
              "  </tbody>\n",
              "</table>\n",
              "<p>579664 rows × 42 columns</p>\n",
              "</div>\n",
              "      <button class=\"colab-df-convert\" onclick=\"convertToInteractive('df-5b35403c-a84f-4e83-ad7d-cf158f32da8a')\"\n",
              "              title=\"Convert this dataframe to an interactive table.\"\n",
              "              style=\"display:none;\">\n",
              "        \n",
              "  <svg xmlns=\"http://www.w3.org/2000/svg\" height=\"24px\"viewBox=\"0 0 24 24\"\n",
              "       width=\"24px\">\n",
              "    <path d=\"M0 0h24v24H0V0z\" fill=\"none\"/>\n",
              "    <path d=\"M18.56 5.44l.94 2.06.94-2.06 2.06-.94-2.06-.94-.94-2.06-.94 2.06-2.06.94zm-11 1L8.5 8.5l.94-2.06 2.06-.94-2.06-.94L8.5 2.5l-.94 2.06-2.06.94zm10 10l.94 2.06.94-2.06 2.06-.94-2.06-.94-.94-2.06-.94 2.06-2.06.94z\"/><path d=\"M17.41 7.96l-1.37-1.37c-.4-.4-.92-.59-1.43-.59-.52 0-1.04.2-1.43.59L10.3 9.45l-7.72 7.72c-.78.78-.78 2.05 0 2.83L4 21.41c.39.39.9.59 1.41.59.51 0 1.02-.2 1.41-.59l7.78-7.78 2.81-2.81c.8-.78.8-2.07 0-2.86zM5.41 20L4 18.59l7.72-7.72 1.47 1.35L5.41 20z\"/>\n",
              "  </svg>\n",
              "      </button>\n",
              "      \n",
              "  <style>\n",
              "    .colab-df-container {\n",
              "      display:flex;\n",
              "      flex-wrap:wrap;\n",
              "      gap: 12px;\n",
              "    }\n",
              "\n",
              "    .colab-df-convert {\n",
              "      background-color: #E8F0FE;\n",
              "      border: none;\n",
              "      border-radius: 50%;\n",
              "      cursor: pointer;\n",
              "      display: none;\n",
              "      fill: #1967D2;\n",
              "      height: 32px;\n",
              "      padding: 0 0 0 0;\n",
              "      width: 32px;\n",
              "    }\n",
              "\n",
              "    .colab-df-convert:hover {\n",
              "      background-color: #E2EBFA;\n",
              "      box-shadow: 0px 1px 2px rgba(60, 64, 67, 0.3), 0px 1px 3px 1px rgba(60, 64, 67, 0.15);\n",
              "      fill: #174EA6;\n",
              "    }\n",
              "\n",
              "    [theme=dark] .colab-df-convert {\n",
              "      background-color: #3B4455;\n",
              "      fill: #D2E3FC;\n",
              "    }\n",
              "\n",
              "    [theme=dark] .colab-df-convert:hover {\n",
              "      background-color: #434B5C;\n",
              "      box-shadow: 0px 1px 3px 1px rgba(0, 0, 0, 0.15);\n",
              "      filter: drop-shadow(0px 1px 2px rgba(0, 0, 0, 0.3));\n",
              "      fill: #FFFFFF;\n",
              "    }\n",
              "  </style>\n",
              "\n",
              "      <script>\n",
              "        const buttonEl =\n",
              "          document.querySelector('#df-5b35403c-a84f-4e83-ad7d-cf158f32da8a button.colab-df-convert');\n",
              "        buttonEl.style.display =\n",
              "          google.colab.kernel.accessAllowed ? 'block' : 'none';\n",
              "\n",
              "        async function convertToInteractive(key) {\n",
              "          const element = document.querySelector('#df-5b35403c-a84f-4e83-ad7d-cf158f32da8a');\n",
              "          const dataTable =\n",
              "            await google.colab.kernel.invokeFunction('convertToInteractive',\n",
              "                                                     [key], {});\n",
              "          if (!dataTable) return;\n",
              "\n",
              "          const docLinkHtml = 'Like what you see? Visit the ' +\n",
              "            '<a target=\"_blank\" href=https://colab.research.google.com/notebooks/data_table.ipynb>data table notebook</a>'\n",
              "            + ' to learn more about interactive tables.';\n",
              "          element.innerHTML = '';\n",
              "          dataTable['output_type'] = 'display_data';\n",
              "          await google.colab.output.renderOutput(dataTable, element);\n",
              "          const docLink = document.createElement('div');\n",
              "          docLink.innerHTML = docLinkHtml;\n",
              "          element.appendChild(docLink);\n",
              "        }\n",
              "      </script>\n",
              "    </div>\n",
              "  </div>\n",
              "  "
            ]
          },
          "metadata": {},
          "execution_count": 14
        }
      ],
      "source": [
        "combined_data"
      ]
    },
    {
      "cell_type": "code",
      "execution_count": null,
      "metadata": {
        "id": "KUDiDwcCUCxb",
        "colab": {
          "base_uri": "https://localhost:8080/"
        },
        "outputId": "35b17aea-e1b8-4073-f3ce-e7d374013c6b"
      },
      "outputs": [
        {
          "output_type": "execute_result",
          "data": {
            "text/plain": [
              "True    25836\n",
              "Name: Removed, dtype: int64"
            ]
          },
          "metadata": {},
          "execution_count": 15
        }
      ],
      "source": [
        "combined_data['Removed'].value_counts()"
      ]
    },
    {
      "cell_type": "code",
      "execution_count": null,
      "metadata": {
        "id": "7UVkckmfALrn"
      },
      "outputs": [],
      "source": [
        "combined_data['Removed'].fillna(False,inplace=True)"
      ]
    },
    {
      "cell_type": "code",
      "execution_count": null,
      "metadata": {
        "id": "TDN-EQc6JFtH",
        "colab": {
          "base_uri": "https://localhost:8080/"
        },
        "outputId": "5c01004b-5afb-4196-eaed-998947e658a5"
      },
      "outputs": [
        {
          "output_type": "execute_result",
          "data": {
            "text/plain": [
              "False    553828\n",
              "True      25836\n",
              "Name: Removed, dtype: int64"
            ]
          },
          "metadata": {},
          "execution_count": 17
        }
      ],
      "source": [
        "combined_data['Removed'].value_counts()"
      ]
    },
    {
      "cell_type": "code",
      "execution_count": null,
      "metadata": {
        "id": "9f4jfm1RANbz"
      },
      "outputs": [],
      "source": [
        "combined_data=combined_data.reset_index()"
      ]
    },
    {
      "cell_type": "code",
      "execution_count": null,
      "metadata": {
        "id": "Rs_f5XchduRB",
        "colab": {
          "base_uri": "https://localhost:8080/",
          "height": 35
        },
        "outputId": "728b68ae-fb1e-42af-b9f0-f10b8e759b4b"
      },
      "outputs": [
        {
          "output_type": "execute_result",
          "data": {
            "text/plain": [
              "'index'"
            ],
            "application/vnd.google.colaboratory.intrinsic+json": {
              "type": "string"
            }
          },
          "metadata": {},
          "execution_count": 19
        }
      ],
      "source": [
        "combined_data.columns[0]"
      ]
    },
    {
      "cell_type": "code",
      "execution_count": null,
      "metadata": {
        "id": "8V7rWtZyAPoH",
        "colab": {
          "base_uri": "https://localhost:8080/",
          "height": 800
        },
        "outputId": "fe559de6-7288-4576-d4dc-2552d731026f"
      },
      "outputs": [
        {
          "output_type": "execute_result",
          "data": {
            "text/plain": [
              "                                 name     amount state  \\\n",
              "0                  LUMMUS CORPORATION  2000000.0    GA   \n",
              "1              COLIANT SOLUTIONS INC.  1294555.0    GA   \n",
              "2                   YOHE PLUMBING INC   729509.0    GA   \n",
              "3       LEWIS COLOR LITHOGRAPHERS INC   571193.4    GA   \n",
              "4         ALMA PAK INTERNATIONAL, LLC   472700.0    GA   \n",
              "...                               ...        ...   ...   \n",
              "579659                 DONNELL WILSON     1950.0    GA   \n",
              "579660         MAMADOU DIOULDE DIALLO     1849.0    GA   \n",
              "579661                 ANTHONY HARRIS     1245.0    GA   \n",
              "579662               TAAHIRA ROBINSON     1075.0    GA   \n",
              "579663                ERICA FERNANDEZ      787.0    GA   \n",
              "\n",
              "                        address         city         zip  naics_code  \\\n",
              "0               225 Bourne Blvd     Savannah  31408-9586    333249.0   \n",
              "1        2703 Brickton North Dr       Buford  30518-9101    541519.0   \n",
              "2         1120 Franke Court N/A      Augusta       30909    238220.0   \n",
              "3           30 Joe Kennedy Blvd   Statesboro  30458-3417    323111.0   \n",
              "4               230 PINEVIEW RD         ALMA  31510-4326    445230.0   \n",
              "...                         ...          ...         ...         ...   \n",
              "579659            1000 Paces Ln    Woodstock  30189-4829    621511.0   \n",
              "579660  7000 Roswell Rd Apt 252      Atlanta  30328-2389    485310.0   \n",
              "579661           2849 Blount St      Atlanta  30344-3732    485310.0   \n",
              "579662        8541 Glendevon Ct    Riverdale  30274-4573    561110.0   \n",
              "579663             406 Nova Cir  Stockbridge  30281-3750    561720.0   \n",
              "\n",
              "                          business_type  jobs_retained        date_approved  \\\n",
              "0                           Corporation          294.0           2021-02-20   \n",
              "1                           Corporation           63.0           2021-01-31   \n",
              "2                           Corporation          105.0           2021-03-12   \n",
              "3                           Corporation           49.0           2021-02-02   \n",
              "4                           Partnership           37.0           2020-04-10   \n",
              "...                                 ...            ...                  ...   \n",
              "579659              Sole Proprietorship            1.0  2021-04-01 00:00:00   \n",
              "579660          Independent Contractors            1.0  2021-05-21 00:00:00   \n",
              "579661          Independent Contractors            1.0  2021-04-08 00:00:00   \n",
              "579662  Limited  Liability Company(LLC)            1.0  2021-05-11 00:00:00   \n",
              "579663          Independent Contractors            1.0  2021-05-23 00:00:00   \n",
              "\n",
              "        ... project_state project_zip  originating_lender_city  \\\n",
              "0       ...            GA  31408-9586                  CHICAGO   \n",
              "1       ...            GA  30518-9101                 COLUMBUS   \n",
              "2       ...            GA       30909             PHOENIXVILLE   \n",
              "3       ...            GA  30458-3417                 COLUMBUS   \n",
              "4       ...            GA  31510-4326                     ALMA   \n",
              "...     ...           ...         ...                      ...   \n",
              "579659  ...            GA  30189-4829             Laguna Hills   \n",
              "579660  ...            GA  30328-2389                  Bedford   \n",
              "579661  ...            GA  30344-3732                  Bedford   \n",
              "579662  ...            GA  30274-4573                    Miami   \n",
              "579663  ...            GA  30281-3750                  Bedford   \n",
              "\n",
              "        originating_lender_state     loan_status_date  \\\n",
              "0                             IL                  NaN   \n",
              "1                             GA                  NaN   \n",
              "2                             PA                  NaN   \n",
              "3                             GA                  NaN   \n",
              "4                             GA           2021-01-08   \n",
              "...                          ...                  ...   \n",
              "579659                        CA  2021-04-01 00:00:00   \n",
              "579660                        TX  2021-05-21 00:00:00   \n",
              "579661                        TX  2021-04-08 00:00:00   \n",
              "579662                        FL  2021-05-11 00:00:00   \n",
              "579663                        TX  2021-05-23 00:00:00   \n",
              "\n",
              "       originating_lender_location_id  lmi_indicator  forgiveness_amount  \\\n",
              "0                            116998.0              N                 NaN   \n",
              "1                             19248.0              Y                 NaN   \n",
              "2                            121536.0              N                 NaN   \n",
              "3                             19248.0              N                 NaN   \n",
              "4                             17811.0              N           475877.59   \n",
              "...                               ...            ...                 ...   \n",
              "579659                       509316.0              N                 NaN   \n",
              "579660                       529472.0              N                 NaN   \n",
              "579661                       529472.0              Y                 NaN   \n",
              "579662                       529192.0              Y                 NaN   \n",
              "579663                       529472.0              Y                 NaN   \n",
              "\n",
              "        forgiveness_date  Removed  \n",
              "0                    NaN    False  \n",
              "1                    NaN    False  \n",
              "2                    NaN    False  \n",
              "3                    NaN    False  \n",
              "4             2020-12-15    False  \n",
              "...                  ...      ...  \n",
              "579659               NaN     True  \n",
              "579660               NaN     True  \n",
              "579661               NaN     True  \n",
              "579662               NaN     True  \n",
              "579663               NaN     True  \n",
              "\n",
              "[579664 rows x 42 columns]"
            ],
            "text/html": [
              "\n",
              "  <div id=\"df-9ca96975-db9c-4522-9383-b48509bea2f0\">\n",
              "    <div class=\"colab-df-container\">\n",
              "      <div>\n",
              "<style scoped>\n",
              "    .dataframe tbody tr th:only-of-type {\n",
              "        vertical-align: middle;\n",
              "    }\n",
              "\n",
              "    .dataframe tbody tr th {\n",
              "        vertical-align: top;\n",
              "    }\n",
              "\n",
              "    .dataframe thead th {\n",
              "        text-align: right;\n",
              "    }\n",
              "</style>\n",
              "<table border=\"1\" class=\"dataframe\">\n",
              "  <thead>\n",
              "    <tr style=\"text-align: right;\">\n",
              "      <th></th>\n",
              "      <th>name</th>\n",
              "      <th>amount</th>\n",
              "      <th>state</th>\n",
              "      <th>address</th>\n",
              "      <th>city</th>\n",
              "      <th>zip</th>\n",
              "      <th>naics_code</th>\n",
              "      <th>business_type</th>\n",
              "      <th>jobs_retained</th>\n",
              "      <th>date_approved</th>\n",
              "      <th>...</th>\n",
              "      <th>project_state</th>\n",
              "      <th>project_zip</th>\n",
              "      <th>originating_lender_city</th>\n",
              "      <th>originating_lender_state</th>\n",
              "      <th>loan_status_date</th>\n",
              "      <th>originating_lender_location_id</th>\n",
              "      <th>lmi_indicator</th>\n",
              "      <th>forgiveness_amount</th>\n",
              "      <th>forgiveness_date</th>\n",
              "      <th>Removed</th>\n",
              "    </tr>\n",
              "  </thead>\n",
              "  <tbody>\n",
              "    <tr>\n",
              "      <th>0</th>\n",
              "      <td>LUMMUS CORPORATION</td>\n",
              "      <td>2000000.0</td>\n",
              "      <td>GA</td>\n",
              "      <td>225 Bourne Blvd</td>\n",
              "      <td>Savannah</td>\n",
              "      <td>31408-9586</td>\n",
              "      <td>333249.0</td>\n",
              "      <td>Corporation</td>\n",
              "      <td>294.0</td>\n",
              "      <td>2021-02-20</td>\n",
              "      <td>...</td>\n",
              "      <td>GA</td>\n",
              "      <td>31408-9586</td>\n",
              "      <td>CHICAGO</td>\n",
              "      <td>IL</td>\n",
              "      <td>NaN</td>\n",
              "      <td>116998.0</td>\n",
              "      <td>N</td>\n",
              "      <td>NaN</td>\n",
              "      <td>NaN</td>\n",
              "      <td>False</td>\n",
              "    </tr>\n",
              "    <tr>\n",
              "      <th>1</th>\n",
              "      <td>COLIANT SOLUTIONS INC.</td>\n",
              "      <td>1294555.0</td>\n",
              "      <td>GA</td>\n",
              "      <td>2703 Brickton North Dr</td>\n",
              "      <td>Buford</td>\n",
              "      <td>30518-9101</td>\n",
              "      <td>541519.0</td>\n",
              "      <td>Corporation</td>\n",
              "      <td>63.0</td>\n",
              "      <td>2021-01-31</td>\n",
              "      <td>...</td>\n",
              "      <td>GA</td>\n",
              "      <td>30518-9101</td>\n",
              "      <td>COLUMBUS</td>\n",
              "      <td>GA</td>\n",
              "      <td>NaN</td>\n",
              "      <td>19248.0</td>\n",
              "      <td>Y</td>\n",
              "      <td>NaN</td>\n",
              "      <td>NaN</td>\n",
              "      <td>False</td>\n",
              "    </tr>\n",
              "    <tr>\n",
              "      <th>2</th>\n",
              "      <td>YOHE PLUMBING INC</td>\n",
              "      <td>729509.0</td>\n",
              "      <td>GA</td>\n",
              "      <td>1120 Franke Court N/A</td>\n",
              "      <td>Augusta</td>\n",
              "      <td>30909</td>\n",
              "      <td>238220.0</td>\n",
              "      <td>Corporation</td>\n",
              "      <td>105.0</td>\n",
              "      <td>2021-03-12</td>\n",
              "      <td>...</td>\n",
              "      <td>GA</td>\n",
              "      <td>30909</td>\n",
              "      <td>PHOENIXVILLE</td>\n",
              "      <td>PA</td>\n",
              "      <td>NaN</td>\n",
              "      <td>121536.0</td>\n",
              "      <td>N</td>\n",
              "      <td>NaN</td>\n",
              "      <td>NaN</td>\n",
              "      <td>False</td>\n",
              "    </tr>\n",
              "    <tr>\n",
              "      <th>3</th>\n",
              "      <td>LEWIS COLOR LITHOGRAPHERS INC</td>\n",
              "      <td>571193.4</td>\n",
              "      <td>GA</td>\n",
              "      <td>30 Joe Kennedy Blvd</td>\n",
              "      <td>Statesboro</td>\n",
              "      <td>30458-3417</td>\n",
              "      <td>323111.0</td>\n",
              "      <td>Corporation</td>\n",
              "      <td>49.0</td>\n",
              "      <td>2021-02-02</td>\n",
              "      <td>...</td>\n",
              "      <td>GA</td>\n",
              "      <td>30458-3417</td>\n",
              "      <td>COLUMBUS</td>\n",
              "      <td>GA</td>\n",
              "      <td>NaN</td>\n",
              "      <td>19248.0</td>\n",
              "      <td>N</td>\n",
              "      <td>NaN</td>\n",
              "      <td>NaN</td>\n",
              "      <td>False</td>\n",
              "    </tr>\n",
              "    <tr>\n",
              "      <th>4</th>\n",
              "      <td>ALMA PAK INTERNATIONAL, LLC</td>\n",
              "      <td>472700.0</td>\n",
              "      <td>GA</td>\n",
              "      <td>230 PINEVIEW RD</td>\n",
              "      <td>ALMA</td>\n",
              "      <td>31510-4326</td>\n",
              "      <td>445230.0</td>\n",
              "      <td>Partnership</td>\n",
              "      <td>37.0</td>\n",
              "      <td>2020-04-10</td>\n",
              "      <td>...</td>\n",
              "      <td>GA</td>\n",
              "      <td>31510-4326</td>\n",
              "      <td>ALMA</td>\n",
              "      <td>GA</td>\n",
              "      <td>2021-01-08</td>\n",
              "      <td>17811.0</td>\n",
              "      <td>N</td>\n",
              "      <td>475877.59</td>\n",
              "      <td>2020-12-15</td>\n",
              "      <td>False</td>\n",
              "    </tr>\n",
              "    <tr>\n",
              "      <th>...</th>\n",
              "      <td>...</td>\n",
              "      <td>...</td>\n",
              "      <td>...</td>\n",
              "      <td>...</td>\n",
              "      <td>...</td>\n",
              "      <td>...</td>\n",
              "      <td>...</td>\n",
              "      <td>...</td>\n",
              "      <td>...</td>\n",
              "      <td>...</td>\n",
              "      <td>...</td>\n",
              "      <td>...</td>\n",
              "      <td>...</td>\n",
              "      <td>...</td>\n",
              "      <td>...</td>\n",
              "      <td>...</td>\n",
              "      <td>...</td>\n",
              "      <td>...</td>\n",
              "      <td>...</td>\n",
              "      <td>...</td>\n",
              "      <td>...</td>\n",
              "    </tr>\n",
              "    <tr>\n",
              "      <th>579659</th>\n",
              "      <td>DONNELL WILSON</td>\n",
              "      <td>1950.0</td>\n",
              "      <td>GA</td>\n",
              "      <td>1000 Paces Ln</td>\n",
              "      <td>Woodstock</td>\n",
              "      <td>30189-4829</td>\n",
              "      <td>621511.0</td>\n",
              "      <td>Sole Proprietorship</td>\n",
              "      <td>1.0</td>\n",
              "      <td>2021-04-01 00:00:00</td>\n",
              "      <td>...</td>\n",
              "      <td>GA</td>\n",
              "      <td>30189-4829</td>\n",
              "      <td>Laguna Hills</td>\n",
              "      <td>CA</td>\n",
              "      <td>2021-04-01 00:00:00</td>\n",
              "      <td>509316.0</td>\n",
              "      <td>N</td>\n",
              "      <td>NaN</td>\n",
              "      <td>NaN</td>\n",
              "      <td>True</td>\n",
              "    </tr>\n",
              "    <tr>\n",
              "      <th>579660</th>\n",
              "      <td>MAMADOU DIOULDE DIALLO</td>\n",
              "      <td>1849.0</td>\n",
              "      <td>GA</td>\n",
              "      <td>7000 Roswell Rd Apt 252</td>\n",
              "      <td>Atlanta</td>\n",
              "      <td>30328-2389</td>\n",
              "      <td>485310.0</td>\n",
              "      <td>Independent Contractors</td>\n",
              "      <td>1.0</td>\n",
              "      <td>2021-05-21 00:00:00</td>\n",
              "      <td>...</td>\n",
              "      <td>GA</td>\n",
              "      <td>30328-2389</td>\n",
              "      <td>Bedford</td>\n",
              "      <td>TX</td>\n",
              "      <td>2021-05-21 00:00:00</td>\n",
              "      <td>529472.0</td>\n",
              "      <td>N</td>\n",
              "      <td>NaN</td>\n",
              "      <td>NaN</td>\n",
              "      <td>True</td>\n",
              "    </tr>\n",
              "    <tr>\n",
              "      <th>579661</th>\n",
              "      <td>ANTHONY HARRIS</td>\n",
              "      <td>1245.0</td>\n",
              "      <td>GA</td>\n",
              "      <td>2849 Blount St</td>\n",
              "      <td>Atlanta</td>\n",
              "      <td>30344-3732</td>\n",
              "      <td>485310.0</td>\n",
              "      <td>Independent Contractors</td>\n",
              "      <td>1.0</td>\n",
              "      <td>2021-04-08 00:00:00</td>\n",
              "      <td>...</td>\n",
              "      <td>GA</td>\n",
              "      <td>30344-3732</td>\n",
              "      <td>Bedford</td>\n",
              "      <td>TX</td>\n",
              "      <td>2021-04-08 00:00:00</td>\n",
              "      <td>529472.0</td>\n",
              "      <td>Y</td>\n",
              "      <td>NaN</td>\n",
              "      <td>NaN</td>\n",
              "      <td>True</td>\n",
              "    </tr>\n",
              "    <tr>\n",
              "      <th>579662</th>\n",
              "      <td>TAAHIRA ROBINSON</td>\n",
              "      <td>1075.0</td>\n",
              "      <td>GA</td>\n",
              "      <td>8541 Glendevon Ct</td>\n",
              "      <td>Riverdale</td>\n",
              "      <td>30274-4573</td>\n",
              "      <td>561110.0</td>\n",
              "      <td>Limited  Liability Company(LLC)</td>\n",
              "      <td>1.0</td>\n",
              "      <td>2021-05-11 00:00:00</td>\n",
              "      <td>...</td>\n",
              "      <td>GA</td>\n",
              "      <td>30274-4573</td>\n",
              "      <td>Miami</td>\n",
              "      <td>FL</td>\n",
              "      <td>2021-05-11 00:00:00</td>\n",
              "      <td>529192.0</td>\n",
              "      <td>Y</td>\n",
              "      <td>NaN</td>\n",
              "      <td>NaN</td>\n",
              "      <td>True</td>\n",
              "    </tr>\n",
              "    <tr>\n",
              "      <th>579663</th>\n",
              "      <td>ERICA FERNANDEZ</td>\n",
              "      <td>787.0</td>\n",
              "      <td>GA</td>\n",
              "      <td>406 Nova Cir</td>\n",
              "      <td>Stockbridge</td>\n",
              "      <td>30281-3750</td>\n",
              "      <td>561720.0</td>\n",
              "      <td>Independent Contractors</td>\n",
              "      <td>1.0</td>\n",
              "      <td>2021-05-23 00:00:00</td>\n",
              "      <td>...</td>\n",
              "      <td>GA</td>\n",
              "      <td>30281-3750</td>\n",
              "      <td>Bedford</td>\n",
              "      <td>TX</td>\n",
              "      <td>2021-05-23 00:00:00</td>\n",
              "      <td>529472.0</td>\n",
              "      <td>Y</td>\n",
              "      <td>NaN</td>\n",
              "      <td>NaN</td>\n",
              "      <td>True</td>\n",
              "    </tr>\n",
              "  </tbody>\n",
              "</table>\n",
              "<p>579664 rows × 42 columns</p>\n",
              "</div>\n",
              "      <button class=\"colab-df-convert\" onclick=\"convertToInteractive('df-9ca96975-db9c-4522-9383-b48509bea2f0')\"\n",
              "              title=\"Convert this dataframe to an interactive table.\"\n",
              "              style=\"display:none;\">\n",
              "        \n",
              "  <svg xmlns=\"http://www.w3.org/2000/svg\" height=\"24px\"viewBox=\"0 0 24 24\"\n",
              "       width=\"24px\">\n",
              "    <path d=\"M0 0h24v24H0V0z\" fill=\"none\"/>\n",
              "    <path d=\"M18.56 5.44l.94 2.06.94-2.06 2.06-.94-2.06-.94-.94-2.06-.94 2.06-2.06.94zm-11 1L8.5 8.5l.94-2.06 2.06-.94-2.06-.94L8.5 2.5l-.94 2.06-2.06.94zm10 10l.94 2.06.94-2.06 2.06-.94-2.06-.94-.94-2.06-.94 2.06-2.06.94z\"/><path d=\"M17.41 7.96l-1.37-1.37c-.4-.4-.92-.59-1.43-.59-.52 0-1.04.2-1.43.59L10.3 9.45l-7.72 7.72c-.78.78-.78 2.05 0 2.83L4 21.41c.39.39.9.59 1.41.59.51 0 1.02-.2 1.41-.59l7.78-7.78 2.81-2.81c.8-.78.8-2.07 0-2.86zM5.41 20L4 18.59l7.72-7.72 1.47 1.35L5.41 20z\"/>\n",
              "  </svg>\n",
              "      </button>\n",
              "      \n",
              "  <style>\n",
              "    .colab-df-container {\n",
              "      display:flex;\n",
              "      flex-wrap:wrap;\n",
              "      gap: 12px;\n",
              "    }\n",
              "\n",
              "    .colab-df-convert {\n",
              "      background-color: #E8F0FE;\n",
              "      border: none;\n",
              "      border-radius: 50%;\n",
              "      cursor: pointer;\n",
              "      display: none;\n",
              "      fill: #1967D2;\n",
              "      height: 32px;\n",
              "      padding: 0 0 0 0;\n",
              "      width: 32px;\n",
              "    }\n",
              "\n",
              "    .colab-df-convert:hover {\n",
              "      background-color: #E2EBFA;\n",
              "      box-shadow: 0px 1px 2px rgba(60, 64, 67, 0.3), 0px 1px 3px 1px rgba(60, 64, 67, 0.15);\n",
              "      fill: #174EA6;\n",
              "    }\n",
              "\n",
              "    [theme=dark] .colab-df-convert {\n",
              "      background-color: #3B4455;\n",
              "      fill: #D2E3FC;\n",
              "    }\n",
              "\n",
              "    [theme=dark] .colab-df-convert:hover {\n",
              "      background-color: #434B5C;\n",
              "      box-shadow: 0px 1px 3px 1px rgba(0, 0, 0, 0.15);\n",
              "      filter: drop-shadow(0px 1px 2px rgba(0, 0, 0, 0.3));\n",
              "      fill: #FFFFFF;\n",
              "    }\n",
              "  </style>\n",
              "\n",
              "      <script>\n",
              "        const buttonEl =\n",
              "          document.querySelector('#df-9ca96975-db9c-4522-9383-b48509bea2f0 button.colab-df-convert');\n",
              "        buttonEl.style.display =\n",
              "          google.colab.kernel.accessAllowed ? 'block' : 'none';\n",
              "\n",
              "        async function convertToInteractive(key) {\n",
              "          const element = document.querySelector('#df-9ca96975-db9c-4522-9383-b48509bea2f0');\n",
              "          const dataTable =\n",
              "            await google.colab.kernel.invokeFunction('convertToInteractive',\n",
              "                                                     [key], {});\n",
              "          if (!dataTable) return;\n",
              "\n",
              "          const docLinkHtml = 'Like what you see? Visit the ' +\n",
              "            '<a target=\"_blank\" href=https://colab.research.google.com/notebooks/data_table.ipynb>data table notebook</a>'\n",
              "            + ' to learn more about interactive tables.';\n",
              "          element.innerHTML = '';\n",
              "          dataTable['output_type'] = 'display_data';\n",
              "          await google.colab.output.renderOutput(dataTable, element);\n",
              "          const docLink = document.createElement('div');\n",
              "          docLink.innerHTML = docLinkHtml;\n",
              "          element.appendChild(docLink);\n",
              "        }\n",
              "      </script>\n",
              "    </div>\n",
              "  </div>\n",
              "  "
            ]
          },
          "metadata": {},
          "execution_count": 20
        }
      ],
      "source": [
        "combined_data=combined_data.drop(combined_data.columns[0], axis=1)\n",
        "combined_data"
      ]
    },
    {
      "cell_type": "code",
      "execution_count": null,
      "metadata": {
        "id": "SSPBo7eZARRR",
        "colab": {
          "base_uri": "https://localhost:8080/"
        },
        "outputId": "bb6189c2-5422-4a67-abe4-747168b0f5af"
      },
      "outputs": [
        {
          "output_type": "execute_result",
          "data": {
            "text/plain": [
              "Index(['name', 'amount', 'state', 'address', 'city', 'zip', 'naics_code',\n",
              "       'business_type', 'jobs_retained', 'date_approved', 'lender',\n",
              "       'congressional_district', 'loan_number', 'sba_office_code',\n",
              "       'processing_method', 'loan_status', 'term', 'sba_guaranty_percentage',\n",
              "       'initial_approval_amount', 'current_approval_amount',\n",
              "       'undisbursed_amount', 'servicing_lender_location_id',\n",
              "       'servicing_lender_name', 'servicing_lender_address',\n",
              "       'servicing_lender_city', 'servicing_lender_state',\n",
              "       'servicing_lender_zip', 'rural_urban_indicator', 'hubzone_indicator',\n",
              "       'business_age_description', 'project_city', 'project_county_name',\n",
              "       'project_state', 'project_zip', 'originating_lender_city',\n",
              "       'originating_lender_state', 'loan_status_date',\n",
              "       'originating_lender_location_id', 'lmi_indicator', 'forgiveness_amount',\n",
              "       'forgiveness_date', 'Removed'],\n",
              "      dtype='object')"
            ]
          },
          "metadata": {},
          "execution_count": 21
        }
      ],
      "source": [
        "combined_data.columns"
      ]
    },
    {
      "cell_type": "markdown",
      "metadata": {
        "id": "a1-ZAGrt-jMe"
      },
      "source": [
        "# **Numeric variables**"
      ]
    },
    {
      "cell_type": "code",
      "execution_count": null,
      "metadata": {
        "id": "cmtBTBYZazre",
        "colab": {
          "base_uri": "https://localhost:8080/"
        },
        "outputId": "feabc373-328e-4f3d-e179-2d8f202e249f"
      },
      "outputs": [
        {
          "output_type": "execute_result",
          "data": {
            "text/plain": [
              "0"
            ]
          },
          "metadata": {},
          "execution_count": 22
        }
      ],
      "source": [
        "combined_data['amount'].isna().sum()"
      ]
    },
    {
      "cell_type": "code",
      "execution_count": null,
      "metadata": {
        "id": "rtA78agpbg5n",
        "colab": {
          "base_uri": "https://localhost:8080/"
        },
        "outputId": "484fe7d3-b2b3-42b2-db46-9f9f7a6f07f3"
      },
      "outputs": [
        {
          "output_type": "execute_result",
          "data": {
            "text/plain": [
              "0"
            ]
          },
          "metadata": {},
          "execution_count": 23
        }
      ],
      "source": [
        "combined_data['jobs_retained'].isna().sum()"
      ]
    },
    {
      "cell_type": "code",
      "execution_count": null,
      "metadata": {
        "id": "xbD33O2Kdv41"
      },
      "outputs": [],
      "source": [
        "combined_data['amount_per_join']=np.where(combined_data['jobs_retained']>0, (combined_data['amount']/ combined_data['jobs_retained']).round(2), combined_data['amount'])"
      ]
    },
    {
      "cell_type": "code",
      "execution_count": null,
      "metadata": {
        "id": "KTFvLSsF-7nV",
        "colab": {
          "base_uri": "https://localhost:8080/"
        },
        "outputId": "78bd3bed-37d7-4bff-a82d-9ef5a32626d2"
      },
      "outputs": [
        {
          "output_type": "execute_result",
          "data": {
            "text/plain": [
              "0          6802.72\n",
              "1         20548.49\n",
              "2          6947.70\n",
              "3         11657.01\n",
              "4         12775.68\n",
              "            ...   \n",
              "579659     1950.00\n",
              "579660     1849.00\n",
              "579661     1245.00\n",
              "579662     1075.00\n",
              "579663      787.00\n",
              "Name: amount_per_join, Length: 579664, dtype: float64"
            ]
          },
          "metadata": {},
          "execution_count": 25
        }
      ],
      "source": [
        "combined_data['amount_per_join']\n"
      ]
    },
    {
      "cell_type": "code",
      "execution_count": null,
      "metadata": {
        "id": "tf6F7YhU_Bsc",
        "colab": {
          "base_uri": "https://localhost:8080/"
        },
        "outputId": "38fcf7cf-23b8-4860-81cd-0ca4eb11f1e4"
      },
      "outputs": [
        {
          "output_type": "execute_result",
          "data": {
            "text/plain": [
              "count    5.796640e+05\n",
              "mean     1.303513e+04\n",
              "std      8.071921e+03\n",
              "min      1.000000e+00\n",
              "25%      5.994840e+03\n",
              "50%      1.321300e+04\n",
              "75%      2.074300e+04\n",
              "max      1.253112e+06\n",
              "Name: amount_per_join, dtype: float64"
            ]
          },
          "metadata": {},
          "execution_count": 26
        }
      ],
      "source": [
        "combined_data['amount_per_join'].describe()\n",
        "\n"
      ]
    },
    {
      "cell_type": "code",
      "execution_count": null,
      "metadata": {
        "id": "9H8zcK-Xe72K",
        "colab": {
          "base_uri": "https://localhost:8080/"
        },
        "outputId": "1f7a15f7-de2a-4c3b-dde9-a1d6bab72c84"
      },
      "outputs": [
        {
          "output_type": "execute_result",
          "data": {
            "text/plain": [
              "0                  2021-02-20\n",
              "1                  2021-01-31\n",
              "2                  2021-03-12\n",
              "3                  2021-02-02\n",
              "4                  2020-04-10\n",
              "                 ...         \n",
              "579659    2021-04-01 00:00:00\n",
              "579660    2021-05-21 00:00:00\n",
              "579661    2021-04-08 00:00:00\n",
              "579662    2021-05-11 00:00:00\n",
              "579663    2021-05-23 00:00:00\n",
              "Name: date_approved, Length: 579664, dtype: object"
            ]
          },
          "metadata": {},
          "execution_count": 27
        }
      ],
      "source": [
        "combined_data['date_approved']"
      ]
    },
    {
      "cell_type": "markdown",
      "metadata": {
        "id": "F7zgcBGdOdH-"
      },
      "source": [
        "#### **Date**"
      ]
    },
    {
      "cell_type": "code",
      "execution_count": null,
      "metadata": {
        "id": "xbpP-e0Dg1JF"
      },
      "outputs": [],
      "source": [
        "combined_data['Date_launched'] = pd.to_datetime(combined_data['date_approved']).dt.date"
      ]
    },
    {
      "cell_type": "code",
      "execution_count": null,
      "metadata": {
        "id": "J4QmHcyFouGk",
        "colab": {
          "base_uri": "https://localhost:8080/"
        },
        "outputId": "5dc8cc00-45a3-481b-fae0-289dd105c3fa"
      },
      "outputs": [
        {
          "output_type": "execute_result",
          "data": {
            "text/plain": [
              "count         579664\n",
              "unique           237\n",
              "top       2020-05-01\n",
              "freq           22403\n",
              "Name: Date_launched, dtype: object"
            ]
          },
          "metadata": {},
          "execution_count": 29
        }
      ],
      "source": [
        "combined_data['Date_launched'].describe()"
      ]
    },
    {
      "cell_type": "code",
      "execution_count": null,
      "metadata": {
        "id": "3zmlPV4CsB2r"
      },
      "outputs": [],
      "source": [
        "combined_data['launched_year'] = pd.DatetimeIndex(combined_data['Date_launched']).year\n",
        "combined_data['launched_month'] = pd.DatetimeIndex(combined_data['Date_launched']).month"
      ]
    },
    {
      "cell_type": "code",
      "execution_count": null,
      "metadata": {
        "id": "C5zI6844-vZa",
        "colab": {
          "base_uri": "https://localhost:8080/"
        },
        "outputId": "c781e51d-db98-4ecd-f3fa-3c886f230197"
      },
      "outputs": [
        {
          "output_type": "execute_result",
          "data": {
            "text/plain": [
              "0"
            ]
          },
          "metadata": {},
          "execution_count": 31
        }
      ],
      "source": [
        "combined_data['term'].isna().sum()"
      ]
    },
    {
      "cell_type": "code",
      "execution_count": null,
      "metadata": {
        "id": "ge0XUxGf_2Pm",
        "colab": {
          "base_uri": "https://localhost:8080/"
        },
        "outputId": "f8ae434c-d410-4485-f381-5e66568318cc"
      },
      "outputs": [
        {
          "output_type": "execute_result",
          "data": {
            "text/plain": [
              "count    5.795480e+05\n",
              "mean     8.255126e+02\n",
              "std      1.494828e+04\n",
              "min     -1.035920e+05\n",
              "25%      0.000000e+00\n",
              "50%      0.000000e+00\n",
              "75%      0.000000e+00\n",
              "max      1.000000e+07\n",
              "Name: undisbursed_amount, dtype: float64"
            ]
          },
          "metadata": {},
          "execution_count": 32
        }
      ],
      "source": [
        "combined_data['undisbursed_amount'].describe()"
      ]
    },
    {
      "cell_type": "code",
      "execution_count": null,
      "metadata": {
        "id": "QWRlSG878jYd"
      },
      "outputs": [],
      "source": [
        "meanVal = combined_data['undisbursed_amount'].mean()"
      ]
    },
    {
      "cell_type": "code",
      "execution_count": null,
      "metadata": {
        "id": "p_HjtG5C62Ft"
      },
      "outputs": [],
      "source": [
        "combined_data['undisbursed_amount'].fillna(value=meanVal, inplace=True)"
      ]
    },
    {
      "cell_type": "code",
      "execution_count": null,
      "metadata": {
        "id": "TuogOGys_2nW"
      },
      "outputs": [],
      "source": [
        "combined_data['Difference_current_initial_amount']=combined_data['current_approval_amount']-combined_data['initial_approval_amount']\n"
      ]
    },
    {
      "cell_type": "code",
      "execution_count": null,
      "metadata": {
        "id": "Z_oJYzJH_2qg",
        "colab": {
          "base_uri": "https://localhost:8080/"
        },
        "outputId": "dbb96cba-f90b-4bf8-e638-4825facc55a2"
      },
      "outputs": [
        {
          "output_type": "stream",
          "name": "stdout",
          "text": [
            "                                     amount  jobs_retained  amount_per_join  \\\n",
            "amount                             1.000000       0.819283         0.023514   \n",
            "jobs_retained                      0.819283       1.000000         0.125550   \n",
            "amount_per_join                    0.023514       0.125550         1.000000   \n",
            "term                               0.170683       0.224632         0.294818   \n",
            "undisbursed_amount                 0.068899       0.028251         0.046451   \n",
            "Difference_current_initial_amount  0.008997       0.023807         0.007638   \n",
            "\n",
            "                                       term  undisbursed_amount  \\\n",
            "amount                             0.170683            0.068899   \n",
            "jobs_retained                      0.224632            0.028251   \n",
            "amount_per_join                    0.294818            0.046451   \n",
            "term                               1.000000            0.029909   \n",
            "undisbursed_amount                 0.029909            1.000000   \n",
            "Difference_current_initial_amount  0.014777            0.000494   \n",
            "\n",
            "                                   Difference_current_initial_amount  \n",
            "amount                                                      0.008997  \n",
            "jobs_retained                                               0.023807  \n",
            "amount_per_join                                             0.007638  \n",
            "term                                                        0.014777  \n",
            "undisbursed_amount                                          0.000494  \n",
            "Difference_current_initial_amount                           1.000000  \n"
          ]
        }
      ],
      "source": [
        "numeric_data = pd.DataFrame(combined_data,columns=['amount','jobs_retained','amount_per_join', 'term', 'undisbursed_amount', 'Difference_current_initial_amount'])\n",
        "corrMatrix = numeric_data.corr().abs()\n",
        "\n",
        "print(corrMatrix)"
      ]
    },
    {
      "cell_type": "code",
      "execution_count": null,
      "metadata": {
        "id": "fsdlvKNb_2tZ"
      },
      "outputs": [],
      "source": [
        "\n",
        "upper = corrMatrix.where(np.triu(np.ones(corrMatrix.shape), k=1).astype(np.bool_))\n",
        "\n",
        "to_drop = [column for column in upper.columns if any(upper[column] > 0.5)]\n",
        "\n",
        "\n",
        "numeric_data.drop(to_drop, axis=1, inplace=True)\n"
      ]
    },
    {
      "cell_type": "code",
      "execution_count": null,
      "metadata": {
        "id": "OlrEb5ThOd0E",
        "colab": {
          "base_uri": "https://localhost:8080/",
          "height": 424
        },
        "outputId": "6c16fcb1-60c7-46ee-dd85-7fd916b96976"
      },
      "outputs": [
        {
          "output_type": "execute_result",
          "data": {
            "text/plain": [
              "           amount  amount_per_join  term  undisbursed_amount  \\\n",
              "0       2000000.0          6802.72  60.0                 0.0   \n",
              "1       1294555.0         20548.49  60.0                 0.0   \n",
              "2        729509.0          6947.70  60.0                 0.0   \n",
              "3        571193.4         11657.01  60.0                 0.0   \n",
              "4        472700.0         12775.68  24.0                 0.0   \n",
              "...           ...              ...   ...                 ...   \n",
              "579659     1950.0          1950.00  60.0              1950.0   \n",
              "579660     1849.0          1849.00  60.0              1849.0   \n",
              "579661     1245.0          1245.00  60.0              1245.0   \n",
              "579662     1075.0          1075.00  60.0              1075.0   \n",
              "579663      787.0           787.00  60.0               787.0   \n",
              "\n",
              "        Difference_current_initial_amount  \n",
              "0                                     0.0  \n",
              "1                                     0.0  \n",
              "2                                     0.0  \n",
              "3                                    -0.6  \n",
              "4                                     0.0  \n",
              "...                                   ...  \n",
              "579659                                0.0  \n",
              "579660                                0.0  \n",
              "579661                                0.0  \n",
              "579662                                0.0  \n",
              "579663                                0.0  \n",
              "\n",
              "[579664 rows x 5 columns]"
            ],
            "text/html": [
              "\n",
              "  <div id=\"df-9e88aa25-45db-4676-8578-a7e55ab5c595\">\n",
              "    <div class=\"colab-df-container\">\n",
              "      <div>\n",
              "<style scoped>\n",
              "    .dataframe tbody tr th:only-of-type {\n",
              "        vertical-align: middle;\n",
              "    }\n",
              "\n",
              "    .dataframe tbody tr th {\n",
              "        vertical-align: top;\n",
              "    }\n",
              "\n",
              "    .dataframe thead th {\n",
              "        text-align: right;\n",
              "    }\n",
              "</style>\n",
              "<table border=\"1\" class=\"dataframe\">\n",
              "  <thead>\n",
              "    <tr style=\"text-align: right;\">\n",
              "      <th></th>\n",
              "      <th>amount</th>\n",
              "      <th>amount_per_join</th>\n",
              "      <th>term</th>\n",
              "      <th>undisbursed_amount</th>\n",
              "      <th>Difference_current_initial_amount</th>\n",
              "    </tr>\n",
              "  </thead>\n",
              "  <tbody>\n",
              "    <tr>\n",
              "      <th>0</th>\n",
              "      <td>2000000.0</td>\n",
              "      <td>6802.72</td>\n",
              "      <td>60.0</td>\n",
              "      <td>0.0</td>\n",
              "      <td>0.0</td>\n",
              "    </tr>\n",
              "    <tr>\n",
              "      <th>1</th>\n",
              "      <td>1294555.0</td>\n",
              "      <td>20548.49</td>\n",
              "      <td>60.0</td>\n",
              "      <td>0.0</td>\n",
              "      <td>0.0</td>\n",
              "    </tr>\n",
              "    <tr>\n",
              "      <th>2</th>\n",
              "      <td>729509.0</td>\n",
              "      <td>6947.70</td>\n",
              "      <td>60.0</td>\n",
              "      <td>0.0</td>\n",
              "      <td>0.0</td>\n",
              "    </tr>\n",
              "    <tr>\n",
              "      <th>3</th>\n",
              "      <td>571193.4</td>\n",
              "      <td>11657.01</td>\n",
              "      <td>60.0</td>\n",
              "      <td>0.0</td>\n",
              "      <td>-0.6</td>\n",
              "    </tr>\n",
              "    <tr>\n",
              "      <th>4</th>\n",
              "      <td>472700.0</td>\n",
              "      <td>12775.68</td>\n",
              "      <td>24.0</td>\n",
              "      <td>0.0</td>\n",
              "      <td>0.0</td>\n",
              "    </tr>\n",
              "    <tr>\n",
              "      <th>...</th>\n",
              "      <td>...</td>\n",
              "      <td>...</td>\n",
              "      <td>...</td>\n",
              "      <td>...</td>\n",
              "      <td>...</td>\n",
              "    </tr>\n",
              "    <tr>\n",
              "      <th>579659</th>\n",
              "      <td>1950.0</td>\n",
              "      <td>1950.00</td>\n",
              "      <td>60.0</td>\n",
              "      <td>1950.0</td>\n",
              "      <td>0.0</td>\n",
              "    </tr>\n",
              "    <tr>\n",
              "      <th>579660</th>\n",
              "      <td>1849.0</td>\n",
              "      <td>1849.00</td>\n",
              "      <td>60.0</td>\n",
              "      <td>1849.0</td>\n",
              "      <td>0.0</td>\n",
              "    </tr>\n",
              "    <tr>\n",
              "      <th>579661</th>\n",
              "      <td>1245.0</td>\n",
              "      <td>1245.00</td>\n",
              "      <td>60.0</td>\n",
              "      <td>1245.0</td>\n",
              "      <td>0.0</td>\n",
              "    </tr>\n",
              "    <tr>\n",
              "      <th>579662</th>\n",
              "      <td>1075.0</td>\n",
              "      <td>1075.00</td>\n",
              "      <td>60.0</td>\n",
              "      <td>1075.0</td>\n",
              "      <td>0.0</td>\n",
              "    </tr>\n",
              "    <tr>\n",
              "      <th>579663</th>\n",
              "      <td>787.0</td>\n",
              "      <td>787.00</td>\n",
              "      <td>60.0</td>\n",
              "      <td>787.0</td>\n",
              "      <td>0.0</td>\n",
              "    </tr>\n",
              "  </tbody>\n",
              "</table>\n",
              "<p>579664 rows × 5 columns</p>\n",
              "</div>\n",
              "      <button class=\"colab-df-convert\" onclick=\"convertToInteractive('df-9e88aa25-45db-4676-8578-a7e55ab5c595')\"\n",
              "              title=\"Convert this dataframe to an interactive table.\"\n",
              "              style=\"display:none;\">\n",
              "        \n",
              "  <svg xmlns=\"http://www.w3.org/2000/svg\" height=\"24px\"viewBox=\"0 0 24 24\"\n",
              "       width=\"24px\">\n",
              "    <path d=\"M0 0h24v24H0V0z\" fill=\"none\"/>\n",
              "    <path d=\"M18.56 5.44l.94 2.06.94-2.06 2.06-.94-2.06-.94-.94-2.06-.94 2.06-2.06.94zm-11 1L8.5 8.5l.94-2.06 2.06-.94-2.06-.94L8.5 2.5l-.94 2.06-2.06.94zm10 10l.94 2.06.94-2.06 2.06-.94-2.06-.94-.94-2.06-.94 2.06-2.06.94z\"/><path d=\"M17.41 7.96l-1.37-1.37c-.4-.4-.92-.59-1.43-.59-.52 0-1.04.2-1.43.59L10.3 9.45l-7.72 7.72c-.78.78-.78 2.05 0 2.83L4 21.41c.39.39.9.59 1.41.59.51 0 1.02-.2 1.41-.59l7.78-7.78 2.81-2.81c.8-.78.8-2.07 0-2.86zM5.41 20L4 18.59l7.72-7.72 1.47 1.35L5.41 20z\"/>\n",
              "  </svg>\n",
              "      </button>\n",
              "      \n",
              "  <style>\n",
              "    .colab-df-container {\n",
              "      display:flex;\n",
              "      flex-wrap:wrap;\n",
              "      gap: 12px;\n",
              "    }\n",
              "\n",
              "    .colab-df-convert {\n",
              "      background-color: #E8F0FE;\n",
              "      border: none;\n",
              "      border-radius: 50%;\n",
              "      cursor: pointer;\n",
              "      display: none;\n",
              "      fill: #1967D2;\n",
              "      height: 32px;\n",
              "      padding: 0 0 0 0;\n",
              "      width: 32px;\n",
              "    }\n",
              "\n",
              "    .colab-df-convert:hover {\n",
              "      background-color: #E2EBFA;\n",
              "      box-shadow: 0px 1px 2px rgba(60, 64, 67, 0.3), 0px 1px 3px 1px rgba(60, 64, 67, 0.15);\n",
              "      fill: #174EA6;\n",
              "    }\n",
              "\n",
              "    [theme=dark] .colab-df-convert {\n",
              "      background-color: #3B4455;\n",
              "      fill: #D2E3FC;\n",
              "    }\n",
              "\n",
              "    [theme=dark] .colab-df-convert:hover {\n",
              "      background-color: #434B5C;\n",
              "      box-shadow: 0px 1px 3px 1px rgba(0, 0, 0, 0.15);\n",
              "      filter: drop-shadow(0px 1px 2px rgba(0, 0, 0, 0.3));\n",
              "      fill: #FFFFFF;\n",
              "    }\n",
              "  </style>\n",
              "\n",
              "      <script>\n",
              "        const buttonEl =\n",
              "          document.querySelector('#df-9e88aa25-45db-4676-8578-a7e55ab5c595 button.colab-df-convert');\n",
              "        buttonEl.style.display =\n",
              "          google.colab.kernel.accessAllowed ? 'block' : 'none';\n",
              "\n",
              "        async function convertToInteractive(key) {\n",
              "          const element = document.querySelector('#df-9e88aa25-45db-4676-8578-a7e55ab5c595');\n",
              "          const dataTable =\n",
              "            await google.colab.kernel.invokeFunction('convertToInteractive',\n",
              "                                                     [key], {});\n",
              "          if (!dataTable) return;\n",
              "\n",
              "          const docLinkHtml = 'Like what you see? Visit the ' +\n",
              "            '<a target=\"_blank\" href=https://colab.research.google.com/notebooks/data_table.ipynb>data table notebook</a>'\n",
              "            + ' to learn more about interactive tables.';\n",
              "          element.innerHTML = '';\n",
              "          dataTable['output_type'] = 'display_data';\n",
              "          await google.colab.output.renderOutput(dataTable, element);\n",
              "          const docLink = document.createElement('div');\n",
              "          docLink.innerHTML = docLinkHtml;\n",
              "          element.appendChild(docLink);\n",
              "        }\n",
              "      </script>\n",
              "    </div>\n",
              "  </div>\n",
              "  "
            ]
          },
          "metadata": {},
          "execution_count": 38
        }
      ],
      "source": [
        "numeric_data"
      ]
    },
    {
      "cell_type": "markdown",
      "metadata": {
        "id": "xjT486Q--RPX"
      },
      "source": [
        "\n",
        "\n",
        "```\n",
        "# This is formatted as code\n",
        "```\n",
        "\n",
        "# **Categorical variables**"
      ]
    },
    {
      "cell_type": "code",
      "execution_count": null,
      "metadata": {
        "id": "77Dtt6IQshqV",
        "colab": {
          "base_uri": "https://localhost:8080/"
        },
        "outputId": "4bc6b5a5-19a5-4287-c7dc-0883fd5be384"
      },
      "outputs": [
        {
          "output_type": "execute_result",
          "data": {
            "text/plain": [
              "0    4\n",
              "dtype: int64"
            ]
          },
          "metadata": {},
          "execution_count": 39
        }
      ],
      "source": [
        "combined_data['launched_month'].mode()"
      ]
    },
    {
      "cell_type": "code",
      "execution_count": null,
      "metadata": {
        "id": "zZqzukNsWQlI"
      },
      "outputs": [],
      "source": [
        "##categorical_data = pd.DataFrame(combined_data,columns=['loan_number','launched_month','launched_year','naics_code_name', 'business_type', 'city_name_top', 'servicing_lender_top', 'servicing_lender_state_top', 'servicing_lender_city_top', 'project_city_top', 'project_county_top'\n",
        "##, 'lender_state_top', 'lender_city_top', 'lender_servicing_lender_state_city'])00000"
      ]
    },
    {
      "cell_type": "code",
      "execution_count": null,
      "metadata": {
        "id": "JdPeaaPLh3kx",
        "colab": {
          "base_uri": "https://localhost:8080/"
        },
        "outputId": "b62a5296-31fd-4fda-c4df-592e0ee27fc1"
      },
      "outputs": [
        {
          "output_type": "execute_result",
          "data": {
            "text/plain": [
              "2340"
            ]
          },
          "metadata": {},
          "execution_count": 41
        }
      ],
      "source": [
        "combined_data['naics_code'].isna().sum()"
      ]
    },
    {
      "cell_type": "code",
      "execution_count": null,
      "metadata": {
        "id": "JJBq4xvojcks"
      },
      "outputs": [],
      "source": [
        "combined_data['naics_code']=combined_data['naics_code'].fillna(10)"
      ]
    },
    {
      "cell_type": "code",
      "execution_count": null,
      "metadata": {
        "id": "comX2UsIsjSy"
      },
      "outputs": [],
      "source": [
        "naics_code_name=[]\n",
        "for i in combined_data['naics_code']:\n",
        "\n",
        "  if(int(str(i)[:2]) == 11):\n",
        "        naics_code_name.append('Agriculture, Forestry, Fishing and Hunting')\n",
        "\n",
        "  elif(int(str(i)[:2]) == 21):\n",
        "        naics_code_name.append('Mining')\n",
        "  elif(int(str(i)[:2]) == 22):\n",
        "        naics_code_name.append('Utilities')\n",
        "  elif(int(str(i)[:2]) == 23):\n",
        "        naics_code_name.append('Construction')\n",
        "  elif(int(str(i)[:2]) == 31):\n",
        "        naics_code_name.append('Manufacturing')\n",
        "  elif(int(str(i)[:2]) == 32):\n",
        "        naics_code_name.append('Manufacturing')\n",
        "  elif(int(str(i)[:2]) == 33):\n",
        "        naics_code_name.append('Manufacturing')\n",
        "  elif(int(str(i)[:2]) == 42):\n",
        "        naics_code_name.append('Wholesale Trade')\n",
        "  elif(int(str(i)[:2]) == 44):\n",
        "        naics_code_name.append('Retail Trade')\n",
        "  elif(int(str(i)[:2]) == 45):\n",
        "        naics_code_name.append('Retail Trade')\n",
        "  elif(int(str(i)[:2]) == 48):\n",
        "        naics_code_name.append('Transportation and Warehousing')\n",
        "  elif(int(str(i)[:2]) == 49):\n",
        "        naics_code_name.append('Transportation and Warehousing')\n",
        "  elif(int(str(i)[:2]) == 51):\n",
        "        naics_code_name.append('Information')\n",
        "  elif(int(str(i)[:2]) == 52):\n",
        "        naics_code_name.append('Finance and Insurance')\n",
        "  elif(int(str(i)[:2]) == 53):\n",
        "        naics_code_name.append('Real Estate Rental and Leasing')\n",
        "  elif(int(str(i)[:2]) == 54):\n",
        "        naics_code_name.append('Professional, Scientific, and Technical Services')\n",
        "  elif(int(str(i)[:2]) == 55):\n",
        "        naics_code_name.append('Management of Companies and Enterprises')\n",
        "  elif(int(str(i)[:2]) == 56):\n",
        "        naics_code_name.append('Administrative and Support and Waste Management and Remediation Services')\n",
        "  elif(int(str(i)[:2]) == 61):\n",
        "        naics_code_name.append('Educational Services')\n",
        "  elif(int(str(i)[:2]) == 62):\n",
        "        naics_code_name.append('Health Care and Social Assistance')\n",
        "  elif(int(str(i)[:2]) == 71):\n",
        "        naics_code_name.append('Arts, Entertainment, and Recreation')\n",
        "  elif(int(str(i)[:2]) == 72):\n",
        "        naics_code_name.append('Accommodation and Food Services')\n",
        "  elif(int(str(i)[:2]) == 81):\n",
        "        naics_code_name.append('Other Services')\n",
        "  elif(int(str(i)[:2]) == 92):\n",
        "        naics_code_name.append('Public Administration')\n",
        "  else:\n",
        "    naics_code_name.append('Others')"
      ]
    },
    {
      "cell_type": "code",
      "execution_count": null,
      "metadata": {
        "id": "G_E9Z67RnFWE"
      },
      "outputs": [],
      "source": [
        "combined_data['naics_code_name']=naics_code_name"
      ]
    },
    {
      "cell_type": "code",
      "execution_count": null,
      "metadata": {
        "id": "e9Ayo7X-qaAW"
      },
      "outputs": [],
      "source": [
        ""
      ]
    },
    {
      "cell_type": "code",
      "execution_count": null,
      "metadata": {
        "id": "EJ8aDw9_G1Pr"
      },
      "outputs": [],
      "source": [
        "\n"
      ]
    },
    {
      "cell_type": "code",
      "execution_count": null,
      "metadata": {
        "id": "64rqqtGZQJjx",
        "colab": {
          "base_uri": "https://localhost:8080/"
        },
        "outputId": "33e7d49f-c3e8-4e48-b7f4-e60610ed1a2d"
      },
      "outputs": [
        {
          "output_type": "execute_result",
          "data": {
            "text/plain": [
              "Index(['name', 'amount', 'state', 'address', 'city', 'zip', 'naics_code',\n",
              "       'business_type', 'jobs_retained', 'date_approved', 'lender',\n",
              "       'congressional_district', 'loan_number', 'sba_office_code',\n",
              "       'processing_method', 'loan_status', 'term', 'sba_guaranty_percentage',\n",
              "       'initial_approval_amount', 'current_approval_amount',\n",
              "       'undisbursed_amount', 'servicing_lender_location_id',\n",
              "       'servicing_lender_name', 'servicing_lender_address',\n",
              "       'servicing_lender_city', 'servicing_lender_state',\n",
              "       'servicing_lender_zip', 'rural_urban_indicator', 'hubzone_indicator',\n",
              "       'business_age_description', 'project_city', 'project_county_name',\n",
              "       'project_state', 'project_zip', 'originating_lender_city',\n",
              "       'originating_lender_state', 'loan_status_date',\n",
              "       'originating_lender_location_id', 'lmi_indicator', 'forgiveness_amount',\n",
              "       'forgiveness_date', 'Removed', 'amount_per_join', 'Date_launched',\n",
              "       'launched_year', 'launched_month', 'Difference_current_initial_amount',\n",
              "       'naics_code_name'],\n",
              "      dtype='object')"
            ]
          },
          "metadata": {},
          "execution_count": 45
        }
      ],
      "source": [
        "combined_data.columns"
      ]
    },
    {
      "cell_type": "code",
      "execution_count": null,
      "metadata": {
        "id": "unQve3Wgn45p",
        "colab": {
          "base_uri": "https://localhost:8080/"
        },
        "outputId": "a6abef06-ca39-40b6-a6e4-3fc51ea09775"
      },
      "outputs": [
        {
          "output_type": "execute_result",
          "data": {
            "text/plain": [
              "Sole Proprietorship                    238089\n",
              "Limited  Liability Company(LLC)        101472\n",
              "Corporation                             70852\n",
              "Independent Contractors                 62638\n",
              "Self-Employed Individuals               60935\n",
              "Subchapter S Corporation                27251\n",
              "Non-Profit Organization                  6323\n",
              "Single Member LLC                        5925\n",
              "Partnership                              2339\n",
              "Limited Liability Partnership            1613\n",
              "Professional Association                 1234\n",
              "501(c)3 – Non Profit                      346\n",
              "Cooperative                               148\n",
              "501(c)6 – Non Profit Membership           142\n",
              "Non-Profit Childcare Center               101\n",
              "Joint Venture                              92\n",
              "Qualified Joint-Venture (spouses)          50\n",
              "Trust                                      31\n",
              "Employee Stock Ownership Plan(ESOP)        24\n",
              "Tenant in Common                           14\n",
              "Rollover as Business Start-Ups (ROB         2\n",
              "Housing Co-op                               1\n",
              "501(c)19 – Non Profit Veterans              1\n",
              "Name: business_type, dtype: int64"
            ]
          },
          "metadata": {},
          "execution_count": 46
        }
      ],
      "source": [
        "combined_data['business_type'].value_counts()"
      ]
    },
    {
      "cell_type": "code",
      "execution_count": null,
      "metadata": {
        "id": "YL5OTbgv868G",
        "colab": {
          "base_uri": "https://localhost:8080/"
        },
        "outputId": "321a0f37-7908-45de-f400-fda71e322072"
      },
      "outputs": [
        {
          "output_type": "execute_result",
          "data": {
            "text/plain": [
              "41"
            ]
          },
          "metadata": {},
          "execution_count": 47
        }
      ],
      "source": [
        "combined_data['business_type'].isna().sum()"
      ]
    },
    {
      "cell_type": "code",
      "execution_count": null,
      "metadata": {
        "id": "VO5ryMHj3TEJ"
      },
      "outputs": [],
      "source": [
        "combined_data['business_type']=combined_data['business_type'].fillna(\"None\")"
      ]
    },
    {
      "cell_type": "code",
      "execution_count": null,
      "metadata": {
        "id": "4fvoxt-t6G7c"
      },
      "outputs": [],
      "source": [
        "combined_data['business_type'].replace('Qualified Joint-Venture (spouses)','Others',inplace=True)\n",
        "combined_data['business_type'].replace('Trust','Others',inplace=True)\n",
        "combined_data['business_type'].replace(\"Employee Stock Ownership Plan(ESOP)\",'Others',inplace=True)\n",
        "combined_data['business_type'].replace(\"Tenant in Commo\",'Others',inplace=True)\n",
        "combined_data['business_type'].replace(\"Rollover as Business Start-Ups (ROB\",'Others',inplace=True)\n",
        "combined_data['business_type'].replace(\"Housing Co-op\",'Others',inplace=True)\n",
        "combined_data['business_type'].replace(\"501(c)19 – Non Profit Veterans\",'Others',inplace=True)\n",
        "combined_data['business_type'].replace(\"Tenant in Common\",'Others',inplace=True)\n",
        "  "
      ]
    },
    {
      "cell_type": "code",
      "execution_count": null,
      "metadata": {
        "id": "UJXoUPuG9Jse",
        "colab": {
          "base_uri": "https://localhost:8080/"
        },
        "outputId": "0f9616ab-d26d-48fb-ece7-8efa6e3615be"
      },
      "outputs": [
        {
          "output_type": "execute_result",
          "data": {
            "text/plain": [
              "Sole Proprietorship                238089\n",
              "Limited  Liability Company(LLC)    101472\n",
              "Corporation                         70852\n",
              "Independent Contractors             62638\n",
              "Self-Employed Individuals           60935\n",
              "Subchapter S Corporation            27251\n",
              "Non-Profit Organization              6323\n",
              "Single Member LLC                    5925\n",
              "Partnership                          2339\n",
              "Limited Liability Partnership        1613\n",
              "Professional Association             1234\n",
              "501(c)3 – Non Profit                  346\n",
              "Cooperative                           148\n",
              "501(c)6 – Non Profit Membership       142\n",
              "Others                                123\n",
              "Non-Profit Childcare Center           101\n",
              "Joint Venture                          92\n",
              "None                                   41\n",
              "Name: business_type, dtype: int64"
            ]
          },
          "metadata": {},
          "execution_count": 50
        }
      ],
      "source": [
        "combined_data['business_type'].value_counts()"
      ]
    },
    {
      "cell_type": "code",
      "execution_count": null,
      "metadata": {
        "id": "B8T1zki5B08v",
        "colab": {
          "base_uri": "https://localhost:8080/"
        },
        "outputId": "dd0a4a57-cba4-48c4-f3a4-23eaa5585d6e"
      },
      "outputs": [
        {
          "output_type": "execute_result",
          "data": {
            "text/plain": [
              "2785"
            ]
          },
          "metadata": {},
          "execution_count": 51
        }
      ],
      "source": [
        "combined_data['city'].nunique()"
      ]
    },
    {
      "cell_type": "code",
      "execution_count": null,
      "metadata": {
        "id": "l9B_9cZ2FM6U"
      },
      "outputs": [],
      "source": [
        "city_unique=combined_data['city'].unique()"
      ]
    },
    {
      "cell_type": "code",
      "execution_count": null,
      "metadata": {
        "id": "mQ20kshMGo_m"
      },
      "outputs": [],
      "source": [
        "Top_5_city=['Atlanta', 'Columbus', 'Augusta', 'Macon', 'Savannah']\n",
        "#, 'Athens', 'Sandy Springs', 'South Fulton', 'Roswell', 'Johns Creek']\n",
        "a = (map(lambda x: x.lower(), Top_5_city))\n",
        "Top_5_city_lower = list(a)\n",
        "b = (map(lambda x: x.upper(), Top_5_city))\n",
        "Top_5_city_upper = list(b)"
      ]
    },
    {
      "cell_type": "code",
      "execution_count": null,
      "metadata": {
        "id": "5qG4R6OgLYSy"
      },
      "outputs": [],
      "source": [
        ""
      ]
    },
    {
      "cell_type": "code",
      "execution_count": null,
      "metadata": {
        "id": "j45wgeNgI_2V"
      },
      "outputs": [],
      "source": [
        "city_name=[]\n",
        "for i in combined_data['city']:\n",
        "  if (i in Top_5_city):\n",
        "    city_name.append(i.upper())\n",
        "  elif (i in Top_5_city_upper):\n",
        "    city_name.append(i)\n",
        "  elif (i in Top_5_city_lower):\n",
        "    city_name.append(i.upper())\n",
        "  else:\n",
        "    city_name.append('Other')"
      ]
    },
    {
      "cell_type": "code",
      "execution_count": null,
      "metadata": {
        "id": "6Co7Z7-qFm_b"
      },
      "outputs": [],
      "source": [
        "combined_data['city_name_top']=city_name\n"
      ]
    },
    {
      "cell_type": "code",
      "execution_count": null,
      "metadata": {
        "id": "I7-rKOvbZ1DR"
      },
      "outputs": [],
      "source": [
        "combined_data['city_name']=city_name"
      ]
    },
    {
      "cell_type": "code",
      "execution_count": null,
      "metadata": {
        "id": "cNMI8I2GMu-9"
      },
      "outputs": [],
      "source": [
        "combined_data['city_name_top'].replace(Top_5_city_upper,'Top_city',inplace=True)\n"
      ]
    },
    {
      "cell_type": "code",
      "execution_count": null,
      "metadata": {
        "id": "cGxRMutNMIN2",
        "colab": {
          "base_uri": "https://localhost:8080/"
        },
        "outputId": "ed25694c-1766-4529-962f-9879ab20b36d"
      },
      "outputs": [
        {
          "output_type": "execute_result",
          "data": {
            "text/plain": [
              "Other       450404\n",
              "Top_city    129260\n",
              "Name: city_name_top, dtype: int64"
            ]
          },
          "metadata": {},
          "execution_count": 58
        }
      ],
      "source": [
        "combined_data['city_name_top'].value_counts()"
      ]
    },
    {
      "cell_type": "code",
      "execution_count": null,
      "metadata": {
        "id": "n_D76GQP19Na",
        "colab": {
          "base_uri": "https://localhost:8080/"
        },
        "outputId": "568ce19f-cc39-4870-bb6c-50f444b60aad"
      },
      "outputs": [
        {
          "output_type": "execute_result",
          "data": {
            "text/plain": [
              "1186"
            ]
          },
          "metadata": {},
          "execution_count": 59
        }
      ],
      "source": [
        "combined_data['servicing_lender_name'].nunique()"
      ]
    },
    {
      "cell_type": "code",
      "execution_count": null,
      "metadata": {
        "id": "RiWacFUH533Q"
      },
      "outputs": [],
      "source": [
        ""
      ]
    },
    {
      "cell_type": "code",
      "execution_count": null,
      "metadata": {
        "id": "gGAG5lcy6hic"
      },
      "outputs": [],
      "source": [
        "Top_20_servicing_lender=['Harvest Small Business Finance, LLC', 'Prestamos CDFI, LLC', 'Capital Plus Financial, LLC', 'Cross River Bank', 'Benworth Capital', 'Fountainhead SBF LLC', 'Customers Bank', 'Bank of America, National Association', 'Itria Ventures LLC', 'Truist Bank d/b/a Branch Banking & Trust Co',\n",
        "             'Wells Fargo Bank, National Association', 'Synovus Bank']\n"
      ]
    },
    {
      "cell_type": "code",
      "execution_count": null,
      "metadata": {
        "id": "n_aBlhhT_FDs"
      },
      "outputs": [],
      "source": [
        "servicing_lender_name=[]\n",
        "for i in combined_data['servicing_lender_name']:\n",
        "  if (i in Top_20_servicing_lender):\n",
        "    servicing_lender_name.append('Top')\n",
        "  else:\n",
        "    servicing_lender_name.append('Other')"
      ]
    },
    {
      "cell_type": "code",
      "execution_count": null,
      "metadata": {
        "id": "bSEHs8MF8Sx5"
      },
      "outputs": [],
      "source": [
        "combined_data['servicing_lender_top']=servicing_lender_name"
      ]
    },
    {
      "cell_type": "code",
      "execution_count": null,
      "metadata": {
        "id": "C9h7jqiF81JL",
        "colab": {
          "base_uri": "https://localhost:8080/"
        },
        "outputId": "694903ce-1cd9-4f90-f7e6-5c29da4d716e"
      },
      "outputs": [
        {
          "output_type": "execute_result",
          "data": {
            "text/plain": [
              "GA    111569\n",
              "CA     78670\n",
              "FL     71091\n",
              "AZ     57364\n",
              "TX     54650\n",
              "NJ     45244\n",
              "NC     37918\n",
              "NY     24752\n",
              "PA     23531\n",
              "SD     14708\n",
              "UT     11584\n",
              "AL      8163\n",
              "OH      7293\n",
              "MS      6851\n",
              "NE      4520\n",
              "TN      4207\n",
              "AR      2543\n",
              "DE      2512\n",
              "MA      2440\n",
              "VA      1855\n",
              "SC      1699\n",
              "ID      1388\n",
              "OK      1076\n",
              "MO       721\n",
              "NM       543\n",
              "WV       506\n",
              "IL       505\n",
              "KS       332\n",
              "MN       311\n",
              "LA       150\n",
              "NV       140\n",
              "WI       101\n",
              "KY        96\n",
              "IN        86\n",
              "IA        80\n",
              "CT        76\n",
              "MI        72\n",
              "MD        60\n",
              "CO        55\n",
              "RI        39\n",
              "WA        31\n",
              "DC        24\n",
              "OR        20\n",
              "NH        19\n",
              "ND        18\n",
              "HI        17\n",
              "MT        14\n",
              "ME         8\n",
              "VT         4\n",
              "WY         3\n",
              "GU         2\n",
              "AS         2\n",
              "AK         1\n",
              "Name: servicing_lender_state, dtype: int64"
            ]
          },
          "metadata": {},
          "execution_count": 63
        }
      ],
      "source": [
        "\n",
        "combined_data['servicing_lender_state'].value_counts()"
      ]
    },
    {
      "cell_type": "code",
      "execution_count": null,
      "metadata": {
        "id": "hFMVwP18_PaE"
      },
      "outputs": [],
      "source": [
        "Top_10_servicing_lender_state=['GA', 'CA', 'FL', 'AZ', 'TX', 'NJ', 'NC', 'NY', 'PA', 'SD']\n",
        "             #'UT', 'Synovus Bank', 'Kabbage, Inc.', 'United Community Bank', 'Ameris Bank', 'Square Capital, LLC', 'Regions Bank', 'JPMorgan Chase Bank, National Association', 'Readycap Lending, LLC', 'Celtic Bank Corporation']"
      ]
    },
    {
      "cell_type": "code",
      "execution_count": null,
      "metadata": {
        "id": "vOkQdKQy-WZe"
      },
      "outputs": [],
      "source": [
        "servicing_lender_state=[]\n",
        "for i in combined_data['servicing_lender_state']:\n",
        "  if (i in Top_10_servicing_lender_state):\n",
        "    servicing_lender_state.append('Top')\n",
        "  else:\n",
        "    servicing_lender_state.append('Other')"
      ]
    },
    {
      "cell_type": "code",
      "execution_count": null,
      "metadata": {
        "id": "M7sFLMLA-WkM"
      },
      "outputs": [],
      "source": [
        "combined_data['servicing_lender_state_top']=servicing_lender_state"
      ]
    },
    {
      "cell_type": "code",
      "execution_count": null,
      "metadata": {
        "id": "QJlhWv5QMGEU",
        "colab": {
          "base_uri": "https://localhost:8080/"
        },
        "outputId": "00eab93b-e733-4e94-a7c1-a25f3188fd08"
      },
      "outputs": [
        {
          "output_type": "execute_result",
          "data": {
            "text/plain": [
              "Top      519497\n",
              "Other     60167\n",
              "Name: servicing_lender_state_top, dtype: int64"
            ]
          },
          "metadata": {},
          "execution_count": 67
        }
      ],
      "source": [
        "combined_data['servicing_lender_state_top'].value_counts()"
      ]
    },
    {
      "cell_type": "code",
      "execution_count": null,
      "metadata": {
        "id": "bdcJxuAhpqyJ",
        "colab": {
          "base_uri": "https://localhost:8080/"
        },
        "outputId": "375f720b-286b-4d2a-d96b-b3eb1dcc2594"
      },
      "outputs": [
        {
          "output_type": "execute_result",
          "data": {
            "text/plain": [
              "Laguna Hills         62060\n",
              "Phoenix              57324\n",
              "Bedford              52255\n",
              "TEANECK              36020\n",
              "CHARLOTTE            35381\n",
              "                     ...  \n",
              "MERTZON                  1\n",
              "HARRISBURG               1\n",
              "BELLE CHASSE             1\n",
              "BLACK RIVER FALLS        1\n",
              "Columbus                 1\n",
              "Name: servicing_lender_city, Length: 859, dtype: int64"
            ]
          },
          "metadata": {},
          "execution_count": 68
        }
      ],
      "source": [
        "combined_data['servicing_lender_city'].value_counts()"
      ]
    },
    {
      "cell_type": "code",
      "execution_count": null,
      "metadata": {
        "id": "5tN9j_UKqeXd"
      },
      "outputs": [],
      "source": [
        "combined_data['servicing_lender_city']=combined_data['servicing_lender_city'].apply(lambda x: x.upper())"
      ]
    },
    {
      "cell_type": "code",
      "execution_count": null,
      "metadata": {
        "id": "IgwDfQCrqeeF",
        "colab": {
          "base_uri": "https://localhost:8080/"
        },
        "outputId": "14e002a9-9d67-4c15-becd-462b2bdaa8c2"
      },
      "outputs": [
        {
          "output_type": "execute_result",
          "data": {
            "text/plain": [
              "LAGUNA HILLS    62060\n",
              "PHOENIX         57359\n",
              "BEDFORD         52272\n",
              "TEANECK         36020\n",
              "CHARLOTTE       35381\n",
              "                ...  \n",
              "NEW MADISON         1\n",
              "LAMONT              1\n",
              "ELDORADO            1\n",
              "SHANNON             1\n",
              "CARIBOU             1\n",
              "Name: servicing_lender_city, Length: 819, dtype: int64"
            ]
          },
          "metadata": {},
          "execution_count": 70
        }
      ],
      "source": [
        "combined_data['servicing_lender_city'].value_counts()"
      ]
    },
    {
      "cell_type": "code",
      "execution_count": null,
      "metadata": {
        "id": "DIq_xRebs19q"
      },
      "outputs": [],
      "source": [
        "Top_2_servicing_lender_city=['Atlanta', 'Columbus', 'Los Angeles', 'San Diego', 'Jacksonville', 'Miami',\n",
        "                             'Phoenix', 'Tucson', 'Houston', 'San Antonio', 'Newark', 'Jersey City', 'Charlotte', 'Raleigh'\n",
        "                             , 'New York City', 'Buffalo', 'Philadelphia', 'Pittsburgh', 'Sioux Falls', 'Rapid City']\n",
        "Top_2_servicing_lender_city = map(lambda x: x.upper(), Top_2_servicing_lender_city)\n",
        "Top_2_servicing_lender_city=list(Top_2_servicing_lender_city)"
      ]
    },
    {
      "cell_type": "code",
      "execution_count": null,
      "metadata": {
        "id": "R2IoIzm_w62L"
      },
      "outputs": [],
      "source": [
        "servicing_lender_city=[]\n",
        "for i in combined_data['servicing_lender_city']:\n",
        "  if (i in Top_2_servicing_lender_city):\n",
        "    servicing_lender_city.append('Top')\n",
        "  else:\n",
        "    servicing_lender_city.append('Other')"
      ]
    },
    {
      "cell_type": "code",
      "execution_count": null,
      "metadata": {
        "id": "Eicu85YtxY4H"
      },
      "outputs": [],
      "source": [
        "combined_data['servicing_lender_city_top']=servicing_lender_state"
      ]
    },
    {
      "cell_type": "code",
      "execution_count": null,
      "metadata": {
        "id": "w024qYKdxrVn",
        "colab": {
          "base_uri": "https://localhost:8080/"
        },
        "outputId": "5a98249e-a918-4534-81b9-d0919a578e01"
      },
      "outputs": [
        {
          "output_type": "execute_result",
          "data": {
            "text/plain": [
              "Top      519497\n",
              "Other     60167\n",
              "Name: servicing_lender_city_top, dtype: int64"
            ]
          },
          "metadata": {},
          "execution_count": 74
        }
      ],
      "source": [
        "combined_data['servicing_lender_city_top'].value_counts()"
      ]
    },
    {
      "cell_type": "code",
      "execution_count": null,
      "metadata": {
        "id": "5nfjLt-M_qUx",
        "colab": {
          "base_uri": "https://localhost:8080/"
        },
        "outputId": "62cc824d-c53b-49bf-bd56-66d9a097706a"
      },
      "outputs": [
        {
          "output_type": "execute_result",
          "data": {
            "text/plain": [
              "Existing or more than 2 years old         537065\n",
              "New Business or 2 years or less            26609\n",
              "Unanswered                                 15869\n",
              "Startup, Loan Funds will Open Business        75\n",
              "Change of Ownership                           46\n",
              "Name: business_age_description, dtype: int64"
            ]
          },
          "metadata": {},
          "execution_count": 75
        }
      ],
      "source": [
        "\n",
        "combined_data['business_age_description'].value_counts()"
      ]
    },
    {
      "cell_type": "code",
      "execution_count": null,
      "metadata": {
        "id": "tAkNTL5Nndpw",
        "colab": {
          "base_uri": "https://localhost:8080/"
        },
        "outputId": "f13159ba-efaa-4dd8-c8d4-dc436fabbae0"
      },
      "outputs": [
        {
          "output_type": "execute_result",
          "data": {
            "text/plain": [
              "Atlanta                 71664\n",
              "ATLANTA                 17635\n",
              "Decatur                 13861\n",
              "Lawrenceville           13249\n",
              "Marietta                12769\n",
              "                        ...  \n",
              "1850 The Exchange SE        1\n",
              "80 Townsend Circle          1\n",
              "Covinton                    1\n",
              "kENNESAW                    1\n",
              "HOGANVILLE                  1\n",
              "Name: project_city, Length: 2800, dtype: int64"
            ]
          },
          "metadata": {},
          "execution_count": 76
        }
      ],
      "source": [
        "combined_data['project_city'].value_counts()\n"
      ]
    },
    {
      "cell_type": "code",
      "execution_count": null,
      "metadata": {
        "id": "H2AVvWcIndtP"
      },
      "outputs": [],
      "source": [
        "Top_5_project_city=['Atlanta', 'Sandy Springs', 'Roswell','Grayson', 'Berkeley Lake', 'Rest Haven','Marietta', 'Smyrna', 'Kennesaw']\n",
        "#, 'Athens', 'Sandy Springs', 'South Fulton', 'Roswell', 'Johns Creek']\n",
        "a = (map(lambda x: x.lower(), Top_5_project_city))\n",
        "Top_5_project_city_lower = list(a)\n",
        "b = (map(lambda x: x.upper(), Top_5_project_city))\n",
        "Top_5_project_city_upper = list(b)"
      ]
    },
    {
      "cell_type": "code",
      "execution_count": null,
      "metadata": {
        "id": "YT4IRqMLndzW"
      },
      "outputs": [],
      "source": [
        "project_city_name=[]\n",
        "for i in combined_data['project_city']:\n",
        "  if (i in Top_5_project_city):\n",
        "    project_city_name.append(i.upper())\n",
        "  elif (i in Top_5_project_city_upper):\n",
        "    project_city_name.append(i)\n",
        "  elif (i in Top_5_project_city_lower):\n",
        "    project_city_name.append(i.upper())\n",
        "  else:\n",
        "    project_city_name.append('Other')"
      ]
    },
    {
      "cell_type": "code",
      "execution_count": null,
      "metadata": {
        "id": "TeuHN4DmnhQS"
      },
      "outputs": [],
      "source": [
        "combined_data['project_city_top']=project_city_name"
      ]
    },
    {
      "cell_type": "code",
      "execution_count": null,
      "metadata": {
        "id": "3S6wqtXenhYw"
      },
      "outputs": [],
      "source": [
        "combined_data['project_city_top'].replace(Top_5_project_city_upper,'Top_city',inplace=True)"
      ]
    },
    {
      "cell_type": "code",
      "execution_count": null,
      "metadata": {
        "id": "DAXa5w-onpI_",
        "colab": {
          "base_uri": "https://localhost:8080/"
        },
        "outputId": "1a75030c-d601-490a-83a8-a80f15a89907"
      },
      "outputs": [
        {
          "output_type": "execute_result",
          "data": {
            "text/plain": [
              "Other       453576\n",
              "Top_city    126088\n",
              "Name: project_city_top, dtype: int64"
            ]
          },
          "metadata": {},
          "execution_count": 81
        }
      ],
      "source": [
        "combined_data['project_city_top'].value_counts()"
      ]
    },
    {
      "cell_type": "code",
      "execution_count": null,
      "metadata": {
        "id": "SSUZrgmOnpz0",
        "colab": {
          "base_uri": "https://localhost:8080/"
        },
        "outputId": "35062a0c-2fed-4c97-c58e-59f2034b689b"
      },
      "outputs": [
        {
          "output_type": "execute_result",
          "data": {
            "text/plain": [
              "FULTON             101254\n",
              "DEKALB              63266\n",
              "GWINNETT            59226\n",
              "COBB                45008\n",
              "CLAYTON             30318\n",
              "                    ...  \n",
              "ALEXANDRIA CITY         1\n",
              "BEAUFORT                1\n",
              "ESCAMBIA                1\n",
              "HAMILTON                1\n",
              "CHARLOTTE               1\n",
              "Name: project_county_name, Length: 171, dtype: int64"
            ]
          },
          "metadata": {},
          "execution_count": 82
        }
      ],
      "source": [
        "combined_data['project_county_name'].value_counts()"
      ]
    },
    {
      "cell_type": "code",
      "execution_count": null,
      "metadata": {
        "id": "w6jgJ_vmCm0P"
      },
      "outputs": [],
      "source": [
        "combined_data['project_county_name'] = combined_data['project_county_name'].str.upper()"
      ]
    },
    {
      "cell_type": "code",
      "execution_count": null,
      "metadata": {
        "id": "6oTBXH_PCm3y",
        "colab": {
          "base_uri": "https://localhost:8080/"
        },
        "outputId": "c193353b-450c-4f16-cd10-1116bc29fed9"
      },
      "outputs": [
        {
          "output_type": "execute_result",
          "data": {
            "text/plain": [
              "FULTON             101254\n",
              "DEKALB              63266\n",
              "GWINNETT            59226\n",
              "COBB                45008\n",
              "CLAYTON             30318\n",
              "                    ...  \n",
              "ALEXANDRIA CITY         1\n",
              "BEAUFORT                1\n",
              "ESCAMBIA                1\n",
              "HAMILTON                1\n",
              "CHARLOTTE               1\n",
              "Name: project_county_name, Length: 171, dtype: int64"
            ]
          },
          "metadata": {},
          "execution_count": 84
        }
      ],
      "source": [
        "combined_data['project_county_name'].value_counts()"
      ]
    },
    {
      "cell_type": "code",
      "execution_count": null,
      "metadata": {
        "id": "eXFmQysqCm7g"
      },
      "outputs": [],
      "source": [
        "Top_5_project_county=['Fulton', 'Gwinnett', 'Cobb']\n",
        "Top_5_project_county = map(lambda x: x.upper(), Top_5_project_county)\n",
        "Top_5_project_county=list(Top_5_project_county)"
      ]
    },
    {
      "cell_type": "code",
      "execution_count": null,
      "metadata": {
        "id": "mVmqJ6j2FvsV"
      },
      "outputs": [],
      "source": [
        ""
      ]
    },
    {
      "cell_type": "code",
      "execution_count": null,
      "metadata": {
        "id": "IBKBSXrdCm-w"
      },
      "outputs": [],
      "source": [
        "project_county=[]\n",
        "for i in combined_data['project_county_name']:\n",
        "  if (i in Top_5_project_county):\n",
        "    project_county.append('Top')\n",
        "  else:\n",
        "    project_county.append('Other')"
      ]
    },
    {
      "cell_type": "code",
      "execution_count": null,
      "metadata": {
        "id": "gMPJSHzWCnB-"
      },
      "outputs": [],
      "source": [
        "combined_data['project_county_top']=project_county"
      ]
    },
    {
      "cell_type": "code",
      "execution_count": null,
      "metadata": {
        "id": "tRpzq1goCx61",
        "colab": {
          "base_uri": "https://localhost:8080/"
        },
        "outputId": "a58ff3e7-9e25-42d6-87d3-54d219b8e797"
      },
      "outputs": [
        {
          "output_type": "execute_result",
          "data": {
            "text/plain": [
              "Other    374176\n",
              "Top      205488\n",
              "Name: project_county_top, dtype: int64"
            ]
          },
          "metadata": {},
          "execution_count": 88
        }
      ],
      "source": [
        "combined_data['project_county_top'].value_counts()"
      ]
    },
    {
      "cell_type": "code",
      "execution_count": null,
      "metadata": {
        "id": "FSx41JF7CyA_",
        "colab": {
          "base_uri": "https://localhost:8080/"
        },
        "outputId": "ad361c9f-bc6f-4b1f-e031-a93077caa647"
      },
      "outputs": [
        {
          "output_type": "execute_result",
          "data": {
            "text/plain": [
              "GA    118833\n",
              "CA     75410\n",
              "FL     70950\n",
              "AZ     57364\n",
              "TX     54937\n",
              "NJ     40100\n",
              "NC     37918\n",
              "NY     21012\n",
              "PA     19943\n",
              "UT     16032\n",
              "SD     14709\n",
              "AL      8169\n",
              "OH      7293\n",
              "MS      6966\n",
              "MA      4530\n",
              "TN      4209\n",
              "VA      3507\n",
              "NE      3422\n",
              "AR      2543\n",
              "DE      2512\n",
              "SC      1804\n",
              "ID      1388\n",
              "OK      1076\n",
              "MO       721\n",
              "ME       635\n",
              "NM       543\n",
              "WV       506\n",
              "IL       505\n",
              "NV       425\n",
              "MN       394\n",
              "KS       332\n",
              "LA       152\n",
              "WI       101\n",
              "KY        96\n",
              "IN        86\n",
              "IA        80\n",
              "MI        76\n",
              "CT        76\n",
              "MD        60\n",
              "CO        55\n",
              "RI        39\n",
              "WA        31\n",
              "DC        24\n",
              "OR        20\n",
              "NH        19\n",
              "ND        18\n",
              "HI        17\n",
              "MT        14\n",
              "VT         4\n",
              "WY         3\n",
              "GU         2\n",
              "AS         2\n",
              "AK         1\n",
              "Name: originating_lender_state, dtype: int64"
            ]
          },
          "metadata": {},
          "execution_count": 89
        }
      ],
      "source": [
        "combined_data['originating_lender_state'].value_counts()"
      ]
    },
    {
      "cell_type": "code",
      "execution_count": null,
      "metadata": {
        "id": "AYKZ_iZlnp28"
      },
      "outputs": [],
      "source": [
        "Top_10_lender_state=['GA', 'CA', 'FL', 'AZ', 'TX', 'NJ', 'NC', 'NY', 'PA', 'UT']"
      ]
    },
    {
      "cell_type": "code",
      "execution_count": null,
      "metadata": {
        "id": "2qzkcnuPK_Td"
      },
      "outputs": [],
      "source": [
        "lender_state=[]\n",
        "for i in combined_data['originating_lender_state']:\n",
        "  if (i in Top_10_lender_state):\n",
        "    lender_state.append('Top')\n",
        "  else:\n",
        "    lender_state.append('Other')"
      ]
    },
    {
      "cell_type": "code",
      "execution_count": null,
      "metadata": {
        "id": "SMCVOZRRK_Y5"
      },
      "outputs": [],
      "source": [
        "combined_data['lender_state_top']=lender_state"
      ]
    },
    {
      "cell_type": "code",
      "execution_count": null,
      "metadata": {
        "id": "YZch4DlHK_cz",
        "colab": {
          "base_uri": "https://localhost:8080/"
        },
        "outputId": "de431b25-1b9d-47bd-b656-35ac5724d4fd"
      },
      "outputs": [
        {
          "output_type": "execute_result",
          "data": {
            "text/plain": [
              "Top      512499\n",
              "Other     67165\n",
              "Name: lender_state_top, dtype: int64"
            ]
          },
          "metadata": {},
          "execution_count": 93
        }
      ],
      "source": [
        "combined_data['lender_state_top'].value_counts()"
      ]
    },
    {
      "cell_type": "code",
      "execution_count": null,
      "metadata": {
        "id": "moIT-9cEMZv_",
        "colab": {
          "base_uri": "https://localhost:8080/"
        },
        "outputId": "99a4ec48-d561-46ac-e308-a9f042ab9a22"
      },
      "outputs": [
        {
          "output_type": "execute_result",
          "data": {
            "text/plain": [
              "Phoenix         57324\n",
              "Bedford         52249\n",
              "Laguna Hills    40865\n",
              "CHARLOTTE       35381\n",
              "Miami           35095\n",
              "                ...  \n",
              "CORNING             1\n",
              "WILLIAMSBURG        1\n",
              "NEENAH              1\n",
              "ROCKY MOUNT         1\n",
              "Columbus            1\n",
              "Name: originating_lender_city, Length: 863, dtype: int64"
            ]
          },
          "metadata": {},
          "execution_count": 94
        }
      ],
      "source": [
        "combined_data['originating_lender_city'].value_counts()"
      ]
    },
    {
      "cell_type": "code",
      "execution_count": null,
      "metadata": {
        "id": "igclj-njMZ1x"
      },
      "outputs": [],
      "source": [
        "combined_data['originating_lender_city']=combined_data['originating_lender_city'].apply(lambda x: x.upper())"
      ]
    },
    {
      "cell_type": "code",
      "execution_count": null,
      "metadata": {
        "id": "AfFHHKebK_jl",
        "colab": {
          "base_uri": "https://localhost:8080/"
        },
        "outputId": "6811780e-c6be-459e-b8d6-ab60a56b5cf8"
      },
      "outputs": [
        {
          "output_type": "execute_result",
          "data": {
            "text/plain": [
              "PHOENIX         57359\n",
              "BEDFORD         52266\n",
              "LAGUNA HILLS    40865\n",
              "CHARLOTTE       35381\n",
              "MIAMI           35163\n",
              "                ...  \n",
              "CORNING             1\n",
              "WILLIAMSBURG        1\n",
              "NEENAH              1\n",
              "ROCKY MOUNT         1\n",
              "CARIBOU             1\n",
              "Name: originating_lender_city, Length: 823, dtype: int64"
            ]
          },
          "metadata": {},
          "execution_count": 96
        }
      ],
      "source": [
        "combined_data['originating_lender_city'].value_counts()"
      ]
    },
    {
      "cell_type": "code",
      "execution_count": null,
      "metadata": {
        "id": "5qTRSx4pMmWO"
      },
      "outputs": [],
      "source": [
        "Top_2_lender_city=['Atlanta', 'Columbus', 'Los Angeles', 'San Diego', 'Jacksonville', 'Miami',\n",
        "                             'Phoenix', 'Tucson', 'Houston', 'San Antonio', 'Newark', 'Jersey City', 'Charlotte', 'Raleigh'\n",
        "                             , 'New York City', 'Buffalo', 'Philadelphia', 'Pittsburgh', 'Salt Lake', 'West Valley']\n",
        "Top_2_lender_city = map(lambda x: x.upper(), Top_2_servicing_lender_city)\n",
        "Top_2_lender_city=list(Top_2_servicing_lender_city)\n",
        "\n"
      ]
    },
    {
      "cell_type": "code",
      "execution_count": null,
      "metadata": {
        "id": "yD9Gte5UMmaM"
      },
      "outputs": [],
      "source": [
        "lender_city=[]\n",
        "for i in combined_data['originating_lender_city']:\n",
        "  if (i in Top_2_lender_city):\n",
        "    lender_city.append('Top')\n",
        "  else:\n",
        "    lender_city.append('Other')"
      ]
    },
    {
      "cell_type": "code",
      "execution_count": null,
      "metadata": {
        "id": "KG-aKRS8Mmd2"
      },
      "outputs": [],
      "source": [
        "combined_data['lender_city_top']=servicing_lender_state"
      ]
    },
    {
      "cell_type": "code",
      "execution_count": null,
      "metadata": {
        "id": "pNfSYZfjMmhW"
      },
      "outputs": [],
      "source": [
        "\n",
        "combined_data['lender_servicing_lender_city'] = np.where(combined_data['originating_lender_city'] == combined_data['servicing_lender_city'], True, False)\n",
        "  "
      ]
    },
    {
      "cell_type": "code",
      "execution_count": null,
      "metadata": {
        "id": "vZxCuchLPzj1",
        "colab": {
          "base_uri": "https://localhost:8080/"
        },
        "outputId": "831ba20c-bc90-4f00-94af-5fb42beaf640"
      },
      "outputs": [
        {
          "output_type": "execute_result",
          "data": {
            "text/plain": [
              "True     537703\n",
              "False     41961\n",
              "Name: lender_servicing_lender_city, dtype: int64"
            ]
          },
          "metadata": {},
          "execution_count": 101
        }
      ],
      "source": [
        "combined_data['lender_servicing_lender_city'].value_counts()"
      ]
    },
    {
      "cell_type": "code",
      "execution_count": null,
      "metadata": {
        "id": "cIil1PNiVlKN"
      },
      "outputs": [],
      "source": [
        "combined_data['lender_servicing_lender_state'] = np.where(combined_data['originating_lender_state'] == combined_data['servicing_lender_state'], True, False)"
      ]
    },
    {
      "cell_type": "code",
      "execution_count": null,
      "metadata": {
        "id": "neg1y3AoVlUB",
        "colab": {
          "base_uri": "https://localhost:8080/"
        },
        "outputId": "1df42b08-1eb8-40c4-bacb-b20b6333294f"
      },
      "outputs": [
        {
          "output_type": "execute_result",
          "data": {
            "text/plain": [
              "True     558909\n",
              "False     20755\n",
              "Name: lender_servicing_lender_state, dtype: int64"
            ]
          },
          "metadata": {},
          "execution_count": 103
        }
      ],
      "source": [
        "combined_data['lender_servicing_lender_state'].value_counts()"
      ]
    },
    {
      "cell_type": "code",
      "execution_count": null,
      "metadata": {
        "id": "IQtfQ00jMmkY"
      },
      "outputs": [],
      "source": [
        "combined_data['lender_servicing_lender_state_city']= np.where((combined_data['lender_servicing_lender_state'] == True)&(combined_data['lender_servicing_lender_city']==True), True, False)"
      ]
    },
    {
      "cell_type": "code",
      "execution_count": null,
      "metadata": {
        "id": "x5lYt2nIMmpO",
        "colab": {
          "base_uri": "https://localhost:8080/"
        },
        "outputId": "db64fcff-59e5-4e22-b14a-4f6f58821e2d"
      },
      "outputs": [
        {
          "output_type": "execute_result",
          "data": {
            "text/plain": [
              "True     537703\n",
              "False     41961\n",
              "Name: lender_servicing_lender_state_city, dtype: int64"
            ]
          },
          "metadata": {},
          "execution_count": 105
        }
      ],
      "source": [
        "combined_data['lender_servicing_lender_state_city'].value_counts()"
      ]
    },
    {
      "cell_type": "code",
      "execution_count": null,
      "metadata": {
        "id": "CI-0pQMHK_pZ"
      },
      "outputs": [],
      "source": [
        ""
      ]
    },
    {
      "cell_type": "code",
      "execution_count": null,
      "metadata": {
        "id": "V3tXLWlo8ydr",
        "colab": {
          "base_uri": "https://localhost:8080/",
          "height": 175
        },
        "outputId": "cb69461d-dfea-4d10-8b1a-4cf4d0945760"
      },
      "outputs": [
        {
          "output_type": "execute_result",
          "data": {
            "text/plain": [
              "lender_servicing_lender_state_city  False    True     All\n",
              "Removed                                                  \n",
              "False                               41520  512308  553828\n",
              "True                                  441   25395   25836\n",
              "All                                 41961  537703  579664"
            ],
            "text/html": [
              "\n",
              "  <div id=\"df-b6519aee-96e1-4329-928f-ae8e5d9b2112\">\n",
              "    <div class=\"colab-df-container\">\n",
              "      <div>\n",
              "<style scoped>\n",
              "    .dataframe tbody tr th:only-of-type {\n",
              "        vertical-align: middle;\n",
              "    }\n",
              "\n",
              "    .dataframe tbody tr th {\n",
              "        vertical-align: top;\n",
              "    }\n",
              "\n",
              "    .dataframe thead th {\n",
              "        text-align: right;\n",
              "    }\n",
              "</style>\n",
              "<table border=\"1\" class=\"dataframe\">\n",
              "  <thead>\n",
              "    <tr style=\"text-align: right;\">\n",
              "      <th>lender_servicing_lender_state_city</th>\n",
              "      <th>False</th>\n",
              "      <th>True</th>\n",
              "      <th>All</th>\n",
              "    </tr>\n",
              "    <tr>\n",
              "      <th>Removed</th>\n",
              "      <th></th>\n",
              "      <th></th>\n",
              "      <th></th>\n",
              "    </tr>\n",
              "  </thead>\n",
              "  <tbody>\n",
              "    <tr>\n",
              "      <th>False</th>\n",
              "      <td>41520</td>\n",
              "      <td>512308</td>\n",
              "      <td>553828</td>\n",
              "    </tr>\n",
              "    <tr>\n",
              "      <th>True</th>\n",
              "      <td>441</td>\n",
              "      <td>25395</td>\n",
              "      <td>25836</td>\n",
              "    </tr>\n",
              "    <tr>\n",
              "      <th>All</th>\n",
              "      <td>41961</td>\n",
              "      <td>537703</td>\n",
              "      <td>579664</td>\n",
              "    </tr>\n",
              "  </tbody>\n",
              "</table>\n",
              "</div>\n",
              "      <button class=\"colab-df-convert\" onclick=\"convertToInteractive('df-b6519aee-96e1-4329-928f-ae8e5d9b2112')\"\n",
              "              title=\"Convert this dataframe to an interactive table.\"\n",
              "              style=\"display:none;\">\n",
              "        \n",
              "  <svg xmlns=\"http://www.w3.org/2000/svg\" height=\"24px\"viewBox=\"0 0 24 24\"\n",
              "       width=\"24px\">\n",
              "    <path d=\"M0 0h24v24H0V0z\" fill=\"none\"/>\n",
              "    <path d=\"M18.56 5.44l.94 2.06.94-2.06 2.06-.94-2.06-.94-.94-2.06-.94 2.06-2.06.94zm-11 1L8.5 8.5l.94-2.06 2.06-.94-2.06-.94L8.5 2.5l-.94 2.06-2.06.94zm10 10l.94 2.06.94-2.06 2.06-.94-2.06-.94-.94-2.06-.94 2.06-2.06.94z\"/><path d=\"M17.41 7.96l-1.37-1.37c-.4-.4-.92-.59-1.43-.59-.52 0-1.04.2-1.43.59L10.3 9.45l-7.72 7.72c-.78.78-.78 2.05 0 2.83L4 21.41c.39.39.9.59 1.41.59.51 0 1.02-.2 1.41-.59l7.78-7.78 2.81-2.81c.8-.78.8-2.07 0-2.86zM5.41 20L4 18.59l7.72-7.72 1.47 1.35L5.41 20z\"/>\n",
              "  </svg>\n",
              "      </button>\n",
              "      \n",
              "  <style>\n",
              "    .colab-df-container {\n",
              "      display:flex;\n",
              "      flex-wrap:wrap;\n",
              "      gap: 12px;\n",
              "    }\n",
              "\n",
              "    .colab-df-convert {\n",
              "      background-color: #E8F0FE;\n",
              "      border: none;\n",
              "      border-radius: 50%;\n",
              "      cursor: pointer;\n",
              "      display: none;\n",
              "      fill: #1967D2;\n",
              "      height: 32px;\n",
              "      padding: 0 0 0 0;\n",
              "      width: 32px;\n",
              "    }\n",
              "\n",
              "    .colab-df-convert:hover {\n",
              "      background-color: #E2EBFA;\n",
              "      box-shadow: 0px 1px 2px rgba(60, 64, 67, 0.3), 0px 1px 3px 1px rgba(60, 64, 67, 0.15);\n",
              "      fill: #174EA6;\n",
              "    }\n",
              "\n",
              "    [theme=dark] .colab-df-convert {\n",
              "      background-color: #3B4455;\n",
              "      fill: #D2E3FC;\n",
              "    }\n",
              "\n",
              "    [theme=dark] .colab-df-convert:hover {\n",
              "      background-color: #434B5C;\n",
              "      box-shadow: 0px 1px 3px 1px rgba(0, 0, 0, 0.15);\n",
              "      filter: drop-shadow(0px 1px 2px rgba(0, 0, 0, 0.3));\n",
              "      fill: #FFFFFF;\n",
              "    }\n",
              "  </style>\n",
              "\n",
              "      <script>\n",
              "        const buttonEl =\n",
              "          document.querySelector('#df-b6519aee-96e1-4329-928f-ae8e5d9b2112 button.colab-df-convert');\n",
              "        buttonEl.style.display =\n",
              "          google.colab.kernel.accessAllowed ? 'block' : 'none';\n",
              "\n",
              "        async function convertToInteractive(key) {\n",
              "          const element = document.querySelector('#df-b6519aee-96e1-4329-928f-ae8e5d9b2112');\n",
              "          const dataTable =\n",
              "            await google.colab.kernel.invokeFunction('convertToInteractive',\n",
              "                                                     [key], {});\n",
              "          if (!dataTable) return;\n",
              "\n",
              "          const docLinkHtml = 'Like what you see? Visit the ' +\n",
              "            '<a target=\"_blank\" href=https://colab.research.google.com/notebooks/data_table.ipynb>data table notebook</a>'\n",
              "            + ' to learn more about interactive tables.';\n",
              "          element.innerHTML = '';\n",
              "          dataTable['output_type'] = 'display_data';\n",
              "          await google.colab.output.renderOutput(dataTable, element);\n",
              "          const docLink = document.createElement('div');\n",
              "          docLink.innerHTML = docLinkHtml;\n",
              "          element.appendChild(docLink);\n",
              "        }\n",
              "      </script>\n",
              "    </div>\n",
              "  </div>\n",
              "  "
            ]
          },
          "metadata": {},
          "execution_count": 106
        }
      ],
      "source": [
        "tab=pd.crosstab(index=combined_data['Removed'], columns=combined_data['lender_servicing_lender_state_city'], margins=True)\n",
        "tab"
      ]
    },
    {
      "cell_type": "code",
      "execution_count": null,
      "metadata": {
        "id": "R9kpdGgaMQi0",
        "colab": {
          "base_uri": "https://localhost:8080/",
          "height": 144
        },
        "outputId": "0143ee51-8750-4158-8530-0162aba05a6c"
      },
      "outputs": [
        {
          "output_type": "execute_result",
          "data": {
            "text/plain": [
              "               Top_launched_year_False  Top_launched_year_True  rowtotal\n",
              "Removed_False                  0.98949                0.952771  0.955429\n",
              "Removed_True                   0.01051                0.047229  0.044571\n",
              "coltotal                       1.00000                1.000000  1.000000"
            ],
            "text/html": [
              "\n",
              "  <div id=\"df-e3a8b048-caa6-4aef-8a5c-699ab6f26b61\">\n",
              "    <div class=\"colab-df-container\">\n",
              "      <div>\n",
              "<style scoped>\n",
              "    .dataframe tbody tr th:only-of-type {\n",
              "        vertical-align: middle;\n",
              "    }\n",
              "\n",
              "    .dataframe tbody tr th {\n",
              "        vertical-align: top;\n",
              "    }\n",
              "\n",
              "    .dataframe thead th {\n",
              "        text-align: right;\n",
              "    }\n",
              "</style>\n",
              "<table border=\"1\" class=\"dataframe\">\n",
              "  <thead>\n",
              "    <tr style=\"text-align: right;\">\n",
              "      <th></th>\n",
              "      <th>Top_launched_year_False</th>\n",
              "      <th>Top_launched_year_True</th>\n",
              "      <th>rowtotal</th>\n",
              "    </tr>\n",
              "  </thead>\n",
              "  <tbody>\n",
              "    <tr>\n",
              "      <th>Removed_False</th>\n",
              "      <td>0.98949</td>\n",
              "      <td>0.952771</td>\n",
              "      <td>0.955429</td>\n",
              "    </tr>\n",
              "    <tr>\n",
              "      <th>Removed_True</th>\n",
              "      <td>0.01051</td>\n",
              "      <td>0.047229</td>\n",
              "      <td>0.044571</td>\n",
              "    </tr>\n",
              "    <tr>\n",
              "      <th>coltotal</th>\n",
              "      <td>1.00000</td>\n",
              "      <td>1.000000</td>\n",
              "      <td>1.000000</td>\n",
              "    </tr>\n",
              "  </tbody>\n",
              "</table>\n",
              "</div>\n",
              "      <button class=\"colab-df-convert\" onclick=\"convertToInteractive('df-e3a8b048-caa6-4aef-8a5c-699ab6f26b61')\"\n",
              "              title=\"Convert this dataframe to an interactive table.\"\n",
              "              style=\"display:none;\">\n",
              "        \n",
              "  <svg xmlns=\"http://www.w3.org/2000/svg\" height=\"24px\"viewBox=\"0 0 24 24\"\n",
              "       width=\"24px\">\n",
              "    <path d=\"M0 0h24v24H0V0z\" fill=\"none\"/>\n",
              "    <path d=\"M18.56 5.44l.94 2.06.94-2.06 2.06-.94-2.06-.94-.94-2.06-.94 2.06-2.06.94zm-11 1L8.5 8.5l.94-2.06 2.06-.94-2.06-.94L8.5 2.5l-.94 2.06-2.06.94zm10 10l.94 2.06.94-2.06 2.06-.94-2.06-.94-.94-2.06-.94 2.06-2.06.94z\"/><path d=\"M17.41 7.96l-1.37-1.37c-.4-.4-.92-.59-1.43-.59-.52 0-1.04.2-1.43.59L10.3 9.45l-7.72 7.72c-.78.78-.78 2.05 0 2.83L4 21.41c.39.39.9.59 1.41.59.51 0 1.02-.2 1.41-.59l7.78-7.78 2.81-2.81c.8-.78.8-2.07 0-2.86zM5.41 20L4 18.59l7.72-7.72 1.47 1.35L5.41 20z\"/>\n",
              "  </svg>\n",
              "      </button>\n",
              "      \n",
              "  <style>\n",
              "    .colab-df-container {\n",
              "      display:flex;\n",
              "      flex-wrap:wrap;\n",
              "      gap: 12px;\n",
              "    }\n",
              "\n",
              "    .colab-df-convert {\n",
              "      background-color: #E8F0FE;\n",
              "      border: none;\n",
              "      border-radius: 50%;\n",
              "      cursor: pointer;\n",
              "      display: none;\n",
              "      fill: #1967D2;\n",
              "      height: 32px;\n",
              "      padding: 0 0 0 0;\n",
              "      width: 32px;\n",
              "    }\n",
              "\n",
              "    .colab-df-convert:hover {\n",
              "      background-color: #E2EBFA;\n",
              "      box-shadow: 0px 1px 2px rgba(60, 64, 67, 0.3), 0px 1px 3px 1px rgba(60, 64, 67, 0.15);\n",
              "      fill: #174EA6;\n",
              "    }\n",
              "\n",
              "    [theme=dark] .colab-df-convert {\n",
              "      background-color: #3B4455;\n",
              "      fill: #D2E3FC;\n",
              "    }\n",
              "\n",
              "    [theme=dark] .colab-df-convert:hover {\n",
              "      background-color: #434B5C;\n",
              "      box-shadow: 0px 1px 3px 1px rgba(0, 0, 0, 0.15);\n",
              "      filter: drop-shadow(0px 1px 2px rgba(0, 0, 0, 0.3));\n",
              "      fill: #FFFFFF;\n",
              "    }\n",
              "  </style>\n",
              "\n",
              "      <script>\n",
              "        const buttonEl =\n",
              "          document.querySelector('#df-e3a8b048-caa6-4aef-8a5c-699ab6f26b61 button.colab-df-convert');\n",
              "        buttonEl.style.display =\n",
              "          google.colab.kernel.accessAllowed ? 'block' : 'none';\n",
              "\n",
              "        async function convertToInteractive(key) {\n",
              "          const element = document.querySelector('#df-e3a8b048-caa6-4aef-8a5c-699ab6f26b61');\n",
              "          const dataTable =\n",
              "            await google.colab.kernel.invokeFunction('convertToInteractive',\n",
              "                                                     [key], {});\n",
              "          if (!dataTable) return;\n",
              "\n",
              "          const docLinkHtml = 'Like what you see? Visit the ' +\n",
              "            '<a target=\"_blank\" href=https://colab.research.google.com/notebooks/data_table.ipynb>data table notebook</a>'\n",
              "            + ' to learn more about interactive tables.';\n",
              "          element.innerHTML = '';\n",
              "          dataTable['output_type'] = 'display_data';\n",
              "          await google.colab.output.renderOutput(dataTable, element);\n",
              "          const docLink = document.createElement('div');\n",
              "          docLink.innerHTML = docLinkHtml;\n",
              "          element.appendChild(docLink);\n",
              "        }\n",
              "      </script>\n",
              "    </div>\n",
              "  </div>\n",
              "  "
            ]
          },
          "metadata": {},
          "execution_count": 107
        }
      ],
      "source": [
        "tab.columns = ['Top_launched_year_False','Top_launched_year_True',\"rowtotal\"]\n",
        "tab.index= ['Removed_False','Removed_True',\"coltotal\"]\n",
        "\n",
        "tab/tab.loc[\"coltotal\"]"
      ]
    },
    {
      "cell_type": "code",
      "execution_count": null,
      "metadata": {
        "id": "50doVh4N_Qj3",
        "colab": {
          "base_uri": "https://localhost:8080/"
        },
        "outputId": "627e032c-f9d6-4f69-f263-cd22bf66dddf"
      },
      "outputs": [
        {
          "output_type": "execute_result",
          "data": {
            "text/plain": [
              "Index(['name', 'amount', 'state', 'address', 'city', 'zip', 'naics_code',\n",
              "       'business_type', 'jobs_retained', 'date_approved', 'lender',\n",
              "       'congressional_district', 'loan_number', 'sba_office_code',\n",
              "       'processing_method', 'loan_status', 'term', 'sba_guaranty_percentage',\n",
              "       'initial_approval_amount', 'current_approval_amount',\n",
              "       'undisbursed_amount', 'servicing_lender_location_id',\n",
              "       'servicing_lender_name', 'servicing_lender_address',\n",
              "       'servicing_lender_city', 'servicing_lender_state',\n",
              "       'servicing_lender_zip', 'rural_urban_indicator', 'hubzone_indicator',\n",
              "       'business_age_description', 'project_city', 'project_county_name',\n",
              "       'project_state', 'project_zip', 'originating_lender_city',\n",
              "       'originating_lender_state', 'loan_status_date',\n",
              "       'originating_lender_location_id', 'lmi_indicator', 'forgiveness_amount',\n",
              "       'forgiveness_date', 'Removed', 'amount_per_join', 'Date_launched',\n",
              "       'launched_year', 'launched_month', 'Difference_current_initial_amount',\n",
              "       'naics_code_name', 'city_name_top', 'city_name', 'servicing_lender_top',\n",
              "       'servicing_lender_state_top', 'servicing_lender_city_top',\n",
              "       'project_city_top', 'project_county_top', 'lender_state_top',\n",
              "       'lender_city_top', 'lender_servicing_lender_city',\n",
              "       'lender_servicing_lender_state', 'lender_servicing_lender_state_city'],\n",
              "      dtype='object')"
            ]
          },
          "metadata": {},
          "execution_count": 108
        }
      ],
      "source": [
        "combined_data.columns"
      ]
    },
    {
      "cell_type": "code",
      "execution_count": null,
      "metadata": {
        "id": "fn4DPJVpQ0-0"
      },
      "outputs": [],
      "source": [
        "categorical_data = pd.DataFrame(combined_data,columns=['launched_month','launched_year','naics_code_name', 'business_type', 'city_name_top', 'servicing_lender_top', 'servicing_lender_state_top', 'servicing_lender_city_top', 'project_city_top', 'project_county_top'\n",
        ", 'lender_state_top', 'lender_city_top', 'lender_servicing_lender_state_city'])"
      ]
    },
    {
      "cell_type": "code",
      "execution_count": null,
      "metadata": {
        "id": "q7x-n8Esc6Fu",
        "colab": {
          "base_uri": "https://localhost:8080/",
          "height": 572
        },
        "outputId": "ff136366-29dd-49a6-e4f3-33ed20d26fb8"
      },
      "outputs": [
        {
          "output_type": "execute_result",
          "data": {
            "text/plain": [
              "        launched_month  launched_year  \\\n",
              "0                    2           2021   \n",
              "1                    1           2021   \n",
              "2                    3           2021   \n",
              "3                    2           2021   \n",
              "4                    4           2020   \n",
              "...                ...            ...   \n",
              "579659               4           2021   \n",
              "579660               5           2021   \n",
              "579661               4           2021   \n",
              "579662               5           2021   \n",
              "579663               5           2021   \n",
              "\n",
              "                                          naics_code_name  \\\n",
              "0                                           Manufacturing   \n",
              "1        Professional, Scientific, and Technical Services   \n",
              "2                                            Construction   \n",
              "3                                           Manufacturing   \n",
              "4                                            Retail Trade   \n",
              "...                                                   ...   \n",
              "579659                  Health Care and Social Assistance   \n",
              "579660                     Transportation and Warehousing   \n",
              "579661                     Transportation and Warehousing   \n",
              "579662  Administrative and Support and Waste Managemen...   \n",
              "579663  Administrative and Support and Waste Managemen...   \n",
              "\n",
              "                          business_type city_name_top servicing_lender_top  \\\n",
              "0                           Corporation      Top_city                Other   \n",
              "1                           Corporation         Other                  Top   \n",
              "2                           Corporation      Top_city                  Top   \n",
              "3                           Corporation         Other                  Top   \n",
              "4                           Partnership         Other                Other   \n",
              "...                                 ...           ...                  ...   \n",
              "579659              Sole Proprietorship         Other                  Top   \n",
              "579660          Independent Contractors      Top_city                  Top   \n",
              "579661          Independent Contractors      Top_city                  Top   \n",
              "579662  Limited  Liability Company(LLC)         Other                  Top   \n",
              "579663          Independent Contractors         Other                  Top   \n",
              "\n",
              "       servicing_lender_state_top servicing_lender_city_top project_city_top  \\\n",
              "0                           Other                     Other            Other   \n",
              "1                             Top                       Top            Other   \n",
              "2                             Top                       Top            Other   \n",
              "3                             Top                       Top            Other   \n",
              "4                             Top                       Top            Other   \n",
              "...                           ...                       ...              ...   \n",
              "579659                        Top                       Top            Other   \n",
              "579660                        Top                       Top         Top_city   \n",
              "579661                        Top                       Top         Top_city   \n",
              "579662                        Top                       Top            Other   \n",
              "579663                        Top                       Top            Other   \n",
              "\n",
              "       project_county_top lender_state_top lender_city_top  \\\n",
              "0                   Other            Other           Other   \n",
              "1                     Top              Top             Top   \n",
              "2                   Other              Top             Top   \n",
              "3                   Other              Top             Top   \n",
              "4                   Other              Top             Top   \n",
              "...                   ...              ...             ...   \n",
              "579659              Other              Top             Top   \n",
              "579660                Top              Top             Top   \n",
              "579661                Top              Top             Top   \n",
              "579662              Other              Top             Top   \n",
              "579663              Other              Top             Top   \n",
              "\n",
              "        lender_servicing_lender_state_city  \n",
              "0                                     True  \n",
              "1                                     True  \n",
              "2                                     True  \n",
              "3                                     True  \n",
              "4                                     True  \n",
              "...                                    ...  \n",
              "579659                                True  \n",
              "579660                                True  \n",
              "579661                                True  \n",
              "579662                                True  \n",
              "579663                                True  \n",
              "\n",
              "[579664 rows x 13 columns]"
            ],
            "text/html": [
              "\n",
              "  <div id=\"df-588358ce-dcb7-4149-a786-d6ef2364d1e3\">\n",
              "    <div class=\"colab-df-container\">\n",
              "      <div>\n",
              "<style scoped>\n",
              "    .dataframe tbody tr th:only-of-type {\n",
              "        vertical-align: middle;\n",
              "    }\n",
              "\n",
              "    .dataframe tbody tr th {\n",
              "        vertical-align: top;\n",
              "    }\n",
              "\n",
              "    .dataframe thead th {\n",
              "        text-align: right;\n",
              "    }\n",
              "</style>\n",
              "<table border=\"1\" class=\"dataframe\">\n",
              "  <thead>\n",
              "    <tr style=\"text-align: right;\">\n",
              "      <th></th>\n",
              "      <th>launched_month</th>\n",
              "      <th>launched_year</th>\n",
              "      <th>naics_code_name</th>\n",
              "      <th>business_type</th>\n",
              "      <th>city_name_top</th>\n",
              "      <th>servicing_lender_top</th>\n",
              "      <th>servicing_lender_state_top</th>\n",
              "      <th>servicing_lender_city_top</th>\n",
              "      <th>project_city_top</th>\n",
              "      <th>project_county_top</th>\n",
              "      <th>lender_state_top</th>\n",
              "      <th>lender_city_top</th>\n",
              "      <th>lender_servicing_lender_state_city</th>\n",
              "    </tr>\n",
              "  </thead>\n",
              "  <tbody>\n",
              "    <tr>\n",
              "      <th>0</th>\n",
              "      <td>2</td>\n",
              "      <td>2021</td>\n",
              "      <td>Manufacturing</td>\n",
              "      <td>Corporation</td>\n",
              "      <td>Top_city</td>\n",
              "      <td>Other</td>\n",
              "      <td>Other</td>\n",
              "      <td>Other</td>\n",
              "      <td>Other</td>\n",
              "      <td>Other</td>\n",
              "      <td>Other</td>\n",
              "      <td>Other</td>\n",
              "      <td>True</td>\n",
              "    </tr>\n",
              "    <tr>\n",
              "      <th>1</th>\n",
              "      <td>1</td>\n",
              "      <td>2021</td>\n",
              "      <td>Professional, Scientific, and Technical Services</td>\n",
              "      <td>Corporation</td>\n",
              "      <td>Other</td>\n",
              "      <td>Top</td>\n",
              "      <td>Top</td>\n",
              "      <td>Top</td>\n",
              "      <td>Other</td>\n",
              "      <td>Top</td>\n",
              "      <td>Top</td>\n",
              "      <td>Top</td>\n",
              "      <td>True</td>\n",
              "    </tr>\n",
              "    <tr>\n",
              "      <th>2</th>\n",
              "      <td>3</td>\n",
              "      <td>2021</td>\n",
              "      <td>Construction</td>\n",
              "      <td>Corporation</td>\n",
              "      <td>Top_city</td>\n",
              "      <td>Top</td>\n",
              "      <td>Top</td>\n",
              "      <td>Top</td>\n",
              "      <td>Other</td>\n",
              "      <td>Other</td>\n",
              "      <td>Top</td>\n",
              "      <td>Top</td>\n",
              "      <td>True</td>\n",
              "    </tr>\n",
              "    <tr>\n",
              "      <th>3</th>\n",
              "      <td>2</td>\n",
              "      <td>2021</td>\n",
              "      <td>Manufacturing</td>\n",
              "      <td>Corporation</td>\n",
              "      <td>Other</td>\n",
              "      <td>Top</td>\n",
              "      <td>Top</td>\n",
              "      <td>Top</td>\n",
              "      <td>Other</td>\n",
              "      <td>Other</td>\n",
              "      <td>Top</td>\n",
              "      <td>Top</td>\n",
              "      <td>True</td>\n",
              "    </tr>\n",
              "    <tr>\n",
              "      <th>4</th>\n",
              "      <td>4</td>\n",
              "      <td>2020</td>\n",
              "      <td>Retail Trade</td>\n",
              "      <td>Partnership</td>\n",
              "      <td>Other</td>\n",
              "      <td>Other</td>\n",
              "      <td>Top</td>\n",
              "      <td>Top</td>\n",
              "      <td>Other</td>\n",
              "      <td>Other</td>\n",
              "      <td>Top</td>\n",
              "      <td>Top</td>\n",
              "      <td>True</td>\n",
              "    </tr>\n",
              "    <tr>\n",
              "      <th>...</th>\n",
              "      <td>...</td>\n",
              "      <td>...</td>\n",
              "      <td>...</td>\n",
              "      <td>...</td>\n",
              "      <td>...</td>\n",
              "      <td>...</td>\n",
              "      <td>...</td>\n",
              "      <td>...</td>\n",
              "      <td>...</td>\n",
              "      <td>...</td>\n",
              "      <td>...</td>\n",
              "      <td>...</td>\n",
              "      <td>...</td>\n",
              "    </tr>\n",
              "    <tr>\n",
              "      <th>579659</th>\n",
              "      <td>4</td>\n",
              "      <td>2021</td>\n",
              "      <td>Health Care and Social Assistance</td>\n",
              "      <td>Sole Proprietorship</td>\n",
              "      <td>Other</td>\n",
              "      <td>Top</td>\n",
              "      <td>Top</td>\n",
              "      <td>Top</td>\n",
              "      <td>Other</td>\n",
              "      <td>Other</td>\n",
              "      <td>Top</td>\n",
              "      <td>Top</td>\n",
              "      <td>True</td>\n",
              "    </tr>\n",
              "    <tr>\n",
              "      <th>579660</th>\n",
              "      <td>5</td>\n",
              "      <td>2021</td>\n",
              "      <td>Transportation and Warehousing</td>\n",
              "      <td>Independent Contractors</td>\n",
              "      <td>Top_city</td>\n",
              "      <td>Top</td>\n",
              "      <td>Top</td>\n",
              "      <td>Top</td>\n",
              "      <td>Top_city</td>\n",
              "      <td>Top</td>\n",
              "      <td>Top</td>\n",
              "      <td>Top</td>\n",
              "      <td>True</td>\n",
              "    </tr>\n",
              "    <tr>\n",
              "      <th>579661</th>\n",
              "      <td>4</td>\n",
              "      <td>2021</td>\n",
              "      <td>Transportation and Warehousing</td>\n",
              "      <td>Independent Contractors</td>\n",
              "      <td>Top_city</td>\n",
              "      <td>Top</td>\n",
              "      <td>Top</td>\n",
              "      <td>Top</td>\n",
              "      <td>Top_city</td>\n",
              "      <td>Top</td>\n",
              "      <td>Top</td>\n",
              "      <td>Top</td>\n",
              "      <td>True</td>\n",
              "    </tr>\n",
              "    <tr>\n",
              "      <th>579662</th>\n",
              "      <td>5</td>\n",
              "      <td>2021</td>\n",
              "      <td>Administrative and Support and Waste Managemen...</td>\n",
              "      <td>Limited  Liability Company(LLC)</td>\n",
              "      <td>Other</td>\n",
              "      <td>Top</td>\n",
              "      <td>Top</td>\n",
              "      <td>Top</td>\n",
              "      <td>Other</td>\n",
              "      <td>Other</td>\n",
              "      <td>Top</td>\n",
              "      <td>Top</td>\n",
              "      <td>True</td>\n",
              "    </tr>\n",
              "    <tr>\n",
              "      <th>579663</th>\n",
              "      <td>5</td>\n",
              "      <td>2021</td>\n",
              "      <td>Administrative and Support and Waste Managemen...</td>\n",
              "      <td>Independent Contractors</td>\n",
              "      <td>Other</td>\n",
              "      <td>Top</td>\n",
              "      <td>Top</td>\n",
              "      <td>Top</td>\n",
              "      <td>Other</td>\n",
              "      <td>Other</td>\n",
              "      <td>Top</td>\n",
              "      <td>Top</td>\n",
              "      <td>True</td>\n",
              "    </tr>\n",
              "  </tbody>\n",
              "</table>\n",
              "<p>579664 rows × 13 columns</p>\n",
              "</div>\n",
              "      <button class=\"colab-df-convert\" onclick=\"convertToInteractive('df-588358ce-dcb7-4149-a786-d6ef2364d1e3')\"\n",
              "              title=\"Convert this dataframe to an interactive table.\"\n",
              "              style=\"display:none;\">\n",
              "        \n",
              "  <svg xmlns=\"http://www.w3.org/2000/svg\" height=\"24px\"viewBox=\"0 0 24 24\"\n",
              "       width=\"24px\">\n",
              "    <path d=\"M0 0h24v24H0V0z\" fill=\"none\"/>\n",
              "    <path d=\"M18.56 5.44l.94 2.06.94-2.06 2.06-.94-2.06-.94-.94-2.06-.94 2.06-2.06.94zm-11 1L8.5 8.5l.94-2.06 2.06-.94-2.06-.94L8.5 2.5l-.94 2.06-2.06.94zm10 10l.94 2.06.94-2.06 2.06-.94-2.06-.94-.94-2.06-.94 2.06-2.06.94z\"/><path d=\"M17.41 7.96l-1.37-1.37c-.4-.4-.92-.59-1.43-.59-.52 0-1.04.2-1.43.59L10.3 9.45l-7.72 7.72c-.78.78-.78 2.05 0 2.83L4 21.41c.39.39.9.59 1.41.59.51 0 1.02-.2 1.41-.59l7.78-7.78 2.81-2.81c.8-.78.8-2.07 0-2.86zM5.41 20L4 18.59l7.72-7.72 1.47 1.35L5.41 20z\"/>\n",
              "  </svg>\n",
              "      </button>\n",
              "      \n",
              "  <style>\n",
              "    .colab-df-container {\n",
              "      display:flex;\n",
              "      flex-wrap:wrap;\n",
              "      gap: 12px;\n",
              "    }\n",
              "\n",
              "    .colab-df-convert {\n",
              "      background-color: #E8F0FE;\n",
              "      border: none;\n",
              "      border-radius: 50%;\n",
              "      cursor: pointer;\n",
              "      display: none;\n",
              "      fill: #1967D2;\n",
              "      height: 32px;\n",
              "      padding: 0 0 0 0;\n",
              "      width: 32px;\n",
              "    }\n",
              "\n",
              "    .colab-df-convert:hover {\n",
              "      background-color: #E2EBFA;\n",
              "      box-shadow: 0px 1px 2px rgba(60, 64, 67, 0.3), 0px 1px 3px 1px rgba(60, 64, 67, 0.15);\n",
              "      fill: #174EA6;\n",
              "    }\n",
              "\n",
              "    [theme=dark] .colab-df-convert {\n",
              "      background-color: #3B4455;\n",
              "      fill: #D2E3FC;\n",
              "    }\n",
              "\n",
              "    [theme=dark] .colab-df-convert:hover {\n",
              "      background-color: #434B5C;\n",
              "      box-shadow: 0px 1px 3px 1px rgba(0, 0, 0, 0.15);\n",
              "      filter: drop-shadow(0px 1px 2px rgba(0, 0, 0, 0.3));\n",
              "      fill: #FFFFFF;\n",
              "    }\n",
              "  </style>\n",
              "\n",
              "      <script>\n",
              "        const buttonEl =\n",
              "          document.querySelector('#df-588358ce-dcb7-4149-a786-d6ef2364d1e3 button.colab-df-convert');\n",
              "        buttonEl.style.display =\n",
              "          google.colab.kernel.accessAllowed ? 'block' : 'none';\n",
              "\n",
              "        async function convertToInteractive(key) {\n",
              "          const element = document.querySelector('#df-588358ce-dcb7-4149-a786-d6ef2364d1e3');\n",
              "          const dataTable =\n",
              "            await google.colab.kernel.invokeFunction('convertToInteractive',\n",
              "                                                     [key], {});\n",
              "          if (!dataTable) return;\n",
              "\n",
              "          const docLinkHtml = 'Like what you see? Visit the ' +\n",
              "            '<a target=\"_blank\" href=https://colab.research.google.com/notebooks/data_table.ipynb>data table notebook</a>'\n",
              "            + ' to learn more about interactive tables.';\n",
              "          element.innerHTML = '';\n",
              "          dataTable['output_type'] = 'display_data';\n",
              "          await google.colab.output.renderOutput(dataTable, element);\n",
              "          const docLink = document.createElement('div');\n",
              "          docLink.innerHTML = docLinkHtml;\n",
              "          element.appendChild(docLink);\n",
              "        }\n",
              "      </script>\n",
              "    </div>\n",
              "  </div>\n",
              "  "
            ]
          },
          "metadata": {},
          "execution_count": 110
        }
      ],
      "source": [
        "categorical_data"
      ]
    },
    {
      "cell_type": "code",
      "execution_count": null,
      "metadata": {
        "id": "w6X_L0ySbyCF"
      },
      "outputs": [],
      "source": [
        "categorical_data_dummy = pd.get_dummies(categorical_data,\n",
        "                     columns = ['launched_month','launched_year','naics_code_name', 'business_type', 'city_name_top', 'servicing_lender_top', 'servicing_lender_state_top', 'servicing_lender_city_top', 'project_city_top', 'project_county_top'\n",
        ", 'lender_state_top', 'lender_city_top', 'lender_servicing_lender_state_city'])"
      ]
    },
    {
      "cell_type": "code",
      "execution_count": null,
      "metadata": {
        "id": "LVqgCOdjc5Rl",
        "colab": {
          "base_uri": "https://localhost:8080/",
          "height": 488
        },
        "outputId": "c1fda0f2-0c3e-47bd-b498-85bed6f6c828"
      },
      "outputs": [
        {
          "output_type": "execute_result",
          "data": {
            "text/plain": [
              "        launched_month_1  launched_month_2  launched_month_3  \\\n",
              "0                      0                 1                 0   \n",
              "1                      1                 0                 0   \n",
              "2                      0                 0                 1   \n",
              "3                      0                 1                 0   \n",
              "4                      0                 0                 0   \n",
              "...                  ...               ...               ...   \n",
              "579659                 0                 0                 0   \n",
              "579660                 0                 0                 0   \n",
              "579661                 0                 0                 0   \n",
              "579662                 0                 0                 0   \n",
              "579663                 0                 0                 0   \n",
              "\n",
              "        launched_month_4  launched_month_5  launched_month_6  \\\n",
              "0                      0                 0                 0   \n",
              "1                      0                 0                 0   \n",
              "2                      0                 0                 0   \n",
              "3                      0                 0                 0   \n",
              "4                      1                 0                 0   \n",
              "...                  ...               ...               ...   \n",
              "579659                 1                 0                 0   \n",
              "579660                 0                 1                 0   \n",
              "579661                 1                 0                 0   \n",
              "579662                 0                 1                 0   \n",
              "579663                 0                 1                 0   \n",
              "\n",
              "        launched_month_7  launched_month_8  launched_year_2020  \\\n",
              "0                      0                 0                   0   \n",
              "1                      0                 0                   0   \n",
              "2                      0                 0                   0   \n",
              "3                      0                 0                   0   \n",
              "4                      0                 0                   1   \n",
              "...                  ...               ...                 ...   \n",
              "579659                 0                 0                   0   \n",
              "579660                 0                 0                   0   \n",
              "579661                 0                 0                   0   \n",
              "579662                 0                 0                   0   \n",
              "579663                 0                 0                   0   \n",
              "\n",
              "        launched_year_2021  ...  project_city_top_Other  \\\n",
              "0                        1  ...                       1   \n",
              "1                        1  ...                       1   \n",
              "2                        1  ...                       1   \n",
              "3                        1  ...                       1   \n",
              "4                        0  ...                       1   \n",
              "...                    ...  ...                     ...   \n",
              "579659                   1  ...                       1   \n",
              "579660                   1  ...                       0   \n",
              "579661                   1  ...                       0   \n",
              "579662                   1  ...                       1   \n",
              "579663                   1  ...                       1   \n",
              "\n",
              "        project_city_top_Top_city  project_county_top_Other  \\\n",
              "0                               0                         1   \n",
              "1                               0                         0   \n",
              "2                               0                         1   \n",
              "3                               0                         1   \n",
              "4                               0                         1   \n",
              "...                           ...                       ...   \n",
              "579659                          0                         1   \n",
              "579660                          1                         0   \n",
              "579661                          1                         0   \n",
              "579662                          0                         1   \n",
              "579663                          0                         1   \n",
              "\n",
              "        project_county_top_Top  lender_state_top_Other  lender_state_top_Top  \\\n",
              "0                            0                       1                     0   \n",
              "1                            1                       0                     1   \n",
              "2                            0                       0                     1   \n",
              "3                            0                       0                     1   \n",
              "4                            0                       0                     1   \n",
              "...                        ...                     ...                   ...   \n",
              "579659                       0                       0                     1   \n",
              "579660                       1                       0                     1   \n",
              "579661                       1                       0                     1   \n",
              "579662                       0                       0                     1   \n",
              "579663                       0                       0                     1   \n",
              "\n",
              "        lender_city_top_Other  lender_city_top_Top  \\\n",
              "0                           1                    0   \n",
              "1                           0                    1   \n",
              "2                           0                    1   \n",
              "3                           0                    1   \n",
              "4                           0                    1   \n",
              "...                       ...                  ...   \n",
              "579659                      0                    1   \n",
              "579660                      0                    1   \n",
              "579661                      0                    1   \n",
              "579662                      0                    1   \n",
              "579663                      0                    1   \n",
              "\n",
              "        lender_servicing_lender_state_city_False  \\\n",
              "0                                              0   \n",
              "1                                              0   \n",
              "2                                              0   \n",
              "3                                              0   \n",
              "4                                              0   \n",
              "...                                          ...   \n",
              "579659                                         0   \n",
              "579660                                         0   \n",
              "579661                                         0   \n",
              "579662                                         0   \n",
              "579663                                         0   \n",
              "\n",
              "        lender_servicing_lender_state_city_True  \n",
              "0                                             1  \n",
              "1                                             1  \n",
              "2                                             1  \n",
              "3                                             1  \n",
              "4                                             1  \n",
              "...                                         ...  \n",
              "579659                                        1  \n",
              "579660                                        1  \n",
              "579661                                        1  \n",
              "579662                                        1  \n",
              "579663                                        1  \n",
              "\n",
              "[579664 rows x 67 columns]"
            ],
            "text/html": [
              "\n",
              "  <div id=\"df-f7bd600d-d4e3-48b2-8be6-d18e09542e06\">\n",
              "    <div class=\"colab-df-container\">\n",
              "      <div>\n",
              "<style scoped>\n",
              "    .dataframe tbody tr th:only-of-type {\n",
              "        vertical-align: middle;\n",
              "    }\n",
              "\n",
              "    .dataframe tbody tr th {\n",
              "        vertical-align: top;\n",
              "    }\n",
              "\n",
              "    .dataframe thead th {\n",
              "        text-align: right;\n",
              "    }\n",
              "</style>\n",
              "<table border=\"1\" class=\"dataframe\">\n",
              "  <thead>\n",
              "    <tr style=\"text-align: right;\">\n",
              "      <th></th>\n",
              "      <th>launched_month_1</th>\n",
              "      <th>launched_month_2</th>\n",
              "      <th>launched_month_3</th>\n",
              "      <th>launched_month_4</th>\n",
              "      <th>launched_month_5</th>\n",
              "      <th>launched_month_6</th>\n",
              "      <th>launched_month_7</th>\n",
              "      <th>launched_month_8</th>\n",
              "      <th>launched_year_2020</th>\n",
              "      <th>launched_year_2021</th>\n",
              "      <th>...</th>\n",
              "      <th>project_city_top_Other</th>\n",
              "      <th>project_city_top_Top_city</th>\n",
              "      <th>project_county_top_Other</th>\n",
              "      <th>project_county_top_Top</th>\n",
              "      <th>lender_state_top_Other</th>\n",
              "      <th>lender_state_top_Top</th>\n",
              "      <th>lender_city_top_Other</th>\n",
              "      <th>lender_city_top_Top</th>\n",
              "      <th>lender_servicing_lender_state_city_False</th>\n",
              "      <th>lender_servicing_lender_state_city_True</th>\n",
              "    </tr>\n",
              "  </thead>\n",
              "  <tbody>\n",
              "    <tr>\n",
              "      <th>0</th>\n",
              "      <td>0</td>\n",
              "      <td>1</td>\n",
              "      <td>0</td>\n",
              "      <td>0</td>\n",
              "      <td>0</td>\n",
              "      <td>0</td>\n",
              "      <td>0</td>\n",
              "      <td>0</td>\n",
              "      <td>0</td>\n",
              "      <td>1</td>\n",
              "      <td>...</td>\n",
              "      <td>1</td>\n",
              "      <td>0</td>\n",
              "      <td>1</td>\n",
              "      <td>0</td>\n",
              "      <td>1</td>\n",
              "      <td>0</td>\n",
              "      <td>1</td>\n",
              "      <td>0</td>\n",
              "      <td>0</td>\n",
              "      <td>1</td>\n",
              "    </tr>\n",
              "    <tr>\n",
              "      <th>1</th>\n",
              "      <td>1</td>\n",
              "      <td>0</td>\n",
              "      <td>0</td>\n",
              "      <td>0</td>\n",
              "      <td>0</td>\n",
              "      <td>0</td>\n",
              "      <td>0</td>\n",
              "      <td>0</td>\n",
              "      <td>0</td>\n",
              "      <td>1</td>\n",
              "      <td>...</td>\n",
              "      <td>1</td>\n",
              "      <td>0</td>\n",
              "      <td>0</td>\n",
              "      <td>1</td>\n",
              "      <td>0</td>\n",
              "      <td>1</td>\n",
              "      <td>0</td>\n",
              "      <td>1</td>\n",
              "      <td>0</td>\n",
              "      <td>1</td>\n",
              "    </tr>\n",
              "    <tr>\n",
              "      <th>2</th>\n",
              "      <td>0</td>\n",
              "      <td>0</td>\n",
              "      <td>1</td>\n",
              "      <td>0</td>\n",
              "      <td>0</td>\n",
              "      <td>0</td>\n",
              "      <td>0</td>\n",
              "      <td>0</td>\n",
              "      <td>0</td>\n",
              "      <td>1</td>\n",
              "      <td>...</td>\n",
              "      <td>1</td>\n",
              "      <td>0</td>\n",
              "      <td>1</td>\n",
              "      <td>0</td>\n",
              "      <td>0</td>\n",
              "      <td>1</td>\n",
              "      <td>0</td>\n",
              "      <td>1</td>\n",
              "      <td>0</td>\n",
              "      <td>1</td>\n",
              "    </tr>\n",
              "    <tr>\n",
              "      <th>3</th>\n",
              "      <td>0</td>\n",
              "      <td>1</td>\n",
              "      <td>0</td>\n",
              "      <td>0</td>\n",
              "      <td>0</td>\n",
              "      <td>0</td>\n",
              "      <td>0</td>\n",
              "      <td>0</td>\n",
              "      <td>0</td>\n",
              "      <td>1</td>\n",
              "      <td>...</td>\n",
              "      <td>1</td>\n",
              "      <td>0</td>\n",
              "      <td>1</td>\n",
              "      <td>0</td>\n",
              "      <td>0</td>\n",
              "      <td>1</td>\n",
              "      <td>0</td>\n",
              "      <td>1</td>\n",
              "      <td>0</td>\n",
              "      <td>1</td>\n",
              "    </tr>\n",
              "    <tr>\n",
              "      <th>4</th>\n",
              "      <td>0</td>\n",
              "      <td>0</td>\n",
              "      <td>0</td>\n",
              "      <td>1</td>\n",
              "      <td>0</td>\n",
              "      <td>0</td>\n",
              "      <td>0</td>\n",
              "      <td>0</td>\n",
              "      <td>1</td>\n",
              "      <td>0</td>\n",
              "      <td>...</td>\n",
              "      <td>1</td>\n",
              "      <td>0</td>\n",
              "      <td>1</td>\n",
              "      <td>0</td>\n",
              "      <td>0</td>\n",
              "      <td>1</td>\n",
              "      <td>0</td>\n",
              "      <td>1</td>\n",
              "      <td>0</td>\n",
              "      <td>1</td>\n",
              "    </tr>\n",
              "    <tr>\n",
              "      <th>...</th>\n",
              "      <td>...</td>\n",
              "      <td>...</td>\n",
              "      <td>...</td>\n",
              "      <td>...</td>\n",
              "      <td>...</td>\n",
              "      <td>...</td>\n",
              "      <td>...</td>\n",
              "      <td>...</td>\n",
              "      <td>...</td>\n",
              "      <td>...</td>\n",
              "      <td>...</td>\n",
              "      <td>...</td>\n",
              "      <td>...</td>\n",
              "      <td>...</td>\n",
              "      <td>...</td>\n",
              "      <td>...</td>\n",
              "      <td>...</td>\n",
              "      <td>...</td>\n",
              "      <td>...</td>\n",
              "      <td>...</td>\n",
              "      <td>...</td>\n",
              "    </tr>\n",
              "    <tr>\n",
              "      <th>579659</th>\n",
              "      <td>0</td>\n",
              "      <td>0</td>\n",
              "      <td>0</td>\n",
              "      <td>1</td>\n",
              "      <td>0</td>\n",
              "      <td>0</td>\n",
              "      <td>0</td>\n",
              "      <td>0</td>\n",
              "      <td>0</td>\n",
              "      <td>1</td>\n",
              "      <td>...</td>\n",
              "      <td>1</td>\n",
              "      <td>0</td>\n",
              "      <td>1</td>\n",
              "      <td>0</td>\n",
              "      <td>0</td>\n",
              "      <td>1</td>\n",
              "      <td>0</td>\n",
              "      <td>1</td>\n",
              "      <td>0</td>\n",
              "      <td>1</td>\n",
              "    </tr>\n",
              "    <tr>\n",
              "      <th>579660</th>\n",
              "      <td>0</td>\n",
              "      <td>0</td>\n",
              "      <td>0</td>\n",
              "      <td>0</td>\n",
              "      <td>1</td>\n",
              "      <td>0</td>\n",
              "      <td>0</td>\n",
              "      <td>0</td>\n",
              "      <td>0</td>\n",
              "      <td>1</td>\n",
              "      <td>...</td>\n",
              "      <td>0</td>\n",
              "      <td>1</td>\n",
              "      <td>0</td>\n",
              "      <td>1</td>\n",
              "      <td>0</td>\n",
              "      <td>1</td>\n",
              "      <td>0</td>\n",
              "      <td>1</td>\n",
              "      <td>0</td>\n",
              "      <td>1</td>\n",
              "    </tr>\n",
              "    <tr>\n",
              "      <th>579661</th>\n",
              "      <td>0</td>\n",
              "      <td>0</td>\n",
              "      <td>0</td>\n",
              "      <td>1</td>\n",
              "      <td>0</td>\n",
              "      <td>0</td>\n",
              "      <td>0</td>\n",
              "      <td>0</td>\n",
              "      <td>0</td>\n",
              "      <td>1</td>\n",
              "      <td>...</td>\n",
              "      <td>0</td>\n",
              "      <td>1</td>\n",
              "      <td>0</td>\n",
              "      <td>1</td>\n",
              "      <td>0</td>\n",
              "      <td>1</td>\n",
              "      <td>0</td>\n",
              "      <td>1</td>\n",
              "      <td>0</td>\n",
              "      <td>1</td>\n",
              "    </tr>\n",
              "    <tr>\n",
              "      <th>579662</th>\n",
              "      <td>0</td>\n",
              "      <td>0</td>\n",
              "      <td>0</td>\n",
              "      <td>0</td>\n",
              "      <td>1</td>\n",
              "      <td>0</td>\n",
              "      <td>0</td>\n",
              "      <td>0</td>\n",
              "      <td>0</td>\n",
              "      <td>1</td>\n",
              "      <td>...</td>\n",
              "      <td>1</td>\n",
              "      <td>0</td>\n",
              "      <td>1</td>\n",
              "      <td>0</td>\n",
              "      <td>0</td>\n",
              "      <td>1</td>\n",
              "      <td>0</td>\n",
              "      <td>1</td>\n",
              "      <td>0</td>\n",
              "      <td>1</td>\n",
              "    </tr>\n",
              "    <tr>\n",
              "      <th>579663</th>\n",
              "      <td>0</td>\n",
              "      <td>0</td>\n",
              "      <td>0</td>\n",
              "      <td>0</td>\n",
              "      <td>1</td>\n",
              "      <td>0</td>\n",
              "      <td>0</td>\n",
              "      <td>0</td>\n",
              "      <td>0</td>\n",
              "      <td>1</td>\n",
              "      <td>...</td>\n",
              "      <td>1</td>\n",
              "      <td>0</td>\n",
              "      <td>1</td>\n",
              "      <td>0</td>\n",
              "      <td>0</td>\n",
              "      <td>1</td>\n",
              "      <td>0</td>\n",
              "      <td>1</td>\n",
              "      <td>0</td>\n",
              "      <td>1</td>\n",
              "    </tr>\n",
              "  </tbody>\n",
              "</table>\n",
              "<p>579664 rows × 67 columns</p>\n",
              "</div>\n",
              "      <button class=\"colab-df-convert\" onclick=\"convertToInteractive('df-f7bd600d-d4e3-48b2-8be6-d18e09542e06')\"\n",
              "              title=\"Convert this dataframe to an interactive table.\"\n",
              "              style=\"display:none;\">\n",
              "        \n",
              "  <svg xmlns=\"http://www.w3.org/2000/svg\" height=\"24px\"viewBox=\"0 0 24 24\"\n",
              "       width=\"24px\">\n",
              "    <path d=\"M0 0h24v24H0V0z\" fill=\"none\"/>\n",
              "    <path d=\"M18.56 5.44l.94 2.06.94-2.06 2.06-.94-2.06-.94-.94-2.06-.94 2.06-2.06.94zm-11 1L8.5 8.5l.94-2.06 2.06-.94-2.06-.94L8.5 2.5l-.94 2.06-2.06.94zm10 10l.94 2.06.94-2.06 2.06-.94-2.06-.94-.94-2.06-.94 2.06-2.06.94z\"/><path d=\"M17.41 7.96l-1.37-1.37c-.4-.4-.92-.59-1.43-.59-.52 0-1.04.2-1.43.59L10.3 9.45l-7.72 7.72c-.78.78-.78 2.05 0 2.83L4 21.41c.39.39.9.59 1.41.59.51 0 1.02-.2 1.41-.59l7.78-7.78 2.81-2.81c.8-.78.8-2.07 0-2.86zM5.41 20L4 18.59l7.72-7.72 1.47 1.35L5.41 20z\"/>\n",
              "  </svg>\n",
              "      </button>\n",
              "      \n",
              "  <style>\n",
              "    .colab-df-container {\n",
              "      display:flex;\n",
              "      flex-wrap:wrap;\n",
              "      gap: 12px;\n",
              "    }\n",
              "\n",
              "    .colab-df-convert {\n",
              "      background-color: #E8F0FE;\n",
              "      border: none;\n",
              "      border-radius: 50%;\n",
              "      cursor: pointer;\n",
              "      display: none;\n",
              "      fill: #1967D2;\n",
              "      height: 32px;\n",
              "      padding: 0 0 0 0;\n",
              "      width: 32px;\n",
              "    }\n",
              "\n",
              "    .colab-df-convert:hover {\n",
              "      background-color: #E2EBFA;\n",
              "      box-shadow: 0px 1px 2px rgba(60, 64, 67, 0.3), 0px 1px 3px 1px rgba(60, 64, 67, 0.15);\n",
              "      fill: #174EA6;\n",
              "    }\n",
              "\n",
              "    [theme=dark] .colab-df-convert {\n",
              "      background-color: #3B4455;\n",
              "      fill: #D2E3FC;\n",
              "    }\n",
              "\n",
              "    [theme=dark] .colab-df-convert:hover {\n",
              "      background-color: #434B5C;\n",
              "      box-shadow: 0px 1px 3px 1px rgba(0, 0, 0, 0.15);\n",
              "      filter: drop-shadow(0px 1px 2px rgba(0, 0, 0, 0.3));\n",
              "      fill: #FFFFFF;\n",
              "    }\n",
              "  </style>\n",
              "\n",
              "      <script>\n",
              "        const buttonEl =\n",
              "          document.querySelector('#df-f7bd600d-d4e3-48b2-8be6-d18e09542e06 button.colab-df-convert');\n",
              "        buttonEl.style.display =\n",
              "          google.colab.kernel.accessAllowed ? 'block' : 'none';\n",
              "\n",
              "        async function convertToInteractive(key) {\n",
              "          const element = document.querySelector('#df-f7bd600d-d4e3-48b2-8be6-d18e09542e06');\n",
              "          const dataTable =\n",
              "            await google.colab.kernel.invokeFunction('convertToInteractive',\n",
              "                                                     [key], {});\n",
              "          if (!dataTable) return;\n",
              "\n",
              "          const docLinkHtml = 'Like what you see? Visit the ' +\n",
              "            '<a target=\"_blank\" href=https://colab.research.google.com/notebooks/data_table.ipynb>data table notebook</a>'\n",
              "            + ' to learn more about interactive tables.';\n",
              "          element.innerHTML = '';\n",
              "          dataTable['output_type'] = 'display_data';\n",
              "          await google.colab.output.renderOutput(dataTable, element);\n",
              "          const docLink = document.createElement('div');\n",
              "          docLink.innerHTML = docLinkHtml;\n",
              "          element.appendChild(docLink);\n",
              "        }\n",
              "      </script>\n",
              "    </div>\n",
              "  </div>\n",
              "  "
            ]
          },
          "metadata": {},
          "execution_count": 112
        }
      ],
      "source": [
        "categorical_data_dummy"
      ]
    },
    {
      "cell_type": "code",
      "execution_count": null,
      "metadata": {
        "id": "aJyHK5SXiEAw"
      },
      "outputs": [],
      "source": [
        "df_all_cols = pd.concat([numeric_data, categorical_data_dummy], axis = 1)"
      ]
    },
    {
      "cell_type": "code",
      "execution_count": null,
      "metadata": {
        "id": "MGF5_KHZ3o4E",
        "colab": {
          "base_uri": "https://localhost:8080/",
          "height": 488
        },
        "outputId": "e1a31a6c-7044-4e14-ca92-deb8e985eb39"
      },
      "outputs": [
        {
          "output_type": "execute_result",
          "data": {
            "text/plain": [
              "           amount  amount_per_join  term  undisbursed_amount  \\\n",
              "0       2000000.0          6802.72  60.0                 0.0   \n",
              "1       1294555.0         20548.49  60.0                 0.0   \n",
              "2        729509.0          6947.70  60.0                 0.0   \n",
              "3        571193.4         11657.01  60.0                 0.0   \n",
              "4        472700.0         12775.68  24.0                 0.0   \n",
              "...           ...              ...   ...                 ...   \n",
              "579659     1950.0          1950.00  60.0              1950.0   \n",
              "579660     1849.0          1849.00  60.0              1849.0   \n",
              "579661     1245.0          1245.00  60.0              1245.0   \n",
              "579662     1075.0          1075.00  60.0              1075.0   \n",
              "579663      787.0           787.00  60.0               787.0   \n",
              "\n",
              "        Difference_current_initial_amount  launched_month_1  launched_month_2  \\\n",
              "0                                     0.0                 0                 1   \n",
              "1                                     0.0                 1                 0   \n",
              "2                                     0.0                 0                 0   \n",
              "3                                    -0.6                 0                 1   \n",
              "4                                     0.0                 0                 0   \n",
              "...                                   ...               ...               ...   \n",
              "579659                                0.0                 0                 0   \n",
              "579660                                0.0                 0                 0   \n",
              "579661                                0.0                 0                 0   \n",
              "579662                                0.0                 0                 0   \n",
              "579663                                0.0                 0                 0   \n",
              "\n",
              "        launched_month_3  launched_month_4  launched_month_5  ...  \\\n",
              "0                      0                 0                 0  ...   \n",
              "1                      0                 0                 0  ...   \n",
              "2                      1                 0                 0  ...   \n",
              "3                      0                 0                 0  ...   \n",
              "4                      0                 1                 0  ...   \n",
              "...                  ...               ...               ...  ...   \n",
              "579659                 0                 1                 0  ...   \n",
              "579660                 0                 0                 1  ...   \n",
              "579661                 0                 1                 0  ...   \n",
              "579662                 0                 0                 1  ...   \n",
              "579663                 0                 0                 1  ...   \n",
              "\n",
              "        project_city_top_Other  project_city_top_Top_city  \\\n",
              "0                            1                          0   \n",
              "1                            1                          0   \n",
              "2                            1                          0   \n",
              "3                            1                          0   \n",
              "4                            1                          0   \n",
              "...                        ...                        ...   \n",
              "579659                       1                          0   \n",
              "579660                       0                          1   \n",
              "579661                       0                          1   \n",
              "579662                       1                          0   \n",
              "579663                       1                          0   \n",
              "\n",
              "        project_county_top_Other  project_county_top_Top  \\\n",
              "0                              1                       0   \n",
              "1                              0                       1   \n",
              "2                              1                       0   \n",
              "3                              1                       0   \n",
              "4                              1                       0   \n",
              "...                          ...                     ...   \n",
              "579659                         1                       0   \n",
              "579660                         0                       1   \n",
              "579661                         0                       1   \n",
              "579662                         1                       0   \n",
              "579663                         1                       0   \n",
              "\n",
              "        lender_state_top_Other  lender_state_top_Top  lender_city_top_Other  \\\n",
              "0                            1                     0                      1   \n",
              "1                            0                     1                      0   \n",
              "2                            0                     1                      0   \n",
              "3                            0                     1                      0   \n",
              "4                            0                     1                      0   \n",
              "...                        ...                   ...                    ...   \n",
              "579659                       0                     1                      0   \n",
              "579660                       0                     1                      0   \n",
              "579661                       0                     1                      0   \n",
              "579662                       0                     1                      0   \n",
              "579663                       0                     1                      0   \n",
              "\n",
              "        lender_city_top_Top  lender_servicing_lender_state_city_False  \\\n",
              "0                         0                                         0   \n",
              "1                         1                                         0   \n",
              "2                         1                                         0   \n",
              "3                         1                                         0   \n",
              "4                         1                                         0   \n",
              "...                     ...                                       ...   \n",
              "579659                    1                                         0   \n",
              "579660                    1                                         0   \n",
              "579661                    1                                         0   \n",
              "579662                    1                                         0   \n",
              "579663                    1                                         0   \n",
              "\n",
              "        lender_servicing_lender_state_city_True  \n",
              "0                                             1  \n",
              "1                                             1  \n",
              "2                                             1  \n",
              "3                                             1  \n",
              "4                                             1  \n",
              "...                                         ...  \n",
              "579659                                        1  \n",
              "579660                                        1  \n",
              "579661                                        1  \n",
              "579662                                        1  \n",
              "579663                                        1  \n",
              "\n",
              "[579664 rows x 72 columns]"
            ],
            "text/html": [
              "\n",
              "  <div id=\"df-b0a74ebd-3e4e-41d8-9e4e-071b2e1e2c32\">\n",
              "    <div class=\"colab-df-container\">\n",
              "      <div>\n",
              "<style scoped>\n",
              "    .dataframe tbody tr th:only-of-type {\n",
              "        vertical-align: middle;\n",
              "    }\n",
              "\n",
              "    .dataframe tbody tr th {\n",
              "        vertical-align: top;\n",
              "    }\n",
              "\n",
              "    .dataframe thead th {\n",
              "        text-align: right;\n",
              "    }\n",
              "</style>\n",
              "<table border=\"1\" class=\"dataframe\">\n",
              "  <thead>\n",
              "    <tr style=\"text-align: right;\">\n",
              "      <th></th>\n",
              "      <th>amount</th>\n",
              "      <th>amount_per_join</th>\n",
              "      <th>term</th>\n",
              "      <th>undisbursed_amount</th>\n",
              "      <th>Difference_current_initial_amount</th>\n",
              "      <th>launched_month_1</th>\n",
              "      <th>launched_month_2</th>\n",
              "      <th>launched_month_3</th>\n",
              "      <th>launched_month_4</th>\n",
              "      <th>launched_month_5</th>\n",
              "      <th>...</th>\n",
              "      <th>project_city_top_Other</th>\n",
              "      <th>project_city_top_Top_city</th>\n",
              "      <th>project_county_top_Other</th>\n",
              "      <th>project_county_top_Top</th>\n",
              "      <th>lender_state_top_Other</th>\n",
              "      <th>lender_state_top_Top</th>\n",
              "      <th>lender_city_top_Other</th>\n",
              "      <th>lender_city_top_Top</th>\n",
              "      <th>lender_servicing_lender_state_city_False</th>\n",
              "      <th>lender_servicing_lender_state_city_True</th>\n",
              "    </tr>\n",
              "  </thead>\n",
              "  <tbody>\n",
              "    <tr>\n",
              "      <th>0</th>\n",
              "      <td>2000000.0</td>\n",
              "      <td>6802.72</td>\n",
              "      <td>60.0</td>\n",
              "      <td>0.0</td>\n",
              "      <td>0.0</td>\n",
              "      <td>0</td>\n",
              "      <td>1</td>\n",
              "      <td>0</td>\n",
              "      <td>0</td>\n",
              "      <td>0</td>\n",
              "      <td>...</td>\n",
              "      <td>1</td>\n",
              "      <td>0</td>\n",
              "      <td>1</td>\n",
              "      <td>0</td>\n",
              "      <td>1</td>\n",
              "      <td>0</td>\n",
              "      <td>1</td>\n",
              "      <td>0</td>\n",
              "      <td>0</td>\n",
              "      <td>1</td>\n",
              "    </tr>\n",
              "    <tr>\n",
              "      <th>1</th>\n",
              "      <td>1294555.0</td>\n",
              "      <td>20548.49</td>\n",
              "      <td>60.0</td>\n",
              "      <td>0.0</td>\n",
              "      <td>0.0</td>\n",
              "      <td>1</td>\n",
              "      <td>0</td>\n",
              "      <td>0</td>\n",
              "      <td>0</td>\n",
              "      <td>0</td>\n",
              "      <td>...</td>\n",
              "      <td>1</td>\n",
              "      <td>0</td>\n",
              "      <td>0</td>\n",
              "      <td>1</td>\n",
              "      <td>0</td>\n",
              "      <td>1</td>\n",
              "      <td>0</td>\n",
              "      <td>1</td>\n",
              "      <td>0</td>\n",
              "      <td>1</td>\n",
              "    </tr>\n",
              "    <tr>\n",
              "      <th>2</th>\n",
              "      <td>729509.0</td>\n",
              "      <td>6947.70</td>\n",
              "      <td>60.0</td>\n",
              "      <td>0.0</td>\n",
              "      <td>0.0</td>\n",
              "      <td>0</td>\n",
              "      <td>0</td>\n",
              "      <td>1</td>\n",
              "      <td>0</td>\n",
              "      <td>0</td>\n",
              "      <td>...</td>\n",
              "      <td>1</td>\n",
              "      <td>0</td>\n",
              "      <td>1</td>\n",
              "      <td>0</td>\n",
              "      <td>0</td>\n",
              "      <td>1</td>\n",
              "      <td>0</td>\n",
              "      <td>1</td>\n",
              "      <td>0</td>\n",
              "      <td>1</td>\n",
              "    </tr>\n",
              "    <tr>\n",
              "      <th>3</th>\n",
              "      <td>571193.4</td>\n",
              "      <td>11657.01</td>\n",
              "      <td>60.0</td>\n",
              "      <td>0.0</td>\n",
              "      <td>-0.6</td>\n",
              "      <td>0</td>\n",
              "      <td>1</td>\n",
              "      <td>0</td>\n",
              "      <td>0</td>\n",
              "      <td>0</td>\n",
              "      <td>...</td>\n",
              "      <td>1</td>\n",
              "      <td>0</td>\n",
              "      <td>1</td>\n",
              "      <td>0</td>\n",
              "      <td>0</td>\n",
              "      <td>1</td>\n",
              "      <td>0</td>\n",
              "      <td>1</td>\n",
              "      <td>0</td>\n",
              "      <td>1</td>\n",
              "    </tr>\n",
              "    <tr>\n",
              "      <th>4</th>\n",
              "      <td>472700.0</td>\n",
              "      <td>12775.68</td>\n",
              "      <td>24.0</td>\n",
              "      <td>0.0</td>\n",
              "      <td>0.0</td>\n",
              "      <td>0</td>\n",
              "      <td>0</td>\n",
              "      <td>0</td>\n",
              "      <td>1</td>\n",
              "      <td>0</td>\n",
              "      <td>...</td>\n",
              "      <td>1</td>\n",
              "      <td>0</td>\n",
              "      <td>1</td>\n",
              "      <td>0</td>\n",
              "      <td>0</td>\n",
              "      <td>1</td>\n",
              "      <td>0</td>\n",
              "      <td>1</td>\n",
              "      <td>0</td>\n",
              "      <td>1</td>\n",
              "    </tr>\n",
              "    <tr>\n",
              "      <th>...</th>\n",
              "      <td>...</td>\n",
              "      <td>...</td>\n",
              "      <td>...</td>\n",
              "      <td>...</td>\n",
              "      <td>...</td>\n",
              "      <td>...</td>\n",
              "      <td>...</td>\n",
              "      <td>...</td>\n",
              "      <td>...</td>\n",
              "      <td>...</td>\n",
              "      <td>...</td>\n",
              "      <td>...</td>\n",
              "      <td>...</td>\n",
              "      <td>...</td>\n",
              "      <td>...</td>\n",
              "      <td>...</td>\n",
              "      <td>...</td>\n",
              "      <td>...</td>\n",
              "      <td>...</td>\n",
              "      <td>...</td>\n",
              "      <td>...</td>\n",
              "    </tr>\n",
              "    <tr>\n",
              "      <th>579659</th>\n",
              "      <td>1950.0</td>\n",
              "      <td>1950.00</td>\n",
              "      <td>60.0</td>\n",
              "      <td>1950.0</td>\n",
              "      <td>0.0</td>\n",
              "      <td>0</td>\n",
              "      <td>0</td>\n",
              "      <td>0</td>\n",
              "      <td>1</td>\n",
              "      <td>0</td>\n",
              "      <td>...</td>\n",
              "      <td>1</td>\n",
              "      <td>0</td>\n",
              "      <td>1</td>\n",
              "      <td>0</td>\n",
              "      <td>0</td>\n",
              "      <td>1</td>\n",
              "      <td>0</td>\n",
              "      <td>1</td>\n",
              "      <td>0</td>\n",
              "      <td>1</td>\n",
              "    </tr>\n",
              "    <tr>\n",
              "      <th>579660</th>\n",
              "      <td>1849.0</td>\n",
              "      <td>1849.00</td>\n",
              "      <td>60.0</td>\n",
              "      <td>1849.0</td>\n",
              "      <td>0.0</td>\n",
              "      <td>0</td>\n",
              "      <td>0</td>\n",
              "      <td>0</td>\n",
              "      <td>0</td>\n",
              "      <td>1</td>\n",
              "      <td>...</td>\n",
              "      <td>0</td>\n",
              "      <td>1</td>\n",
              "      <td>0</td>\n",
              "      <td>1</td>\n",
              "      <td>0</td>\n",
              "      <td>1</td>\n",
              "      <td>0</td>\n",
              "      <td>1</td>\n",
              "      <td>0</td>\n",
              "      <td>1</td>\n",
              "    </tr>\n",
              "    <tr>\n",
              "      <th>579661</th>\n",
              "      <td>1245.0</td>\n",
              "      <td>1245.00</td>\n",
              "      <td>60.0</td>\n",
              "      <td>1245.0</td>\n",
              "      <td>0.0</td>\n",
              "      <td>0</td>\n",
              "      <td>0</td>\n",
              "      <td>0</td>\n",
              "      <td>1</td>\n",
              "      <td>0</td>\n",
              "      <td>...</td>\n",
              "      <td>0</td>\n",
              "      <td>1</td>\n",
              "      <td>0</td>\n",
              "      <td>1</td>\n",
              "      <td>0</td>\n",
              "      <td>1</td>\n",
              "      <td>0</td>\n",
              "      <td>1</td>\n",
              "      <td>0</td>\n",
              "      <td>1</td>\n",
              "    </tr>\n",
              "    <tr>\n",
              "      <th>579662</th>\n",
              "      <td>1075.0</td>\n",
              "      <td>1075.00</td>\n",
              "      <td>60.0</td>\n",
              "      <td>1075.0</td>\n",
              "      <td>0.0</td>\n",
              "      <td>0</td>\n",
              "      <td>0</td>\n",
              "      <td>0</td>\n",
              "      <td>0</td>\n",
              "      <td>1</td>\n",
              "      <td>...</td>\n",
              "      <td>1</td>\n",
              "      <td>0</td>\n",
              "      <td>1</td>\n",
              "      <td>0</td>\n",
              "      <td>0</td>\n",
              "      <td>1</td>\n",
              "      <td>0</td>\n",
              "      <td>1</td>\n",
              "      <td>0</td>\n",
              "      <td>1</td>\n",
              "    </tr>\n",
              "    <tr>\n",
              "      <th>579663</th>\n",
              "      <td>787.0</td>\n",
              "      <td>787.00</td>\n",
              "      <td>60.0</td>\n",
              "      <td>787.0</td>\n",
              "      <td>0.0</td>\n",
              "      <td>0</td>\n",
              "      <td>0</td>\n",
              "      <td>0</td>\n",
              "      <td>0</td>\n",
              "      <td>1</td>\n",
              "      <td>...</td>\n",
              "      <td>1</td>\n",
              "      <td>0</td>\n",
              "      <td>1</td>\n",
              "      <td>0</td>\n",
              "      <td>0</td>\n",
              "      <td>1</td>\n",
              "      <td>0</td>\n",
              "      <td>1</td>\n",
              "      <td>0</td>\n",
              "      <td>1</td>\n",
              "    </tr>\n",
              "  </tbody>\n",
              "</table>\n",
              "<p>579664 rows × 72 columns</p>\n",
              "</div>\n",
              "      <button class=\"colab-df-convert\" onclick=\"convertToInteractive('df-b0a74ebd-3e4e-41d8-9e4e-071b2e1e2c32')\"\n",
              "              title=\"Convert this dataframe to an interactive table.\"\n",
              "              style=\"display:none;\">\n",
              "        \n",
              "  <svg xmlns=\"http://www.w3.org/2000/svg\" height=\"24px\"viewBox=\"0 0 24 24\"\n",
              "       width=\"24px\">\n",
              "    <path d=\"M0 0h24v24H0V0z\" fill=\"none\"/>\n",
              "    <path d=\"M18.56 5.44l.94 2.06.94-2.06 2.06-.94-2.06-.94-.94-2.06-.94 2.06-2.06.94zm-11 1L8.5 8.5l.94-2.06 2.06-.94-2.06-.94L8.5 2.5l-.94 2.06-2.06.94zm10 10l.94 2.06.94-2.06 2.06-.94-2.06-.94-.94-2.06-.94 2.06-2.06.94z\"/><path d=\"M17.41 7.96l-1.37-1.37c-.4-.4-.92-.59-1.43-.59-.52 0-1.04.2-1.43.59L10.3 9.45l-7.72 7.72c-.78.78-.78 2.05 0 2.83L4 21.41c.39.39.9.59 1.41.59.51 0 1.02-.2 1.41-.59l7.78-7.78 2.81-2.81c.8-.78.8-2.07 0-2.86zM5.41 20L4 18.59l7.72-7.72 1.47 1.35L5.41 20z\"/>\n",
              "  </svg>\n",
              "      </button>\n",
              "      \n",
              "  <style>\n",
              "    .colab-df-container {\n",
              "      display:flex;\n",
              "      flex-wrap:wrap;\n",
              "      gap: 12px;\n",
              "    }\n",
              "\n",
              "    .colab-df-convert {\n",
              "      background-color: #E8F0FE;\n",
              "      border: none;\n",
              "      border-radius: 50%;\n",
              "      cursor: pointer;\n",
              "      display: none;\n",
              "      fill: #1967D2;\n",
              "      height: 32px;\n",
              "      padding: 0 0 0 0;\n",
              "      width: 32px;\n",
              "    }\n",
              "\n",
              "    .colab-df-convert:hover {\n",
              "      background-color: #E2EBFA;\n",
              "      box-shadow: 0px 1px 2px rgba(60, 64, 67, 0.3), 0px 1px 3px 1px rgba(60, 64, 67, 0.15);\n",
              "      fill: #174EA6;\n",
              "    }\n",
              "\n",
              "    [theme=dark] .colab-df-convert {\n",
              "      background-color: #3B4455;\n",
              "      fill: #D2E3FC;\n",
              "    }\n",
              "\n",
              "    [theme=dark] .colab-df-convert:hover {\n",
              "      background-color: #434B5C;\n",
              "      box-shadow: 0px 1px 3px 1px rgba(0, 0, 0, 0.15);\n",
              "      filter: drop-shadow(0px 1px 2px rgba(0, 0, 0, 0.3));\n",
              "      fill: #FFFFFF;\n",
              "    }\n",
              "  </style>\n",
              "\n",
              "      <script>\n",
              "        const buttonEl =\n",
              "          document.querySelector('#df-b0a74ebd-3e4e-41d8-9e4e-071b2e1e2c32 button.colab-df-convert');\n",
              "        buttonEl.style.display =\n",
              "          google.colab.kernel.accessAllowed ? 'block' : 'none';\n",
              "\n",
              "        async function convertToInteractive(key) {\n",
              "          const element = document.querySelector('#df-b0a74ebd-3e4e-41d8-9e4e-071b2e1e2c32');\n",
              "          const dataTable =\n",
              "            await google.colab.kernel.invokeFunction('convertToInteractive',\n",
              "                                                     [key], {});\n",
              "          if (!dataTable) return;\n",
              "\n",
              "          const docLinkHtml = 'Like what you see? Visit the ' +\n",
              "            '<a target=\"_blank\" href=https://colab.research.google.com/notebooks/data_table.ipynb>data table notebook</a>'\n",
              "            + ' to learn more about interactive tables.';\n",
              "          element.innerHTML = '';\n",
              "          dataTable['output_type'] = 'display_data';\n",
              "          await google.colab.output.renderOutput(dataTable, element);\n",
              "          const docLink = document.createElement('div');\n",
              "          docLink.innerHTML = docLinkHtml;\n",
              "          element.appendChild(docLink);\n",
              "        }\n",
              "      </script>\n",
              "    </div>\n",
              "  </div>\n",
              "  "
            ]
          },
          "metadata": {},
          "execution_count": 114
        }
      ],
      "source": [
        "df_all_cols"
      ]
    },
    {
      "cell_type": "code",
      "execution_count": null,
      "metadata": {
        "id": "YuYXYsqm4cWc"
      },
      "outputs": [],
      "source": [
        "target = pd.DataFrame(combined_data,\n",
        "                     columns = ['Removed'])"
      ]
    },
    {
      "cell_type": "code",
      "execution_count": null,
      "metadata": {
        "id": "r2sHgBwn3NQd"
      },
      "outputs": [],
      "source": [
        "target_number = pd.get_dummies(target,\n",
        "                     columns = ['Removed'])"
      ]
    },
    {
      "cell_type": "code",
      "execution_count": null,
      "metadata": {
        "id": "Qvf-cOvX4nSY",
        "colab": {
          "base_uri": "https://localhost:8080/",
          "height": 424
        },
        "outputId": "cdb23492-b772-4900-a262-6dc94231f8df"
      },
      "outputs": [
        {
          "output_type": "execute_result",
          "data": {
            "text/plain": [
              "        Removed_False  Removed_True\n",
              "0                   1             0\n",
              "1                   1             0\n",
              "2                   1             0\n",
              "3                   1             0\n",
              "4                   1             0\n",
              "...               ...           ...\n",
              "579659              0             1\n",
              "579660              0             1\n",
              "579661              0             1\n",
              "579662              0             1\n",
              "579663              0             1\n",
              "\n",
              "[579664 rows x 2 columns]"
            ],
            "text/html": [
              "\n",
              "  <div id=\"df-50d0a95c-5785-446f-82a7-63e9b133ed5c\">\n",
              "    <div class=\"colab-df-container\">\n",
              "      <div>\n",
              "<style scoped>\n",
              "    .dataframe tbody tr th:only-of-type {\n",
              "        vertical-align: middle;\n",
              "    }\n",
              "\n",
              "    .dataframe tbody tr th {\n",
              "        vertical-align: top;\n",
              "    }\n",
              "\n",
              "    .dataframe thead th {\n",
              "        text-align: right;\n",
              "    }\n",
              "</style>\n",
              "<table border=\"1\" class=\"dataframe\">\n",
              "  <thead>\n",
              "    <tr style=\"text-align: right;\">\n",
              "      <th></th>\n",
              "      <th>Removed_False</th>\n",
              "      <th>Removed_True</th>\n",
              "    </tr>\n",
              "  </thead>\n",
              "  <tbody>\n",
              "    <tr>\n",
              "      <th>0</th>\n",
              "      <td>1</td>\n",
              "      <td>0</td>\n",
              "    </tr>\n",
              "    <tr>\n",
              "      <th>1</th>\n",
              "      <td>1</td>\n",
              "      <td>0</td>\n",
              "    </tr>\n",
              "    <tr>\n",
              "      <th>2</th>\n",
              "      <td>1</td>\n",
              "      <td>0</td>\n",
              "    </tr>\n",
              "    <tr>\n",
              "      <th>3</th>\n",
              "      <td>1</td>\n",
              "      <td>0</td>\n",
              "    </tr>\n",
              "    <tr>\n",
              "      <th>4</th>\n",
              "      <td>1</td>\n",
              "      <td>0</td>\n",
              "    </tr>\n",
              "    <tr>\n",
              "      <th>...</th>\n",
              "      <td>...</td>\n",
              "      <td>...</td>\n",
              "    </tr>\n",
              "    <tr>\n",
              "      <th>579659</th>\n",
              "      <td>0</td>\n",
              "      <td>1</td>\n",
              "    </tr>\n",
              "    <tr>\n",
              "      <th>579660</th>\n",
              "      <td>0</td>\n",
              "      <td>1</td>\n",
              "    </tr>\n",
              "    <tr>\n",
              "      <th>579661</th>\n",
              "      <td>0</td>\n",
              "      <td>1</td>\n",
              "    </tr>\n",
              "    <tr>\n",
              "      <th>579662</th>\n",
              "      <td>0</td>\n",
              "      <td>1</td>\n",
              "    </tr>\n",
              "    <tr>\n",
              "      <th>579663</th>\n",
              "      <td>0</td>\n",
              "      <td>1</td>\n",
              "    </tr>\n",
              "  </tbody>\n",
              "</table>\n",
              "<p>579664 rows × 2 columns</p>\n",
              "</div>\n",
              "      <button class=\"colab-df-convert\" onclick=\"convertToInteractive('df-50d0a95c-5785-446f-82a7-63e9b133ed5c')\"\n",
              "              title=\"Convert this dataframe to an interactive table.\"\n",
              "              style=\"display:none;\">\n",
              "        \n",
              "  <svg xmlns=\"http://www.w3.org/2000/svg\" height=\"24px\"viewBox=\"0 0 24 24\"\n",
              "       width=\"24px\">\n",
              "    <path d=\"M0 0h24v24H0V0z\" fill=\"none\"/>\n",
              "    <path d=\"M18.56 5.44l.94 2.06.94-2.06 2.06-.94-2.06-.94-.94-2.06-.94 2.06-2.06.94zm-11 1L8.5 8.5l.94-2.06 2.06-.94-2.06-.94L8.5 2.5l-.94 2.06-2.06.94zm10 10l.94 2.06.94-2.06 2.06-.94-2.06-.94-.94-2.06-.94 2.06-2.06.94z\"/><path d=\"M17.41 7.96l-1.37-1.37c-.4-.4-.92-.59-1.43-.59-.52 0-1.04.2-1.43.59L10.3 9.45l-7.72 7.72c-.78.78-.78 2.05 0 2.83L4 21.41c.39.39.9.59 1.41.59.51 0 1.02-.2 1.41-.59l7.78-7.78 2.81-2.81c.8-.78.8-2.07 0-2.86zM5.41 20L4 18.59l7.72-7.72 1.47 1.35L5.41 20z\"/>\n",
              "  </svg>\n",
              "      </button>\n",
              "      \n",
              "  <style>\n",
              "    .colab-df-container {\n",
              "      display:flex;\n",
              "      flex-wrap:wrap;\n",
              "      gap: 12px;\n",
              "    }\n",
              "\n",
              "    .colab-df-convert {\n",
              "      background-color: #E8F0FE;\n",
              "      border: none;\n",
              "      border-radius: 50%;\n",
              "      cursor: pointer;\n",
              "      display: none;\n",
              "      fill: #1967D2;\n",
              "      height: 32px;\n",
              "      padding: 0 0 0 0;\n",
              "      width: 32px;\n",
              "    }\n",
              "\n",
              "    .colab-df-convert:hover {\n",
              "      background-color: #E2EBFA;\n",
              "      box-shadow: 0px 1px 2px rgba(60, 64, 67, 0.3), 0px 1px 3px 1px rgba(60, 64, 67, 0.15);\n",
              "      fill: #174EA6;\n",
              "    }\n",
              "\n",
              "    [theme=dark] .colab-df-convert {\n",
              "      background-color: #3B4455;\n",
              "      fill: #D2E3FC;\n",
              "    }\n",
              "\n",
              "    [theme=dark] .colab-df-convert:hover {\n",
              "      background-color: #434B5C;\n",
              "      box-shadow: 0px 1px 3px 1px rgba(0, 0, 0, 0.15);\n",
              "      filter: drop-shadow(0px 1px 2px rgba(0, 0, 0, 0.3));\n",
              "      fill: #FFFFFF;\n",
              "    }\n",
              "  </style>\n",
              "\n",
              "      <script>\n",
              "        const buttonEl =\n",
              "          document.querySelector('#df-50d0a95c-5785-446f-82a7-63e9b133ed5c button.colab-df-convert');\n",
              "        buttonEl.style.display =\n",
              "          google.colab.kernel.accessAllowed ? 'block' : 'none';\n",
              "\n",
              "        async function convertToInteractive(key) {\n",
              "          const element = document.querySelector('#df-50d0a95c-5785-446f-82a7-63e9b133ed5c');\n",
              "          const dataTable =\n",
              "            await google.colab.kernel.invokeFunction('convertToInteractive',\n",
              "                                                     [key], {});\n",
              "          if (!dataTable) return;\n",
              "\n",
              "          const docLinkHtml = 'Like what you see? Visit the ' +\n",
              "            '<a target=\"_blank\" href=https://colab.research.google.com/notebooks/data_table.ipynb>data table notebook</a>'\n",
              "            + ' to learn more about interactive tables.';\n",
              "          element.innerHTML = '';\n",
              "          dataTable['output_type'] = 'display_data';\n",
              "          await google.colab.output.renderOutput(dataTable, element);\n",
              "          const docLink = document.createElement('div');\n",
              "          docLink.innerHTML = docLinkHtml;\n",
              "          element.appendChild(docLink);\n",
              "        }\n",
              "      </script>\n",
              "    </div>\n",
              "  </div>\n",
              "  "
            ]
          },
          "metadata": {},
          "execution_count": 117
        }
      ],
      "source": [
        "target_number"
      ]
    },
    {
      "cell_type": "code",
      "execution_count": null,
      "metadata": {
        "id": "i1cu5RgY5spi"
      },
      "outputs": [],
      "source": [
        "target_number.drop(['Removed_False'], axis=1, inplace=True)"
      ]
    },
    {
      "cell_type": "code",
      "execution_count": null,
      "metadata": {
        "id": "nTfUlvrv5syW",
        "colab": {
          "base_uri": "https://localhost:8080/",
          "height": 424
        },
        "outputId": "23b54d40-6694-4061-ed52-e7b41aa85bf7"
      },
      "outputs": [
        {
          "output_type": "execute_result",
          "data": {
            "text/plain": [
              "        Removed_True\n",
              "0                  0\n",
              "1                  0\n",
              "2                  0\n",
              "3                  0\n",
              "4                  0\n",
              "...              ...\n",
              "579659             1\n",
              "579660             1\n",
              "579661             1\n",
              "579662             1\n",
              "579663             1\n",
              "\n",
              "[579664 rows x 1 columns]"
            ],
            "text/html": [
              "\n",
              "  <div id=\"df-d5b62efe-a167-4767-be47-7edb48b727b3\">\n",
              "    <div class=\"colab-df-container\">\n",
              "      <div>\n",
              "<style scoped>\n",
              "    .dataframe tbody tr th:only-of-type {\n",
              "        vertical-align: middle;\n",
              "    }\n",
              "\n",
              "    .dataframe tbody tr th {\n",
              "        vertical-align: top;\n",
              "    }\n",
              "\n",
              "    .dataframe thead th {\n",
              "        text-align: right;\n",
              "    }\n",
              "</style>\n",
              "<table border=\"1\" class=\"dataframe\">\n",
              "  <thead>\n",
              "    <tr style=\"text-align: right;\">\n",
              "      <th></th>\n",
              "      <th>Removed_True</th>\n",
              "    </tr>\n",
              "  </thead>\n",
              "  <tbody>\n",
              "    <tr>\n",
              "      <th>0</th>\n",
              "      <td>0</td>\n",
              "    </tr>\n",
              "    <tr>\n",
              "      <th>1</th>\n",
              "      <td>0</td>\n",
              "    </tr>\n",
              "    <tr>\n",
              "      <th>2</th>\n",
              "      <td>0</td>\n",
              "    </tr>\n",
              "    <tr>\n",
              "      <th>3</th>\n",
              "      <td>0</td>\n",
              "    </tr>\n",
              "    <tr>\n",
              "      <th>4</th>\n",
              "      <td>0</td>\n",
              "    </tr>\n",
              "    <tr>\n",
              "      <th>...</th>\n",
              "      <td>...</td>\n",
              "    </tr>\n",
              "    <tr>\n",
              "      <th>579659</th>\n",
              "      <td>1</td>\n",
              "    </tr>\n",
              "    <tr>\n",
              "      <th>579660</th>\n",
              "      <td>1</td>\n",
              "    </tr>\n",
              "    <tr>\n",
              "      <th>579661</th>\n",
              "      <td>1</td>\n",
              "    </tr>\n",
              "    <tr>\n",
              "      <th>579662</th>\n",
              "      <td>1</td>\n",
              "    </tr>\n",
              "    <tr>\n",
              "      <th>579663</th>\n",
              "      <td>1</td>\n",
              "    </tr>\n",
              "  </tbody>\n",
              "</table>\n",
              "<p>579664 rows × 1 columns</p>\n",
              "</div>\n",
              "      <button class=\"colab-df-convert\" onclick=\"convertToInteractive('df-d5b62efe-a167-4767-be47-7edb48b727b3')\"\n",
              "              title=\"Convert this dataframe to an interactive table.\"\n",
              "              style=\"display:none;\">\n",
              "        \n",
              "  <svg xmlns=\"http://www.w3.org/2000/svg\" height=\"24px\"viewBox=\"0 0 24 24\"\n",
              "       width=\"24px\">\n",
              "    <path d=\"M0 0h24v24H0V0z\" fill=\"none\"/>\n",
              "    <path d=\"M18.56 5.44l.94 2.06.94-2.06 2.06-.94-2.06-.94-.94-2.06-.94 2.06-2.06.94zm-11 1L8.5 8.5l.94-2.06 2.06-.94-2.06-.94L8.5 2.5l-.94 2.06-2.06.94zm10 10l.94 2.06.94-2.06 2.06-.94-2.06-.94-.94-2.06-.94 2.06-2.06.94z\"/><path d=\"M17.41 7.96l-1.37-1.37c-.4-.4-.92-.59-1.43-.59-.52 0-1.04.2-1.43.59L10.3 9.45l-7.72 7.72c-.78.78-.78 2.05 0 2.83L4 21.41c.39.39.9.59 1.41.59.51 0 1.02-.2 1.41-.59l7.78-7.78 2.81-2.81c.8-.78.8-2.07 0-2.86zM5.41 20L4 18.59l7.72-7.72 1.47 1.35L5.41 20z\"/>\n",
              "  </svg>\n",
              "      </button>\n",
              "      \n",
              "  <style>\n",
              "    .colab-df-container {\n",
              "      display:flex;\n",
              "      flex-wrap:wrap;\n",
              "      gap: 12px;\n",
              "    }\n",
              "\n",
              "    .colab-df-convert {\n",
              "      background-color: #E8F0FE;\n",
              "      border: none;\n",
              "      border-radius: 50%;\n",
              "      cursor: pointer;\n",
              "      display: none;\n",
              "      fill: #1967D2;\n",
              "      height: 32px;\n",
              "      padding: 0 0 0 0;\n",
              "      width: 32px;\n",
              "    }\n",
              "\n",
              "    .colab-df-convert:hover {\n",
              "      background-color: #E2EBFA;\n",
              "      box-shadow: 0px 1px 2px rgba(60, 64, 67, 0.3), 0px 1px 3px 1px rgba(60, 64, 67, 0.15);\n",
              "      fill: #174EA6;\n",
              "    }\n",
              "\n",
              "    [theme=dark] .colab-df-convert {\n",
              "      background-color: #3B4455;\n",
              "      fill: #D2E3FC;\n",
              "    }\n",
              "\n",
              "    [theme=dark] .colab-df-convert:hover {\n",
              "      background-color: #434B5C;\n",
              "      box-shadow: 0px 1px 3px 1px rgba(0, 0, 0, 0.15);\n",
              "      filter: drop-shadow(0px 1px 2px rgba(0, 0, 0, 0.3));\n",
              "      fill: #FFFFFF;\n",
              "    }\n",
              "  </style>\n",
              "\n",
              "      <script>\n",
              "        const buttonEl =\n",
              "          document.querySelector('#df-d5b62efe-a167-4767-be47-7edb48b727b3 button.colab-df-convert');\n",
              "        buttonEl.style.display =\n",
              "          google.colab.kernel.accessAllowed ? 'block' : 'none';\n",
              "\n",
              "        async function convertToInteractive(key) {\n",
              "          const element = document.querySelector('#df-d5b62efe-a167-4767-be47-7edb48b727b3');\n",
              "          const dataTable =\n",
              "            await google.colab.kernel.invokeFunction('convertToInteractive',\n",
              "                                                     [key], {});\n",
              "          if (!dataTable) return;\n",
              "\n",
              "          const docLinkHtml = 'Like what you see? Visit the ' +\n",
              "            '<a target=\"_blank\" href=https://colab.research.google.com/notebooks/data_table.ipynb>data table notebook</a>'\n",
              "            + ' to learn more about interactive tables.';\n",
              "          element.innerHTML = '';\n",
              "          dataTable['output_type'] = 'display_data';\n",
              "          await google.colab.output.renderOutput(dataTable, element);\n",
              "          const docLink = document.createElement('div');\n",
              "          docLink.innerHTML = docLinkHtml;\n",
              "          element.appendChild(docLink);\n",
              "        }\n",
              "      </script>\n",
              "    </div>\n",
              "  </div>\n",
              "  "
            ]
          },
          "metadata": {},
          "execution_count": 119
        }
      ],
      "source": [
        "target_number"
      ]
    },
    {
      "cell_type": "code",
      "execution_count": null,
      "metadata": {
        "id": "gS-cgfYK5rfZ",
        "colab": {
          "base_uri": "https://localhost:8080/"
        },
        "outputId": "2397da3f-adc3-4e52-f0b6-fc4235df505d"
      },
      "outputs": [
        {
          "output_type": "execute_result",
          "data": {
            "text/plain": [
              "Removed_True    0\n",
              "dtype: int64"
            ]
          },
          "metadata": {},
          "execution_count": 120
        }
      ],
      "source": [
        "target_number.isna().sum()"
      ]
    },
    {
      "cell_type": "markdown",
      "source": [
        "# Modeling"
      ],
      "metadata": {
        "id": "A_cpMK_pbJ6-"
      }
    },
    {
      "cell_type": "code",
      "execution_count": null,
      "metadata": {
        "id": "DTIADHQq2-R5"
      },
      "outputs": [],
      "source": [
        "\n",
        "logisticRegr = LogisticRegression()"
      ]
    },
    {
      "cell_type": "code",
      "execution_count": null,
      "metadata": {
        "id": "a8koXKJ1-Yjq"
      },
      "outputs": [],
      "source": [
        "X_train, X_test, y_train, y_test = train_test_split(df_all_cols, target_number, test_size=0.3, random_state=42)"
      ]
    },
    {
      "cell_type": "markdown",
      "source": [
        "## Logistic regression"
      ],
      "metadata": {
        "id": "NdSfB4r9bdfr"
      }
    },
    {
      "cell_type": "code",
      "execution_count": null,
      "metadata": {
        "id": "hCpmHptT5PQx"
      },
      "outputs": [],
      "source": [
        "logisticRegr = LogisticRegression()"
      ]
    },
    {
      "cell_type": "code",
      "execution_count": null,
      "metadata": {
        "id": "ipZGoMlJ3Gfa",
        "colab": {
          "base_uri": "https://localhost:8080/"
        },
        "outputId": "786510f1-d99c-460f-c6f9-9efd2dcf8cbc"
      },
      "outputs": [
        {
          "output_type": "execute_result",
          "data": {
            "text/plain": [
              "LogisticRegression()"
            ]
          },
          "metadata": {},
          "execution_count": 125
        }
      ],
      "source": [
        "logisticRegr.fit(X_train,  y_train.values.ravel())"
      ]
    },
    {
      "cell_type": "code",
      "execution_count": null,
      "metadata": {
        "id": "O95_xCDR3Gik"
      },
      "outputs": [],
      "source": [
        "predictions = logisticRegr.predict(X_test)"
      ]
    },
    {
      "cell_type": "code",
      "execution_count": null,
      "metadata": {
        "id": "LYGsl4OFBfmT",
        "colab": {
          "base_uri": "https://localhost:8080/"
        },
        "outputId": "09fb8b4d-48af-44a9-a4e6-0705d93f7173"
      },
      "outputs": [
        {
          "output_type": "execute_result",
          "data": {
            "text/plain": [
              "array([0, 0, 0, ..., 0, 1, 0], dtype=uint8)"
            ]
          },
          "metadata": {},
          "execution_count": 127
        }
      ],
      "source": [
        "predictions"
      ]
    },
    {
      "cell_type": "code",
      "execution_count": null,
      "metadata": {
        "id": "AApsqPJK3Gpd",
        "colab": {
          "base_uri": "https://localhost:8080/"
        },
        "outputId": "584379cb-ac30-4f4b-fd87-fc3978a001b7"
      },
      "outputs": [
        {
          "output_type": "stream",
          "name": "stdout",
          "text": [
            "0.9916676250718804\n"
          ]
        }
      ],
      "source": [
        "# Use score method to get accuracy of model\n",
        "score = logisticRegr.score(X_test, y_test)\n",
        "print(score)"
      ]
    },
    {
      "cell_type": "markdown",
      "source": [
        "## Random Forest"
      ],
      "metadata": {
        "id": "3O6--ASjb9Nc"
      }
    },
    {
      "cell_type": "code",
      "execution_count": null,
      "metadata": {
        "id": "tj7vNLJxb013",
        "colab": {
          "base_uri": "https://localhost:8080/"
        },
        "outputId": "5ae461a8-1aa6-4588-f0dc-6f1c5fbc3580"
      },
      "outputs": [
        {
          "output_type": "execute_result",
          "data": {
            "text/plain": [
              "RandomForestRegressor(n_estimators=1000, random_state=42)"
            ]
          },
          "metadata": {},
          "execution_count": 130
        }
      ],
      "source": [
        "rf = RandomForestRegressor(n_estimators = 1000, random_state = 42)\n",
        "rf.fit(X_train,  y_train.values.ravel())"
      ]
    },
    {
      "cell_type": "code",
      "execution_count": null,
      "metadata": {
        "id": "QfI6G8L329dh"
      },
      "outputs": [],
      "source": [
        "predictions = rf.predict(X_test)\n"
      ]
    },
    {
      "cell_type": "code",
      "execution_count": null,
      "metadata": {
        "id": "VL7D_II_QwTw",
        "colab": {
          "base_uri": "https://localhost:8080/"
        },
        "outputId": "6ce9a0ed-32a6-4bc2-8ca2-a1a11c63256c"
      },
      "outputs": [
        {
          "output_type": "stream",
          "name": "stdout",
          "text": [
            "[[165913    191]\n",
            " [   735   7061]]\n",
            "              precision    recall  f1-score   support\n",
            "\n",
            "           0       1.00      1.00      1.00    166104\n",
            "           1       0.97      0.91      0.94      7796\n",
            "\n",
            "    accuracy                           0.99    173900\n",
            "   macro avg       0.98      0.95      0.97    173900\n",
            "weighted avg       0.99      0.99      0.99    173900\n",
            "\n",
            "0.9946751006325475\n"
          ]
        }
      ],
      "source": [
        "y_pred=np.where(predictions > 0.5, 1, 0)\n",
        "print(confusion_matrix(y_test,y_pred))\n",
        "print(classification_report(y_test,y_pred))\n",
        "print(accuracy_score(y_test, y_pred))"
      ]
    },
    {
      "cell_type": "markdown",
      "source": [
        "## KNN"
      ],
      "metadata": {
        "id": "L2QtkytQbpXt"
      }
    },
    {
      "cell_type": "code",
      "execution_count": null,
      "metadata": {
        "id": "NicukmXuO7gq",
        "colab": {
          "base_uri": "https://localhost:8080/"
        },
        "outputId": "4dbb5732-2864-47de-ed27-d89a518f0929"
      },
      "outputs": [
        {
          "output_type": "execute_result",
          "data": {
            "text/plain": [
              "array([0, 0, 0, ..., 0, 1, 0], dtype=uint8)"
            ]
          },
          "metadata": {},
          "execution_count": 133
        }
      ],
      "source": [
        "classifier = KNeighborsClassifier(n_neighbors=5)\n",
        "classifier.fit(X_train,  y_train.values.ravel())\n",
        "KNN_pred = classifier.predict(X_test)\n",
        "KNN_pred"
      ]
    },
    {
      "cell_type": "code",
      "execution_count": null,
      "metadata": {
        "id": "vQfwg9tFfvES",
        "colab": {
          "base_uri": "https://localhost:8080/"
        },
        "outputId": "902f200f-bf92-4d90-fc19-9ace2a6d1fdb"
      },
      "outputs": [
        {
          "output_type": "stream",
          "name": "stdout",
          "text": [
            "[[165994    110]\n",
            " [   728   7068]]\n",
            "              precision    recall  f1-score   support\n",
            "\n",
            "           0       1.00      1.00      1.00    166104\n",
            "           1       0.98      0.91      0.94      7796\n",
            "\n",
            "    accuracy                           1.00    173900\n",
            "   macro avg       0.99      0.95      0.97    173900\n",
            "weighted avg       1.00      1.00      1.00    173900\n",
            "\n",
            "0.9951811385853939\n"
          ]
        }
      ],
      "source": [
        "\n",
        "print(confusion_matrix(y_test,KNN_pred))\n",
        "print(classification_report(y_test,KNN_pred))\n",
        "print(accuracy_score(y_test, KNN_pred))"
      ]
    },
    {
      "cell_type": "markdown",
      "source": [
        "## XGBoost"
      ],
      "metadata": {
        "id": "xDEkJJgQcCn5"
      }
    },
    {
      "cell_type": "code",
      "execution_count": null,
      "metadata": {
        "id": "fypsyCzzO6DB"
      },
      "outputs": [],
      "source": [
        "model = XGBClassifier()\n",
        "model.fit(X_train,  y_train.values.ravel())\n",
        "XGB_pred = model.predict(X_test)"
      ]
    },
    {
      "cell_type": "code",
      "execution_count": null,
      "metadata": {
        "id": "fJHGsAm2gAqk",
        "colab": {
          "base_uri": "https://localhost:8080/"
        },
        "outputId": "d812f5e1-cd55-4413-c2b8-f585224c9123"
      },
      "outputs": [
        {
          "output_type": "stream",
          "name": "stdout",
          "text": [
            "[[166001    103]\n",
            " [   737   7059]]\n",
            "              precision    recall  f1-score   support\n",
            "\n",
            "           0       1.00      1.00      1.00    166104\n",
            "           1       0.99      0.91      0.94      7796\n",
            "\n",
            "    accuracy                           1.00    173900\n",
            "   macro avg       0.99      0.95      0.97    173900\n",
            "weighted avg       1.00      1.00      1.00    173900\n",
            "\n",
            "0.9951696377228292\n"
          ]
        }
      ],
      "source": [
        "\n",
        "print(confusion_matrix(y_test,XGB_pred))\n",
        "print(classification_report(y_test,XGB_pred))\n",
        "print(accuracy_score(y_test, XGB_pred))"
      ]
    },
    {
      "cell_type": "code",
      "execution_count": null,
      "metadata": {
        "id": "SD5KjJ4tVQ3p"
      },
      "outputs": [],
      "source": [
        ""
      ]
    },
    {
      "cell_type": "code",
      "execution_count": null,
      "metadata": {
        "id": "LkdqEVzEVRCe"
      },
      "outputs": [],
      "source": [
        ""
      ]
    },
    {
      "cell_type": "code",
      "execution_count": null,
      "metadata": {
        "id": "ysiMJnwXVsI9"
      },
      "outputs": [],
      "source": [
        ""
      ]
    },
    {
      "cell_type": "code",
      "execution_count": null,
      "metadata": {
        "id": "PUJf6zunVsRk"
      },
      "outputs": [],
      "source": [
        ""
      ]
    },
    {
      "cell_type": "code",
      "execution_count": null,
      "metadata": {
        "id": "OOJIniohVsk6"
      },
      "outputs": [],
      "source": [
        ""
      ]
    }
  ],
  "metadata": {
    "colab": {
      "collapsed_sections": [],
      "name": "Copy of summer_project_frauddetect.ipynb",
      "provenance": [],
      "include_colab_link": true
    },
    "kernelspec": {
      "display_name": "Python 3",
      "name": "python3"
    },
    "language_info": {
      "name": "python"
    }
  },
  "nbformat": 4,
  "nbformat_minor": 0
}